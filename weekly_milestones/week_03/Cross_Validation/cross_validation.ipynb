{
 "cells": [
  {
   "cell_type": "markdown",
   "id": "87d1c3d0",
   "metadata": {},
   "source": [
    "# Cross-Validation\n",
    "<hr style=\"border:2px solid black\">"
   ]
  },
  {
   "cell_type": "markdown",
   "id": "75866e45",
   "metadata": {},
   "source": [
    "## 1. Overfitting & Underfitting"
   ]
  },
  {
   "cell_type": "markdown",
   "id": "9c873769",
   "metadata": {},
   "source": [
    ">- ML models should make sensible predictions with unseen data\n",
    ">- over- & underfitting: most common causes of poor model performance"
   ]
  },
  {
   "cell_type": "markdown",
   "id": "6e74b59f",
   "metadata": {},
   "source": [
    "<img src=\"fitting.png\" width=\"700\"/>"
   ]
  },
  {
   "cell_type": "markdown",
   "id": "22b554ef",
   "metadata": {},
   "source": [
    "**Q: What happens during fitting?**\n",
    "\n",
    ">- model learns from data and adjusts its own parameters \n",
    ">- model tries to improve its understanding of data"
   ]
  },
  {
   "cell_type": "markdown",
   "id": "95d04a98",
   "metadata": {},
   "source": [
    "**Underfit Model**\n",
    "\n",
    ">- model does not fit training data well enough\n",
    ">- too simple model with high bias, low variance\n",
    ">- poor training accuracy, and poor test accuracy"
   ]
  },
  {
   "cell_type": "markdown",
   "id": "1da930d4",
   "metadata": {},
   "source": [
    "**Overfit Model**  \n",
    "\n",
    ">- model fits training data too well\n",
    ">- too complex model with low bias, high variance\n",
    ">- good training accuracy, but poor test accuracy"
   ]
  },
  {
   "cell_type": "markdown",
   "id": "089b7892",
   "metadata": {},
   "source": [
    "**How to avoid overfitting?**\n",
    "\n",
    ">- feature selection \n",
    ">- less complex model with fewer parameters\n",
    ">- regularization\n",
    ">- cross-validation\n",
    ">- data augentation: bootstrap, synthetic oversampling"
   ]
  },
  {
   "cell_type": "markdown",
   "id": "ff5f1be8",
   "metadata": {},
   "source": [
    "***A good model generalizes well: neither underfit nor overfit.***\n",
    "<br>\n",
    "***Bias-variance trade-off: desirable performance in between over- & underfitting***"
   ]
  },
  {
   "cell_type": "markdown",
   "id": "a05ed66b",
   "metadata": {},
   "source": [
    "<hr style=\"border:2px solid black\">"
   ]
  },
  {
   "cell_type": "markdown",
   "id": "8142149b",
   "metadata": {},
   "source": [
    "## 2. Example: Penguin Dataset"
   ]
  },
  {
   "cell_type": "markdown",
   "id": "166b22fd",
   "metadata": {},
   "source": [
    "**Load packages**"
   ]
  },
  {
   "cell_type": "code",
   "execution_count": 1,
   "id": "9b0ff225",
   "metadata": {},
   "outputs": [],
   "source": [
    "# data analysis stack\n",
    "import pandas as pd\n",
    "import numpy as np\n",
    "\n",
    "# data visualization stack\n",
    "from matplotlib import pyplot as plt\n",
    "%matplotlib inline\n",
    "import seaborn as sns\n",
    "sns.set() # set seaborn as default style\n",
    "\n",
    "# data pre-processing stack\n",
    "from sklearn.preprocessing import MinMaxScaler,OneHotEncoder\n",
    "from sklearn.compose import ColumnTransformer\n",
    "from sklearn.pipeline import Pipeline, make_pipeline\n",
    "\n",
    "#machine learning stack\n",
    "from sklearn.model_selection import train_test_split\n",
    "from sklearn.linear_model import LinearRegression"
   ]
  },
  {
   "cell_type": "markdown",
   "id": "128846ac",
   "metadata": {},
   "source": [
    "**Load data**"
   ]
  },
  {
   "cell_type": "code",
   "execution_count": 2,
   "id": "37790cb6",
   "metadata": {},
   "outputs": [
    {
     "data": {
      "text/html": [
       "<div>\n",
       "<style scoped>\n",
       "    .dataframe tbody tr th:only-of-type {\n",
       "        vertical-align: middle;\n",
       "    }\n",
       "\n",
       "    .dataframe tbody tr th {\n",
       "        vertical-align: top;\n",
       "    }\n",
       "\n",
       "    .dataframe thead th {\n",
       "        text-align: right;\n",
       "    }\n",
       "</style>\n",
       "<table border=\"1\" class=\"dataframe\">\n",
       "  <thead>\n",
       "    <tr style=\"text-align: right;\">\n",
       "      <th></th>\n",
       "      <th>species</th>\n",
       "      <th>island</th>\n",
       "      <th>bill_length_mm</th>\n",
       "      <th>bill_depth_mm</th>\n",
       "      <th>flipper_length_mm</th>\n",
       "      <th>body_mass_g</th>\n",
       "      <th>sex</th>\n",
       "    </tr>\n",
       "  </thead>\n",
       "  <tbody>\n",
       "    <tr>\n",
       "      <th>0</th>\n",
       "      <td>Adelie</td>\n",
       "      <td>Torgersen</td>\n",
       "      <td>39.1</td>\n",
       "      <td>18.7</td>\n",
       "      <td>181.0</td>\n",
       "      <td>3750.0</td>\n",
       "      <td>Male</td>\n",
       "    </tr>\n",
       "    <tr>\n",
       "      <th>1</th>\n",
       "      <td>Adelie</td>\n",
       "      <td>Torgersen</td>\n",
       "      <td>39.5</td>\n",
       "      <td>17.4</td>\n",
       "      <td>186.0</td>\n",
       "      <td>3800.0</td>\n",
       "      <td>Female</td>\n",
       "    </tr>\n",
       "    <tr>\n",
       "      <th>2</th>\n",
       "      <td>Adelie</td>\n",
       "      <td>Torgersen</td>\n",
       "      <td>40.3</td>\n",
       "      <td>18.0</td>\n",
       "      <td>195.0</td>\n",
       "      <td>3250.0</td>\n",
       "      <td>Female</td>\n",
       "    </tr>\n",
       "    <tr>\n",
       "      <th>4</th>\n",
       "      <td>Adelie</td>\n",
       "      <td>Torgersen</td>\n",
       "      <td>36.7</td>\n",
       "      <td>19.3</td>\n",
       "      <td>193.0</td>\n",
       "      <td>3450.0</td>\n",
       "      <td>Female</td>\n",
       "    </tr>\n",
       "    <tr>\n",
       "      <th>5</th>\n",
       "      <td>Adelie</td>\n",
       "      <td>Torgersen</td>\n",
       "      <td>39.3</td>\n",
       "      <td>20.6</td>\n",
       "      <td>190.0</td>\n",
       "      <td>3650.0</td>\n",
       "      <td>Male</td>\n",
       "    </tr>\n",
       "  </tbody>\n",
       "</table>\n",
       "</div>"
      ],
      "text/plain": [
       "  species     island  bill_length_mm  bill_depth_mm  flipper_length_mm  \\\n",
       "0  Adelie  Torgersen            39.1           18.7              181.0   \n",
       "1  Adelie  Torgersen            39.5           17.4              186.0   \n",
       "2  Adelie  Torgersen            40.3           18.0              195.0   \n",
       "4  Adelie  Torgersen            36.7           19.3              193.0   \n",
       "5  Adelie  Torgersen            39.3           20.6              190.0   \n",
       "\n",
       "   body_mass_g     sex  \n",
       "0       3750.0    Male  \n",
       "1       3800.0  Female  \n",
       "2       3250.0  Female  \n",
       "4       3450.0  Female  \n",
       "5       3650.0    Male  "
      ]
     },
     "execution_count": 2,
     "metadata": {},
     "output_type": "execute_result"
    }
   ],
   "source": [
    "df = sns.load_dataset(\"penguins\")\n",
    "df.dropna(inplace=True)\n",
    "df.head()"
   ]
  },
  {
   "cell_type": "code",
   "execution_count": 3,
   "id": "81a1ac4d",
   "metadata": {},
   "outputs": [
    {
     "name": "stdout",
     "output_type": "stream",
     "text": [
      "<class 'pandas.core.frame.DataFrame'>\n",
      "Int64Index: 333 entries, 0 to 343\n",
      "Data columns (total 7 columns):\n",
      " #   Column             Non-Null Count  Dtype  \n",
      "---  ------             --------------  -----  \n",
      " 0   species            333 non-null    object \n",
      " 1   island             333 non-null    object \n",
      " 2   bill_length_mm     333 non-null    float64\n",
      " 3   bill_depth_mm      333 non-null    float64\n",
      " 4   flipper_length_mm  333 non-null    float64\n",
      " 5   body_mass_g        333 non-null    float64\n",
      " 6   sex                333 non-null    object \n",
      "dtypes: float64(4), object(3)\n",
      "memory usage: 20.8+ KB\n"
     ]
    }
   ],
   "source": [
    "df.info() # quick data exploration"
   ]
  },
  {
   "cell_type": "markdown",
   "id": "fcdc3d77",
   "metadata": {},
   "source": [
    "**Features and target variable**"
   ]
  },
  {
   "cell_type": "code",
   "execution_count": 4,
   "id": "2ff7b766",
   "metadata": {},
   "outputs": [],
   "source": [
    "num_features = ['bill_length_mm',\n",
    "                'bill_depth_mm',\n",
    "                'flipper_length_mm'\n",
    "               ]*True\n",
    "\n",
    "cat_features = ['species',\n",
    "                'island',\n",
    "                'sex'\n",
    "               ]*True\n",
    "\n",
    "features = num_features + cat_features\n",
    "\n",
    "target_variable = 'body_mass_g'"
   ]
  },
  {
   "cell_type": "code",
   "execution_count": 5,
   "id": "9da7a94c",
   "metadata": {},
   "outputs": [
    {
     "data": {
      "text/plain": [
       "['bill_length_mm',\n",
       " 'bill_depth_mm',\n",
       " 'flipper_length_mm',\n",
       " 'species',\n",
       " 'island',\n",
       " 'sex']"
      ]
     },
     "execution_count": 5,
     "metadata": {},
     "output_type": "execute_result"
    }
   ],
   "source": [
    "features"
   ]
  },
  {
   "cell_type": "code",
   "execution_count": 6,
   "id": "9b785ed3",
   "metadata": {},
   "outputs": [],
   "source": [
    "# feature and target columns\n",
    "X,y = df[features],df[target_variable]"
   ]
  },
  {
   "cell_type": "markdown",
   "id": "20a4b01f",
   "metadata": {},
   "source": [
    "**Train-test split**"
   ]
  },
  {
   "cell_type": "code",
   "execution_count": 7,
   "id": "3ef96c8f",
   "metadata": {},
   "outputs": [
    {
     "data": {
      "text/plain": [
       "((266, 6), (67, 6))"
      ]
     },
     "execution_count": 7,
     "metadata": {},
     "output_type": "execute_result"
    }
   ],
   "source": [
    "X_train,X_test,y_train,y_test = train_test_split(\n",
    "    X,y,test_size=0.2,random_state=42\n",
    ")\n",
    "X_train.shape, X_test.shape"
   ]
  },
  {
   "cell_type": "markdown",
   "id": "a2e8657c",
   "metadata": {},
   "source": [
    "**Feature engineering**"
   ]
  },
  {
   "cell_type": "code",
   "execution_count": 8,
   "id": "a13da4fa",
   "metadata": {},
   "outputs": [],
   "source": [
    "# column transformation\n",
    "transformer = ColumnTransformer(\n",
    "    transformers=[\n",
    "        ('scaling', MinMaxScaler(), num_features),\n",
    "        ('onehot', OneHotEncoder(drop='first'), cat_features)\n",
    "    ])"
   ]
  },
  {
   "cell_type": "markdown",
   "id": "2f1e9693",
   "metadata": {},
   "source": [
    "**Model building**"
   ]
  },
  {
   "cell_type": "code",
   "execution_count": 9,
   "id": "4e08f1b9",
   "metadata": {},
   "outputs": [],
   "source": [
    "# pipeline\n",
    "pipeline = Pipeline(\n",
    "    steps=[\n",
    "        ('transformer', transformer),  # column transformation\n",
    "        ('lr_model', LinearRegression())  # linear fit\n",
    "    ])"
   ]
  },
  {
   "cell_type": "code",
   "execution_count": 10,
   "id": "e1bd86b6",
   "metadata": {},
   "outputs": [],
   "source": [
    "# model training\n",
    "pipeline.fit(X_train,y_train);"
   ]
  },
  {
   "cell_type": "markdown",
   "id": "91914bca",
   "metadata": {},
   "source": [
    "**Model Performance**"
   ]
  },
  {
   "cell_type": "code",
   "execution_count": 11,
   "id": "b750646e",
   "metadata": {},
   "outputs": [
    {
     "name": "stdout",
     "output_type": "stream",
     "text": [
      "train score: 0.869595\n",
      "test score : 0.896169\n"
     ]
    }
   ],
   "source": [
    "# training score\n",
    "train_score = pipeline.score(X_train,y_train)\n",
    "\n",
    "# test score\n",
    "test_score = pipeline.score(X_test,y_test)\n",
    "\n",
    "print(f'train score: {round(train_score,6)}')\n",
    "print(f'test score : {round(test_score,6)}')"
   ]
  },
  {
   "cell_type": "markdown",
   "id": "819f62df",
   "metadata": {},
   "source": [
    "- ***Comparison of the performances on the train and the test data tells us how good our model is at generalizing***\n",
    "- ***But the results depend on how the data has been (randomly) split***"
   ]
  },
  {
   "cell_type": "markdown",
   "id": "c7b2b8ea",
   "metadata": {},
   "source": [
    "<hr style=\"border:2px solid black\">"
   ]
  },
  {
   "cell_type": "markdown",
   "id": "026e6005",
   "metadata": {},
   "source": [
    "## 3. Cross-Validation"
   ]
  },
  {
   "cell_type": "markdown",
   "id": "8898aa99",
   "metadata": {},
   "source": [
    "***Q: How can we reliably measure the generalizability of a model without using test data?***"
   ]
  },
  {
   "cell_type": "markdown",
   "id": "b421ecac",
   "metadata": {},
   "source": [
    "### 2.1 Validation Set Approach"
   ]
  },
  {
   "cell_type": "markdown",
   "id": "7968c8ea",
   "metadata": {},
   "source": [
    "<img src=\"validation_set_approach.png\" width=\"700\"/>"
   ]
  },
  {
   "cell_type": "markdown",
   "id": "05ae71fb",
   "metadata": {},
   "source": [
    "**Cons:**\n",
    ">- sampling bias\n",
    ">- underfitting"
   ]
  },
  {
   "cell_type": "markdown",
   "id": "dc2cb1ba",
   "metadata": {},
   "source": [
    "### 2.2 Leave-One-Out Cross-Validation\n",
    "<br>"
   ]
  },
  {
   "cell_type": "markdown",
   "id": "b1d76098",
   "metadata": {},
   "source": [
    "<img src=\"loocv.png\" width=\"700\"/>"
   ]
  },
  {
   "cell_type": "markdown",
   "id": "ca9e07fa",
   "metadata": {},
   "source": [
    "**Cons:**\n",
    ">- computationally expensive\n",
    ">- overfitting (high variance)"
   ]
  },
  {
   "cell_type": "markdown",
   "id": "d5376c85",
   "metadata": {},
   "source": [
    "### 2.3 *k*-Fold Cross-Validation\n",
    "\n",
    ">- split data into *k* subsets or *folds*\n",
    ">- reserve one fold as validation set and train on the remaining *k-1*\n",
    ">- train and evaluate *k* separate models\n",
    ">- allows evaluation of model robustness"
   ]
  },
  {
   "cell_type": "markdown",
   "id": "5078bedd",
   "metadata": {},
   "source": [
    "<img src=\"crossval.png\" width=\"700\"/>"
   ]
  },
  {
   "cell_type": "markdown",
   "id": "bab54cc6",
   "metadata": {},
   "source": [
    "### 2.4 k-Fold CV Implementation"
   ]
  },
  {
   "cell_type": "code",
   "execution_count": 12,
   "id": "db6ad1a8",
   "metadata": {},
   "outputs": [],
   "source": [
    "from sklearn.model_selection import (\n",
    "    cross_validate,\n",
    "    cross_val_score\n",
    ")"
   ]
  },
  {
   "cell_type": "markdown",
   "id": "a5cdecc8",
   "metadata": {},
   "source": [
    "- [`cross_validate`](https://scikit-learn.org/stable/modules/generated/sklearn.model_selection.cross_validate.html)\n",
    "\n",
    "- [`cross_val_score`](https://scikit-learn.org/stable/modules/generated/sklearn.model_selection.cross_val_score.html?highlight=cross_val_score#sklearn.model_selection.cross_val_score)"
   ]
  },
  {
   "cell_type": "code",
   "execution_count": 13,
   "id": "8f59dbf2",
   "metadata": {},
   "outputs": [],
   "source": [
    "kf_cv = cross_validate(\n",
    "    estimator = pipeline, # model to evaluate\n",
    "    X = X_train,\n",
    "    y = y_train,\n",
    "    cv = 5,        # number of cross-validation split\n",
    "    scoring ='r2', # evaluation metric\n",
    "    return_train_score=True\n",
    ")"
   ]
  },
  {
   "cell_type": "code",
   "execution_count": 14,
   "id": "c88c0a00",
   "metadata": {},
   "outputs": [
    {
     "data": {
      "text/plain": [
       "{'fit_time': array([0.0056994 , 0.00348139, 0.00538278, 0.00327325, 0.00351191]),\n",
       " 'score_time': array([0.00222111, 0.00228643, 0.00370026, 0.00183415, 0.0021224 ]),\n",
       " 'test_score': array([0.85652998, 0.86369923, 0.90838863, 0.82870876, 0.82735791]),\n",
       " 'train_score': array([0.87088114, 0.87010661, 0.85831696, 0.87740042, 0.87684306])}"
      ]
     },
     "execution_count": 14,
     "metadata": {},
     "output_type": "execute_result"
    }
   ],
   "source": [
    "kf_cv"
   ]
  },
  {
   "cell_type": "code",
   "execution_count": 18,
   "id": "11884c9a",
   "metadata": {
    "scrolled": true
   },
   "outputs": [
    {
     "name": "stdout",
     "output_type": "stream",
     "text": [
      "training score  : 0.87071 ± 0.006875\n",
      "validation score: 0.856937 ± 0.029546\n"
     ]
    }
   ],
   "source": [
    "train_mean = round(kf_cv['train_score'].mean(), 6)\n",
    "train_std = round(kf_cv['train_score'].std(), 6)\n",
    "val_mean = round(kf_cv['test_score'].mean(), 6)\n",
    "val_std = round(kf_cv['test_score'].std(), 6)\n",
    "\n",
    "print(f\"training score  : {train_mean} \\u00B1 {train_std}\")\n",
    "print(f\"validation score: {val_mean} \\u00B1 {val_std}\")"
   ]
  },
  {
   "cell_type": "markdown",
   "id": "dd8d8b53",
   "metadata": {},
   "source": [
    "***Interpretation of results:***\n",
    "\n",
    ">- mean training score >> mean validation score: overfitting\n",
    ">- mean training score << mean validation score: underfitting\n",
    ">- large std of validation scores: high sampling bias; need more data, different model/ hyperparameters"
   ]
  },
  {
   "cell_type": "markdown",
   "id": "f9effc8c",
   "metadata": {},
   "source": [
    "**Cross-Validators**"
   ]
  },
  {
   "cell_type": "code",
   "execution_count": 19,
   "id": "8e68909f",
   "metadata": {},
   "outputs": [],
   "source": [
    "from sklearn.model_selection import KFold"
   ]
  },
  {
   "cell_type": "markdown",
   "id": "2fcdf894",
   "metadata": {},
   "source": [
    "- [`KFold`](https://scikit-learn.org/stable/modules/generated/sklearn.model_selection.KFold.html?highlight=kfold#sklearn.model_selection.KFold): *k*-folds cross-validator, splits dataset into *k* consecutive folds\n",
    "- [`StratifiedKFold`](https://scikit-learn.org/stable/modules/generated/sklearn.model_selection.StratifiedKFold.html#sklearn.model_selection.StratifiedKFold): returns stratified folds that preserving the percentage of samples for each class"
   ]
  },
  {
   "cell_type": "code",
   "execution_count": 20,
   "id": "f2b4d024",
   "metadata": {},
   "outputs": [],
   "source": [
    "k_fold = KFold(n_splits=5, shuffle=True, random_state=42)\n",
    "# k_fold = KFold(n_splits=5)"
   ]
  },
  {
   "cell_type": "code",
   "execution_count": 21,
   "id": "1ee6bea9",
   "metadata": {},
   "outputs": [],
   "source": [
    "scores_kf_cv = cross_val_score(\n",
    "    estimator = pipeline, # model to evaluate\n",
    "    X = X_train,\n",
    "    y = y_train,\n",
    "    scoring ='r2', # evaluation metric\n",
    "    cv = k_fold    # cross-validation splitting\n",
    ") "
   ]
  },
  {
   "cell_type": "code",
   "execution_count": 24,
   "id": "b3db2d4d",
   "metadata": {},
   "outputs": [
    {
     "data": {
      "text/plain": [
       "array([0.80008555, 0.84903344, 0.84646203, 0.89227158, 0.859357  ])"
      ]
     },
     "execution_count": 24,
     "metadata": {},
     "output_type": "execute_result"
    }
   ],
   "source": [
    "scores_kf_cv"
   ]
  },
  {
   "cell_type": "code",
   "execution_count": 25,
   "id": "4aa0b96e",
   "metadata": {},
   "outputs": [
    {
     "name": "stdout",
     "output_type": "stream",
     "text": [
      "validation score: 0.849442 ± 0.02959\n"
     ]
    }
   ],
   "source": [
    "val_mean = round(scores_kf_cv.mean(), 6)\n",
    "val_std = round(scores_kf_cv.std(), 6)\n",
    "\n",
    "print(f\"validation score: {val_mean} \\u00B1 {val_std}\")"
   ]
  },
  {
   "cell_type": "markdown",
   "id": "1025e4d8",
   "metadata": {},
   "source": [
    "**Shuffle-Split**"
   ]
  },
  {
   "cell_type": "code",
   "execution_count": 26,
   "id": "05d0c46f",
   "metadata": {},
   "outputs": [],
   "source": [
    "from sklearn.model_selection import ShuffleSplit"
   ]
  },
  {
   "cell_type": "markdown",
   "id": "408cf6a7",
   "metadata": {},
   "source": [
    "- [`ShuffleSplit`](https://scikit-learn.org/stable/modules/generated/sklearn.model_selection.ShuffleSplit.html) used if data not shuffled in train-test-split; do not guarantee entirely different folds\n",
    "- [`StratifiedShuffleSplit`](https://scikit-learn.org/stable/modules/generated/sklearn.model_selection.StratifiedShuffleSplit.html) makes folds that preserve the percentage of samples for each class"
   ]
  },
  {
   "cell_type": "code",
   "execution_count": 27,
   "id": "0ec5aec7",
   "metadata": {},
   "outputs": [],
   "source": [
    "shuffle_split = ShuffleSplit(n_splits=10,test_size=0.2,random_state=42)\n",
    "\n",
    "scores_ss = cross_val_score(\n",
    "    estimator = pipeline, # the model to evaluate\n",
    "    X = X_train,\n",
    "    y = y_train,\n",
    "    scoring ='r2',      # evaluation metric\n",
    "    cv = shuffle_split, # shuffled cross-validation splitting\n",
    ")"
   ]
  },
  {
   "cell_type": "code",
   "execution_count": 28,
   "id": "e2f452ca",
   "metadata": {},
   "outputs": [
    {
     "data": {
      "text/plain": [
       "array([0.80008555, 0.86550429, 0.82963158, 0.88085133, 0.88886132,\n",
       "       0.88588237, 0.85660824, 0.82773514, 0.89217586, 0.80681309])"
      ]
     },
     "execution_count": 28,
     "metadata": {},
     "output_type": "execute_result"
    }
   ],
   "source": [
    "scores_ss"
   ]
  },
  {
   "cell_type": "code",
   "execution_count": 29,
   "id": "bacf3d9b",
   "metadata": {},
   "outputs": [
    {
     "name": "stdout",
     "output_type": "stream",
     "text": [
      "validation score: 0.853415 ± 0.03311\n"
     ]
    }
   ],
   "source": [
    "val_mean = round(scores_ss.mean(), 6)\n",
    "val_std = round(scores_ss.std(), 6)\n",
    "\n",
    "print(f\"validation score: {val_mean} \\u00B1 {val_std}\")"
   ]
  },
  {
   "cell_type": "markdown",
   "id": "2f2b5919",
   "metadata": {},
   "source": [
    "<hr style=\"border:2px solid black\">"
   ]
  },
  {
   "cell_type": "markdown",
   "id": "083746a3",
   "metadata": {},
   "source": [
    "## 4. Bootstrapping"
   ]
  },
  {
   "cell_type": "markdown",
   "id": "163e2c52",
   "metadata": {},
   "source": [
    ">- iteratively resampling a dataset with replacement (given sample size and number of repeats)\n",
    ">- useful for estimating summary statistics such as mean or standard deviation"
   ]
  },
  {
   "cell_type": "markdown",
   "id": "1977f424",
   "metadata": {},
   "source": [
    "<img src=\"bootstrap.png\" width=\"700\"/>"
   ]
  },
  {
   "cell_type": "code",
   "execution_count": 30,
   "id": "fb79a28f",
   "metadata": {},
   "outputs": [],
   "source": [
    "from sklearn.utils import resample"
   ]
  },
  {
   "cell_type": "markdown",
   "id": "4f488417",
   "metadata": {},
   "source": [
    "- [`resample`](https://scikit-learn.org/stable/modules/generated/sklearn.utils.resample.html): resample arrays (one step of bootstrapping procedure)"
   ]
  },
  {
   "cell_type": "markdown",
   "id": "b1b428b3",
   "metadata": {},
   "source": [
    "**Example of sampling with replacement**"
   ]
  },
  {
   "cell_type": "code",
   "execution_count": 31,
   "id": "7239ba88",
   "metadata": {},
   "outputs": [
    {
     "name": "stdout",
     "output_type": "stream",
     "text": [
      "[1, 3, 4, 9, 3, 2, 6, 2, 3, 7]\n",
      "[4, 8, 0, 7, 0, 2, 3, 7, 7, 0]\n",
      "[7, 4, 7, 3, 1, 8, 8, 9, 8, 4]\n",
      "[5, 5, 3, 6, 8, 9, 3, 8, 9, 0]\n",
      "[3, 2, 0, 6, 6, 3, 6, 7, 5, 4]\n",
      "[4, 4, 9, 3, 5, 3, 4, 5, 4, 9]\n",
      "[8, 6, 2, 5, 3, 2, 2, 5, 5, 1]\n",
      "[3, 7, 5, 0, 2, 6, 5, 6, 3, 1]\n",
      "[6, 5, 1, 5, 8, 6, 5, 6, 8, 0]\n",
      "[8, 9, 7, 4, 5, 3, 0, 1, 9, 1]\n"
     ]
    }
   ],
   "source": [
    "my_list = list(range(10))\n",
    "\n",
    "for i in range(10):\n",
    "    print(resample(my_list))"
   ]
  },
  {
   "cell_type": "markdown",
   "id": "b3c90556",
   "metadata": {},
   "source": [
    "### Penguin Dataset: Summary Statistics"
   ]
  },
  {
   "cell_type": "code",
   "execution_count": 32,
   "id": "918aa7ad",
   "metadata": {},
   "outputs": [],
   "source": [
    "train_scores = []\n",
    "val_scores = []\n",
    "\n",
    "for i in range(1000):\n",
    "    # resample original data to create a \"new\" dataset\n",
    "    Xb, yb = resample(X_train,y_train)\n",
    "    \n",
    "    # split data into training and validation sets\n",
    "    Xb_train, Xb_val, yb_train, yb_val = \\\n",
    "    train_test_split(Xb,yb,test_size=0.2)\n",
    "    \n",
    "    # fit the model and calculate train and validation scores\n",
    "    model = pipeline.fit(Xb_train, yb_train)\n",
    "    train_score = pipeline.score(Xb_train, yb_train)\n",
    "    val_score = pipeline.score(Xb_val, yb_val)\n",
    "    \n",
    "    train_scores.append(train_score) \n",
    "    val_scores.append(val_score)"
   ]
  },
  {
   "cell_type": "markdown",
   "id": "09eaab94",
   "metadata": {},
   "source": [
    "**Training score**"
   ]
  },
  {
   "cell_type": "code",
   "execution_count": 33,
   "id": "2f5054e7",
   "metadata": {},
   "outputs": [
    {
     "name": "stdout",
     "output_type": "stream",
     "text": [
      "validation score: 0.873622 ± 0.0141658\n"
     ]
    }
   ],
   "source": [
    "bs_train = pd.Series(train_scores)\n",
    "print(f'validation score: {bs_train.mean():.6} \\u00B1 {bs_train.std():.6}')"
   ]
  },
  {
   "cell_type": "markdown",
   "id": "1116ecc0",
   "metadata": {},
   "source": [
    "**Validation score**"
   ]
  },
  {
   "cell_type": "code",
   "execution_count": null,
   "id": "0ca803f4",
   "metadata": {},
   "outputs": [],
   "source": [
    "bs_val = pd.Series(val_scores)\n",
    "print(f'validation score: {bs_val.mean():.6} \\u00B1 {bs_val.std():.6}')"
   ]
  },
  {
   "cell_type": "code",
   "execution_count": null,
   "id": "2147a34c",
   "metadata": {
    "scrolled": false
   },
   "outputs": [],
   "source": [
    "plt.rcParams['figure.figsize'] = (8,3)\n",
    "sns.histplot(bs_val);"
   ]
  },
  {
   "cell_type": "markdown",
   "id": "fccb460c",
   "metadata": {},
   "source": [
    "**80% confidence interval**"
   ]
  },
  {
   "cell_type": "code",
   "execution_count": null,
   "id": "3592ed35",
   "metadata": {
    "scrolled": true
   },
   "outputs": [],
   "source": [
    "bs_val.quantile(q=[0.1,0.9])"
   ]
  },
  {
   "cell_type": "markdown",
   "id": "dadb7c07",
   "metadata": {},
   "source": [
    "**90% confidence interval**"
   ]
  },
  {
   "cell_type": "code",
   "execution_count": null,
   "id": "92c03b6c",
   "metadata": {},
   "outputs": [],
   "source": [
    "bs_val.quantile(q=[0.05,0.95])"
   ]
  },
  {
   "cell_type": "markdown",
   "id": "ef09ff3a",
   "metadata": {},
   "source": [
    "**99% confidence interval**"
   ]
  },
  {
   "cell_type": "code",
   "execution_count": null,
   "id": "be5cd186",
   "metadata": {},
   "outputs": [],
   "source": [
    "bs_val.quantile(q=[0.005,0.995])"
   ]
  },
  {
   "cell_type": "markdown",
   "id": "9625f77a",
   "metadata": {},
   "source": [
    "***In the real world, we want to compare multiple models + hyperparameters:*** `GridSearchCV`"
   ]
  },
  {
   "cell_type": "markdown",
   "id": "411135bc",
   "metadata": {},
   "source": [
    "<hr style=\"border:2px solid black\">"
   ]
  },
  {
   "cell_type": "markdown",
   "id": "deac93af",
   "metadata": {},
   "source": [
    "## References"
   ]
  },
  {
   "cell_type": "markdown",
   "id": "f808eb56",
   "metadata": {},
   "source": [
    "- [Machine Learning Fundamentals: Cross Validation](https://www.youtube.com/watch?v=fSytzGwwBVw)\n",
    "- [A Gentle Introduction to the Bootstrap Method](https://machinelearningmastery.com/a-gentle-introduction-to-the-bootstrap-method/)"
   ]
  }
 ],
 "metadata": {
  "kernelspec": {
   "display_name": "Python 3 (ipykernel)",
   "language": "python",
   "name": "python3"
  },
  "language_info": {
   "codemirror_mode": {
    "name": "ipython",
    "version": 3
   },
   "file_extension": ".py",
   "mimetype": "text/x-python",
   "name": "python",
   "nbconvert_exporter": "python",
   "pygments_lexer": "ipython3",
   "version": "3.10.6"
  },
  "toc": {
   "base_numbering": 1,
   "nav_menu": {},
   "number_sections": false,
   "sideBar": true,
   "skip_h1_title": false,
   "title_cell": "Table of Contents",
   "title_sidebar": "Contents",
   "toc_cell": false,
   "toc_position": {},
   "toc_section_display": true,
   "toc_window_display": false
  },
  "varInspector": {
   "cols": {
    "lenName": 16,
    "lenType": 16,
    "lenVar": 40
   },
   "kernels_config": {
    "python": {
     "delete_cmd_postfix": "",
     "delete_cmd_prefix": "del ",
     "library": "var_list.py",
     "varRefreshCmd": "print(var_dic_list())"
    },
    "r": {
     "delete_cmd_postfix": ") ",
     "delete_cmd_prefix": "rm(",
     "library": "var_list.r",
     "varRefreshCmd": "cat(var_dic_list()) "
    }
   },
   "types_to_exclude": [
    "module",
    "function",
    "builtin_function_or_method",
    "instance",
    "_Feature"
   ],
   "window_display": false
  },
  "vscode": {
   "interpreter": {
    "hash": "d1b2e6a66c7e8de24e88ad9589f548d7c8600ae36e45725b96b0d219caf4b36b"
   }
  }
 },
 "nbformat": 4,
 "nbformat_minor": 5
}

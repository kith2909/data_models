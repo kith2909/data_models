{
 "cells": [
  {
   "cell_type": "markdown",
   "metadata": {},
   "source": [
    "# DateTime in Pandas\n",
    "<hr style=\"border:2px solid black\">"
   ]
  },
  {
   "cell_type": "markdown",
   "metadata": {},
   "source": [
    "## Introduction"
   ]
  },
  {
   "cell_type": "markdown",
   "metadata": {},
   "source": [
    "* Pandas was developed for financial modelling (Wes Mckinney, AQR Capital)\n",
    "* Time series analysis therefore comprises an integral part of the package\n",
    "* We're going to look at three different concepts in Pandas\n",
    "    - 1) Timestamps\n",
    "    - 2) Timedeltas\n",
    "    - 3) Periods"
   ]
  },
  {
   "cell_type": "code",
   "execution_count": 68,
   "metadata": {},
   "outputs": [],
   "source": [
    "# relevant packages\n",
    "import pandas as pd\n",
    "from datetime import datetime"
   ]
  },
  {
   "cell_type": "markdown",
   "metadata": {},
   "source": [
    "## 1. Timestamp objects\n",
    "* Pandas has inbuilt TimeStamp objects\n",
    "* An array of TimeStamp objects are a DateTimeIndex\n",
    "* The datatype of a TimeStamp object is datetime64\n",
    "* There are two main methods of creating Timestamps or a DateTimeIndex:\n",
    "    - 1) `pd.to_datetime()`\n",
    "    - 2) `pd.date_range()`"
   ]
  },
  {
   "cell_type": "markdown",
   "metadata": {},
   "source": [
    "### 1.1 [`pd.to_datetime()`](https://pandas.pydata.org/docs/reference/api/pandas.to_datetime.html)\n",
    "\n",
    "- You can use a lot of different formats to convert a string into a Timestamp"
   ]
  },
  {
   "cell_type": "code",
   "execution_count": 69,
   "metadata": {},
   "outputs": [
    {
     "data": {
      "text/plain": [
       "Timestamp('2019-07-23 00:00:00')"
      ]
     },
     "execution_count": 69,
     "metadata": {},
     "output_type": "execute_result"
    }
   ],
   "source": [
    "pd.to_datetime('2019 july 23') "
   ]
  },
  {
   "cell_type": "code",
   "execution_count": 70,
   "metadata": {},
   "outputs": [
    {
     "data": {
      "text/plain": [
       "Timestamp('2019-07-23 00:00:00')"
      ]
     },
     "execution_count": 70,
     "metadata": {},
     "output_type": "execute_result"
    }
   ],
   "source": [
    "pd.to_datetime('2019-07-23')"
   ]
  },
  {
   "cell_type": "code",
   "execution_count": 71,
   "metadata": {},
   "outputs": [
    {
     "data": {
      "text/plain": [
       "Timestamp('2019-07-23 00:00:00')"
      ]
     },
     "execution_count": 71,
     "metadata": {},
     "output_type": "execute_result"
    }
   ],
   "source": [
    "pd.to_datetime('2019.07.23')"
   ]
  },
  {
   "cell_type": "code",
   "execution_count": 72,
   "metadata": {},
   "outputs": [
    {
     "data": {
      "text/plain": [
       "pandas._libs.tslibs.timestamps.Timestamp"
      ]
     },
     "execution_count": 72,
     "metadata": {},
     "output_type": "execute_result"
    }
   ],
   "source": [
    "type(pd.to_datetime('230719-00:10:00'))"
   ]
  },
  {
   "cell_type": "code",
   "execution_count": 73,
   "metadata": {},
   "outputs": [
    {
     "data": {
      "text/plain": [
       "Timestamp('2019-07-23 00:10:00')"
      ]
     },
     "execution_count": 73,
     "metadata": {},
     "output_type": "execute_result"
    }
   ],
   "source": [
    "pd.to_datetime('230719-00:10:00')"
   ]
  },
  {
   "cell_type": "code",
   "execution_count": 74,
   "metadata": {},
   "outputs": [
    {
     "data": {
      "text/plain": [
       "Timestamp('2023-07-19 00:00:00')"
      ]
     },
     "execution_count": 74,
     "metadata": {},
     "output_type": "execute_result"
    }
   ],
   "source": [
    "# notice how the default timestamp assigned is midnight 00:00:00\n",
    "\n",
    "pd.to_datetime('19/07/2023', infer_datetime_format=True)"
   ]
  },
  {
   "cell_type": "code",
   "execution_count": 75,
   "metadata": {},
   "outputs": [
    {
     "data": {
      "text/plain": [
       "Timestamp('2023-07-19 01:00:00-0400', tz='US/Eastern')"
      ]
     },
     "execution_count": 75,
     "metadata": {},
     "output_type": "execute_result"
    }
   ],
   "source": [
    "# we can 'change' the time zone from the default UTC\n",
    "\n",
    "pd.to_datetime('19/7/2023-05:00:00', utc=True, infer_datetime_format=True).tz_convert('US/Eastern')"
   ]
  },
  {
   "cell_type": "code",
   "execution_count": 76,
   "metadata": {},
   "outputs": [
    {
     "data": {
      "text/plain": [
       "DatetimeIndex(['2023-07-19', '2023-07-20'], dtype='datetime64[ns]', freq=None)"
      ]
     },
     "execution_count": 76,
     "metadata": {},
     "output_type": "execute_result"
    }
   ],
   "source": [
    "dates = ['19/07/2023', '20/07/2023']\n",
    "dates = pd.to_datetime(dates, infer_datetime_format=True)\n",
    "dates"
   ]
  },
  {
   "cell_type": "markdown",
   "metadata": {},
   "source": [
    "You could also pass a pd.Series or a pd.DataFrame into `pd.to_datetime()` if the values are convertable to a Timestamp."
   ]
  },
  {
   "cell_type": "markdown",
   "metadata": {},
   "source": [
    "### 1.2 [`pd.date_range()`](https://pandas.pydata.org/docs/reference/api/pandas.date_range.html)\n",
    "\n",
    "What happens if you want to create a range of dates?\n",
    "You can use `pd.date_range()` to create a DateTimeIndex (array of Timestamps):"
   ]
  },
  {
   "cell_type": "code",
   "execution_count": 77,
   "metadata": {},
   "outputs": [],
   "source": [
    "date_range = pd.date_range('jan 1 2019', '31 dec 2019', freq = '12h')"
   ]
  },
  {
   "cell_type": "code",
   "execution_count": 78,
   "metadata": {},
   "outputs": [
    {
     "data": {
      "text/plain": [
       "DatetimeIndex(['2019-01-01 00:00:00', '2019-01-01 12:00:00',\n",
       "               '2019-01-02 00:00:00', '2019-01-02 12:00:00',\n",
       "               '2019-01-03 00:00:00', '2019-01-03 12:00:00',\n",
       "               '2019-01-04 00:00:00', '2019-01-04 12:00:00',\n",
       "               '2019-01-05 00:00:00', '2019-01-05 12:00:00',\n",
       "               ...\n",
       "               '2019-12-26 12:00:00', '2019-12-27 00:00:00',\n",
       "               '2019-12-27 12:00:00', '2019-12-28 00:00:00',\n",
       "               '2019-12-28 12:00:00', '2019-12-29 00:00:00',\n",
       "               '2019-12-29 12:00:00', '2019-12-30 00:00:00',\n",
       "               '2019-12-30 12:00:00', '2019-12-31 00:00:00'],\n",
       "              dtype='datetime64[ns]', length=729, freq='12H')"
      ]
     },
     "execution_count": 78,
     "metadata": {},
     "output_type": "execute_result"
    }
   ],
   "source": [
    "date_range"
   ]
  },
  {
   "cell_type": "markdown",
   "metadata": {},
   "source": [
    "#### This is all nice and fine, but why do we care?\n",
    "\n",
    "The reason we care for Timestamps in pandas is because they allow us to perform time related actions on the data.\n",
    "Several things you can do with a timestamp:\n",
    "\n",
    "- extract the hour\n",
    "- extract the day\n",
    "- extract the month\n",
    "- extract the year\n",
    "- Slice a DataFrame or Series if the DateTimeIndex is the Index of the DataFrame\n",
    "- calculate time differences\n",
    "- calculate time-dependent statistics and analyses"
   ]
  },
  {
   "cell_type": "code",
   "execution_count": 79,
   "metadata": {},
   "outputs": [],
   "source": [
    "first_day = date_range[0]"
   ]
  },
  {
   "cell_type": "code",
   "execution_count": 80,
   "metadata": {},
   "outputs": [
    {
     "data": {
      "text/plain": [
       "Timestamp('2019-01-01 00:00:00', freq='12H')"
      ]
     },
     "execution_count": 80,
     "metadata": {},
     "output_type": "execute_result"
    }
   ],
   "source": [
    "first_day"
   ]
  },
  {
   "cell_type": "code",
   "execution_count": 81,
   "metadata": {},
   "outputs": [
    {
     "data": {
      "text/plain": [
       "(0, 1, 2019, 'January')"
      ]
     },
     "execution_count": 81,
     "metadata": {},
     "output_type": "execute_result"
    }
   ],
   "source": [
    "first_day.hour, first_day.day, first_day.year, first_day.month_name()"
   ]
  },
  {
   "cell_type": "markdown",
   "metadata": {},
   "source": [
    "How could that be useful?\n",
    "Let us look at the data for this week and think about what we could do with this functionality:\n",
    "\n",
    "- Extract weekdays from the Timestamp\n",
    "- Extract the hour of the day from the Timestamp\n",
    "- Create subsets of the data\n",
    "- ..."
   ]
  },
  {
   "cell_type": "code",
   "execution_count": 136,
   "metadata": {},
   "outputs": [
    {
     "data": {
      "text/html": [
       "<div>\n",
       "<style scoped>\n",
       "    .dataframe tbody tr th:only-of-type {\n",
       "        vertical-align: middle;\n",
       "    }\n",
       "\n",
       "    .dataframe tbody tr th {\n",
       "        vertical-align: top;\n",
       "    }\n",
       "\n",
       "    .dataframe thead th {\n",
       "        text-align: right;\n",
       "    }\n",
       "</style>\n",
       "<table border=\"1\" class=\"dataframe\">\n",
       "  <thead>\n",
       "    <tr style=\"text-align: right;\">\n",
       "      <th></th>\n",
       "      <th>Unnamed: 0</th>\n",
       "      <th>AAPL</th>\n",
       "      <th>MSFT</th>\n",
       "      <th>XOM</th>\n",
       "      <th>SPX</th>\n",
       "    </tr>\n",
       "  </thead>\n",
       "  <tbody>\n",
       "    <tr>\n",
       "      <th>0</th>\n",
       "      <td>2003-01-02 00:00:00</td>\n",
       "      <td>7.40</td>\n",
       "      <td>21.11</td>\n",
       "      <td>29.22</td>\n",
       "      <td>909.03</td>\n",
       "    </tr>\n",
       "    <tr>\n",
       "      <th>1</th>\n",
       "      <td>2003-01-03 00:00:00</td>\n",
       "      <td>7.45</td>\n",
       "      <td>21.14</td>\n",
       "      <td>29.24</td>\n",
       "      <td>908.59</td>\n",
       "    </tr>\n",
       "    <tr>\n",
       "      <th>2</th>\n",
       "      <td>2003-01-06 00:00:00</td>\n",
       "      <td>7.45</td>\n",
       "      <td>21.52</td>\n",
       "      <td>29.96</td>\n",
       "      <td>929.01</td>\n",
       "    </tr>\n",
       "    <tr>\n",
       "      <th>3</th>\n",
       "      <td>2003-01-07 00:00:00</td>\n",
       "      <td>7.43</td>\n",
       "      <td>21.93</td>\n",
       "      <td>28.95</td>\n",
       "      <td>922.93</td>\n",
       "    </tr>\n",
       "    <tr>\n",
       "      <th>4</th>\n",
       "      <td>2003-01-08 00:00:00</td>\n",
       "      <td>7.28</td>\n",
       "      <td>21.31</td>\n",
       "      <td>28.83</td>\n",
       "      <td>909.93</td>\n",
       "    </tr>\n",
       "    <tr>\n",
       "      <th>...</th>\n",
       "      <td>...</td>\n",
       "      <td>...</td>\n",
       "      <td>...</td>\n",
       "      <td>...</td>\n",
       "      <td>...</td>\n",
       "    </tr>\n",
       "    <tr>\n",
       "      <th>2209</th>\n",
       "      <td>2011-10-10 00:00:00</td>\n",
       "      <td>388.81</td>\n",
       "      <td>26.94</td>\n",
       "      <td>76.28</td>\n",
       "      <td>1194.89</td>\n",
       "    </tr>\n",
       "    <tr>\n",
       "      <th>2210</th>\n",
       "      <td>2011-10-11 00:00:00</td>\n",
       "      <td>400.29</td>\n",
       "      <td>27.00</td>\n",
       "      <td>76.27</td>\n",
       "      <td>1195.54</td>\n",
       "    </tr>\n",
       "    <tr>\n",
       "      <th>2211</th>\n",
       "      <td>2011-10-12 00:00:00</td>\n",
       "      <td>402.19</td>\n",
       "      <td>26.96</td>\n",
       "      <td>77.16</td>\n",
       "      <td>1207.25</td>\n",
       "    </tr>\n",
       "    <tr>\n",
       "      <th>2212</th>\n",
       "      <td>2011-10-13 00:00:00</td>\n",
       "      <td>408.43</td>\n",
       "      <td>27.18</td>\n",
       "      <td>76.37</td>\n",
       "      <td>1203.66</td>\n",
       "    </tr>\n",
       "    <tr>\n",
       "      <th>2213</th>\n",
       "      <td>2011-10-14 00:00:00</td>\n",
       "      <td>422.00</td>\n",
       "      <td>27.27</td>\n",
       "      <td>78.11</td>\n",
       "      <td>1224.58</td>\n",
       "    </tr>\n",
       "  </tbody>\n",
       "</table>\n",
       "<p>2214 rows × 5 columns</p>\n",
       "</div>"
      ],
      "text/plain": [
       "               Unnamed: 0    AAPL   MSFT    XOM      SPX\n",
       "0     2003-01-02 00:00:00    7.40  21.11  29.22   909.03\n",
       "1     2003-01-03 00:00:00    7.45  21.14  29.24   908.59\n",
       "2     2003-01-06 00:00:00    7.45  21.52  29.96   929.01\n",
       "3     2003-01-07 00:00:00    7.43  21.93  28.95   922.93\n",
       "4     2003-01-08 00:00:00    7.28  21.31  28.83   909.93\n",
       "...                   ...     ...    ...    ...      ...\n",
       "2209  2011-10-10 00:00:00  388.81  26.94  76.28  1194.89\n",
       "2210  2011-10-11 00:00:00  400.29  27.00  76.27  1195.54\n",
       "2211  2011-10-12 00:00:00  402.19  26.96  77.16  1207.25\n",
       "2212  2011-10-13 00:00:00  408.43  27.18  76.37  1203.66\n",
       "2213  2011-10-14 00:00:00  422.00  27.27  78.11  1224.58\n",
       "\n",
       "[2214 rows x 5 columns]"
      ]
     },
     "execution_count": 136,
     "metadata": {},
     "output_type": "execute_result"
    }
   ],
   "source": [
    "data_train=pd.read_csv('../data/stock_px.csv')\n",
    "data_train"
   ]
  },
  {
   "cell_type": "code",
   "execution_count": 137,
   "metadata": {},
   "outputs": [
    {
     "name": "stdout",
     "output_type": "stream",
     "text": [
      "<class 'pandas.core.frame.DataFrame'>\n",
      "RangeIndex: 2214 entries, 0 to 2213\n",
      "Data columns (total 5 columns):\n",
      " #   Column      Non-Null Count  Dtype  \n",
      "---  ------      --------------  -----  \n",
      " 0   Unnamed: 0  2214 non-null   object \n",
      " 1   AAPL        2214 non-null   float64\n",
      " 2   MSFT        2214 non-null   float64\n",
      " 3   XOM         2214 non-null   float64\n",
      " 4   SPX         2214 non-null   float64\n",
      "dtypes: float64(4), object(1)\n",
      "memory usage: 86.6+ KB\n"
     ]
    }
   ],
   "source": [
    "data_train.info()\n"
   ]
  },
  {
   "cell_type": "code",
   "execution_count": 141,
   "metadata": {},
   "outputs": [
    {
     "data": {
      "text/html": [
       "<div>\n",
       "<style scoped>\n",
       "    .dataframe tbody tr th:only-of-type {\n",
       "        vertical-align: middle;\n",
       "    }\n",
       "\n",
       "    .dataframe tbody tr th {\n",
       "        vertical-align: top;\n",
       "    }\n",
       "\n",
       "    .dataframe thead th {\n",
       "        text-align: right;\n",
       "    }\n",
       "</style>\n",
       "<table border=\"1\" class=\"dataframe\">\n",
       "  <thead>\n",
       "    <tr style=\"text-align: right;\">\n",
       "      <th></th>\n",
       "      <th>AAPL</th>\n",
       "      <th>MSFT</th>\n",
       "      <th>XOM</th>\n",
       "      <th>SPX</th>\n",
       "    </tr>\n",
       "  </thead>\n",
       "  <tbody>\n",
       "    <tr>\n",
       "      <th>2003-01-02</th>\n",
       "      <td>7.40</td>\n",
       "      <td>21.11</td>\n",
       "      <td>29.22</td>\n",
       "      <td>909.03</td>\n",
       "    </tr>\n",
       "    <tr>\n",
       "      <th>2003-01-03</th>\n",
       "      <td>7.45</td>\n",
       "      <td>21.14</td>\n",
       "      <td>29.24</td>\n",
       "      <td>908.59</td>\n",
       "    </tr>\n",
       "    <tr>\n",
       "      <th>2003-01-06</th>\n",
       "      <td>7.45</td>\n",
       "      <td>21.52</td>\n",
       "      <td>29.96</td>\n",
       "      <td>929.01</td>\n",
       "    </tr>\n",
       "    <tr>\n",
       "      <th>2003-01-07</th>\n",
       "      <td>7.43</td>\n",
       "      <td>21.93</td>\n",
       "      <td>28.95</td>\n",
       "      <td>922.93</td>\n",
       "    </tr>\n",
       "    <tr>\n",
       "      <th>2003-01-08</th>\n",
       "      <td>7.28</td>\n",
       "      <td>21.31</td>\n",
       "      <td>28.83</td>\n",
       "      <td>909.93</td>\n",
       "    </tr>\n",
       "  </tbody>\n",
       "</table>\n",
       "</div>"
      ],
      "text/plain": [
       "            AAPL   MSFT    XOM     SPX\n",
       "2003-01-02  7.40  21.11  29.22  909.03\n",
       "2003-01-03  7.45  21.14  29.24  908.59\n",
       "2003-01-06  7.45  21.52  29.96  929.01\n",
       "2003-01-07  7.43  21.93  28.95  922.93\n",
       "2003-01-08  7.28  21.31  28.83  909.93"
      ]
     },
     "execution_count": 141,
     "metadata": {},
     "output_type": "execute_result"
    }
   ],
   "source": [
    "df = pd.read_csv('../data/stock_px.csv', index_col=0, parse_dates=True)\n",
    "df.head()"
   ]
  },
  {
   "cell_type": "code",
   "execution_count": 144,
   "metadata": {},
   "outputs": [
    {
     "data": {
      "text/plain": [
       "'day'"
      ]
     },
     "execution_count": 144,
     "metadata": {},
     "output_type": "execute_result"
    }
   ],
   "source": [
    "# only works for datetime index\n",
    "df.index.resolution"
   ]
  },
  {
   "cell_type": "code",
   "execution_count": 146,
   "metadata": {},
   "outputs": [
    {
     "data": {
      "text/html": [
       "<div>\n",
       "<style scoped>\n",
       "    .dataframe tbody tr th:only-of-type {\n",
       "        vertical-align: middle;\n",
       "    }\n",
       "\n",
       "    .dataframe tbody tr th {\n",
       "        vertical-align: top;\n",
       "    }\n",
       "\n",
       "    .dataframe thead th {\n",
       "        text-align: right;\n",
       "    }\n",
       "</style>\n",
       "<table border=\"1\" class=\"dataframe\">\n",
       "  <thead>\n",
       "    <tr style=\"text-align: right;\">\n",
       "      <th></th>\n",
       "      <th>AAPL</th>\n",
       "      <th>MSFT</th>\n",
       "      <th>XOM</th>\n",
       "      <th>SPX</th>\n",
       "    </tr>\n",
       "  </thead>\n",
       "  <tbody>\n",
       "    <tr>\n",
       "      <th>2003-01-02</th>\n",
       "      <td>7.40</td>\n",
       "      <td>21.11</td>\n",
       "      <td>29.22</td>\n",
       "      <td>909.03</td>\n",
       "    </tr>\n",
       "    <tr>\n",
       "      <th>2003-01-03</th>\n",
       "      <td>7.45</td>\n",
       "      <td>21.14</td>\n",
       "      <td>29.24</td>\n",
       "      <td>908.59</td>\n",
       "    </tr>\n",
       "    <tr>\n",
       "      <th>2003-01-06</th>\n",
       "      <td>7.45</td>\n",
       "      <td>21.52</td>\n",
       "      <td>29.96</td>\n",
       "      <td>929.01</td>\n",
       "    </tr>\n",
       "    <tr>\n",
       "      <th>2003-01-07</th>\n",
       "      <td>7.43</td>\n",
       "      <td>21.93</td>\n",
       "      <td>28.95</td>\n",
       "      <td>922.93</td>\n",
       "    </tr>\n",
       "    <tr>\n",
       "      <th>2003-01-08</th>\n",
       "      <td>7.28</td>\n",
       "      <td>21.31</td>\n",
       "      <td>28.83</td>\n",
       "      <td>909.93</td>\n",
       "    </tr>\n",
       "    <tr>\n",
       "      <th>...</th>\n",
       "      <td>...</td>\n",
       "      <td>...</td>\n",
       "      <td>...</td>\n",
       "      <td>...</td>\n",
       "    </tr>\n",
       "    <tr>\n",
       "      <th>2003-12-24</th>\n",
       "      <td>10.20</td>\n",
       "      <td>21.44</td>\n",
       "      <td>33.73</td>\n",
       "      <td>1094.04</td>\n",
       "    </tr>\n",
       "    <tr>\n",
       "      <th>2003-12-26</th>\n",
       "      <td>10.39</td>\n",
       "      <td>21.57</td>\n",
       "      <td>33.91</td>\n",
       "      <td>1095.89</td>\n",
       "    </tr>\n",
       "    <tr>\n",
       "      <th>2003-12-29</th>\n",
       "      <td>10.57</td>\n",
       "      <td>21.77</td>\n",
       "      <td>34.36</td>\n",
       "      <td>1109.48</td>\n",
       "    </tr>\n",
       "    <tr>\n",
       "      <th>2003-12-30</th>\n",
       "      <td>10.64</td>\n",
       "      <td>21.82</td>\n",
       "      <td>34.45</td>\n",
       "      <td>1109.64</td>\n",
       "    </tr>\n",
       "    <tr>\n",
       "      <th>2003-12-31</th>\n",
       "      <td>10.69</td>\n",
       "      <td>21.70</td>\n",
       "      <td>34.72</td>\n",
       "      <td>1111.92</td>\n",
       "    </tr>\n",
       "  </tbody>\n",
       "</table>\n",
       "<p>252 rows × 4 columns</p>\n",
       "</div>"
      ],
      "text/plain": [
       "             AAPL   MSFT    XOM      SPX\n",
       "2003-01-02   7.40  21.11  29.22   909.03\n",
       "2003-01-03   7.45  21.14  29.24   908.59\n",
       "2003-01-06   7.45  21.52  29.96   929.01\n",
       "2003-01-07   7.43  21.93  28.95   922.93\n",
       "2003-01-08   7.28  21.31  28.83   909.93\n",
       "...           ...    ...    ...      ...\n",
       "2003-12-24  10.20  21.44  33.73  1094.04\n",
       "2003-12-26  10.39  21.57  33.91  1095.89\n",
       "2003-12-29  10.57  21.77  34.36  1109.48\n",
       "2003-12-30  10.64  21.82  34.45  1109.64\n",
       "2003-12-31  10.69  21.70  34.72  1111.92\n",
       "\n",
       "[252 rows x 4 columns]"
      ]
     },
     "execution_count": 146,
     "metadata": {},
     "output_type": "execute_result"
    }
   ],
   "source": [
    "df.loc['2003-01-01 01:00':'2004-01-01 04:00']"
   ]
  },
  {
   "cell_type": "markdown",
   "metadata": {},
   "source": [
    "### 1.3 `df.between_time()`"
   ]
  },
  {
   "cell_type": "code",
   "execution_count": 148,
   "metadata": {},
   "outputs": [
    {
     "data": {
      "text/plain": [
       "<bound method NDFrame.between_time of               AAPL   MSFT    XOM      SPX\n",
       "2003-01-02    7.40  21.11  29.22   909.03\n",
       "2003-01-03    7.45  21.14  29.24   908.59\n",
       "2003-01-06    7.45  21.52  29.96   929.01\n",
       "2003-01-07    7.43  21.93  28.95   922.93\n",
       "2003-01-08    7.28  21.31  28.83   909.93\n",
       "...            ...    ...    ...      ...\n",
       "2011-10-10  388.81  26.94  76.28  1194.89\n",
       "2011-10-11  400.29  27.00  76.27  1195.54\n",
       "2011-10-12  402.19  26.96  77.16  1207.25\n",
       "2011-10-13  408.43  27.18  76.37  1203.66\n",
       "2011-10-14  422.00  27.27  78.11  1224.58\n",
       "\n",
       "[2214 rows x 4 columns]>"
      ]
     },
     "execution_count": 148,
     "metadata": {},
     "output_type": "execute_result"
    }
   ],
   "source": [
    "df.between_time"
   ]
  },
  {
   "cell_type": "code",
   "execution_count": 150,
   "metadata": {},
   "outputs": [
    {
     "data": {
      "text/plain": [
       "Timestamp('2003-01-03 00:00:00')"
      ]
     },
     "execution_count": 150,
     "metadata": {},
     "output_type": "execute_result"
    }
   ],
   "source": [
    "df.index[1]"
   ]
  },
  {
   "cell_type": "code",
   "execution_count": 154,
   "metadata": {},
   "outputs": [
    {
     "data": {
      "text/plain": [
       "True"
      ]
     },
     "execution_count": 154,
     "metadata": {},
     "output_type": "execute_result"
    }
   ],
   "source": [
    "df.index.is_monotonic_increasing"
   ]
  },
  {
   "cell_type": "markdown",
   "metadata": {},
   "source": [
    "<hr style=\"border:2px solid black\">"
   ]
  },
  {
   "cell_type": "markdown",
   "metadata": {},
   "source": [
    "## 2. Timedelta objects\n",
    "\n",
    "Pandas has inbuilt Timedelta objects\n",
    "* An array of Timedelta objects is a TimedeltaIndex\n",
    "* The datatype of a TimeStamp object is timedelta64\n",
    "* There are three methods of creating Timedeltas or a TimedeltaIndex:\n",
    "    - 1) [`pd.to_timedelta()`](https://pandas.pydata.org/docs/reference/api/pandas.to_timedelta.html)\n",
    "    - 2) [`pd.timedelta_range()`](https://pandas.pydata.org/docs/reference/api/pandas.timedelta_range.html)\n",
    "    - 3) Subtract two pd.Timestamp objects"
   ]
  },
  {
   "cell_type": "code",
   "execution_count": 158,
   "metadata": {},
   "outputs": [
    {
     "data": {
      "text/plain": [
       "Timedelta('3207 days 00:00:00')"
      ]
     },
     "execution_count": 158,
     "metadata": {},
     "output_type": "execute_result"
    }
   ],
   "source": [
    "df.index.max()-df.index.min()"
   ]
  },
  {
   "cell_type": "code",
   "execution_count": 167,
   "metadata": {},
   "outputs": [
    {
     "data": {
      "text/plain": [
       "DatetimeIndex(['2017-12-25', '2017-12-26', '2017-12-27', '2017-12-28',\n",
       "               '2017-12-29', '2017-12-30', '2017-12-31', '2018-01-01'],\n",
       "              dtype='datetime64[ns]', freq='D')"
      ]
     },
     "execution_count": 167,
     "metadata": {},
     "output_type": "execute_result"
    }
   ],
   "source": [
    "date_range = pd.date_range(end='1/1/2018', periods=8)\n",
    "date_range"
   ]
  },
  {
   "cell_type": "code",
   "execution_count": 168,
   "metadata": {},
   "outputs": [
    {
     "data": {
      "text/plain": [
       "Timedelta('1 days 00:00:00')"
      ]
     },
     "execution_count": 168,
     "metadata": {},
     "output_type": "execute_result"
    }
   ],
   "source": [
    "delta = date_range[1] - date_range[0]\n",
    "delta"
   ]
  },
  {
   "cell_type": "code",
   "execution_count": 169,
   "metadata": {},
   "outputs": [
    {
     "data": {
      "text/plain": [
       "0"
      ]
     },
     "execution_count": 169,
     "metadata": {},
     "output_type": "execute_result"
    }
   ],
   "source": [
    "delta.seconds"
   ]
  },
  {
   "cell_type": "code",
   "execution_count": 170,
   "metadata": {},
   "outputs": [
    {
     "data": {
      "text/plain": [
       "Int64Index([ 1,  1,  1,  1,  1,  1,  1,  1,  1,  1,\n",
       "            ...\n",
       "            10, 10, 10, 10, 10, 10, 10, 10, 10, 10],\n",
       "           dtype='int64', length=2214)"
      ]
     },
     "execution_count": 170,
     "metadata": {},
     "output_type": "execute_result"
    }
   ],
   "source": [
    "df.index.month"
   ]
  },
  {
   "cell_type": "code",
   "execution_count": 171,
   "metadata": {},
   "outputs": [
    {
     "data": {
      "text/plain": [
       "Int64Index([2003, 2003, 2003, 2003, 2003, 2003, 2003, 2003, 2003, 2003,\n",
       "            ...\n",
       "            2011, 2011, 2011, 2011, 2011, 2011, 2011, 2011, 2011, 2011],\n",
       "           dtype='int64', length=2214)"
      ]
     },
     "execution_count": 171,
     "metadata": {},
     "output_type": "execute_result"
    }
   ],
   "source": [
    "df.index.year"
   ]
  },
  {
   "cell_type": "code",
   "execution_count": 172,
   "metadata": {},
   "outputs": [
    {
     "data": {
      "text/plain": [
       "Timestamp('2011-10-14 00:00:00')"
      ]
     },
     "execution_count": 172,
     "metadata": {},
     "output_type": "execute_result"
    }
   ],
   "source": [
    "df.index.max()"
   ]
  },
  {
   "cell_type": "code",
   "execution_count": 173,
   "metadata": {},
   "outputs": [
    {
     "data": {
      "text/plain": [
       "Timestamp('2003-01-02 00:00:00')"
      ]
     },
     "execution_count": 173,
     "metadata": {},
     "output_type": "execute_result"
    }
   ],
   "source": [
    "df.index.min()"
   ]
  },
  {
   "cell_type": "code",
   "execution_count": 174,
   "metadata": {},
   "outputs": [
    {
     "data": {
      "text/plain": [
       "Timedelta('3207 days 00:00:00')"
      ]
     },
     "execution_count": 174,
     "metadata": {},
     "output_type": "execute_result"
    }
   ],
   "source": [
    "df.index.max() - df.index.min()"
   ]
  },
  {
   "cell_type": "code",
   "execution_count": 176,
   "metadata": {},
   "outputs": [
    {
     "ename": "TypeError",
     "evalue": "Already tz-aware, use tz_convert to convert.",
     "output_type": "error",
     "traceback": [
      "\u001b[0;31m---------------------------------------------------------------------------\u001b[0m",
      "\u001b[0;31mTypeError\u001b[0m                                 Traceback (most recent call last)",
      "Cell \u001b[0;32mIn[176], line 1\u001b[0m\n\u001b[0;32m----> 1\u001b[0m df\u001b[39m.\u001b[39mindex \u001b[39m=\u001b[39m df\u001b[39m.\u001b[39;49mindex\u001b[39m.\u001b[39;49mtz_localize(\u001b[39m'\u001b[39;49m\u001b[39mUTC\u001b[39;49m\u001b[39m'\u001b[39;49m)\n",
      "File \u001b[0;32m~/.local/lib/python3.10/site-packages/pandas/core/indexes/datetimes.py:281\u001b[0m, in \u001b[0;36mDatetimeIndex.tz_localize\u001b[0;34m(self, tz, ambiguous, nonexistent)\u001b[0m\n\u001b[1;32m    279\u001b[0m \u001b[39m@doc\u001b[39m(DatetimeArray\u001b[39m.\u001b[39mtz_localize)\n\u001b[1;32m    280\u001b[0m \u001b[39mdef\u001b[39;00m \u001b[39mtz_localize\u001b[39m(\u001b[39mself\u001b[39m, tz, ambiguous\u001b[39m=\u001b[39m\u001b[39m\"\u001b[39m\u001b[39mraise\u001b[39m\u001b[39m\"\u001b[39m, nonexistent\u001b[39m=\u001b[39m\u001b[39m\"\u001b[39m\u001b[39mraise\u001b[39m\u001b[39m\"\u001b[39m) \u001b[39m-\u001b[39m\u001b[39m>\u001b[39m DatetimeIndex:\n\u001b[0;32m--> 281\u001b[0m     arr \u001b[39m=\u001b[39m \u001b[39mself\u001b[39;49m\u001b[39m.\u001b[39;49m_data\u001b[39m.\u001b[39;49mtz_localize(tz, ambiguous, nonexistent)\n\u001b[1;32m    282\u001b[0m     \u001b[39mreturn\u001b[39;00m \u001b[39mtype\u001b[39m(\u001b[39mself\u001b[39m)\u001b[39m.\u001b[39m_simple_new(arr, name\u001b[39m=\u001b[39m\u001b[39mself\u001b[39m\u001b[39m.\u001b[39mname)\n",
      "File \u001b[0;32m~/.local/lib/python3.10/site-packages/pandas/core/arrays/_mixins.py:85\u001b[0m, in \u001b[0;36mravel_compat.<locals>.method\u001b[0;34m(self, *args, **kwargs)\u001b[0m\n\u001b[1;32m     82\u001b[0m \u001b[39m@wraps\u001b[39m(meth)\n\u001b[1;32m     83\u001b[0m \u001b[39mdef\u001b[39;00m \u001b[39mmethod\u001b[39m(\u001b[39mself\u001b[39m, \u001b[39m*\u001b[39margs, \u001b[39m*\u001b[39m\u001b[39m*\u001b[39mkwargs):\n\u001b[1;32m     84\u001b[0m     \u001b[39mif\u001b[39;00m \u001b[39mself\u001b[39m\u001b[39m.\u001b[39mndim \u001b[39m==\u001b[39m \u001b[39m1\u001b[39m:\n\u001b[0;32m---> 85\u001b[0m         \u001b[39mreturn\u001b[39;00m meth(\u001b[39mself\u001b[39;49m, \u001b[39m*\u001b[39;49margs, \u001b[39m*\u001b[39;49m\u001b[39m*\u001b[39;49mkwargs)\n\u001b[1;32m     87\u001b[0m     flags \u001b[39m=\u001b[39m \u001b[39mself\u001b[39m\u001b[39m.\u001b[39m_ndarray\u001b[39m.\u001b[39mflags\n\u001b[1;32m     88\u001b[0m     flat \u001b[39m=\u001b[39m \u001b[39mself\u001b[39m\u001b[39m.\u001b[39mravel(\u001b[39m\"\u001b[39m\u001b[39mK\u001b[39m\u001b[39m\"\u001b[39m)\n",
      "File \u001b[0;32m~/.local/lib/python3.10/site-packages/pandas/core/arrays/datetimes.py:982\u001b[0m, in \u001b[0;36mDatetimeArray.tz_localize\u001b[0;34m(self, tz, ambiguous, nonexistent)\u001b[0m\n\u001b[1;32m    980\u001b[0m         new_dates \u001b[39m=\u001b[39m tz_convert_from_utc(\u001b[39mself\u001b[39m\u001b[39m.\u001b[39masi8, \u001b[39mself\u001b[39m\u001b[39m.\u001b[39mtz)\n\u001b[1;32m    981\u001b[0m     \u001b[39melse\u001b[39;00m:\n\u001b[0;32m--> 982\u001b[0m         \u001b[39mraise\u001b[39;00m \u001b[39mTypeError\u001b[39;00m(\u001b[39m\"\u001b[39m\u001b[39mAlready tz-aware, use tz_convert to convert.\u001b[39m\u001b[39m\"\u001b[39m)\n\u001b[1;32m    983\u001b[0m \u001b[39melse\u001b[39;00m:\n\u001b[1;32m    984\u001b[0m     tz \u001b[39m=\u001b[39m timezones\u001b[39m.\u001b[39mmaybe_get_tz(tz)\n",
      "\u001b[0;31mTypeError\u001b[0m: Already tz-aware, use tz_convert to convert."
     ]
    }
   ],
   "source": [
    "#df.index = df.index.tz_localize('UTC')"
   ]
  },
  {
   "cell_type": "code",
   "execution_count": 177,
   "metadata": {},
   "outputs": [
    {
     "data": {
      "text/plain": [
       "DatetimeIndex(['2003-01-02 00:00:00+00:00', '2003-01-03 00:00:00+00:00',\n",
       "               '2003-01-06 00:00:00+00:00', '2003-01-07 00:00:00+00:00',\n",
       "               '2003-01-08 00:00:00+00:00', '2003-01-09 00:00:00+00:00',\n",
       "               '2003-01-10 00:00:00+00:00', '2003-01-13 00:00:00+00:00',\n",
       "               '2003-01-14 00:00:00+00:00', '2003-01-15 00:00:00+00:00',\n",
       "               ...\n",
       "               '2011-10-03 00:00:00+00:00', '2011-10-04 00:00:00+00:00',\n",
       "               '2011-10-05 00:00:00+00:00', '2011-10-06 00:00:00+00:00',\n",
       "               '2011-10-07 00:00:00+00:00', '2011-10-10 00:00:00+00:00',\n",
       "               '2011-10-11 00:00:00+00:00', '2011-10-12 00:00:00+00:00',\n",
       "               '2011-10-13 00:00:00+00:00', '2011-10-14 00:00:00+00:00'],\n",
       "              dtype='datetime64[ns, UTC]', length=2214, freq=None)"
      ]
     },
     "execution_count": 177,
     "metadata": {},
     "output_type": "execute_result"
    }
   ],
   "source": [
    "df.index"
   ]
  },
  {
   "cell_type": "code",
   "execution_count": 178,
   "metadata": {},
   "outputs": [],
   "source": [
    "df.index = df.index.tz_convert('US/Eastern')"
   ]
  },
  {
   "cell_type": "code",
   "execution_count": 179,
   "metadata": {},
   "outputs": [
    {
     "data": {
      "text/plain": [
       "DatetimeIndex(['2003-01-01 19:00:00-05:00', '2003-01-02 19:00:00-05:00',\n",
       "               '2003-01-05 19:00:00-05:00', '2003-01-06 19:00:00-05:00',\n",
       "               '2003-01-07 19:00:00-05:00', '2003-01-08 19:00:00-05:00',\n",
       "               '2003-01-09 19:00:00-05:00', '2003-01-12 19:00:00-05:00',\n",
       "               '2003-01-13 19:00:00-05:00', '2003-01-14 19:00:00-05:00',\n",
       "               ...\n",
       "               '2011-10-02 20:00:00-04:00', '2011-10-03 20:00:00-04:00',\n",
       "               '2011-10-04 20:00:00-04:00', '2011-10-05 20:00:00-04:00',\n",
       "               '2011-10-06 20:00:00-04:00', '2011-10-09 20:00:00-04:00',\n",
       "               '2011-10-10 20:00:00-04:00', '2011-10-11 20:00:00-04:00',\n",
       "               '2011-10-12 20:00:00-04:00', '2011-10-13 20:00:00-04:00'],\n",
       "              dtype='datetime64[ns, US/Eastern]', length=2214, freq=None)"
      ]
     },
     "execution_count": 179,
     "metadata": {},
     "output_type": "execute_result"
    }
   ],
   "source": [
    "df.index"
   ]
  },
  {
   "cell_type": "code",
   "execution_count": 180,
   "metadata": {},
   "outputs": [],
   "source": [
    "df.index = df.index.tz_convert('Europe/Berlin')"
   ]
  },
  {
   "cell_type": "code",
   "execution_count": 181,
   "metadata": {},
   "outputs": [
    {
     "data": {
      "text/plain": [
       "DatetimeIndex(['2003-01-02 01:00:00+01:00', '2003-01-03 01:00:00+01:00',\n",
       "               '2003-01-06 01:00:00+01:00', '2003-01-07 01:00:00+01:00',\n",
       "               '2003-01-08 01:00:00+01:00', '2003-01-09 01:00:00+01:00',\n",
       "               '2003-01-10 01:00:00+01:00', '2003-01-13 01:00:00+01:00',\n",
       "               '2003-01-14 01:00:00+01:00', '2003-01-15 01:00:00+01:00',\n",
       "               ...\n",
       "               '2011-10-03 02:00:00+02:00', '2011-10-04 02:00:00+02:00',\n",
       "               '2011-10-05 02:00:00+02:00', '2011-10-06 02:00:00+02:00',\n",
       "               '2011-10-07 02:00:00+02:00', '2011-10-10 02:00:00+02:00',\n",
       "               '2011-10-11 02:00:00+02:00', '2011-10-12 02:00:00+02:00',\n",
       "               '2011-10-13 02:00:00+02:00', '2011-10-14 02:00:00+02:00'],\n",
       "              dtype='datetime64[ns, Europe/Berlin]', length=2214, freq=None)"
      ]
     },
     "execution_count": 181,
     "metadata": {},
     "output_type": "execute_result"
    }
   ],
   "source": [
    "df.index"
   ]
  },
  {
   "cell_type": "code",
   "execution_count": 182,
   "metadata": {},
   "outputs": [],
   "source": [
    "# default freq is D: days\n",
    "\n",
    "period_range = pd.period_range('2019 10 01', '2019 11 01')"
   ]
  },
  {
   "cell_type": "code",
   "execution_count": 183,
   "metadata": {},
   "outputs": [
    {
     "data": {
      "text/plain": [
       "PeriodIndex(['2019-10-01', '2019-10-02', '2019-10-03', '2019-10-04',\n",
       "             '2019-10-05', '2019-10-06', '2019-10-07', '2019-10-08',\n",
       "             '2019-10-09', '2019-10-10', '2019-10-11', '2019-10-12',\n",
       "             '2019-10-13', '2019-10-14', '2019-10-15', '2019-10-16',\n",
       "             '2019-10-17', '2019-10-18', '2019-10-19', '2019-10-20',\n",
       "             '2019-10-21', '2019-10-22', '2019-10-23', '2019-10-24',\n",
       "             '2019-10-25', '2019-10-26', '2019-10-27', '2019-10-28',\n",
       "             '2019-10-29', '2019-10-30', '2019-10-31', '2019-11-01'],\n",
       "            dtype='period[D]')"
      ]
     },
     "execution_count": 183,
     "metadata": {},
     "output_type": "execute_result"
    }
   ],
   "source": [
    "period_range"
   ]
  },
  {
   "cell_type": "code",
   "execution_count": 184,
   "metadata": {},
   "outputs": [
    {
     "data": {
      "text/plain": [
       "PeriodIndex(['2019-10', '2019-11', '2019-12', '2020-01', '2020-02', '2020-03',\n",
       "             '2020-04', '2020-05', '2020-06', '2020-07', '2020-08', '2020-09',\n",
       "             '2020-10'],\n",
       "            dtype='period[M]')"
      ]
     },
     "execution_count": 184,
     "metadata": {},
     "output_type": "execute_result"
    }
   ],
   "source": [
    "period_range = pd.period_range('2019 10 01', '2020 10 01', freq='M')\n",
    "\n",
    "period_range"
   ]
  },
  {
   "cell_type": "code",
   "execution_count": 185,
   "metadata": {},
   "outputs": [
    {
     "data": {
      "text/plain": [
       "pandas._libs.tslibs.period.Period"
      ]
     },
     "execution_count": 185,
     "metadata": {},
     "output_type": "execute_result"
    }
   ],
   "source": [
    "type(period_range[0])"
   ]
  },
  {
   "cell_type": "markdown",
   "metadata": {},
   "source": [
    "<hr style=\"border:2px solid black\">"
   ]
  },
  {
   "cell_type": "markdown",
   "metadata": {},
   "source": [
    "## 3. Other concepts: `resample()`, `shift()` and `rolling()`"
   ]
  },
  {
   "cell_type": "code",
   "execution_count": 186,
   "metadata": {},
   "outputs": [
    {
     "data": {
      "text/html": [
       "<div>\n",
       "<style scoped>\n",
       "    .dataframe tbody tr th:only-of-type {\n",
       "        vertical-align: middle;\n",
       "    }\n",
       "\n",
       "    .dataframe tbody tr th {\n",
       "        vertical-align: top;\n",
       "    }\n",
       "\n",
       "    .dataframe thead th {\n",
       "        text-align: right;\n",
       "    }\n",
       "</style>\n",
       "<table border=\"1\" class=\"dataframe\">\n",
       "  <thead>\n",
       "    <tr style=\"text-align: right;\">\n",
       "      <th></th>\n",
       "      <th>AAPL</th>\n",
       "      <th>MSFT</th>\n",
       "      <th>XOM</th>\n",
       "      <th>SPX</th>\n",
       "    </tr>\n",
       "  </thead>\n",
       "  <tbody>\n",
       "    <tr>\n",
       "      <th>2003-01-02 01:00:00+01:00</th>\n",
       "      <td>7.40</td>\n",
       "      <td>21.11</td>\n",
       "      <td>29.22</td>\n",
       "      <td>909.03</td>\n",
       "    </tr>\n",
       "    <tr>\n",
       "      <th>2003-01-03 01:00:00+01:00</th>\n",
       "      <td>7.45</td>\n",
       "      <td>21.14</td>\n",
       "      <td>29.24</td>\n",
       "      <td>908.59</td>\n",
       "    </tr>\n",
       "    <tr>\n",
       "      <th>2003-01-06 01:00:00+01:00</th>\n",
       "      <td>7.45</td>\n",
       "      <td>21.52</td>\n",
       "      <td>29.96</td>\n",
       "      <td>929.01</td>\n",
       "    </tr>\n",
       "    <tr>\n",
       "      <th>2003-01-07 01:00:00+01:00</th>\n",
       "      <td>7.43</td>\n",
       "      <td>21.93</td>\n",
       "      <td>28.95</td>\n",
       "      <td>922.93</td>\n",
       "    </tr>\n",
       "    <tr>\n",
       "      <th>2003-01-08 01:00:00+01:00</th>\n",
       "      <td>7.28</td>\n",
       "      <td>21.31</td>\n",
       "      <td>28.83</td>\n",
       "      <td>909.93</td>\n",
       "    </tr>\n",
       "  </tbody>\n",
       "</table>\n",
       "</div>"
      ],
      "text/plain": [
       "                           AAPL   MSFT    XOM     SPX\n",
       "2003-01-02 01:00:00+01:00  7.40  21.11  29.22  909.03\n",
       "2003-01-03 01:00:00+01:00  7.45  21.14  29.24  908.59\n",
       "2003-01-06 01:00:00+01:00  7.45  21.52  29.96  929.01\n",
       "2003-01-07 01:00:00+01:00  7.43  21.93  28.95  922.93\n",
       "2003-01-08 01:00:00+01:00  7.28  21.31  28.83  909.93"
      ]
     },
     "execution_count": 186,
     "metadata": {},
     "output_type": "execute_result"
    }
   ],
   "source": [
    "#df = pd.read_csv('bike_train.csv', index_col=0, parse_dates=True)\n",
    "df.head()"
   ]
  },
  {
   "cell_type": "code",
   "execution_count": 194,
   "metadata": {},
   "outputs": [
    {
     "data": {
      "text/plain": [
       "<bound method DataFrame.info of                              AAPL   MSFT    XOM      SPX\n",
       "2003-01-02 01:00:00+01:00    7.40  21.11  29.22   909.03\n",
       "2003-01-03 01:00:00+01:00    7.45  21.14  29.24   908.59\n",
       "2003-01-06 01:00:00+01:00    7.45  21.52  29.96   929.01\n",
       "2003-01-07 01:00:00+01:00    7.43  21.93  28.95   922.93\n",
       "2003-01-08 01:00:00+01:00    7.28  21.31  28.83   909.93\n",
       "...                           ...    ...    ...      ...\n",
       "2011-10-10 02:00:00+02:00  388.81  26.94  76.28  1194.89\n",
       "2011-10-11 02:00:00+02:00  400.29  27.00  76.27  1195.54\n",
       "2011-10-12 02:00:00+02:00  402.19  26.96  77.16  1207.25\n",
       "2011-10-13 02:00:00+02:00  408.43  27.18  76.37  1203.66\n",
       "2011-10-14 02:00:00+02:00  422.00  27.27  78.11  1224.58\n",
       "\n",
       "[2214 rows x 4 columns]>"
      ]
     },
     "execution_count": 194,
     "metadata": {},
     "output_type": "execute_result"
    }
   ],
   "source": [
    "# let's take the first month of the bike data, all data in Januray 2011\n",
    "\n",
    "january_2011_df = df['2011-01-01':'2011-01-19']\n",
    "df.info"
   ]
  },
  {
   "cell_type": "code",
   "execution_count": 191,
   "metadata": {},
   "outputs": [],
   "source": [
    "import matplotlib.pyplot as pl"
   ]
  },
  {
   "cell_type": "code",
   "execution_count": 193,
   "metadata": {},
   "outputs": [
    {
     "name": "stderr",
     "output_type": "stream",
     "text": [
      "/tmp/ipykernel_17327/1833039432.py:2: FutureWarning: Indexing a DataFrame with a datetimelike index using a single string to slice the rows, like `frame[string]`, is deprecated and will be removed in a future version. Use `frame.loc[string]` instead.\n",
      "  df['2011'].plot(figsize=(15, 8));\n"
     ]
    },
    {
     "data": {
      "image/png": "[encoded data removed]",
      "text/plain": [
       "<Figure size 1500x800 with 1 Axes>"
      ]
     },
     "metadata": {},
     "output_type": "display_data"
    }
   ],
   "source": [
    "january_2011_df.shape\n",
    "df['2011'].plot(figsize=(15, 8))"
   ]
  },
  {
   "cell_type": "code",
   "execution_count": 201,
   "metadata": {},
   "outputs": [
    {
     "data": {
      "text/html": [
       "<div>\n",
       "<style scoped>\n",
       "    .dataframe tbody tr th:only-of-type {\n",
       "        vertical-align: middle;\n",
       "    }\n",
       "\n",
       "    .dataframe tbody tr th {\n",
       "        vertical-align: top;\n",
       "    }\n",
       "\n",
       "    .dataframe thead th {\n",
       "        text-align: right;\n",
       "    }\n",
       "</style>\n",
       "<table border=\"1\" class=\"dataframe\">\n",
       "  <thead>\n",
       "    <tr style=\"text-align: right;\">\n",
       "      <th></th>\n",
       "      <th>AAPL</th>\n",
       "      <th>MSFT</th>\n",
       "      <th>XOM</th>\n",
       "      <th>SPX</th>\n",
       "    </tr>\n",
       "  </thead>\n",
       "  <tbody>\n",
       "    <tr>\n",
       "      <th>2003-01-31 00:00:00+01:00</th>\n",
       "      <td>152.02</td>\n",
       "      <td>435.59</td>\n",
       "      <td>595.48</td>\n",
       "      <td>18812.56</td>\n",
       "    </tr>\n",
       "    <tr>\n",
       "      <th>2003-02-28 00:00:00+01:00</th>\n",
       "      <td>139.34</td>\n",
       "      <td>356.94</td>\n",
       "      <td>531.72</td>\n",
       "      <td>15914.76</td>\n",
       "    </tr>\n",
       "    <tr>\n",
       "      <th>2003-03-31 00:00:00+02:00</th>\n",
       "      <td>153.28</td>\n",
       "      <td>407.30</td>\n",
       "      <td>610.37</td>\n",
       "      <td>17779.05</td>\n",
       "    </tr>\n",
       "    <tr>\n",
       "      <th>2003-04-30 00:00:00+02:00</th>\n",
       "      <td>145.40</td>\n",
       "      <td>417.30</td>\n",
       "      <td>610.06</td>\n",
       "      <td>18690.54</td>\n",
       "    </tr>\n",
       "    <tr>\n",
       "      <th>2003-05-31 00:00:00+02:00</th>\n",
       "      <td>186.59</td>\n",
       "      <td>418.88</td>\n",
       "      <td>624.30</td>\n",
       "      <td>19655.22</td>\n",
       "    </tr>\n",
       "    <tr>\n",
       "      <th>...</th>\n",
       "      <td>...</td>\n",
       "      <td>...</td>\n",
       "      <td>...</td>\n",
       "      <td>...</td>\n",
       "    </tr>\n",
       "    <tr>\n",
       "      <th>2011-06-30 00:00:00+02:00</th>\n",
       "      <td>7283.79</td>\n",
       "      <td>534.58</td>\n",
       "      <td>1746.05</td>\n",
       "      <td>28320.35</td>\n",
       "    </tr>\n",
       "    <tr>\n",
       "      <th>2011-07-31 00:00:00+02:00</th>\n",
       "      <td>7444.76</td>\n",
       "      <td>535.98</td>\n",
       "      <td>1643.93</td>\n",
       "      <td>26503.69</td>\n",
       "    </tr>\n",
       "    <tr>\n",
       "      <th>2011-08-31 00:00:00+02:00</th>\n",
       "      <td>8665.54</td>\n",
       "      <td>582.31</td>\n",
       "      <td>1680.35</td>\n",
       "      <td>27262.03</td>\n",
       "    </tr>\n",
       "    <tr>\n",
       "      <th>2011-09-30 00:00:00+02:00</th>\n",
       "      <td>8242.36</td>\n",
       "      <td>545.35</td>\n",
       "      <td>1520.39</td>\n",
       "      <td>24651.46</td>\n",
       "    </tr>\n",
       "    <tr>\n",
       "      <th>2011-10-31 00:00:00+01:00</th>\n",
       "      <td>3894.24</td>\n",
       "      <td>263.70</td>\n",
       "      <td>749.57</td>\n",
       "      <td>11713.56</td>\n",
       "    </tr>\n",
       "  </tbody>\n",
       "</table>\n",
       "<p>106 rows × 4 columns</p>\n",
       "</div>"
      ],
      "text/plain": [
       "                              AAPL    MSFT      XOM       SPX\n",
       "2003-01-31 00:00:00+01:00   152.02  435.59   595.48  18812.56\n",
       "2003-02-28 00:00:00+01:00   139.34  356.94   531.72  15914.76\n",
       "2003-03-31 00:00:00+02:00   153.28  407.30   610.37  17779.05\n",
       "2003-04-30 00:00:00+02:00   145.40  417.30   610.06  18690.54\n",
       "2003-05-31 00:00:00+02:00   186.59  418.88   624.30  19655.22\n",
       "...                            ...     ...      ...       ...\n",
       "2011-06-30 00:00:00+02:00  7283.79  534.58  1746.05  28320.35\n",
       "2011-07-31 00:00:00+02:00  7444.76  535.98  1643.93  26503.69\n",
       "2011-08-31 00:00:00+02:00  8665.54  582.31  1680.35  27262.03\n",
       "2011-09-30 00:00:00+02:00  8242.36  545.35  1520.39  24651.46\n",
       "2011-10-31 00:00:00+01:00  3894.24  263.70   749.57  11713.56\n",
       "\n",
       "[106 rows x 4 columns]"
      ]
     },
     "execution_count": 201,
     "metadata": {},
     "output_type": "execute_result"
    }
   ],
   "source": [
    "df_sum = df[['AAPL', 'MSFT', 'XOM', 'SPX']].resample('M').sum()\n",
    "df_sum"
   ]
  },
  {
   "cell_type": "code",
   "execution_count": 202,
   "metadata": {},
   "outputs": [
    {
     "data": {
      "text/html": [
       "<div>\n",
       "<style scoped>\n",
       "    .dataframe tbody tr th:only-of-type {\n",
       "        vertical-align: middle;\n",
       "    }\n",
       "\n",
       "    .dataframe tbody tr th {\n",
       "        vertical-align: top;\n",
       "    }\n",
       "\n",
       "    .dataframe thead th {\n",
       "        text-align: right;\n",
       "    }\n",
       "</style>\n",
       "<table border=\"1\" class=\"dataframe\">\n",
       "  <thead>\n",
       "    <tr style=\"text-align: right;\">\n",
       "      <th></th>\n",
       "      <th>AAPL</th>\n",
       "      <th>MSFT</th>\n",
       "      <th>XOM</th>\n",
       "      <th>SPX</th>\n",
       "    </tr>\n",
       "  </thead>\n",
       "  <tbody>\n",
       "    <tr>\n",
       "      <th>2003-01-31 00:00:00+01:00</th>\n",
       "      <td>7.239048</td>\n",
       "      <td>20.742381</td>\n",
       "      <td>28.356190</td>\n",
       "      <td>895.836190</td>\n",
       "    </tr>\n",
       "    <tr>\n",
       "      <th>2003-02-28 00:00:00+01:00</th>\n",
       "      <td>7.333684</td>\n",
       "      <td>18.786316</td>\n",
       "      <td>27.985263</td>\n",
       "      <td>837.618947</td>\n",
       "    </tr>\n",
       "    <tr>\n",
       "      <th>2003-03-31 00:00:00+02:00</th>\n",
       "      <td>7.299048</td>\n",
       "      <td>19.395238</td>\n",
       "      <td>29.065238</td>\n",
       "      <td>846.621429</td>\n",
       "    </tr>\n",
       "    <tr>\n",
       "      <th>2003-04-30 00:00:00+02:00</th>\n",
       "      <td>6.923810</td>\n",
       "      <td>19.871429</td>\n",
       "      <td>29.050476</td>\n",
       "      <td>890.025714</td>\n",
       "    </tr>\n",
       "    <tr>\n",
       "      <th>2003-05-31 00:00:00+02:00</th>\n",
       "      <td>8.885238</td>\n",
       "      <td>19.946667</td>\n",
       "      <td>29.728571</td>\n",
       "      <td>935.962857</td>\n",
       "    </tr>\n",
       "  </tbody>\n",
       "</table>\n",
       "</div>"
      ],
      "text/plain": [
       "                               AAPL       MSFT        XOM         SPX\n",
       "2003-01-31 00:00:00+01:00  7.239048  20.742381  28.356190  895.836190\n",
       "2003-02-28 00:00:00+01:00  7.333684  18.786316  27.985263  837.618947\n",
       "2003-03-31 00:00:00+02:00  7.299048  19.395238  29.065238  846.621429\n",
       "2003-04-30 00:00:00+02:00  6.923810  19.871429  29.050476  890.025714\n",
       "2003-05-31 00:00:00+02:00  8.885238  19.946667  29.728571  935.962857"
      ]
     },
     "execution_count": 202,
     "metadata": {},
     "output_type": "execute_result"
    }
   ],
   "source": [
    "df_mean = df[['AAPL', 'MSFT', 'XOM', 'SPX']].resample('M').mean()\n",
    "\n",
    "df_mean.head()"
   ]
  },
  {
   "cell_type": "code",
   "execution_count": 203,
   "metadata": {},
   "outputs": [
    {
     "data": {
      "text/html": [
       "<div>\n",
       "<style scoped>\n",
       "    .dataframe tbody tr th:only-of-type {\n",
       "        vertical-align: middle;\n",
       "    }\n",
       "\n",
       "    .dataframe tbody tr th {\n",
       "        vertical-align: top;\n",
       "    }\n",
       "\n",
       "    .dataframe thead th {\n",
       "        text-align: right;\n",
       "    }\n",
       "</style>\n",
       "<table border=\"1\" class=\"dataframe\">\n",
       "  <thead>\n",
       "    <tr style=\"text-align: right;\">\n",
       "      <th></th>\n",
       "      <th>AAPL</th>\n",
       "      <th>MSFT</th>\n",
       "      <th>XOM</th>\n",
       "      <th>SPX</th>\n",
       "      <th>AAPL</th>\n",
       "      <th>MSFT</th>\n",
       "      <th>XOM</th>\n",
       "      <th>SPX</th>\n",
       "    </tr>\n",
       "  </thead>\n",
       "  <tbody>\n",
       "    <tr>\n",
       "      <th>2003-01-31 00:00:00+01:00</th>\n",
       "      <td>7.239048</td>\n",
       "      <td>20.742381</td>\n",
       "      <td>28.356190</td>\n",
       "      <td>895.836190</td>\n",
       "      <td>152.02</td>\n",
       "      <td>435.59</td>\n",
       "      <td>595.48</td>\n",
       "      <td>18812.56</td>\n",
       "    </tr>\n",
       "    <tr>\n",
       "      <th>2003-02-28 00:00:00+01:00</th>\n",
       "      <td>7.333684</td>\n",
       "      <td>18.786316</td>\n",
       "      <td>27.985263</td>\n",
       "      <td>837.618947</td>\n",
       "      <td>139.34</td>\n",
       "      <td>356.94</td>\n",
       "      <td>531.72</td>\n",
       "      <td>15914.76</td>\n",
       "    </tr>\n",
       "    <tr>\n",
       "      <th>2003-03-31 00:00:00+02:00</th>\n",
       "      <td>7.299048</td>\n",
       "      <td>19.395238</td>\n",
       "      <td>29.065238</td>\n",
       "      <td>846.621429</td>\n",
       "      <td>153.28</td>\n",
       "      <td>407.30</td>\n",
       "      <td>610.37</td>\n",
       "      <td>17779.05</td>\n",
       "    </tr>\n",
       "    <tr>\n",
       "      <th>2003-04-30 00:00:00+02:00</th>\n",
       "      <td>6.923810</td>\n",
       "      <td>19.871429</td>\n",
       "      <td>29.050476</td>\n",
       "      <td>890.025714</td>\n",
       "      <td>145.40</td>\n",
       "      <td>417.30</td>\n",
       "      <td>610.06</td>\n",
       "      <td>18690.54</td>\n",
       "    </tr>\n",
       "    <tr>\n",
       "      <th>2003-05-31 00:00:00+02:00</th>\n",
       "      <td>8.885238</td>\n",
       "      <td>19.946667</td>\n",
       "      <td>29.728571</td>\n",
       "      <td>935.962857</td>\n",
       "      <td>186.59</td>\n",
       "      <td>418.88</td>\n",
       "      <td>624.30</td>\n",
       "      <td>19655.22</td>\n",
       "    </tr>\n",
       "    <tr>\n",
       "      <th>...</th>\n",
       "      <td>...</td>\n",
       "      <td>...</td>\n",
       "      <td>...</td>\n",
       "      <td>...</td>\n",
       "      <td>...</td>\n",
       "      <td>...</td>\n",
       "      <td>...</td>\n",
       "      <td>...</td>\n",
       "    </tr>\n",
       "    <tr>\n",
       "      <th>2011-06-30 00:00:00+02:00</th>\n",
       "      <td>331.081364</td>\n",
       "      <td>24.299091</td>\n",
       "      <td>79.365909</td>\n",
       "      <td>1287.288636</td>\n",
       "      <td>7283.79</td>\n",
       "      <td>534.58</td>\n",
       "      <td>1746.05</td>\n",
       "      <td>28320.35</td>\n",
       "    </tr>\n",
       "    <tr>\n",
       "      <th>2011-07-31 00:00:00+02:00</th>\n",
       "      <td>372.238000</td>\n",
       "      <td>26.799000</td>\n",
       "      <td>82.196500</td>\n",
       "      <td>1325.184500</td>\n",
       "      <td>7444.76</td>\n",
       "      <td>535.98</td>\n",
       "      <td>1643.93</td>\n",
       "      <td>26503.69</td>\n",
       "    </tr>\n",
       "    <tr>\n",
       "      <th>2011-08-31 00:00:00+02:00</th>\n",
       "      <td>376.762609</td>\n",
       "      <td>25.317826</td>\n",
       "      <td>73.058696</td>\n",
       "      <td>1185.305652</td>\n",
       "      <td>8665.54</td>\n",
       "      <td>582.31</td>\n",
       "      <td>1680.35</td>\n",
       "      <td>27262.03</td>\n",
       "    </tr>\n",
       "    <tr>\n",
       "      <th>2011-09-30 00:00:00+02:00</th>\n",
       "      <td>392.493333</td>\n",
       "      <td>25.969048</td>\n",
       "      <td>72.399524</td>\n",
       "      <td>1173.879048</td>\n",
       "      <td>8242.36</td>\n",
       "      <td>545.35</td>\n",
       "      <td>1520.39</td>\n",
       "      <td>24651.46</td>\n",
       "    </tr>\n",
       "    <tr>\n",
       "      <th>2011-10-31 00:00:00+01:00</th>\n",
       "      <td>389.424000</td>\n",
       "      <td>26.370000</td>\n",
       "      <td>74.957000</td>\n",
       "      <td>1171.356000</td>\n",
       "      <td>3894.24</td>\n",
       "      <td>263.70</td>\n",
       "      <td>749.57</td>\n",
       "      <td>11713.56</td>\n",
       "    </tr>\n",
       "  </tbody>\n",
       "</table>\n",
       "<p>106 rows × 8 columns</p>\n",
       "</div>"
      ],
      "text/plain": [
       "                                 AAPL       MSFT        XOM          SPX  \\\n",
       "2003-01-31 00:00:00+01:00    7.239048  20.742381  28.356190   895.836190   \n",
       "2003-02-28 00:00:00+01:00    7.333684  18.786316  27.985263   837.618947   \n",
       "2003-03-31 00:00:00+02:00    7.299048  19.395238  29.065238   846.621429   \n",
       "2003-04-30 00:00:00+02:00    6.923810  19.871429  29.050476   890.025714   \n",
       "2003-05-31 00:00:00+02:00    8.885238  19.946667  29.728571   935.962857   \n",
       "...                               ...        ...        ...          ...   \n",
       "2011-06-30 00:00:00+02:00  331.081364  24.299091  79.365909  1287.288636   \n",
       "2011-07-31 00:00:00+02:00  372.238000  26.799000  82.196500  1325.184500   \n",
       "2011-08-31 00:00:00+02:00  376.762609  25.317826  73.058696  1185.305652   \n",
       "2011-09-30 00:00:00+02:00  392.493333  25.969048  72.399524  1173.879048   \n",
       "2011-10-31 00:00:00+01:00  389.424000  26.370000  74.957000  1171.356000   \n",
       "\n",
       "                              AAPL    MSFT      XOM       SPX  \n",
       "2003-01-31 00:00:00+01:00   152.02  435.59   595.48  18812.56  \n",
       "2003-02-28 00:00:00+01:00   139.34  356.94   531.72  15914.76  \n",
       "2003-03-31 00:00:00+02:00   153.28  407.30   610.37  17779.05  \n",
       "2003-04-30 00:00:00+02:00   145.40  417.30   610.06  18690.54  \n",
       "2003-05-31 00:00:00+02:00   186.59  418.88   624.30  19655.22  \n",
       "...                            ...     ...      ...       ...  \n",
       "2011-06-30 00:00:00+02:00  7283.79  534.58  1746.05  28320.35  \n",
       "2011-07-31 00:00:00+02:00  7444.76  535.98  1643.93  26503.69  \n",
       "2011-08-31 00:00:00+02:00  8665.54  582.31  1680.35  27262.03  \n",
       "2011-09-30 00:00:00+02:00  8242.36  545.35  1520.39  24651.46  \n",
       "2011-10-31 00:00:00+01:00  3894.24  263.70   749.57  11713.56  \n",
       "\n",
       "[106 rows x 8 columns]"
      ]
     },
     "execution_count": 203,
     "metadata": {},
     "output_type": "execute_result"
    }
   ],
   "source": [
    "final_downsampled = pd.concat([df_mean, df_sum], axis=1)\n",
    "\n",
    "final_downsampled"
   ]
  },
  {
   "cell_type": "code",
   "execution_count": 204,
   "metadata": {},
   "outputs": [
    {
     "data": {
      "text/html": [
       "<div>\n",
       "<style scoped>\n",
       "    .dataframe tbody tr th:only-of-type {\n",
       "        vertical-align: middle;\n",
       "    }\n",
       "\n",
       "    .dataframe tbody tr th {\n",
       "        vertical-align: top;\n",
       "    }\n",
       "\n",
       "    .dataframe thead th {\n",
       "        text-align: right;\n",
       "    }\n",
       "</style>\n",
       "<table border=\"1\" class=\"dataframe\">\n",
       "  <thead>\n",
       "    <tr style=\"text-align: right;\">\n",
       "      <th></th>\n",
       "      <th>AAPL</th>\n",
       "      <th>MSFT</th>\n",
       "      <th>XOM</th>\n",
       "      <th>SPX</th>\n",
       "    </tr>\n",
       "  </thead>\n",
       "  <tbody>\n",
       "    <tr>\n",
       "      <th>2003-01-31 00:00:00+01:00</th>\n",
       "      <td>152.020000</td>\n",
       "      <td>435.590000</td>\n",
       "      <td>595.480000</td>\n",
       "      <td>18812.560000</td>\n",
       "    </tr>\n",
       "    <tr>\n",
       "      <th>2003-01-31 01:00:00+01:00</th>\n",
       "      <td>152.001131</td>\n",
       "      <td>435.472961</td>\n",
       "      <td>595.385119</td>\n",
       "      <td>18808.247798</td>\n",
       "    </tr>\n",
       "    <tr>\n",
       "      <th>2003-01-31 02:00:00+01:00</th>\n",
       "      <td>151.982262</td>\n",
       "      <td>435.355923</td>\n",
       "      <td>595.290238</td>\n",
       "      <td>18803.935595</td>\n",
       "    </tr>\n",
       "    <tr>\n",
       "      <th>2003-01-31 03:00:00+01:00</th>\n",
       "      <td>151.963393</td>\n",
       "      <td>435.238884</td>\n",
       "      <td>595.195357</td>\n",
       "      <td>18799.623393</td>\n",
       "    </tr>\n",
       "    <tr>\n",
       "      <th>2003-01-31 04:00:00+01:00</th>\n",
       "      <td>151.944524</td>\n",
       "      <td>435.121845</td>\n",
       "      <td>595.100476</td>\n",
       "      <td>18795.311190</td>\n",
       "    </tr>\n",
       "  </tbody>\n",
       "</table>\n",
       "</div>"
      ],
      "text/plain": [
       "                                 AAPL        MSFT         XOM           SPX\n",
       "2003-01-31 00:00:00+01:00  152.020000  435.590000  595.480000  18812.560000\n",
       "2003-01-31 01:00:00+01:00  152.001131  435.472961  595.385119  18808.247798\n",
       "2003-01-31 02:00:00+01:00  151.982262  435.355923  595.290238  18803.935595\n",
       "2003-01-31 03:00:00+01:00  151.963393  435.238884  595.195357  18799.623393\n",
       "2003-01-31 04:00:00+01:00  151.944524  435.121845  595.100476  18795.311190"
      ]
     },
     "execution_count": 204,
     "metadata": {},
     "output_type": "execute_result"
    }
   ],
   "source": [
    "upsampled = df_sum.resample('H').interpolate()\n",
    "upsampled.head()"
   ]
  },
  {
   "cell_type": "code",
   "execution_count": 119,
   "metadata": {},
   "outputs": [
    {
     "data": {
      "text/plain": [
       "(433, 3)"
      ]
     },
     "execution_count": 119,
     "metadata": {},
     "output_type": "execute_result"
    }
   ],
   "source": [
    "upsampled.shape"
   ]
  },
  {
   "cell_type": "code",
   "execution_count": 207,
   "metadata": {},
   "outputs": [
    {
     "data": {
      "image/png": "[encoded data removed]",
      "text/plain": [
       "<Figure size 1500x800 with 1 Axes>"
      ]
     },
     "metadata": {},
     "output_type": "display_data"
    }
   ],
   "source": [
    "df_mean.plot(figsize=(15, 8));"
   ]
  },
  {
   "cell_type": "code",
   "execution_count": 211,
   "metadata": {},
   "outputs": [
    {
     "data": {
      "text/plain": [
       "<Axes: >"
      ]
     },
     "execution_count": 211,
     "metadata": {},
     "output_type": "execute_result"
    },
    {
     "data": {
      "image/png": "[encoded data removed]",
      "text/plain": [
       "<Figure size 1500x800 with 1 Axes>"
      ]
     },
     "metadata": {},
     "output_type": "display_data"
    }
   ],
   "source": [
    "df.rolling('100D').mean().plot(figsize=(15, 8))"
   ]
  },
  {
   "cell_type": "code",
   "execution_count": null,
   "metadata": {},
   "outputs": [],
   "source": []
  }
 ],
 "metadata": {
  "interpreter": {
   "hash": "dca0ade3e726a953b501b15e8e990130d2b7799f14cfd9f4271676035ebe5511"
  },
  "kernelspec": {
   "display_name": "Python 3 (ipykernel)",
   "language": "python",
   "name": "python3"
  },
  "language_info": {
   "codemirror_mode": {
    "name": "ipython",
    "version": 3
   },
   "file_extension": ".py",
   "mimetype": "text/x-python",
   "name": "python",
   "nbconvert_exporter": "python",
   "pygments_lexer": "ipython3",
   "version": "3.10.7"
  }
 },
 "nbformat": 4,
 "nbformat_minor": 2
}

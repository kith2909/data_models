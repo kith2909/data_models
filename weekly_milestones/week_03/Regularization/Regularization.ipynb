{
 "cells": [
  {
   "cell_type": "markdown",
   "id": "bbc87ee5",
   "metadata": {},
   "source": [
    "# Regularization\n",
    "<hr style=\"border:2px solid black\">"
   ]
  },
  {
   "cell_type": "markdown",
   "id": "9e4219db",
   "metadata": {},
   "source": [
    "## 1. Introduction"
   ]
  },
  {
   "cell_type": "markdown",
   "id": "c6a412b0",
   "metadata": {},
   "source": [
    "### 1.1 What is regularization?\n",
    "\n",
    "* Regularization is a set of techniques that constrain the complexity of models. They thus reduce the risk of overfitting and improve the ability of a model to generalize. in other words, We can use new models that are almost like Linear Regression but with a different loss function.\n",
    "\n",
    "**GOAL OF USING REGULARIZATION MODELS**: Reduce Overtitting; and make our model more generalizable."
   ]
  },
  {
   "cell_type": "markdown",
   "id": "e048c1b2",
   "metadata": {},
   "source": [
    "### 1.2 When to regularize:\n",
    "* To reduce overfitting - check if you are overfitting via the usual methods:\n",
    "    * cross validation\n",
    "    * train/validation score differing"
   ]
  },
  {
   "cell_type": "markdown",
   "id": "0f9a0198",
   "metadata": {},
   "source": [
    "### 1.3 How to regularize:\n",
    "* Perform the usual ML workflow, \n",
    "* Be sure to normalize your dataset before fitting (`sklearn.preprocessing.StandardScaler`)\n",
    "* Now use a **regularization** model instead of a normal linear regression model"
   ]
  },
  {
   "cell_type": "markdown",
   "id": "1db7fc5e",
   "metadata": {},
   "source": [
    "## 2. The maths "
   ]
  },
  {
   "cell_type": "markdown",
   "id": "9a6f4ea1",
   "metadata": {},
   "source": [
    "### 2.1 LOSS FUNCTION \n",
    "#### Residual Sum of Squares (RSS) is just Mean Squared Error without the Mean!"
   ]
  },
  {
   "cell_type": "markdown",
   "id": "62b66d47",
   "metadata": {},
   "source": [
    "$$\n",
    "MSE = \\frac{1}{N}\\sum_{i=1}^N (y_i - \\hat{y})^2 \n",
    "$$\n",
    "\n",
    "$$\n",
    "RSS = \\sum_{i=1}^N (y_i - \\hat{y})^2 \n",
    "$$\n"
   ]
  },
  {
   "cell_type": "markdown",
   "id": "e8506a25",
   "metadata": {},
   "source": [
    "#### Which we can rewrite by substituting the linear regression equation in for yhat"
   ]
  },
  {
   "cell_type": "markdown",
   "id": "fabad3d5",
   "metadata": {},
   "source": [
    "$ \\hat{y} = w_0 + [w_1x_1 + ... + w_nx_n] $ \n",
    "\n",
    "$ m = slope, w_0 = intercept $"
   ]
  },
  {
   "cell_type": "markdown",
   "id": "4e0cb0d6",
   "metadata": {},
   "source": [
    "$$\n",
    "\\hat{y} = (w_0 + \\sum_{j=1}^M w_j x_j)\n",
    "$$\n",
    "\n",
    "$$\n",
    "RSS = \\sum_{i=1}^N (y_i - (w_0 + \\sum_{j=1}^M w_j x_{j}))^2 \n",
    "$$\n",
    "\n",
    "*`j=1 -> M` - no. of features (cols in the dataframe)*\n",
    "\n",
    "*`i=1 -> N` - no. of data points (rows in the dataframe)*"
   ]
  },
  {
   "cell_type": "markdown",
   "id": "3e05b061",
   "metadata": {},
   "source": [
    "## Regularisation means adding an extra penalty to RSS"
   ]
  },
  {
   "cell_type": "markdown",
   "id": "aeafa186",
   "metadata": {},
   "source": [
    "### 2.2 Ridge regression \n",
    "\n",
    "\n",
    "* Add a penalising term that shrinks the **square of the weights**\n",
    "\n",
    "* Controled by a regularising term `alpha`\n",
    "\n",
    "* `alpha` is a **hyperparameter** that we set when we instantiate the model - if alpha is zero, Ridge becomes vanilla Linear Regression\n",
    "\n",
    "* large loss (big outliers in some feature) in a feature that is useful as predictor (large weight) create MASSIVE Ridge losses \n",
    "\n",
    "* How does Ridge handle this - reduces the coefficient for that X feature to a low number\n",
    "\n",
    "* Ridge is also called `L2` regularization"
   ]
  },
  {
   "cell_type": "markdown",
   "id": "21655599",
   "metadata": {},
   "source": [
    "\n",
    "$$\n",
    "Ridge = \\sum_{i=1}^N (y_i - (w_0 + \\sum_{j=1}^M w_j x_{j}))^2  + \\sum_{j=1}^M \\alpha w_i^2\n",
    "$$"
   ]
  },
  {
   "cell_type": "markdown",
   "id": "91e93be3",
   "metadata": {},
   "source": [
    "### 2.3 Lasso regression \n",
    "\n",
    "* Add a penalising term that shrinks the **absolute value of the weights**\n",
    "\n",
    "* Controled by a regularising term `alpha`\n",
    "\n",
    "* Tends to result in the coefficients for many features becoming zero (in ridge they become close to zero, but tend not to be zero)\n",
    "\n",
    "* Lasso is also called `L1` regularization"
   ]
  },
  {
   "cell_type": "markdown",
   "id": "1bcdd07b",
   "metadata": {},
   "source": [
    "$$\n",
    "Lasso = RSS + \\sum_{i=1}^M \\alpha \\vert w_i \\vert\n",
    "$$"
   ]
  },
  {
   "cell_type": "markdown",
   "id": "326554a0",
   "metadata": {},
   "source": [
    "### 2.4 Mix Lasso and Ridge with `ElasticNet`\n",
    "* Combine L1 (Lasso) and Ridge (L2) by setting the `l1_ratio` \n",
    "* l1_ratio = lasso / lasso + ridge"
   ]
  },
  {
   "cell_type": "markdown",
   "id": "ea1effb0",
   "metadata": {},
   "source": [
    "### Additional Reading\n",
    "\n",
    "[StatQuest on Lasso](https://www.youtube.com/watch?v=NGf0voTMlcs)  \n",
    "[StatQuest on Ridge](https://www.youtube.com/watch?v=Q81RR3yKn30)  \n",
    "[StatQuest on ElasticNet](https://www.youtube.com/watch?v=1dKRdX9bfIo)  "
   ]
  },
  {
   "cell_type": "markdown",
   "id": "61170fb6",
   "metadata": {},
   "source": [
    "<hr style=\"border:2px solid black\">"
   ]
  },
  {
   "cell_type": "markdown",
   "id": "6fa09ed0",
   "metadata": {},
   "source": [
    "## 2. Lets implement!"
   ]
  },
  {
   "cell_type": "code",
   "execution_count": 1,
   "id": "77539fa9",
   "metadata": {},
   "outputs": [],
   "source": [
    "# data analysis and visualization stack\n",
    "import numpy as np\n",
    "import matplotlib.pyplot as plt\n",
    "\n",
    "# machine learning stack\n",
    "from sklearn.linear_model import LinearRegression"
   ]
  },
  {
   "cell_type": "markdown",
   "id": "691c36b6",
   "metadata": {},
   "source": [
    "Create data following $\\sqrt{x}$ "
   ]
  },
  {
   "cell_type": "code",
   "execution_count": 2,
   "id": "d8679e51",
   "metadata": {},
   "outputs": [],
   "source": [
    "# specify a random state\n",
    "np.random.seed(13)"
   ]
  },
  {
   "cell_type": "code",
   "execution_count": 3,
   "id": "e540685c",
   "metadata": {},
   "outputs": [],
   "source": [
    "# create a data set fluctuating around squre root of x\n",
    "X=np.arange(1,60, 5) # from 1 to 60 in steps of 6\n",
    "y=[np.sqrt(xi)+np.random.normal(0, 0.5) for xi in X]"
   ]
  },
  {
   "cell_type": "code",
   "execution_count": 4,
   "id": "e068b48a",
   "metadata": {},
   "outputs": [
    {
     "data": {
      "text/plain": [
       "array([ 1,  6, 11, 16, 21, 26, 31, 36, 41, 46, 51, 56])"
      ]
     },
     "execution_count": 4,
     "metadata": {},
     "output_type": "execute_result"
    }
   ],
   "source": [
    "X"
   ]
  },
  {
   "cell_type": "code",
   "execution_count": 5,
   "id": "6aeea3ec",
   "metadata": {},
   "outputs": [
    {
     "data": {
      "text/plain": [
       "[0.643804668974706,\n",
       " 2.8263729321130295,\n",
       " 3.2943732511863733,\n",
       " 4.2259061693728945,\n",
       " 5.255126549181345,\n",
       " 5.365188457740057,\n",
       " 6.242858312691284,\n",
       " 6.43060568708466,\n",
       " 7.1424671061507965,\n",
       " 6.259641417856001,\n",
       " 6.746933916067076,\n",
       " 6.852511800888348]"
      ]
     },
     "execution_count": 5,
     "metadata": {},
     "output_type": "execute_result"
    }
   ],
   "source": [
    "y"
   ]
  },
  {
   "cell_type": "code",
   "execution_count": 6,
   "id": "8f21bcd4",
   "metadata": {},
   "outputs": [
    {
     "data": {
      "text/plain": [
       "<matplotlib.collections.PathCollection at 0x7f7a44219ff0>"
      ]
     },
     "execution_count": 6,
     "metadata": {},
     "output_type": "execute_result"
    },
    {
     "data": {
      "image/png": "[encoded data removed]",
      "text/plain": [
       "<Figure size 640x480 with 1 Axes>"
      ]
     },
     "metadata": {},
     "output_type": "display_data"
    }
   ],
   "source": [
    "plt.scatter(X,y)"
   ]
  },
  {
   "cell_type": "code",
   "execution_count": 7,
   "id": "0920d67c",
   "metadata": {},
   "outputs": [
    {
     "data": {
      "text/plain": [
       "array([ 1,  6, 11, 16, 21, 26, 31, 36, 41, 46, 51, 56])"
      ]
     },
     "execution_count": 7,
     "metadata": {},
     "output_type": "execute_result"
    }
   ],
   "source": [
    "X"
   ]
  },
  {
   "cell_type": "code",
   "execution_count": 8,
   "id": "72fc6962",
   "metadata": {},
   "outputs": [
    {
     "data": {
      "text/plain": [
       "(12,)"
      ]
     },
     "execution_count": 8,
     "metadata": {},
     "output_type": "execute_result"
    }
   ],
   "source": [
    "X.shape"
   ]
  },
  {
   "cell_type": "code",
   "execution_count": 9,
   "id": "59dace04",
   "metadata": {},
   "outputs": [
    {
     "data": {
      "text/plain": [
       "(12, 1)"
      ]
     },
     "execution_count": 9,
     "metadata": {},
     "output_type": "execute_result"
    }
   ],
   "source": [
    "# reshape the X to a 2D array for later use in sklearn mdels\n",
    "X=X.reshape(-1,1)\n",
    "X.shape"
   ]
  },
  {
   "cell_type": "code",
   "execution_count": 10,
   "id": "0a9a5e5f",
   "metadata": {},
   "outputs": [
    {
     "data": {
      "text/plain": [
       "array([[ 1],\n",
       "       [ 6],\n",
       "       [11],\n",
       "       [16],\n",
       "       [21],\n",
       "       [26],\n",
       "       [31],\n",
       "       [36],\n",
       "       [41],\n",
       "       [46],\n",
       "       [51],\n",
       "       [56]])"
      ]
     },
     "execution_count": 10,
     "metadata": {},
     "output_type": "execute_result"
    }
   ],
   "source": [
    "X"
   ]
  },
  {
   "cell_type": "markdown",
   "id": "30da8b1c",
   "metadata": {},
   "source": [
    "### Underfitting (high bias)"
   ]
  },
  {
   "cell_type": "code",
   "execution_count": 11,
   "id": "04a8adca",
   "metadata": {},
   "outputs": [
    {
     "data": {
      "text/html": [
       "<style>#sk-container-id-1 {color: black;background-color: white;}#sk-container-id-1 pre{padding: 0;}#sk-container-id-1 div.sk-toggleable {background-color: white;}#sk-container-id-1 label.sk-toggleable__label {cursor: pointer;display: block;width: 100%;margin-bottom: 0;padding: 0.3em;box-sizing: border-box;text-align: center;}#sk-container-id-1 label.sk-toggleable__label-arrow:before {content: \"▸\";float: left;margin-right: 0.25em;color: #696969;}#sk-container-id-1 label.sk-toggleable__label-arrow:hover:before {color: black;}#sk-container-id-1 div.sk-estimator:hover label.sk-toggleable__label-arrow:before {color: black;}#sk-container-id-1 div.sk-toggleable__content {max-height: 0;max-width: 0;overflow: hidden;text-align: left;background-color: #f0f8ff;}#sk-container-id-1 div.sk-toggleable__content pre {margin: 0.2em;color: black;border-radius: 0.25em;background-color: #f0f8ff;}#sk-container-id-1 input.sk-toggleable__control:checked~div.sk-toggleable__content {max-height: 200px;max-width: 100%;overflow: auto;}#sk-container-id-1 input.sk-toggleable__control:checked~label.sk-toggleable__label-arrow:before {content: \"▾\";}#sk-container-id-1 div.sk-estimator input.sk-toggleable__control:checked~label.sk-toggleable__label {background-color: #d4ebff;}#sk-container-id-1 div.sk-label input.sk-toggleable__control:checked~label.sk-toggleable__label {background-color: #d4ebff;}#sk-container-id-1 input.sk-hidden--visually {border: 0;clip: rect(1px 1px 1px 1px);clip: rect(1px, 1px, 1px, 1px);height: 1px;margin: -1px;overflow: hidden;padding: 0;position: absolute;width: 1px;}#sk-container-id-1 div.sk-estimator {font-family: monospace;background-color: #f0f8ff;border: 1px dotted black;border-radius: 0.25em;box-sizing: border-box;margin-bottom: 0.5em;}#sk-container-id-1 div.sk-estimator:hover {background-color: #d4ebff;}#sk-container-id-1 div.sk-parallel-item::after {content: \"\";width: 100%;border-bottom: 1px solid gray;flex-grow: 1;}#sk-container-id-1 div.sk-label:hover label.sk-toggleable__label {background-color: #d4ebff;}#sk-container-id-1 div.sk-serial::before {content: \"\";position: absolute;border-left: 1px solid gray;box-sizing: border-box;top: 0;bottom: 0;left: 50%;z-index: 0;}#sk-container-id-1 div.sk-serial {display: flex;flex-direction: column;align-items: center;background-color: white;padding-right: 0.2em;padding-left: 0.2em;position: relative;}#sk-container-id-1 div.sk-item {position: relative;z-index: 1;}#sk-container-id-1 div.sk-parallel {display: flex;align-items: stretch;justify-content: center;background-color: white;position: relative;}#sk-container-id-1 div.sk-item::before, #sk-container-id-1 div.sk-parallel-item::before {content: \"\";position: absolute;border-left: 1px solid gray;box-sizing: border-box;top: 0;bottom: 0;left: 50%;z-index: -1;}#sk-container-id-1 div.sk-parallel-item {display: flex;flex-direction: column;z-index: 1;position: relative;background-color: white;}#sk-container-id-1 div.sk-parallel-item:first-child::after {align-self: flex-end;width: 50%;}#sk-container-id-1 div.sk-parallel-item:last-child::after {align-self: flex-start;width: 50%;}#sk-container-id-1 div.sk-parallel-item:only-child::after {width: 0;}#sk-container-id-1 div.sk-dashed-wrapped {border: 1px dashed gray;margin: 0 0.4em 0.5em 0.4em;box-sizing: border-box;padding-bottom: 0.4em;background-color: white;}#sk-container-id-1 div.sk-label label {font-family: monospace;font-weight: bold;display: inline-block;line-height: 1.2em;}#sk-container-id-1 div.sk-label-container {text-align: center;}#sk-container-id-1 div.sk-container {/* jupyter's `normalize.less` sets `[hidden] { display: none; }` but bootstrap.min.css set `[hidden] { display: none !important; }` so we also need the `!important` here to be able to override the default hidden behavior on the sphinx rendered scikit-learn.org. See: https://github.com/scikit-learn/scikit-learn/issues/21755 */display: inline-block !important;position: relative;}#sk-container-id-1 div.sk-text-repr-fallback {display: none;}</style><div id=\"sk-container-id-1\" class=\"sk-top-container\"><div class=\"sk-text-repr-fallback\"><pre>LinearRegression()</pre><b>In a Jupyter environment, please rerun this cell to show the HTML representation or trust the notebook. <br />On GitHub, the HTML representation is unable to render, please try loading this page with nbviewer.org.</b></div><div class=\"sk-container\" hidden><div class=\"sk-item\"><div class=\"sk-estimator sk-toggleable\"><input class=\"sk-toggleable__control sk-hidden--visually\" id=\"sk-estimator-id-1\" type=\"checkbox\" checked><label for=\"sk-estimator-id-1\" class=\"sk-toggleable__label sk-toggleable__label-arrow\">LinearRegression</label><div class=\"sk-toggleable__content\"><pre>LinearRegression()</pre></div></div></div></div></div>"
      ],
      "text/plain": [
       "LinearRegression()"
      ]
     },
     "execution_count": 11,
     "metadata": {},
     "output_type": "execute_result"
    }
   ],
   "source": [
    "# fit linear regression on the data\n",
    "model=LinearRegression()\n",
    "model.fit(X,y)"
   ]
  },
  {
   "cell_type": "code",
   "execution_count": 12,
   "id": "0b52796a",
   "metadata": {},
   "outputs": [],
   "source": [
    "# predict y by lr model\n",
    "y_pred=model.predict(X)"
   ]
  },
  {
   "cell_type": "code",
   "execution_count": 13,
   "id": "0af230ff",
   "metadata": {},
   "outputs": [
    {
     "data": {
      "text/plain": [
       "[<matplotlib.lines.Line2D at 0x7f7a4211b850>]"
      ]
     },
     "execution_count": 13,
     "metadata": {},
     "output_type": "execute_result"
    },
    {
     "data": {
      "image/png": "[encoded data removed]",
      "text/plain": [
       "<Figure size 640x480 with 1 Axes>"
      ]
     },
     "metadata": {},
     "output_type": "display_data"
    }
   ],
   "source": [
    "# plot both linear regression line and the original data\n",
    "plt.scatter(X,y)\n",
    "plt.plot(X, y_pred)"
   ]
  },
  {
   "cell_type": "markdown",
   "id": "eea6eecb",
   "metadata": {},
   "source": [
    "### Underfitting:\n",
    "\n",
    "To see if you got an underfitting model, compare the scores:       \n",
    "`model.score(X_train, y_train)`    \n",
    "`model.score(X_test, y_test)`\n",
    "     \n",
    "If both scores are weak, you have probably an underfit situation\n",
    "     \n",
    "How could it happen?\n",
    " * Small data sets \n",
    " * Weak feature engineering\n",
    "     * Too little features\n",
    "     * Features uninformative"
   ]
  },
  {
   "cell_type": "markdown",
   "id": "58c08528",
   "metadata": {},
   "source": [
    "### Overfit"
   ]
  },
  {
   "cell_type": "code",
   "execution_count": 14,
   "id": "75550b86",
   "metadata": {},
   "outputs": [],
   "source": [
    "# additional pakages from sklearn for adding more terms to the equation\n",
    "from sklearn.preprocessing import PolynomialFeatures"
   ]
  },
  {
   "cell_type": "code",
   "execution_count": 15,
   "id": "42b6e7f9",
   "metadata": {},
   "outputs": [],
   "source": [
    "# convert the feature matrix to a polynomial form with the degree of 10\n",
    "poly=PolynomialFeatures(degree=10, include_bias=False)\n",
    "X_poly=poly.fit_transform(X)"
   ]
  },
  {
   "cell_type": "code",
   "execution_count": 16,
   "id": "0e192547",
   "metadata": {},
   "outputs": [
    {
     "data": {
      "text/plain": [
       "(12, 10)"
      ]
     },
     "execution_count": 16,
     "metadata": {},
     "output_type": "execute_result"
    }
   ],
   "source": [
    "X_poly.shape"
   ]
  },
  {
   "cell_type": "code",
   "execution_count": 17,
   "id": "e49aec94",
   "metadata": {},
   "outputs": [
    {
     "data": {
      "text/plain": [
       "array([[1.00000000e+00, 1.00000000e+00, 1.00000000e+00, 1.00000000e+00,\n",
       "        1.00000000e+00, 1.00000000e+00, 1.00000000e+00, 1.00000000e+00,\n",
       "        1.00000000e+00, 1.00000000e+00],\n",
       "       [6.00000000e+00, 3.60000000e+01, 2.16000000e+02, 1.29600000e+03,\n",
       "        7.77600000e+03, 4.66560000e+04, 2.79936000e+05, 1.67961600e+06,\n",
       "        1.00776960e+07, 6.04661760e+07],\n",
       "       [1.10000000e+01, 1.21000000e+02, 1.33100000e+03, 1.46410000e+04,\n",
       "        1.61051000e+05, 1.77156100e+06, 1.94871710e+07, 2.14358881e+08,\n",
       "        2.35794769e+09, 2.59374246e+10],\n",
       "       [1.60000000e+01, 2.56000000e+02, 4.09600000e+03, 6.55360000e+04,\n",
       "        1.04857600e+06, 1.67772160e+07, 2.68435456e+08, 4.29496730e+09,\n",
       "        6.87194767e+10, 1.09951163e+12],\n",
       "       [2.10000000e+01, 4.41000000e+02, 9.26100000e+03, 1.94481000e+05,\n",
       "        4.08410100e+06, 8.57661210e+07, 1.80108854e+09, 3.78228594e+10,\n",
       "        7.94280047e+11, 1.66798810e+13],\n",
       "       [2.60000000e+01, 6.76000000e+02, 1.75760000e+04, 4.56976000e+05,\n",
       "        1.18813760e+07, 3.08915776e+08, 8.03181018e+09, 2.08827065e+11,\n",
       "        5.42950368e+12, 1.41167096e+14],\n",
       "       [3.10000000e+01, 9.61000000e+02, 2.97910000e+04, 9.23521000e+05,\n",
       "        2.86291510e+07, 8.87503681e+08, 2.75126141e+10, 8.52891037e+11,\n",
       "        2.64396222e+13, 8.19628287e+14],\n",
       "       [3.60000000e+01, 1.29600000e+03, 4.66560000e+04, 1.67961600e+06,\n",
       "        6.04661760e+07, 2.17678234e+09, 7.83641641e+10, 2.82110991e+12,\n",
       "        1.01559957e+14, 3.65615844e+15],\n",
       "       [4.10000000e+01, 1.68100000e+03, 6.89210000e+04, 2.82576100e+06,\n",
       "        1.15856201e+08, 4.75010424e+09, 1.94754274e+11, 7.98492523e+12,\n",
       "        3.27381934e+14, 1.34226593e+16],\n",
       "       [4.60000000e+01, 2.11600000e+03, 9.73360000e+04, 4.47745600e+06,\n",
       "        2.05962976e+08, 9.47429690e+09, 4.35817657e+11, 2.00476122e+13,\n",
       "        9.22190163e+14, 4.24207475e+16],\n",
       "       [5.10000000e+01, 2.60100000e+03, 1.32651000e+05, 6.76520100e+06,\n",
       "        3.45025251e+08, 1.75962878e+10, 8.97410678e+11, 4.57679446e+13,\n",
       "        2.33416517e+15, 1.19042424e+17],\n",
       "       [5.60000000e+01, 3.13600000e+03, 1.75616000e+05, 9.83449600e+06,\n",
       "        5.50731776e+08, 3.08409795e+10, 1.72709485e+12, 9.67173116e+13,\n",
       "        5.41616945e+15, 3.03305489e+17]])"
      ]
     },
     "execution_count": 17,
     "metadata": {},
     "output_type": "execute_result"
    }
   ],
   "source": [
    "X_poly"
   ]
  },
  {
   "cell_type": "code",
   "execution_count": 18,
   "id": "59f5b601",
   "metadata": {},
   "outputs": [],
   "source": [
    "# fit the linear regression model on X_poly\n",
    "model=LinearRegression()\n",
    "model.fit(X_poly,y)\n",
    "y_pred_poly=model.predict(X_poly)"
   ]
  },
  {
   "cell_type": "code",
   "execution_count": 19,
   "id": "6bffc3e4",
   "metadata": {},
   "outputs": [
    {
     "data": {
      "text/plain": [
       "[<matplotlib.lines.Line2D at 0x7f7a3ffbe830>]"
      ]
     },
     "execution_count": 19,
     "metadata": {},
     "output_type": "execute_result"
    },
    {
     "data": {
      "image/png": "[encoded data removed]",
      "text/plain": [
       "<Figure size 640x480 with 1 Axes>"
      ]
     },
     "metadata": {},
     "output_type": "display_data"
    }
   ],
   "source": [
    "# plot the fitted line and original data\n",
    "plt.scatter(X,y)\n",
    "plt.plot(X,y_pred_poly)"
   ]
  },
  {
   "cell_type": "markdown",
   "id": "700563a8",
   "metadata": {},
   "source": [
    "### Overfitting: \n",
    "To see if you got an overfitting model, compare the scores:     \n",
    " `model.score(X_train, y_train)`    \n",
    " `model.score(X_test, y_test)`\n",
    "     \n",
    "If the train score is exceptionally good and the test score is weak, you probably have an overfit situation"
   ]
  },
  {
   "cell_type": "code",
   "execution_count": 20,
   "id": "787a49fc",
   "metadata": {},
   "outputs": [],
   "source": [
    "# importing new packages for lasso, ridge and elasticnet\n",
    "from sklearn.linear_model import Lasso\n",
    "from sklearn.linear_model import Ridge\n",
    "from sklearn.linear_model import ElasticNet"
   ]
  },
  {
   "cell_type": "code",
   "execution_count": 21,
   "id": "d82f975e",
   "metadata": {},
   "outputs": [],
   "source": [
    "# naming new models\n",
    "lasso=Lasso()\n",
    "ridge=Ridge()\n",
    "elast=ElasticNet()"
   ]
  },
  {
   "cell_type": "code",
   "execution_count": 22,
   "id": "b3a50c0c",
   "metadata": {},
   "outputs": [
    {
     "name": "stderr",
     "output_type": "stream",
     "text": [
      "/home/kith/.local/lib/python3.10/site-packages/sklearn/linear_model/_coordinate_descent.py:631: ConvergenceWarning: Objective did not converge. You might want to increase the number of iterations, check the scale of the features or consider increasing regularisation. Duality gap: 1.661e+00, tolerance: 4.352e-03\n",
      "  model = cd_fast.enet_coordinate_descent(\n",
      "/home/kith/.local/lib/python3.10/site-packages/sklearn/linear_model/_ridge.py:216: LinAlgWarning: Ill-conditioned matrix (rcond=9.09233e-36): result may not be accurate.\n",
      "  return linalg.solve(A, Xy, assume_a=\"pos\", overwrite_a=True).T\n",
      "/home/kith/.local/lib/python3.10/site-packages/sklearn/linear_model/_coordinate_descent.py:631: ConvergenceWarning: Objective did not converge. You might want to increase the number of iterations, check the scale of the features or consider increasing regularisation. Duality gap: 1.673e+00, tolerance: 4.352e-03\n",
      "  model = cd_fast.enet_coordinate_descent(\n"
     ]
    },
    {
     "data": {
      "text/html": [
       "<style>#sk-container-id-2 {color: black;background-color: white;}#sk-container-id-2 pre{padding: 0;}#sk-container-id-2 div.sk-toggleable {background-color: white;}#sk-container-id-2 label.sk-toggleable__label {cursor: pointer;display: block;width: 100%;margin-bottom: 0;padding: 0.3em;box-sizing: border-box;text-align: center;}#sk-container-id-2 label.sk-toggleable__label-arrow:before {content: \"▸\";float: left;margin-right: 0.25em;color: #696969;}#sk-container-id-2 label.sk-toggleable__label-arrow:hover:before {color: black;}#sk-container-id-2 div.sk-estimator:hover label.sk-toggleable__label-arrow:before {color: black;}#sk-container-id-2 div.sk-toggleable__content {max-height: 0;max-width: 0;overflow: hidden;text-align: left;background-color: #f0f8ff;}#sk-container-id-2 div.sk-toggleable__content pre {margin: 0.2em;color: black;border-radius: 0.25em;background-color: #f0f8ff;}#sk-container-id-2 input.sk-toggleable__control:checked~div.sk-toggleable__content {max-height: 200px;max-width: 100%;overflow: auto;}#sk-container-id-2 input.sk-toggleable__control:checked~label.sk-toggleable__label-arrow:before {content: \"▾\";}#sk-container-id-2 div.sk-estimator input.sk-toggleable__control:checked~label.sk-toggleable__label {background-color: #d4ebff;}#sk-container-id-2 div.sk-label input.sk-toggleable__control:checked~label.sk-toggleable__label {background-color: #d4ebff;}#sk-container-id-2 input.sk-hidden--visually {border: 0;clip: rect(1px 1px 1px 1px);clip: rect(1px, 1px, 1px, 1px);height: 1px;margin: -1px;overflow: hidden;padding: 0;position: absolute;width: 1px;}#sk-container-id-2 div.sk-estimator {font-family: monospace;background-color: #f0f8ff;border: 1px dotted black;border-radius: 0.25em;box-sizing: border-box;margin-bottom: 0.5em;}#sk-container-id-2 div.sk-estimator:hover {background-color: #d4ebff;}#sk-container-id-2 div.sk-parallel-item::after {content: \"\";width: 100%;border-bottom: 1px solid gray;flex-grow: 1;}#sk-container-id-2 div.sk-label:hover label.sk-toggleable__label {background-color: #d4ebff;}#sk-container-id-2 div.sk-serial::before {content: \"\";position: absolute;border-left: 1px solid gray;box-sizing: border-box;top: 0;bottom: 0;left: 50%;z-index: 0;}#sk-container-id-2 div.sk-serial {display: flex;flex-direction: column;align-items: center;background-color: white;padding-right: 0.2em;padding-left: 0.2em;position: relative;}#sk-container-id-2 div.sk-item {position: relative;z-index: 1;}#sk-container-id-2 div.sk-parallel {display: flex;align-items: stretch;justify-content: center;background-color: white;position: relative;}#sk-container-id-2 div.sk-item::before, #sk-container-id-2 div.sk-parallel-item::before {content: \"\";position: absolute;border-left: 1px solid gray;box-sizing: border-box;top: 0;bottom: 0;left: 50%;z-index: -1;}#sk-container-id-2 div.sk-parallel-item {display: flex;flex-direction: column;z-index: 1;position: relative;background-color: white;}#sk-container-id-2 div.sk-parallel-item:first-child::after {align-self: flex-end;width: 50%;}#sk-container-id-2 div.sk-parallel-item:last-child::after {align-self: flex-start;width: 50%;}#sk-container-id-2 div.sk-parallel-item:only-child::after {width: 0;}#sk-container-id-2 div.sk-dashed-wrapped {border: 1px dashed gray;margin: 0 0.4em 0.5em 0.4em;box-sizing: border-box;padding-bottom: 0.4em;background-color: white;}#sk-container-id-2 div.sk-label label {font-family: monospace;font-weight: bold;display: inline-block;line-height: 1.2em;}#sk-container-id-2 div.sk-label-container {text-align: center;}#sk-container-id-2 div.sk-container {/* jupyter's `normalize.less` sets `[hidden] { display: none; }` but bootstrap.min.css set `[hidden] { display: none !important; }` so we also need the `!important` here to be able to override the default hidden behavior on the sphinx rendered scikit-learn.org. See: https://github.com/scikit-learn/scikit-learn/issues/21755 */display: inline-block !important;position: relative;}#sk-container-id-2 div.sk-text-repr-fallback {display: none;}</style><div id=\"sk-container-id-2\" class=\"sk-top-container\"><div class=\"sk-text-repr-fallback\"><pre>ElasticNet()</pre><b>In a Jupyter environment, please rerun this cell to show the HTML representation or trust the notebook. <br />On GitHub, the HTML representation is unable to render, please try loading this page with nbviewer.org.</b></div><div class=\"sk-container\" hidden><div class=\"sk-item\"><div class=\"sk-estimator sk-toggleable\"><input class=\"sk-toggleable__control sk-hidden--visually\" id=\"sk-estimator-id-2\" type=\"checkbox\" checked><label for=\"sk-estimator-id-2\" class=\"sk-toggleable__label sk-toggleable__label-arrow\">ElasticNet</label><div class=\"sk-toggleable__content\"><pre>ElasticNet()</pre></div></div></div></div></div>"
      ],
      "text/plain": [
       "ElasticNet()"
      ]
     },
     "execution_count": 22,
     "metadata": {},
     "output_type": "execute_result"
    }
   ],
   "source": [
    "# fitting new models on X_poly\n",
    "lasso.fit(X_poly, y)\n",
    "ridge.fit(X_poly, y)\n",
    "elast.fit(X_poly, y)"
   ]
  },
  {
   "cell_type": "markdown",
   "id": "0202948f",
   "metadata": {},
   "source": [
    "If the model does not converge, the gradient did not reduce under the set tolerance during the set maximal iteration steps. This can happen easily with regularization, still you can try the following:     \n",
    "* increase `max_iter` (maybe some more steps help)\n",
    "* increase `tol` (being more generous could help)   \n",
    "\n",
    "Both measures should be taken carefully since it could increase the optimization time or make the results worst"
   ]
  },
  {
   "cell_type": "code",
   "execution_count": 23,
   "id": "9577aca9",
   "metadata": {},
   "outputs": [],
   "source": [
    "# calculate y_pred by new models\n",
    "y_lasso=lasso.predict(X_poly)\n",
    "y_ridge=ridge.predict(X_poly)\n",
    "y_elast=elast.predict(X_poly)"
   ]
  },
  {
   "cell_type": "code",
   "execution_count": 33,
   "id": "8feb184d",
   "metadata": {},
   "outputs": [
    {
     "data": {
      "text/plain": [
       "<matplotlib.legend.Legend at 0x7f7a3fd37a60>"
      ]
     },
     "execution_count": 33,
     "metadata": {},
     "output_type": "execute_result"
    },
    {
     "data": {
      "image/png": "[encoded data removed]",
      "text/plain": [
       "<Figure size 640x480 with 1 Axes>"
      ]
     },
     "metadata": {},
     "output_type": "display_data"
    }
   ],
   "source": [
    "# plot all the models and comparing them\n",
    "plt.scatter(X,y, label='actual')\n",
    "plt.plot(X, y_pred_poly, label='poly')\n",
    "plt.plot(X, y_pred, label='Linearregression')\n",
    "plt.plot(X, y_lasso, label='lasso')\n",
    "plt.plot(X, y_ridge, label='ridge')\n",
    "plt.plot(X, y_elast, label='elast')\n",
    "plt.legend()"
   ]
  },
  {
   "cell_type": "code",
   "execution_count": 25,
   "id": "67916d24",
   "metadata": {},
   "outputs": [
    {
     "data": {
      "text/plain": [
       "array([ 0.00000000e+00,  1.00137732e-02, -1.65362515e-04, -5.55518071e-07,\n",
       "        1.72286622e-09,  6.96619016e-11,  1.14617517e-12,  1.54357341e-14,\n",
       "        1.80163388e-16,  1.64757212e-18])"
      ]
     },
     "execution_count": 25,
     "metadata": {},
     "output_type": "execute_result"
    }
   ],
   "source": [
    "lasso.coef_"
   ]
  },
  {
   "cell_type": "code",
   "execution_count": 26,
   "id": "91e96f9e",
   "metadata": {},
   "outputs": [
    {
     "data": {
      "text/plain": [
       "array([ 9.21409809e-02,  2.11212335e-01, -4.85566101e-02,  4.93775305e-03,\n",
       "       -2.72117708e-04,  8.63400444e-06, -1.56311664e-07,  1.46436852e-09,\n",
       "       -4.80665018e-12, -9.04190047e-15])"
      ]
     },
     "execution_count": 26,
     "metadata": {},
     "output_type": "execute_result"
    }
   ],
   "source": [
    "ridge.coef_"
   ]
  },
  {
   "cell_type": "markdown",
   "id": "e41a4b2b",
   "metadata": {},
   "source": [
    "### Additional Reading\n",
    "[Regularization in Machine Learning](https://towardsdatascience.com/regularization-in-machine-learning-76441ddcf99a)"
   ]
  },
  {
   "cell_type": "markdown",
   "id": "03be9af0",
   "metadata": {},
   "source": [
    "<hr style=\"border:2px solid black\">"
   ]
  },
  {
   "cell_type": "markdown",
   "id": "7409d5a1",
   "metadata": {},
   "source": [
    "## 3. Your Task"
   ]
  },
  {
   "cell_type": "code",
   "execution_count": 40,
   "id": "7fb16018",
   "metadata": {},
   "outputs": [
    {
     "name": "stdout",
     "output_type": "stream",
     "text": [
      "lasso + i= 0.1 :   [ 2.45210747e-01 -1.92797995e-03 -9.51903026e-06 -6.50226890e-08\n",
      " -1.71101817e-09 -2.08510375e-11 -4.71739961e-14  4.63849372e-15\n",
      "  1.51845047e-16  3.35747301e-18]\n",
      "lasso + i= 1 :   [ 0.00000000e+00  1.00137732e-02 -1.65362515e-04 -5.55518071e-07\n",
      "  1.72286622e-09  6.96619016e-11  1.14617517e-12  1.54357341e-14\n",
      "  1.80163388e-16  1.64757212e-18]\n",
      "lasso + i= 10 :   [ 0.00000000e+00  8.85998538e-03 -1.13117060e-04 -1.16050890e-06\n",
      "  1.06813308e-10  8.23745236e-11  1.45843983e-12  1.89416858e-14\n",
      "  1.93821038e-16  1.11913698e-18]\n",
      "lasso + i= 100 :   [ 0.00000000e+00  0.00000000e+00  2.77863689e-04 -4.46804044e-06\n",
      " -2.70002384e-08 -4.54845629e-11  1.94473558e-12  4.71104273e-14\n",
      "  7.93341698e-16  1.15182131e-17]\n",
      "lasso + i= 1000 :   [ 0.00000000e+00  0.00000000e+00  1.93234342e-04 -1.26042410e-06\n",
      " -4.88792098e-08 -2.15869935e-10  8.29594352e-13  4.63878540e-14\n",
      "  9.67456925e-16  1.63446080e-17]\n",
      "ridge + i= 0.1 :   [ 1.86088259e-01  2.09095710e-01 -5.33146466e-02  5.81749974e-03\n",
      " -3.44524208e-04  1.19695890e-05 -2.47874876e-07  2.95289941e-09\n",
      " -1.80437964e-11  4.05956970e-14]\n",
      "ridge + i= 1 :   [ 9.21409809e-02  2.11212335e-01 -4.85566101e-02  4.93775305e-03\n",
      " -2.72117708e-04  8.63400444e-06 -1.56311664e-07  1.46436852e-09\n",
      " -4.80665018e-12 -9.04190047e-15]\n",
      "ridge + i= 10 :   [ 3.90544971e-02  1.00772193e-01 -9.45046169e-03 -4.70765649e-04\n",
      "  1.25910186e-04 -8.65006107e-06  3.01223628e-07 -5.79419956e-09\n",
      "  5.86245914e-11 -2.43820530e-13]\n",
      "ridge + i= 100 :   [ 7.08715700e-03  2.18108628e-02  1.72737691e-02 -4.07198353e-03\n",
      "  3.86103127e-04 -1.97921401e-05  5.92945811e-07 -1.03813083e-08\n",
      "  9.84187518e-11 -3.90216439e-13]\n",
      "ridge + i= 1000 :   [ 1.58146435e-03  6.94773666e-03  1.56290928e-02 -3.21880076e-03\n",
      "  2.89667577e-04 -1.44846523e-05  4.29024935e-07 -7.48058525e-09\n",
      "  7.09140616e-11 -2.81765537e-13]\n"
     ]
    },
    {
     "name": "stderr",
     "output_type": "stream",
     "text": [
      "/home/kith/.local/lib/python3.10/site-packages/sklearn/linear_model/_coordinate_descent.py:631: ConvergenceWarning: Objective did not converge. You might want to increase the number of iterations, check the scale of the features or consider increasing regularisation. Duality gap: 8.492e-01, tolerance: 4.352e-03\n",
      "  model = cd_fast.enet_coordinate_descent(\n",
      "/home/kith/.local/lib/python3.10/site-packages/sklearn/linear_model/_coordinate_descent.py:631: ConvergenceWarning: Objective did not converge. You might want to increase the number of iterations, check the scale of the features or consider increasing regularisation. Duality gap: 1.661e+00, tolerance: 4.352e-03\n",
      "  model = cd_fast.enet_coordinate_descent(\n",
      "/home/kith/.local/lib/python3.10/site-packages/sklearn/linear_model/_coordinate_descent.py:631: ConvergenceWarning: Objective did not converge. You might want to increase the number of iterations, check the scale of the features or consider increasing regularisation. Duality gap: 2.729e+00, tolerance: 4.352e-03\n",
      "  model = cd_fast.enet_coordinate_descent(\n",
      "/home/kith/.local/lib/python3.10/site-packages/sklearn/linear_model/_coordinate_descent.py:631: ConvergenceWarning: Objective did not converge. You might want to increase the number of iterations, check the scale of the features or consider increasing regularisation. Duality gap: 3.520e+00, tolerance: 4.352e-03\n",
      "  model = cd_fast.enet_coordinate_descent(\n",
      "/home/kith/.local/lib/python3.10/site-packages/sklearn/linear_model/_coordinate_descent.py:631: ConvergenceWarning: Objective did not converge. You might want to increase the number of iterations, check the scale of the features or consider increasing regularisation. Duality gap: 5.978e+00, tolerance: 4.352e-03\n",
      "  model = cd_fast.enet_coordinate_descent(\n",
      "/home/kith/.local/lib/python3.10/site-packages/sklearn/linear_model/_ridge.py:216: LinAlgWarning: Ill-conditioned matrix (rcond=9.00203e-37): result may not be accurate.\n",
      "  return linalg.solve(A, Xy, assume_a=\"pos\", overwrite_a=True).T\n",
      "/home/kith/.local/lib/python3.10/site-packages/sklearn/linear_model/_ridge.py:216: LinAlgWarning: Ill-conditioned matrix (rcond=9.09233e-36): result may not be accurate.\n",
      "  return linalg.solve(A, Xy, assume_a=\"pos\", overwrite_a=True).T\n",
      "/home/kith/.local/lib/python3.10/site-packages/sklearn/linear_model/_ridge.py:216: LinAlgWarning: Ill-conditioned matrix (rcond=1.0052e-34): result may not be accurate.\n",
      "  return linalg.solve(A, Xy, assume_a=\"pos\", overwrite_a=True).T\n",
      "/home/kith/.local/lib/python3.10/site-packages/sklearn/linear_model/_ridge.py:216: LinAlgWarning: Ill-conditioned matrix (rcond=9.24478e-34): result may not be accurate.\n",
      "  return linalg.solve(A, Xy, assume_a=\"pos\", overwrite_a=True).T\n",
      "/home/kith/.local/lib/python3.10/site-packages/sklearn/linear_model/_ridge.py:216: LinAlgWarning: Ill-conditioned matrix (rcond=1.05098e-32): result may not be accurate.\n",
      "  return linalg.solve(A, Xy, assume_a=\"pos\", overwrite_a=True).T\n"
     ]
    }
   ],
   "source": [
    "# check the lasso and Ridge results by changing the hyperparameter\n",
    "for i in [0.1, 1, 10, 100, 1000]:\n",
    "    lasso=Lasso(alpha=i) # 1, 10, 100, 1000\n",
    "    \n",
    "    lasso.fit(X_poly, y)\n",
    "    \n",
    "    print('lasso + i=',i, ':  ', lasso.coef_)\n",
    "    \n",
    "for i in [0.1, 1, 10, 100, 1000]:\n",
    "   \n",
    "    ridge=Ridge(alpha=i) # 1, 10, 100, 1000\n",
    "    \n",
    "    ridge.fit(X_poly, y)\n",
    "\n",
    "    print('ridge + i=',i, ':  ', ridge.coef_)"
   ]
  },
  {
   "cell_type": "code",
   "execution_count": null,
   "id": "f9c6c8cb",
   "metadata": {},
   "outputs": [],
   "source": []
  }
 ],
 "metadata": {
  "kernelspec": {
   "display_name": "Python 3 (ipykernel)",
   "language": "python",
   "name": "python3"
  },
  "language_info": {
   "codemirror_mode": {
    "name": "ipython",
    "version": 3
   },
   "file_extension": ".py",
   "mimetype": "text/x-python",
   "name": "python",
   "nbconvert_exporter": "python",
   "pygments_lexer": "ipython3",
   "version": "3.10.7"
  }
 },
 "nbformat": 4,
 "nbformat_minor": 5
}

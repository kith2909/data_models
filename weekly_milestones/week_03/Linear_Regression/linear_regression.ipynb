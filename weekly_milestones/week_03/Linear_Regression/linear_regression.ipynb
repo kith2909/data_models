{
 "cells": [
  {
   "cell_type": "markdown",
   "id": "aa5b22bf",
   "metadata": {},
   "source": [
    "# Linear Regression\n",
    "<hr style=\"border:2px solid black\">"
   ]
  },
  {
   "cell_type": "markdown",
   "id": "1effe222",
   "metadata": {},
   "source": [
    "## 1. Introduction"
   ]
  },
  {
   "cell_type": "markdown",
   "id": "f2746292",
   "metadata": {},
   "source": [
    "### 1.1 What is Linear Regression?"
   ]
  },
  {
   "cell_type": "markdown",
   "id": "1c844830",
   "metadata": {},
   "source": [
    "- models a linear relationship between at least one explanatory variable $x$ (feature) and an outcome variable $y$ (target):\n",
    "$\\newline$\n",
    "$$\n",
    "y = w_0 + w_1x + \\epsilon\n",
    "$$\n",
    "$\\newline$\n",
    "where\n",
    ">- $w_0$ is the intercept or bias\n",
    ">- $w_1$ is the coefficient or slope\n",
    ">- $\\epsilon$ is randomly distributed error term"
   ]
  },
  {
   "cell_type": "markdown",
   "id": "c49ba9cb",
   "metadata": {},
   "source": [
    "- `model equation` is a linear function $\\hat{y}(x)$ we fit to the data:    \n",
    "$\\newline$\n",
    "$$\n",
    "\\hat y = w_0 + w_1 x \n",
    "$$\n",
    "$\\newline$\n",
    "- more generally, when we have more than one features, we are fitting a hyperplane:\n",
    "$\\newline$\n",
    "$$\\hat y = w_0 + w_1 x_1 + w_2 x_2 + ... + w_n x_n\n",
    "$$\n",
    "$\\newline$"
   ]
  },
  {
   "cell_type": "markdown",
   "id": "91b7d9f0",
   "metadata": {},
   "source": [
    "- shorthand linear algebraic notation with a coefficient vector $w$:\n",
    "$\\newline$    \n",
    "$$\n",
    "\\hat y = X \\cdot w^T\n",
    "$$\n",
    "$\\newline$"
   ]
  },
  {
   "cell_type": "markdown",
   "id": "9a2064b2",
   "metadata": {},
   "source": [
    "### 1.2 How are regression models evaluated?"
   ]
  },
  {
   "cell_type": "markdown",
   "id": "882604f9",
   "metadata": {},
   "source": [
    "- In Ordinary Least Squares (OLS) regression, one minimizes the `Mean Squared Error` loss function:\n",
    "$\\newline$\n",
    "$$ \n",
    "MSE = \\frac{1}{N}\\sum_{i=1}^{N}(y_i-\\hat{y}_i)^2\n",
    "$$ \n",
    "$\\newline$\n",
    "- another variant is to minimize the `Mean Absolute Error`:\n",
    "$\\newline$\n",
    "$$ \n",
    "MAE = \\frac{1}{N}\\sum_{i=1}^{N}|y_i-\\hat{y}_i|\n",
    "$$ \n",
    "$\\newline$"
   ]
  },
  {
   "cell_type": "markdown",
   "id": "1f873ba0",
   "metadata": {},
   "source": [
    "### 1.3 How to find model parameters?"
   ]
  },
  {
   "cell_type": "markdown",
   "id": "6886d056",
   "metadata": {},
   "source": [
    "**`Normal Equation`**\n",
    ">- can be solved to find the model parameters analytically:\n",
    ">$\\newline$\n",
    ">$$ \n",
    "\\hat{w}^T = \\frac{X^Ty}{X^TX}\n",
    "$$ \n",
    ">$\\newline$\n",
    ">- time complexity goes like $O(N³)$; becomes very slow for many data points \n",
    ">- runs into problem if the features are linearly dependent"
   ]
  },
  {
   "cell_type": "markdown",
   "id": "5c0db42a",
   "metadata": {},
   "source": [
    "**`Gradient Descent`**\n",
    ">- a good alternative for finding optimal parameters\n",
    ">- starts with a random guess and performs minimization steps until it reaches optimal values"
   ]
  },
  {
   "cell_type": "markdown",
   "id": "3c0e4cb1",
   "metadata": {},
   "source": [
    "### 1.4 Goodness of Fit"
   ]
  },
  {
   "cell_type": "markdown",
   "id": "675295f9",
   "metadata": {},
   "source": [
    "- coefficient of determination, $R²$, given by the formula:\n",
    "$\\newline$\n",
    "$$ \n",
    "R²~=~1-\\frac{RSS}{TSS}~=~1 - \\frac{\\sum_{i=1}^{N}(y_i-\\hat{y}_i)^2}{\\sum_{i=1}^{N}(y_i-\\bar{y})^2}\n",
    "$$ \n",
    "$\\newline$\n",
    "- gives the fraction of variance in the target variable explained by performing the regression \n",
    "    + $R²=1.0$: $\\quad$model has a perfect fit – no errors in predictions\n",
    "    + $R²=0.0$: $\\quad$model is no better than a simple average over all points (baseline model)\n",
    "    + $R²<0.0$: $\\quad$worse than a baseline model, possible only for multiple linear regression"
   ]
  },
  {
   "cell_type": "markdown",
   "id": "1eb11f92",
   "metadata": {},
   "source": [
    "<hr style=\"border:2px solid black\">"
   ]
  },
  {
   "cell_type": "markdown",
   "id": "4b638a88",
   "metadata": {},
   "source": [
    "## 2. Example: Penguin Dataset"
   ]
  },
  {
   "cell_type": "markdown",
   "id": "2f6fa0ec",
   "metadata": {},
   "source": [
    "**Load packages**"
   ]
  },
  {
   "cell_type": "code",
   "execution_count": 24,
   "id": "01e95469",
   "metadata": {},
   "outputs": [],
   "source": [
    "# data analysis stack\n",
    "import numpy as np\n",
    "import pandas as pd\n",
    "\n",
    "# data visualization stack\n",
    "import matplotlib.pyplot as plt\n",
    "%matplotlib inline\n",
    "import seaborn as sns\n",
    "sns.set_style('whitegrid')\n",
    "\n",
    "# data pre-processing stack\n",
    "from sklearn.preprocessing import MinMaxScaler,OneHotEncoder\n",
    "from sklearn.compose import ColumnTransformer\n",
    "from sklearn.pipeline import Pipeline\n",
    "\n",
    "# machine learning stack\n",
    "from sklearn.linear_model import LinearRegression\n",
    "from sklearn.model_selection import train_test_split\n",
    "\n",
    "# miscellaneous\n",
    "import scipy.stats as ss\n",
    "import warnings\n",
    "warnings.filterwarnings(\"ignore\")"
   ]
  },
  {
   "cell_type": "markdown",
   "id": "aabb4f16",
   "metadata": {},
   "source": [
    "**Load data**"
   ]
  },
  {
   "cell_type": "code",
   "execution_count": 25,
   "id": "37640d4e",
   "metadata": {},
   "outputs": [
    {
     "data": {
      "text/html": [
       "<div>\n",
       "<style scoped>\n",
       "    .dataframe tbody tr th:only-of-type {\n",
       "        vertical-align: middle;\n",
       "    }\n",
       "\n",
       "    .dataframe tbody tr th {\n",
       "        vertical-align: top;\n",
       "    }\n",
       "\n",
       "    .dataframe thead th {\n",
       "        text-align: right;\n",
       "    }\n",
       "</style>\n",
       "<table border=\"1\" class=\"dataframe\">\n",
       "  <thead>\n",
       "    <tr style=\"text-align: right;\">\n",
       "      <th></th>\n",
       "      <th>species</th>\n",
       "      <th>island</th>\n",
       "      <th>bill_length_mm</th>\n",
       "      <th>bill_depth_mm</th>\n",
       "      <th>flipper_length_mm</th>\n",
       "      <th>body_mass_g</th>\n",
       "      <th>sex</th>\n",
       "    </tr>\n",
       "  </thead>\n",
       "  <tbody>\n",
       "    <tr>\n",
       "      <th>0</th>\n",
       "      <td>Adelie</td>\n",
       "      <td>Torgersen</td>\n",
       "      <td>39.1</td>\n",
       "      <td>18.7</td>\n",
       "      <td>181.0</td>\n",
       "      <td>3750.0</td>\n",
       "      <td>Male</td>\n",
       "    </tr>\n",
       "    <tr>\n",
       "      <th>1</th>\n",
       "      <td>Adelie</td>\n",
       "      <td>Torgersen</td>\n",
       "      <td>39.5</td>\n",
       "      <td>17.4</td>\n",
       "      <td>186.0</td>\n",
       "      <td>3800.0</td>\n",
       "      <td>Female</td>\n",
       "    </tr>\n",
       "    <tr>\n",
       "      <th>2</th>\n",
       "      <td>Adelie</td>\n",
       "      <td>Torgersen</td>\n",
       "      <td>40.3</td>\n",
       "      <td>18.0</td>\n",
       "      <td>195.0</td>\n",
       "      <td>3250.0</td>\n",
       "      <td>Female</td>\n",
       "    </tr>\n",
       "    <tr>\n",
       "      <th>4</th>\n",
       "      <td>Adelie</td>\n",
       "      <td>Torgersen</td>\n",
       "      <td>36.7</td>\n",
       "      <td>19.3</td>\n",
       "      <td>193.0</td>\n",
       "      <td>3450.0</td>\n",
       "      <td>Female</td>\n",
       "    </tr>\n",
       "    <tr>\n",
       "      <th>5</th>\n",
       "      <td>Adelie</td>\n",
       "      <td>Torgersen</td>\n",
       "      <td>39.3</td>\n",
       "      <td>20.6</td>\n",
       "      <td>190.0</td>\n",
       "      <td>3650.0</td>\n",
       "      <td>Male</td>\n",
       "    </tr>\n",
       "  </tbody>\n",
       "</table>\n",
       "</div>"
      ],
      "text/plain": [
       "  species     island  bill_length_mm  bill_depth_mm  flipper_length_mm  \\\n",
       "0  Adelie  Torgersen            39.1           18.7              181.0   \n",
       "1  Adelie  Torgersen            39.5           17.4              186.0   \n",
       "2  Adelie  Torgersen            40.3           18.0              195.0   \n",
       "4  Adelie  Torgersen            36.7           19.3              193.0   \n",
       "5  Adelie  Torgersen            39.3           20.6              190.0   \n",
       "\n",
       "   body_mass_g     sex  \n",
       "0       3750.0    Male  \n",
       "1       3800.0  Female  \n",
       "2       3250.0  Female  \n",
       "4       3450.0  Female  \n",
       "5       3650.0    Male  "
      ]
     },
     "execution_count": 25,
     "metadata": {},
     "output_type": "execute_result"
    }
   ],
   "source": [
    "df = sns.load_dataset(\"penguins\")\n",
    "df.dropna(inplace=True)\n",
    "df.head()"
   ]
  },
  {
   "cell_type": "markdown",
   "id": "f0057726",
   "metadata": {},
   "source": [
    "**quick exploration**"
   ]
  },
  {
   "cell_type": "code",
   "execution_count": 26,
   "id": "f9e2ab52",
   "metadata": {},
   "outputs": [
    {
     "name": "stdout",
     "output_type": "stream",
     "text": [
      "<class 'pandas.core.frame.DataFrame'>\n",
      "Int64Index: 333 entries, 0 to 343\n",
      "Data columns (total 7 columns):\n",
      " #   Column             Non-Null Count  Dtype  \n",
      "---  ------             --------------  -----  \n",
      " 0   species            333 non-null    object \n",
      " 1   island             333 non-null    object \n",
      " 2   bill_length_mm     333 non-null    float64\n",
      " 3   bill_depth_mm      333 non-null    float64\n",
      " 4   flipper_length_mm  333 non-null    float64\n",
      " 5   body_mass_g        333 non-null    float64\n",
      " 6   sex                333 non-null    object \n",
      "dtypes: float64(4), object(3)\n",
      "memory usage: 20.8+ KB\n"
     ]
    }
   ],
   "source": [
    "df.info()"
   ]
  },
  {
   "cell_type": "code",
   "execution_count": 27,
   "id": "242606d3",
   "metadata": {},
   "outputs": [
    {
     "data": {
      "text/html": [
       "<div>\n",
       "<style scoped>\n",
       "    .dataframe tbody tr th:only-of-type {\n",
       "        vertical-align: middle;\n",
       "    }\n",
       "\n",
       "    .dataframe tbody tr th {\n",
       "        vertical-align: top;\n",
       "    }\n",
       "\n",
       "    .dataframe thead th {\n",
       "        text-align: right;\n",
       "    }\n",
       "</style>\n",
       "<table border=\"1\" class=\"dataframe\">\n",
       "  <thead>\n",
       "    <tr style=\"text-align: right;\">\n",
       "      <th></th>\n",
       "      <th>bill_length_mm</th>\n",
       "      <th>bill_depth_mm</th>\n",
       "      <th>flipper_length_mm</th>\n",
       "      <th>body_mass_g</th>\n",
       "    </tr>\n",
       "  </thead>\n",
       "  <tbody>\n",
       "    <tr>\n",
       "      <th>count</th>\n",
       "      <td>333.000000</td>\n",
       "      <td>333.000000</td>\n",
       "      <td>333.000000</td>\n",
       "      <td>333.000000</td>\n",
       "    </tr>\n",
       "    <tr>\n",
       "      <th>mean</th>\n",
       "      <td>43.992793</td>\n",
       "      <td>17.164865</td>\n",
       "      <td>200.966967</td>\n",
       "      <td>4207.057057</td>\n",
       "    </tr>\n",
       "    <tr>\n",
       "      <th>std</th>\n",
       "      <td>5.468668</td>\n",
       "      <td>1.969235</td>\n",
       "      <td>14.015765</td>\n",
       "      <td>805.215802</td>\n",
       "    </tr>\n",
       "    <tr>\n",
       "      <th>min</th>\n",
       "      <td>32.100000</td>\n",
       "      <td>13.100000</td>\n",
       "      <td>172.000000</td>\n",
       "      <td>2700.000000</td>\n",
       "    </tr>\n",
       "    <tr>\n",
       "      <th>25%</th>\n",
       "      <td>39.500000</td>\n",
       "      <td>15.600000</td>\n",
       "      <td>190.000000</td>\n",
       "      <td>3550.000000</td>\n",
       "    </tr>\n",
       "    <tr>\n",
       "      <th>50%</th>\n",
       "      <td>44.500000</td>\n",
       "      <td>17.300000</td>\n",
       "      <td>197.000000</td>\n",
       "      <td>4050.000000</td>\n",
       "    </tr>\n",
       "    <tr>\n",
       "      <th>75%</th>\n",
       "      <td>48.600000</td>\n",
       "      <td>18.700000</td>\n",
       "      <td>213.000000</td>\n",
       "      <td>4775.000000</td>\n",
       "    </tr>\n",
       "    <tr>\n",
       "      <th>max</th>\n",
       "      <td>59.600000</td>\n",
       "      <td>21.500000</td>\n",
       "      <td>231.000000</td>\n",
       "      <td>6300.000000</td>\n",
       "    </tr>\n",
       "  </tbody>\n",
       "</table>\n",
       "</div>"
      ],
      "text/plain": [
       "       bill_length_mm  bill_depth_mm  flipper_length_mm  body_mass_g\n",
       "count      333.000000     333.000000         333.000000   333.000000\n",
       "mean        43.992793      17.164865         200.966967  4207.057057\n",
       "std          5.468668       1.969235          14.015765   805.215802\n",
       "min         32.100000      13.100000         172.000000  2700.000000\n",
       "25%         39.500000      15.600000         190.000000  3550.000000\n",
       "50%         44.500000      17.300000         197.000000  4050.000000\n",
       "75%         48.600000      18.700000         213.000000  4775.000000\n",
       "max         59.600000      21.500000         231.000000  6300.000000"
      ]
     },
     "execution_count": 27,
     "metadata": {},
     "output_type": "execute_result"
    }
   ],
   "source": [
    "df.describe()"
   ]
  },
  {
   "cell_type": "markdown",
   "id": "fcdc3d77",
   "metadata": {},
   "source": [
    "**Features and target variables**"
   ]
  },
  {
   "cell_type": "code",
   "execution_count": 28,
   "id": "bbcd6c02",
   "metadata": {},
   "outputs": [],
   "source": [
    "numerical_features = [\n",
    "    'bill_length_mm',\n",
    "    'bill_depth_mm',\n",
    "    'flipper_length_mm'\n",
    "]\n",
    "\n",
    "categorical_features = [\n",
    "    'species',\n",
    "    'island',\n",
    "    'sex'\n",
    "]\n",
    "\n",
    "features = numerical_features + categorical_features\n",
    "\n",
    "target_variable = 'body_mass_g'"
   ]
  },
  {
   "cell_type": "code",
   "execution_count": 29,
   "id": "52c3e81e",
   "metadata": {},
   "outputs": [],
   "source": [
    "# feature and target columns\n",
    "X,y = df[features],df[target_variable]"
   ]
  },
  {
   "cell_type": "markdown",
   "id": "20a4b01f",
   "metadata": {},
   "source": [
    "**Train-test split**"
   ]
  },
  {
   "cell_type": "code",
   "execution_count": 30,
   "id": "47ec54eb",
   "metadata": {},
   "outputs": [
    {
     "data": {
      "text/plain": [
       "((266, 6), (67, 6))"
      ]
     },
     "execution_count": 30,
     "metadata": {},
     "output_type": "execute_result"
    }
   ],
   "source": [
    "X_train,X_test,y_train,y_test = train_test_split(X,y,test_size=0.2,random_state=101)\n",
    "X_train.shape, X_test.shape"
   ]
  },
  {
   "cell_type": "markdown",
   "id": "2242d34a",
   "metadata": {},
   "source": [
    "### 2.1 Exploratory Data Analysis"
   ]
  },
  {
   "cell_type": "code",
   "execution_count": 31,
   "id": "528b01b3",
   "metadata": {},
   "outputs": [
    {
     "data": {
      "text/html": [
       "<div>\n",
       "<style scoped>\n",
       "    .dataframe tbody tr th:only-of-type {\n",
       "        vertical-align: middle;\n",
       "    }\n",
       "\n",
       "    .dataframe tbody tr th {\n",
       "        vertical-align: top;\n",
       "    }\n",
       "\n",
       "    .dataframe thead th {\n",
       "        text-align: right;\n",
       "    }\n",
       "</style>\n",
       "<table border=\"1\" class=\"dataframe\">\n",
       "  <thead>\n",
       "    <tr style=\"text-align: right;\">\n",
       "      <th></th>\n",
       "      <th>bill_length_mm</th>\n",
       "      <th>bill_depth_mm</th>\n",
       "      <th>flipper_length_mm</th>\n",
       "      <th>species</th>\n",
       "      <th>island</th>\n",
       "      <th>sex</th>\n",
       "    </tr>\n",
       "  </thead>\n",
       "  <tbody>\n",
       "    <tr>\n",
       "      <th>314</th>\n",
       "      <td>44.5</td>\n",
       "      <td>14.7</td>\n",
       "      <td>214.0</td>\n",
       "      <td>Gentoo</td>\n",
       "      <td>Biscoe</td>\n",
       "      <td>Female</td>\n",
       "    </tr>\n",
       "    <tr>\n",
       "      <th>248</th>\n",
       "      <td>48.2</td>\n",
       "      <td>14.3</td>\n",
       "      <td>210.0</td>\n",
       "      <td>Gentoo</td>\n",
       "      <td>Biscoe</td>\n",
       "      <td>Female</td>\n",
       "    </tr>\n",
       "    <tr>\n",
       "      <th>199</th>\n",
       "      <td>49.0</td>\n",
       "      <td>19.6</td>\n",
       "      <td>212.0</td>\n",
       "      <td>Chinstrap</td>\n",
       "      <td>Dream</td>\n",
       "      <td>Male</td>\n",
       "    </tr>\n",
       "    <tr>\n",
       "      <th>182</th>\n",
       "      <td>40.9</td>\n",
       "      <td>16.6</td>\n",
       "      <td>187.0</td>\n",
       "      <td>Chinstrap</td>\n",
       "      <td>Dream</td>\n",
       "      <td>Female</td>\n",
       "    </tr>\n",
       "    <tr>\n",
       "      <th>238</th>\n",
       "      <td>46.2</td>\n",
       "      <td>14.5</td>\n",
       "      <td>209.0</td>\n",
       "      <td>Gentoo</td>\n",
       "      <td>Biscoe</td>\n",
       "      <td>Female</td>\n",
       "    </tr>\n",
       "    <tr>\n",
       "      <th>...</th>\n",
       "      <td>...</td>\n",
       "      <td>...</td>\n",
       "      <td>...</td>\n",
       "      <td>...</td>\n",
       "      <td>...</td>\n",
       "      <td>...</td>\n",
       "    </tr>\n",
       "    <tr>\n",
       "      <th>81</th>\n",
       "      <td>42.9</td>\n",
       "      <td>17.6</td>\n",
       "      <td>196.0</td>\n",
       "      <td>Adelie</td>\n",
       "      <td>Torgersen</td>\n",
       "      <td>Male</td>\n",
       "    </tr>\n",
       "    <tr>\n",
       "      <th>93</th>\n",
       "      <td>39.6</td>\n",
       "      <td>18.1</td>\n",
       "      <td>186.0</td>\n",
       "      <td>Adelie</td>\n",
       "      <td>Dream</td>\n",
       "      <td>Male</td>\n",
       "    </tr>\n",
       "    <tr>\n",
       "      <th>69</th>\n",
       "      <td>41.8</td>\n",
       "      <td>19.4</td>\n",
       "      <td>198.0</td>\n",
       "      <td>Adelie</td>\n",
       "      <td>Torgersen</td>\n",
       "      <td>Male</td>\n",
       "    </tr>\n",
       "    <tr>\n",
       "      <th>335</th>\n",
       "      <td>55.1</td>\n",
       "      <td>16.0</td>\n",
       "      <td>230.0</td>\n",
       "      <td>Gentoo</td>\n",
       "      <td>Biscoe</td>\n",
       "      <td>Male</td>\n",
       "    </tr>\n",
       "    <tr>\n",
       "      <th>16</th>\n",
       "      <td>38.7</td>\n",
       "      <td>19.0</td>\n",
       "      <td>195.0</td>\n",
       "      <td>Adelie</td>\n",
       "      <td>Torgersen</td>\n",
       "      <td>Female</td>\n",
       "    </tr>\n",
       "  </tbody>\n",
       "</table>\n",
       "<p>266 rows × 6 columns</p>\n",
       "</div>"
      ],
      "text/plain": [
       "     bill_length_mm  bill_depth_mm  flipper_length_mm    species     island  \\\n",
       "314            44.5           14.7              214.0     Gentoo     Biscoe   \n",
       "248            48.2           14.3              210.0     Gentoo     Biscoe   \n",
       "199            49.0           19.6              212.0  Chinstrap      Dream   \n",
       "182            40.9           16.6              187.0  Chinstrap      Dream   \n",
       "238            46.2           14.5              209.0     Gentoo     Biscoe   \n",
       "..              ...            ...                ...        ...        ...   \n",
       "81             42.9           17.6              196.0     Adelie  Torgersen   \n",
       "93             39.6           18.1              186.0     Adelie      Dream   \n",
       "69             41.8           19.4              198.0     Adelie  Torgersen   \n",
       "335            55.1           16.0              230.0     Gentoo     Biscoe   \n",
       "16             38.7           19.0              195.0     Adelie  Torgersen   \n",
       "\n",
       "        sex  \n",
       "314  Female  \n",
       "248  Female  \n",
       "199    Male  \n",
       "182  Female  \n",
       "238  Female  \n",
       "..      ...  \n",
       "81     Male  \n",
       "93     Male  \n",
       "69     Male  \n",
       "335    Male  \n",
       "16   Female  \n",
       "\n",
       "[266 rows x 6 columns]"
      ]
     },
     "execution_count": 31,
     "metadata": {},
     "output_type": "execute_result"
    }
   ],
   "source": [
    "X_train"
   ]
  },
  {
   "cell_type": "markdown",
   "id": "80761dbc",
   "metadata": {},
   "source": [
    "#### correlation among numerical features"
   ]
  },
  {
   "cell_type": "code",
   "execution_count": 33,
   "id": "939a796a",
   "metadata": {},
   "outputs": [
    {
     "data": {
      "text/plain": [
       "<Axes: >"
      ]
     },
     "execution_count": 33,
     "metadata": {},
     "output_type": "execute_result"
    },
    {
     "data": {
      "image/png": "[encoded data removed]",
      "text/plain": [
       "<Figure size 500x500 with 2 Axes>"
      ]
     },
     "metadata": {},
     "output_type": "display_data"
    }
   ],
   "source": [
    "plt.figure(figsize=(5,5),dpi=100)\n",
    "sns.heatmap(\n",
    "    data=X_train[numerical_features].corr(),\n",
    "    cmap='coolwarm',\n",
    "    linecolor='white',\n",
    "    linewidth=1,\n",
    "    annot=True,\n",
    "    vmin=-1,\n",
    "    vmax=1\n",
    ")"
   ]
  },
  {
   "cell_type": "markdown",
   "id": "638e8a3e",
   "metadata": {},
   "source": [
    "#### correlation among categorical features"
   ]
  },
  {
   "cell_type": "code",
   "execution_count": 10,
   "id": "1c6befee",
   "metadata": {},
   "outputs": [],
   "source": [
    "def cramers_corrected_stat(df,cat_col1,cat_col2):\n",
    "    \"\"\"\n",
    "    This function spits out corrected Cramer's correlation statistic\n",
    "    between two categorical columns of a dataframe \n",
    "    \"\"\"\n",
    "    crosstab = pd.crosstab(df[cat_col1],df[cat_col2])\n",
    "    chi_sqr = ss.chi2_contingency(crosstab)[0]\n",
    "    n = crosstab.sum().sum()\n",
    "    r,k = crosstab.shape\n",
    "    phi_sqr_corr = max(0, chi_sqr/n - ((k-1)*(r-1))/(n-1))    \n",
    "    r_corr = r - ((r-1)**2)/(n-1)\n",
    "    k_corr = k - ((k-1)**2)/(n-1)\n",
    "    \n",
    "    result = np.sqrt(phi_sqr_corr / min( (k_corr-1), (r_corr-1)))\n",
    "    return round(result,3)"
   ]
  },
  {
   "cell_type": "code",
   "execution_count": 11,
   "id": "0f775523",
   "metadata": {},
   "outputs": [
    {
     "data": {
      "image/png": "[encoded data removed]",
      "text/plain": [
       "<Figure size 400x400 with 2 Axes>"
      ]
     },
     "metadata": {},
     "output_type": "display_data"
    }
   ],
   "source": [
    "cramer_v_corr = dict(\n",
    "    zip(\n",
    "        categorical_features,\n",
    "        [[cramers_corrected_stat(X_train,f1,f2) for f2 in categorical_features] for f1 in categorical_features]\n",
    "    )\n",
    ")\n",
    "\n",
    "plt.figure(figsize=(4,4),dpi=100)\n",
    "sns.heatmap(data=pd.DataFrame(data=cramer_v_corr,index=categorical_features),\n",
    "            cmap='magma',\n",
    "            linecolor='white',\n",
    "            linewidth=1,\n",
    "            annot=True,\n",
    "            vmin=-1,\n",
    "            vmax=1\n",
    "           );"
   ]
  },
  {
   "cell_type": "markdown",
   "id": "0c17d939",
   "metadata": {},
   "source": [
    "**correlation between categorical and numerical features**"
   ]
  },
  {
   "cell_type": "code",
   "execution_count": 12,
   "id": "d080ae7d",
   "metadata": {},
   "outputs": [],
   "source": [
    "def anova_pvalue(df,cat_col,num_col):\n",
    "    \"\"\"\n",
    "    This function spits out the anova p-value (probability of no correlation) \n",
    "    between a categorical column and a numerical column of a dataframe\n",
    "    \"\"\"\n",
    "    CategoryGroupLists = df.groupby(cat_col)[num_col].apply(list)\n",
    "    AnovaResults = ss.f_oneway(*CategoryGroupLists)\n",
    "    p_value = round(AnovaResults[1],3)\n",
    "    return p_value"
   ]
  },
  {
   "cell_type": "code",
   "execution_count": 14,
   "id": "4b7a41aa",
   "metadata": {},
   "outputs": [
    {
     "data": {
      "image/png": "[encoded data removed]",
      "text/plain": [
       "<Figure size 400x400 with 2 Axes>"
      ]
     },
     "metadata": {},
     "output_type": "display_data"
    }
   ],
   "source": [
    "anova_pvalue_dict = dict(\n",
    "    zip(\n",
    "        numerical_features,\n",
    "        [[anova_pvalue(X_train,f1,f2) for f2 in numerical_features] for f1 in categorical_features]\n",
    "    )\n",
    ")\n",
    "\n",
    "plt.figure(figsize=(4,4),dpi=100)\n",
    "sns.heatmap(data=pd.DataFrame(data=anova_pvalue_dict,index=categorical_features),\n",
    "            cmap='viridis',\n",
    "            linecolor='white',\n",
    "            linewidth=1,\n",
    "            annot=True,\n",
    "            vmin=0,\n",
    "            vmax=1\n",
    "           );"
   ]
  },
  {
   "cell_type": "markdown",
   "id": "3d0c34ac",
   "metadata": {},
   "source": [
    "***Comment: p_value in all the cases < 0.05 implying likely correlation between categorical and numerical features***"
   ]
  },
  {
   "cell_type": "markdown",
   "id": "eecc1b08",
   "metadata": {},
   "source": [
    "### 2.2 Baseline Model"
   ]
  },
  {
   "cell_type": "code",
   "execution_count": 15,
   "id": "7114378c",
   "metadata": {},
   "outputs": [],
   "source": [
    "class BaselineModel:\n",
    "    \"\"\"\n",
    "    Baseline model predicting only the mean value of the target variable\n",
    "    \"\"\"\n",
    "    def predict(self,X):\n",
    "        y_mean = y_train.mean()\n",
    "        return [y_mean]*X.shape[0]"
   ]
  },
  {
   "cell_type": "code",
   "execution_count": 16,
   "id": "032c871c",
   "metadata": {},
   "outputs": [
    {
     "name": "stdout",
     "output_type": "stream",
     "text": [
      "baseline model train score: 0.0\n"
     ]
    }
   ],
   "source": [
    "from sklearn.metrics import r2_score\n",
    "\n",
    "y_baseline_train_pred = BaselineModel().predict(X_train)\n",
    "r2 = r2_score(y_train,y_baseline_train_pred)\n",
    "\n",
    "print(f'baseline model train score: {round(r2,6)}')"
   ]
  },
  {
   "cell_type": "code",
   "execution_count": 17,
   "id": "af3848ee",
   "metadata": {},
   "outputs": [
    {
     "data": {
      "text/plain": [
       "-0.04526133208117544"
      ]
     },
     "execution_count": 17,
     "metadata": {},
     "output_type": "execute_result"
    }
   ],
   "source": [
    "y_baseline_pred = BaselineModel().predict(X_test)\n",
    "r2 = r2_score(y_test,y_baseline_pred)\n",
    "r2"
   ]
  },
  {
   "cell_type": "code",
   "execution_count": 18,
   "id": "8e559f09",
   "metadata": {},
   "outputs": [
    {
     "name": "stdout",
     "output_type": "stream",
     "text": [
      "baseline model test score: -0.045261\n"
     ]
    }
   ],
   "source": [
    "print(f'baseline model test score: {round(r2,6)}')\n"
   ]
  },
  {
   "cell_type": "markdown",
   "id": "0eb11004",
   "metadata": {},
   "source": [
    "### 2.3 Model Building"
   ]
  },
  {
   "cell_type": "markdown",
   "id": "a2e8657c",
   "metadata": {},
   "source": [
    "**Feature engineering**"
   ]
  },
  {
   "cell_type": "code",
   "execution_count": 19,
   "id": "aeb96302",
   "metadata": {},
   "outputs": [],
   "source": [
    "# column transformation\n",
    "transformer = ColumnTransformer([\n",
    "    ('scaling', MinMaxScaler(), numerical_features),\n",
    "    ('onehot', OneHotEncoder(drop='first'), categorical_features)\n",
    "])"
   ]
  },
  {
   "cell_type": "markdown",
   "id": "2f1e9693",
   "metadata": {},
   "source": [
    "**Model pipeline**"
   ]
  },
  {
   "cell_type": "code",
   "execution_count": 20,
   "id": "f6c8d0e2",
   "metadata": {},
   "outputs": [],
   "source": [
    "# pipeline\n",
    "pipeline = Pipeline(\n",
    "    [('col_transformer', transformer),                  # step-1 column transformation\n",
    "     ('lr_model', LinearRegression(fit_intercept=True)) # step-2 linear fit\n",
    "    ])"
   ]
  },
  {
   "cell_type": "code",
   "execution_count": 21,
   "id": "0f191b0e",
   "metadata": {},
   "outputs": [
    {
     "data": {
      "text/html": [
       "<style>#sk-container-id-1 {color: black;background-color: white;}#sk-container-id-1 pre{padding: 0;}#sk-container-id-1 div.sk-toggleable {background-color: white;}#sk-container-id-1 label.sk-toggleable__label {cursor: pointer;display: block;width: 100%;margin-bottom: 0;padding: 0.3em;box-sizing: border-box;text-align: center;}#sk-container-id-1 label.sk-toggleable__label-arrow:before {content: \"▸\";float: left;margin-right: 0.25em;color: #696969;}#sk-container-id-1 label.sk-toggleable__label-arrow:hover:before {color: black;}#sk-container-id-1 div.sk-estimator:hover label.sk-toggleable__label-arrow:before {color: black;}#sk-container-id-1 div.sk-toggleable__content {max-height: 0;max-width: 0;overflow: hidden;text-align: left;background-color: #f0f8ff;}#sk-container-id-1 div.sk-toggleable__content pre {margin: 0.2em;color: black;border-radius: 0.25em;background-color: #f0f8ff;}#sk-container-id-1 input.sk-toggleable__control:checked~div.sk-toggleable__content {max-height: 200px;max-width: 100%;overflow: auto;}#sk-container-id-1 input.sk-toggleable__control:checked~label.sk-toggleable__label-arrow:before {content: \"▾\";}#sk-container-id-1 div.sk-estimator input.sk-toggleable__control:checked~label.sk-toggleable__label {background-color: #d4ebff;}#sk-container-id-1 div.sk-label input.sk-toggleable__control:checked~label.sk-toggleable__label {background-color: #d4ebff;}#sk-container-id-1 input.sk-hidden--visually {border: 0;clip: rect(1px 1px 1px 1px);clip: rect(1px, 1px, 1px, 1px);height: 1px;margin: -1px;overflow: hidden;padding: 0;position: absolute;width: 1px;}#sk-container-id-1 div.sk-estimator {font-family: monospace;background-color: #f0f8ff;border: 1px dotted black;border-radius: 0.25em;box-sizing: border-box;margin-bottom: 0.5em;}#sk-container-id-1 div.sk-estimator:hover {background-color: #d4ebff;}#sk-container-id-1 div.sk-parallel-item::after {content: \"\";width: 100%;border-bottom: 1px solid gray;flex-grow: 1;}#sk-container-id-1 div.sk-label:hover label.sk-toggleable__label {background-color: #d4ebff;}#sk-container-id-1 div.sk-serial::before {content: \"\";position: absolute;border-left: 1px solid gray;box-sizing: border-box;top: 0;bottom: 0;left: 50%;z-index: 0;}#sk-container-id-1 div.sk-serial {display: flex;flex-direction: column;align-items: center;background-color: white;padding-right: 0.2em;padding-left: 0.2em;position: relative;}#sk-container-id-1 div.sk-item {position: relative;z-index: 1;}#sk-container-id-1 div.sk-parallel {display: flex;align-items: stretch;justify-content: center;background-color: white;position: relative;}#sk-container-id-1 div.sk-item::before, #sk-container-id-1 div.sk-parallel-item::before {content: \"\";position: absolute;border-left: 1px solid gray;box-sizing: border-box;top: 0;bottom: 0;left: 50%;z-index: -1;}#sk-container-id-1 div.sk-parallel-item {display: flex;flex-direction: column;z-index: 1;position: relative;background-color: white;}#sk-container-id-1 div.sk-parallel-item:first-child::after {align-self: flex-end;width: 50%;}#sk-container-id-1 div.sk-parallel-item:last-child::after {align-self: flex-start;width: 50%;}#sk-container-id-1 div.sk-parallel-item:only-child::after {width: 0;}#sk-container-id-1 div.sk-dashed-wrapped {border: 1px dashed gray;margin: 0 0.4em 0.5em 0.4em;box-sizing: border-box;padding-bottom: 0.4em;background-color: white;}#sk-container-id-1 div.sk-label label {font-family: monospace;font-weight: bold;display: inline-block;line-height: 1.2em;}#sk-container-id-1 div.sk-label-container {text-align: center;}#sk-container-id-1 div.sk-container {/* jupyter's `normalize.less` sets `[hidden] { display: none; }` but bootstrap.min.css set `[hidden] { display: none !important; }` so we also need the `!important` here to be able to override the default hidden behavior on the sphinx rendered scikit-learn.org. See: https://github.com/scikit-learn/scikit-learn/issues/21755 */display: inline-block !important;position: relative;}#sk-container-id-1 div.sk-text-repr-fallback {display: none;}</style><div id=\"sk-container-id-1\" class=\"sk-top-container\"><div class=\"sk-text-repr-fallback\"><pre>Pipeline(steps=[(&#x27;col_transformer&#x27;,\n",
       "                 ColumnTransformer(transformers=[(&#x27;scaling&#x27;, MinMaxScaler(),\n",
       "                                                  [&#x27;bill_length_mm&#x27;,\n",
       "                                                   &#x27;bill_depth_mm&#x27;,\n",
       "                                                   &#x27;flipper_length_mm&#x27;]),\n",
       "                                                 (&#x27;onehot&#x27;,\n",
       "                                                  OneHotEncoder(drop=&#x27;first&#x27;),\n",
       "                                                  [&#x27;species&#x27;, &#x27;island&#x27;,\n",
       "                                                   &#x27;sex&#x27;])])),\n",
       "                (&#x27;lr_model&#x27;, LinearRegression())])</pre><b>In a Jupyter environment, please rerun this cell to show the HTML representation or trust the notebook. <br />On GitHub, the HTML representation is unable to render, please try loading this page with nbviewer.org.</b></div><div class=\"sk-container\" hidden><div class=\"sk-item sk-dashed-wrapped\"><div class=\"sk-label-container\"><div class=\"sk-label sk-toggleable\"><input class=\"sk-toggleable__control sk-hidden--visually\" id=\"sk-estimator-id-1\" type=\"checkbox\" ><label for=\"sk-estimator-id-1\" class=\"sk-toggleable__label sk-toggleable__label-arrow\">Pipeline</label><div class=\"sk-toggleable__content\"><pre>Pipeline(steps=[(&#x27;col_transformer&#x27;,\n",
       "                 ColumnTransformer(transformers=[(&#x27;scaling&#x27;, MinMaxScaler(),\n",
       "                                                  [&#x27;bill_length_mm&#x27;,\n",
       "                                                   &#x27;bill_depth_mm&#x27;,\n",
       "                                                   &#x27;flipper_length_mm&#x27;]),\n",
       "                                                 (&#x27;onehot&#x27;,\n",
       "                                                  OneHotEncoder(drop=&#x27;first&#x27;),\n",
       "                                                  [&#x27;species&#x27;, &#x27;island&#x27;,\n",
       "                                                   &#x27;sex&#x27;])])),\n",
       "                (&#x27;lr_model&#x27;, LinearRegression())])</pre></div></div></div><div class=\"sk-serial\"><div class=\"sk-item sk-dashed-wrapped\"><div class=\"sk-label-container\"><div class=\"sk-label sk-toggleable\"><input class=\"sk-toggleable__control sk-hidden--visually\" id=\"sk-estimator-id-2\" type=\"checkbox\" ><label for=\"sk-estimator-id-2\" class=\"sk-toggleable__label sk-toggleable__label-arrow\">col_transformer: ColumnTransformer</label><div class=\"sk-toggleable__content\"><pre>ColumnTransformer(transformers=[(&#x27;scaling&#x27;, MinMaxScaler(),\n",
       "                                 [&#x27;bill_length_mm&#x27;, &#x27;bill_depth_mm&#x27;,\n",
       "                                  &#x27;flipper_length_mm&#x27;]),\n",
       "                                (&#x27;onehot&#x27;, OneHotEncoder(drop=&#x27;first&#x27;),\n",
       "                                 [&#x27;species&#x27;, &#x27;island&#x27;, &#x27;sex&#x27;])])</pre></div></div></div><div class=\"sk-parallel\"><div class=\"sk-parallel-item\"><div class=\"sk-item\"><div class=\"sk-label-container\"><div class=\"sk-label sk-toggleable\"><input class=\"sk-toggleable__control sk-hidden--visually\" id=\"sk-estimator-id-3\" type=\"checkbox\" ><label for=\"sk-estimator-id-3\" class=\"sk-toggleable__label sk-toggleable__label-arrow\">scaling</label><div class=\"sk-toggleable__content\"><pre>[&#x27;bill_length_mm&#x27;, &#x27;bill_depth_mm&#x27;, &#x27;flipper_length_mm&#x27;]</pre></div></div></div><div class=\"sk-serial\"><div class=\"sk-item\"><div class=\"sk-estimator sk-toggleable\"><input class=\"sk-toggleable__control sk-hidden--visually\" id=\"sk-estimator-id-4\" type=\"checkbox\" ><label for=\"sk-estimator-id-4\" class=\"sk-toggleable__label sk-toggleable__label-arrow\">MinMaxScaler</label><div class=\"sk-toggleable__content\"><pre>MinMaxScaler()</pre></div></div></div></div></div></div><div class=\"sk-parallel-item\"><div class=\"sk-item\"><div class=\"sk-label-container\"><div class=\"sk-label sk-toggleable\"><input class=\"sk-toggleable__control sk-hidden--visually\" id=\"sk-estimator-id-5\" type=\"checkbox\" ><label for=\"sk-estimator-id-5\" class=\"sk-toggleable__label sk-toggleable__label-arrow\">onehot</label><div class=\"sk-toggleable__content\"><pre>[&#x27;species&#x27;, &#x27;island&#x27;, &#x27;sex&#x27;]</pre></div></div></div><div class=\"sk-serial\"><div class=\"sk-item\"><div class=\"sk-estimator sk-toggleable\"><input class=\"sk-toggleable__control sk-hidden--visually\" id=\"sk-estimator-id-6\" type=\"checkbox\" ><label for=\"sk-estimator-id-6\" class=\"sk-toggleable__label sk-toggleable__label-arrow\">OneHotEncoder</label><div class=\"sk-toggleable__content\"><pre>OneHotEncoder(drop=&#x27;first&#x27;)</pre></div></div></div></div></div></div></div></div><div class=\"sk-item\"><div class=\"sk-estimator sk-toggleable\"><input class=\"sk-toggleable__control sk-hidden--visually\" id=\"sk-estimator-id-7\" type=\"checkbox\" ><label for=\"sk-estimator-id-7\" class=\"sk-toggleable__label sk-toggleable__label-arrow\">LinearRegression</label><div class=\"sk-toggleable__content\"><pre>LinearRegression()</pre></div></div></div></div></div></div></div>"
      ],
      "text/plain": [
       "Pipeline(steps=[('col_transformer',\n",
       "                 ColumnTransformer(transformers=[('scaling', MinMaxScaler(),\n",
       "                                                  ['bill_length_mm',\n",
       "                                                   'bill_depth_mm',\n",
       "                                                   'flipper_length_mm']),\n",
       "                                                 ('onehot',\n",
       "                                                  OneHotEncoder(drop='first'),\n",
       "                                                  ['species', 'island',\n",
       "                                                   'sex'])])),\n",
       "                ('lr_model', LinearRegression())])"
      ]
     },
     "execution_count": 21,
     "metadata": {},
     "output_type": "execute_result"
    }
   ],
   "source": [
    "# model training\n",
    "pipeline.fit(X_train,y_train)"
   ]
  },
  {
   "cell_type": "markdown",
   "id": "91914bca",
   "metadata": {},
   "source": [
    "### 2.4 Model Evaluation"
   ]
  },
  {
   "cell_type": "code",
   "execution_count": 22,
   "id": "1b31ea3d",
   "metadata": {},
   "outputs": [
    {
     "name": "stdout",
     "output_type": "stream",
     "text": [
      "training score: 0.872906\n"
     ]
    }
   ],
   "source": [
    "# training score\n",
    "training_score = pipeline.score(X_train,y_train)\n",
    "print(f'training score: {round(training_score,6)}')"
   ]
  },
  {
   "cell_type": "code",
   "execution_count": 23,
   "id": "c5d9878e",
   "metadata": {},
   "outputs": [
    {
     "name": "stdout",
     "output_type": "stream",
     "text": [
      "test score: 0.878288\n"
     ]
    }
   ],
   "source": [
    "# test score\n",
    "test_score = pipeline.score(X_test,y_test)\n",
    "print(f'test score: {round(test_score,6)}')"
   ]
  },
  {
   "cell_type": "markdown",
   "id": "57900661",
   "metadata": {},
   "source": [
    "<hr style=\"border:2px solid black\">"
   ]
  },
  {
   "cell_type": "markdown",
   "id": "4c64a66a",
   "metadata": {},
   "source": [
    "## 3. Assumptions of Linear Regression"
   ]
  },
  {
   "cell_type": "markdown",
   "id": "8f7f6a31",
   "metadata": {},
   "source": [
    "### 3.1 Linearity\n",
    ">- model is linear in the parameters and the error term\n",
    ">- model may include non-linear varaibles such as polynomials and interactions:\n",
    ">$\\newline$\n",
    ">$$\n",
    "y = w_0+w_1x_1+w_2x_2+w_{11}x_1²+w_{22}x_2²+w_{12}x_1x_2+\\epsilon\n",
    "$$\n",
    ">$\\newline$\n",
    ">- no relevant variables are missing"
   ]
  },
  {
   "cell_type": "markdown",
   "id": "2b64a034",
   "metadata": {},
   "source": [
    "### 3.2 Zero-Mean Error\n",
    ">- in order for model to be correct on average (unbiased), the error term must have zero mean\n",
    ">- assumption easily taken care of by the inclusion of intercept"
   ]
  },
  {
   "cell_type": "code",
   "execution_count": 34,
   "id": "b3e7f818",
   "metadata": {},
   "outputs": [],
   "source": [
    "# predicted values of penguin body mass\n",
    "X_train['predicted_mass'] = pipeline.predict(X_train)"
   ]
  },
  {
   "cell_type": "code",
   "execution_count": 35,
   "id": "548d86d5",
   "metadata": {},
   "outputs": [],
   "source": [
    "# residual values\n",
    "X_train['residual'] = y_train - X_train['predicted_mass']"
   ]
  },
  {
   "cell_type": "code",
   "execution_count": 36,
   "id": "e3facbeb",
   "metadata": {},
   "outputs": [
    {
     "data": {
      "text/plain": [
       "-1.3676612056735762e-14"
      ]
     },
     "execution_count": 36,
     "metadata": {},
     "output_type": "execute_result"
    }
   ],
   "source": [
    "# mean of residuals\n",
    "X_train['residual'].mean()"
   ]
  },
  {
   "cell_type": "markdown",
   "id": "eefafd33",
   "metadata": {},
   "source": [
    "### 3.3 Strict Exogeneity\n",
    ">- all independent variables are uncorrelated with the error term\n",
    ">- in harmony with the notion that the error term represents unpredictable random flactuations"
   ]
  },
  {
   "cell_type": "markdown",
   "id": "0eba44c9",
   "metadata": {},
   "source": [
    "**correlation with numerical features**"
   ]
  },
  {
   "cell_type": "code",
   "execution_count": 37,
   "id": "7a77724b",
   "metadata": {},
   "outputs": [
    {
     "name": "stdout",
     "output_type": "stream",
     "text": [
      "correlation with bill_length_mm: 8.694785559336223e-17\n",
      "correlation with bill_depth_mm: 6.641346738814799e-16\n",
      "correlation with flipper_length_mm: -3.631234114401884e-16\n"
     ]
    }
   ],
   "source": [
    "for feature in numerical_features:\n",
    "    pearson_corr = X_train[feature].corr(X_train['residual'])\n",
    "    print(f'correlation with {feature}: {pearson_corr}')"
   ]
  },
  {
   "cell_type": "markdown",
   "id": "ce76f3d7",
   "metadata": {},
   "source": [
    "**correlation with categorical features**"
   ]
  },
  {
   "cell_type": "code",
   "execution_count": 38,
   "id": "cf82552f",
   "metadata": {},
   "outputs": [
    {
     "name": "stdout",
     "output_type": "stream",
     "text": [
      "p_value for species: 1.0\n",
      "p_value for island: 1.0\n",
      "p_value for sex: 1.0\n"
     ]
    }
   ],
   "source": [
    "for feature in categorical_features:\n",
    "    p_value = anova_pvalue(X_train,feature,'residual')\n",
    "    print(f'p_value for {feature}: {p_value}')"
   ]
  },
  {
   "cell_type": "markdown",
   "id": "45b60baa",
   "metadata": {},
   "source": [
    "### 3.4 Homoscedasticity\n",
    ">- the error term has constant variance, i.e., the variance does not change for a range of observations\n",
    ">- assumption can be checked through residual vs predicted value scatterplot"
   ]
  },
  {
   "cell_type": "code",
   "execution_count": 39,
   "id": "51f78b11",
   "metadata": {},
   "outputs": [
    {
     "data": {
      "image/png": "[encoded data removed]",
      "text/plain": [
       "<Figure size 640x480 with 1 Axes>"
      ]
     },
     "metadata": {},
     "output_type": "display_data"
    }
   ],
   "source": [
    "sns.scatterplot(\n",
    "    data = X_train,\n",
    "    x = \"predicted_mass\",\n",
    "    y = \"residual\"\n",
    ");"
   ]
  },
  {
   "cell_type": "markdown",
   "id": "3c1a9a14",
   "metadata": {},
   "source": [
    "### 3.5 Full Rank\n",
    ">- all the features are linearly independent, i.e., no perfect correlation\n",
    ">- imperfect but strong correlation between features (multicollinearity) $\\rightarrow$ overfitting problem\n",
    ">- assumption can be dropped by invoking regularization (Ridge or Lasso Regression)"
   ]
  },
  {
   "cell_type": "markdown",
   "id": "ab6c7c7a",
   "metadata": {},
   "source": [
    "<hr style=\"border:2px solid black\">"
   ]
  },
  {
   "cell_type": "markdown",
   "id": "88c73b68",
   "metadata": {},
   "source": [
    "## 4. Choosing Regression Type"
   ]
  },
  {
   "cell_type": "markdown",
   "id": "96e84fb4",
   "metadata": {},
   "source": [
    ">- What kind of data type is the target variable?\n",
    ">- Is multicollinearity present in the features?\n",
    ">- What is the distribution of the target variable?"
   ]
  },
  {
   "cell_type": "markdown",
   "id": "913a849e",
   "metadata": {},
   "source": [
    "### 4.1 Continuous Target"
   ]
  },
  {
   "cell_type": "markdown",
   "id": "cfdac6ce",
   "metadata": {},
   "source": [
    "- `Linear Regression`: \n",
    "> most common and most straightforward\n",
    "- `Ridge Regression`:\n",
    "> helps with multicollinearity issue\n",
    "- `Lasso Regression`:\n",
    "> performs feature selection, helps with multicollinearity "
   ]
  },
  {
   "cell_type": "markdown",
   "id": "baa8242f",
   "metadata": {},
   "source": [
    "### 4.2 Categorical Target"
   ]
  },
  {
   "cell_type": "markdown",
   "id": "1b2dd93a",
   "metadata": {},
   "source": [
    "- `Binary Logistic Regression`:\n",
    "> makes use of logistic function for binary classification \n",
    "- `Multinomial Logistic Regression`: \n",
    "> makes use of softmax function for multiclass classification "
   ]
  },
  {
   "cell_type": "markdown",
   "id": "255dda3e",
   "metadata": {},
   "source": [
    "### 4.3 Count-Type Target"
   ]
  },
  {
   "cell_type": "markdown",
   "id": "ea9821a9",
   "metadata": {},
   "source": [
    "- [`Poisson Regression`](https://scikit-learn.org/stable/modules/generated/sklearn.linear_model.PoissonRegressor.html):\n",
    "> makes use of natural log function, good if count data follow Poisson distribution as is often the case\n",
    "- [`Zero-Inflated Regression`](https://www.statsmodels.org/dev/generated/statsmodels.discrete.count_model.ZeroInflatedPoisson.html): \n",
    "> good for count data having too many zero values to follow Poisson distribution"
   ]
  },
  {
   "cell_type": "markdown",
   "id": "f0df2ebd",
   "metadata": {},
   "source": [
    "<hr style=\"border:2px solid black\">"
   ]
  },
  {
   "cell_type": "markdown",
   "id": "5d8f1bfe",
   "metadata": {},
   "source": [
    "## References\n",
    "\n",
    "- [Linear Regression](https://statisticsbyjim.com/regression/linear-regression/)\n",
    "\n",
    "- [7 Classical Assumptions of Ordinary Least Squares (OLS) Linear Regression](https://statisticsbyjim.com/regression/ols-linear-regression-assumptions/)\n",
    "\n",
    "- [Choosing the Correct Type of Regression Analysis](https://statisticsbyjim.com/regression/choosing-regression-analysis/)"
   ]
  },
  {
   "cell_type": "code",
   "execution_count": null,
   "id": "e5815e0b",
   "metadata": {},
   "outputs": [],
   "source": []
  }
 ],
 "metadata": {
  "kernelspec": {
   "display_name": "Python 3 (ipykernel)",
   "language": "python",
   "name": "python3"
  },
  "language_info": {
   "codemirror_mode": {
    "name": "ipython",
    "version": 3
   },
   "file_extension": ".py",
   "mimetype": "text/x-python",
   "name": "python",
   "nbconvert_exporter": "python",
   "pygments_lexer": "ipython3",
   "version": "3.10.7"
  }
 },
 "nbformat": 4,
 "nbformat_minor": 5
}

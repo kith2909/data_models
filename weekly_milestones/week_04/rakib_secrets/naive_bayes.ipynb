{
 "cells": [
  {
   "cell_type": "markdown",
   "id": "94be545c",
   "metadata": {},
   "source": [
    "**Load packages**"
   ]
  },
  {
   "cell_type": "code",
   "execution_count": 128,
   "id": "53545c44",
   "metadata": {},
   "outputs": [],
   "source": [
    "# data analysis stack\n",
    "import numpy as np\n",
    "import pandas as pd\n",
    "\n",
    "# data visualization stack\n",
    "import matplotlib.pyplot as plt\n",
    "%matplotlib inline\n",
    "import seaborn as sns\n",
    "sns.set_style('whitegrid')\n",
    "\n",
    "# text-related stack\n",
    "from sklearn.feature_extraction import text\n",
    "from sklearn.feature_extraction.text import CountVectorizer, TfidfTransformer\n",
    "\n",
    "# scikit-learn stack\n",
    "from sklearn.model_selection import train_test_split, GridSearchCV\n",
    "from imblearn.pipeline import make_pipeline \n",
    "from sklearn.naive_bayes import MultinomialNB, ComplementNB\n",
    "from sklearn.metrics import accuracy_score, precision_score, recall_score, balanced_accuracy_score\n",
    "from sklearn.metrics import confusion_matrix\n",
    "\n",
    "# imbalanced learn stack\n",
    "from imblearn.pipeline import Pipeline as imb_pipeline\n",
    "from imblearn.over_sampling import RandomOverSampler, SMOTE\n",
    "from sklearn.ensemble import RandomForestClassifier\n",
    "\n",
    "# miscellaneous\n",
    "import time\n",
    "import warnings\n",
    "warnings.filterwarnings(\"ignore\")"
   ]
  },
  {
   "cell_type": "markdown",
   "id": "04acee86",
   "metadata": {},
   "source": [
    "**Load data**"
   ]
  },
  {
   "cell_type": "code",
   "execution_count": 129,
   "id": "8fd688dc",
   "metadata": {},
   "outputs": [],
   "source": [
    "#df = pd.read_csv('../data/music.csv', index_col=0)\n",
    "df = pd.read_csv('../data/music_3.csv', index_col=0)"
   ]
  },
  {
   "cell_type": "markdown",
   "id": "753ba5bb",
   "metadata": {},
   "source": [
    "### 3.1 Check data"
   ]
  },
  {
   "cell_type": "code",
   "execution_count": 130,
   "id": "09b7b579",
   "metadata": {},
   "outputs": [
    {
     "data": {
      "text/html": [
       "<div>\n",
       "<style scoped>\n",
       "    .dataframe tbody tr th:only-of-type {\n",
       "        vertical-align: middle;\n",
       "    }\n",
       "\n",
       "    .dataframe tbody tr th {\n",
       "        vertical-align: top;\n",
       "    }\n",
       "\n",
       "    .dataframe thead th {\n",
       "        text-align: right;\n",
       "    }\n",
       "</style>\n",
       "<table border=\"1\" class=\"dataframe\">\n",
       "  <thead>\n",
       "    <tr style=\"text-align: right;\">\n",
       "      <th></th>\n",
       "      <th>group</th>\n",
       "      <th>song_lines</th>\n",
       "    </tr>\n",
       "  </thead>\n",
       "  <tbody>\n",
       "    <tr>\n",
       "      <th>0</th>\n",
       "      <td>Kaleo</td>\n",
       "      <td>home grounds</td>\n",
       "    </tr>\n",
       "    <tr>\n",
       "      <th>1</th>\n",
       "      <td>Kaleo</td>\n",
       "      <td>feels like the weight has been lifted away</td>\n",
       "    </tr>\n",
       "    <tr>\n",
       "      <th>2</th>\n",
       "      <td>Kaleo</td>\n",
       "      <td>but if she leaves me there, i won't run</td>\n",
       "    </tr>\n",
       "    <tr>\n",
       "      <th>3</th>\n",
       "      <td>Kaleo</td>\n",
       "      <td>please pass it on, carry me down</td>\n",
       "    </tr>\n",
       "    <tr>\n",
       "      <th>4</th>\n",
       "      <td>Kaleo</td>\n",
       "      <td>all you need to know is i want more, more</td>\n",
       "    </tr>\n",
       "  </tbody>\n",
       "</table>\n",
       "</div>"
      ],
      "text/plain": [
       "   group                                  song_lines\n",
       "0  Kaleo                                home grounds\n",
       "1  Kaleo  feels like the weight has been lifted away\n",
       "2  Kaleo     but if she leaves me there, i won't run\n",
       "3  Kaleo            please pass it on, carry me down\n",
       "4  Kaleo   all you need to know is i want more, more"
      ]
     },
     "execution_count": 130,
     "metadata": {},
     "output_type": "execute_result"
    }
   ],
   "source": [
    "# dataframe head\n",
    "df.head()"
   ]
  },
  {
   "cell_type": "code",
   "execution_count": 131,
   "id": "0834926a",
   "metadata": {},
   "outputs": [
    {
     "name": "stdout",
     "output_type": "stream",
     "text": [
      "<class 'pandas.core.frame.DataFrame'>\n",
      "Index: 13224 entries, 0 to 13223\n",
      "Data columns (total 2 columns):\n",
      " #   Column      Non-Null Count  Dtype \n",
      "---  ------      --------------  ----- \n",
      " 0   group       13224 non-null  object\n",
      " 1   song_lines  11992 non-null  object\n",
      "dtypes: object(2)\n",
      "memory usage: 309.9+ KB\n",
      "<class 'pandas.core.frame.DataFrame'>\n",
      "Index: 11992 entries, 0 to 13223\n",
      "Data columns (total 2 columns):\n",
      " #   Column      Non-Null Count  Dtype \n",
      "---  ------      --------------  ----- \n",
      " 0   group       11992 non-null  object\n",
      " 1   song_lines  11992 non-null  object\n",
      "dtypes: object(2)\n",
      "memory usage: 281.1+ KB\n"
     ]
    }
   ],
   "source": [
    "# summary information on the data\n",
    "df.info()\n",
    "df = df.dropna()\n",
    "df.info()"
   ]
  },
  {
   "cell_type": "code",
   "execution_count": 132,
   "id": "9754d5ff",
   "metadata": {},
   "outputs": [
    {
     "data": {
      "text/plain": [
       "0"
      ]
     },
     "execution_count": 132,
     "metadata": {},
     "output_type": "execute_result"
    }
   ],
   "source": [
    "# confirm no values missing\n",
    "df.isna().sum().sum()"
   ]
  },
  {
   "cell_type": "code",
   "execution_count": 133,
   "id": "d7bd9a61",
   "metadata": {},
   "outputs": [
    {
     "data": {
      "text/plain": [
       "group\n",
       "Coldplay    9580\n",
       "Måneskin    1833\n",
       "Kaleo        579\n",
       "Name: count, dtype: int64"
      ]
     },
     "execution_count": 133,
     "metadata": {},
     "output_type": "execute_result"
    }
   ],
   "source": [
    "# check balance in target variable\n",
    "df[\"group\"].value_counts()"
   ]
  },
  {
   "cell_type": "code",
   "execution_count": 134,
   "id": "9ec9f5f2",
   "metadata": {},
   "outputs": [
    {
     "data": {
      "text/plain": [
       "group\n",
       "Coldplay    0.798866\n",
       "Måneskin    0.152852\n",
       "Kaleo       0.048282\n",
       "Name: proportion, dtype: float64"
      ]
     },
     "execution_count": 134,
     "metadata": {},
     "output_type": "execute_result"
    }
   ],
   "source": [
    "# check normalized balance in target variable\n",
    "df[\"group\"].value_counts(normalize=True)\n",
    "#df.loc[df[\"group\"] == \"Kaleo\", \"group\"] = 1\n",
    "#df.loc[df[\"group\"] == \"Coldplay\", \"group\"] = 0\n",
    "#df.loc[df[\"group\"] == \"Måneskin\", \"group\"] = 2\n",
    "#df[\"group\"].value_counts(normalize=True)\n"
   ]
  },
  {
   "cell_type": "code",
   "execution_count": 135,
   "id": "8ef5b550",
   "metadata": {},
   "outputs": [
    {
     "data": {
      "text/plain": [
       "array(['Kaleo', 'Måneskin', 'Coldplay'], dtype=object)"
      ]
     },
     "execution_count": 135,
     "metadata": {},
     "output_type": "execute_result"
    }
   ],
   "source": [
    "df[\"group\"].unique()"
   ]
  },
  {
   "cell_type": "markdown",
   "id": "0604f021",
   "metadata": {},
   "source": [
    "***Observation: target variable is imbalanced (minority class = positive class = 1 class)***"
   ]
  },
  {
   "cell_type": "markdown",
   "id": "5b020cad",
   "metadata": {},
   "source": [
    "### 3.2 *Stratified* Train-Test Split"
   ]
  },
  {
   "cell_type": "code",
   "execution_count": 136,
   "id": "37026232",
   "metadata": {},
   "outputs": [],
   "source": [
    "# train-test split of features and labels\n",
    "X_train, X_test, y_train, y_test = \\\n",
    "train_test_split(df[\"song_lines\"], df[\"group\"], test_size=0.05, random_state=42) #stratify=df[\"group\"]"
   ]
  },
  {
   "cell_type": "code",
   "execution_count": 137,
   "id": "3b5eafb1",
   "metadata": {},
   "outputs": [
    {
     "data": {
      "text/plain": [
       "((11392,), (11392,))"
      ]
     },
     "execution_count": 137,
     "metadata": {},
     "output_type": "execute_result"
    }
   ],
   "source": [
    "# train dataframe shape\n",
    "X_train.shape, y_train.shape"
   ]
  },
  {
   "cell_type": "code",
   "execution_count": 138,
   "id": "e728c1e0",
   "metadata": {},
   "outputs": [
    {
     "data": {
      "text/plain": [
       "group\n",
       "Coldplay    0.798894\n",
       "Måneskin    0.153178\n",
       "Kaleo       0.047928\n",
       "Name: proportion, dtype: float64"
      ]
     },
     "execution_count": 138,
     "metadata": {},
     "output_type": "execute_result"
    }
   ],
   "source": [
    "# target imbalance in training data\n",
    "y_train.value_counts(normalize=True)"
   ]
  },
  {
   "cell_type": "code",
   "execution_count": 139,
   "id": "fa55f68d",
   "metadata": {},
   "outputs": [
    {
     "data": {
      "text/plain": [
       "array(['Coldplay', 'Måneskin', 'Kaleo'], dtype=object)"
      ]
     },
     "execution_count": 139,
     "metadata": {},
     "output_type": "execute_result"
    }
   ],
   "source": [
    "y_train.unique()"
   ]
  },
  {
   "cell_type": "code",
   "execution_count": 140,
   "id": "feb8a8a1",
   "metadata": {},
   "outputs": [
    {
     "data": {
      "text/plain": [
       "((600,), (600,))"
      ]
     },
     "execution_count": 140,
     "metadata": {},
     "output_type": "execute_result"
    }
   ],
   "source": [
    "# test dataframe shape\n",
    "X_test.shape, y_test.shape"
   ]
  },
  {
   "cell_type": "code",
   "execution_count": 141,
   "id": "26cd369f",
   "metadata": {},
   "outputs": [
    {
     "data": {
      "text/plain": [
       "group\n",
       "Coldplay    0.798333\n",
       "Måneskin    0.146667\n",
       "Kaleo       0.055000\n",
       "Name: proportion, dtype: float64"
      ]
     },
     "execution_count": 141,
     "metadata": {},
     "output_type": "execute_result"
    }
   ],
   "source": [
    "# target imbalance in test data\n",
    "y_test.value_counts(normalize=True)"
   ]
  },
  {
   "cell_type": "markdown",
   "id": "c9e4d5d8",
   "metadata": {},
   "source": [
    "### 3.3 A Simple Model"
   ]
  },
  {
   "cell_type": "markdown",
   "id": "93982fa2",
   "metadata": {},
   "source": [
    "**Model building**"
   ]
  },
  {
   "cell_type": "markdown",
   "id": "173d7325",
   "metadata": {},
   "source": [
    "**Model evaluation**"
   ]
  },
  {
   "cell_type": "markdown",
   "id": "de510eeb",
   "metadata": {},
   "source": [
    "### 3.4 Grid Search with Cross Validation"
   ]
  },
  {
   "cell_type": "markdown",
   "id": "3e3ef7e4",
   "metadata": {},
   "source": [
    "**Grid estimator**"
   ]
  },
  {
   "cell_type": "code",
   "execution_count": 143,
   "id": "cf06861a",
   "metadata": {},
   "outputs": [],
   "source": [
    "estimator = imb_pipeline(\n",
    "    steps=[\n",
    "        # count vectorizer\n",
    "        ('vectorizer', CountVectorizer(stop_words='english')),\n",
    "        # tfidf transformer\n",
    "        ('tfidf', None),\n",
    "        # smote oversampling\n",
    "        ('oversampler', None),\n",
    "        # naive bayes classifier\n",
    "        ('classifier', MultinomialNB())\n",
    "    ]\n",
    ")"
   ]
  },
  {
   "cell_type": "markdown",
   "id": "40a084a1",
   "metadata": {},
   "source": [
    "**Parameter grid**"
   ]
  },
  {
   "cell_type": "code",
   "execution_count": 144,
   "id": "85e349a5",
   "metadata": {},
   "outputs": [],
   "source": [
    "param_grid = {\n",
    "    \n",
    "    'tfidf': [\n",
    "        None,\n",
    "        TfidfTransformer(use_idf=False), \n",
    "        TfidfTransformer(use_idf=True)\n",
    "    ],\n",
    "    \n",
    "    'oversampler': [\n",
    "        None,\n",
    "        RandomOverSampler(random_state=10,sampling_strategy=1.0),\n",
    "        SMOTE(sampling_strategy=1.0)\n",
    "    ],\n",
    "    \n",
    "    'classifier': [MultinomialNB(), ComplementNB(), RandomForestClassifier()]\n",
    "}"
   ]
  },
  {
   "cell_type": "markdown",
   "id": "ea7156b0",
   "metadata": {},
   "source": [
    "**Grid-search cross-validation**"
   ]
  },
  {
   "cell_type": "code",
   "execution_count": 145,
   "id": "a928583e",
   "metadata": {
    "scrolled": true
   },
   "outputs": [],
   "source": [
    "gscv = GridSearchCV(\n",
    "    estimator=estimator,\n",
    "    param_grid=param_grid,\n",
    "    scoring='accuracy',\n",
    "    cv=5, \n",
    "    n_jobs=-1,\n",
    "    verbose=1\n",
    ")"
   ]
  },
  {
   "cell_type": "code",
   "execution_count": 146,
   "id": "5da32cc9",
   "metadata": {},
   "outputs": [
    {
     "name": "stdout",
     "output_type": "stream",
     "text": [
      "Fitting 5 folds for each of 27 candidates, totalling 135 fits\n",
      "time taken: 16.58 sec\n"
     ]
    }
   ],
   "source": [
    "# initial time\n",
    "ti = time.time()\n",
    "\n",
    "# grid-search cross-validation\n",
    "gscv.fit(df['song_lines'],df['group'])\n",
    "\n",
    "# final time \n",
    "tf = time.time()\n",
    "\n",
    "# time taken\n",
    "print(f\"time taken: {round(tf-ti,2)} sec\")"
   ]
  },
  {
   "cell_type": "markdown",
   "id": "4d425da7",
   "metadata": {},
   "source": [
    "**Cross-validation results**"
   ]
  },
  {
   "cell_type": "code",
   "execution_count": 148,
   "id": "c57ab572",
   "metadata": {},
   "outputs": [],
   "source": [
    "# list of columns to show\n",
    "column_list = ['param_tfidf',\n",
    "               'param_oversampler',\n",
    "               'param_classifier',\n",
    "               'mean_test_score',\n",
    "               'std_test_score',\n",
    "               'rank_test_score'\n",
    "              ]\n",
    "# create result dataframe\n",
    "result_df = pd.DataFrame(gscv.cv_results_)[column_list]\n",
    "\n",
    "# rename columns\n",
    "result_df.rename(\n",
    "    columns=lambda name: name.split('param_')[-1],inplace=True\n",
    ")\n",
    "\n",
    "# order by rank\n",
    "result_df.sort_values(\n",
    "    by='rank_test_score', ascending=True, inplace=True, ignore_index=True\n",
    ")"
   ]
  },
  {
   "cell_type": "code",
   "execution_count": 149,
   "id": "36d7fba4",
   "metadata": {},
   "outputs": [
    {
     "data": {
      "text/html": [
       "<div>\n",
       "<style scoped>\n",
       "    .dataframe tbody tr th:only-of-type {\n",
       "        vertical-align: middle;\n",
       "    }\n",
       "\n",
       "    .dataframe tbody tr th {\n",
       "        vertical-align: top;\n",
       "    }\n",
       "\n",
       "    .dataframe thead th {\n",
       "        text-align: right;\n",
       "    }\n",
       "</style>\n",
       "<table border=\"1\" class=\"dataframe\">\n",
       "  <thead>\n",
       "    <tr style=\"text-align: right;\">\n",
       "      <th></th>\n",
       "      <th>tfidf</th>\n",
       "      <th>oversampler</th>\n",
       "      <th>classifier</th>\n",
       "      <th>mean_test_score</th>\n",
       "      <th>std_test_score</th>\n",
       "      <th>rank_test_score</th>\n",
       "    </tr>\n",
       "  </thead>\n",
       "  <tbody>\n",
       "    <tr>\n",
       "      <th>0</th>\n",
       "      <td>TfidfTransformer()</td>\n",
       "      <td>None</td>\n",
       "      <td>MultinomialNB()</td>\n",
       "      <td>0.868829</td>\n",
       "      <td>0.019710</td>\n",
       "      <td>1</td>\n",
       "    </tr>\n",
       "    <tr>\n",
       "      <th>1</th>\n",
       "      <td>TfidfTransformer(use_idf=False)</td>\n",
       "      <td>None</td>\n",
       "      <td>MultinomialNB()</td>\n",
       "      <td>0.868662</td>\n",
       "      <td>0.019570</td>\n",
       "      <td>2</td>\n",
       "    </tr>\n",
       "    <tr>\n",
       "      <th>2</th>\n",
       "      <td>None</td>\n",
       "      <td>None</td>\n",
       "      <td>MultinomialNB()</td>\n",
       "      <td>0.866743</td>\n",
       "      <td>0.017649</td>\n",
       "      <td>3</td>\n",
       "    </tr>\n",
       "    <tr>\n",
       "      <th>3</th>\n",
       "      <td>TfidfTransformer(use_idf=False)</td>\n",
       "      <td>None</td>\n",
       "      <td>RandomForestClassifier()</td>\n",
       "      <td>0.859824</td>\n",
       "      <td>0.007114</td>\n",
       "      <td>4</td>\n",
       "    </tr>\n",
       "    <tr>\n",
       "      <th>4</th>\n",
       "      <td>None</td>\n",
       "      <td>None</td>\n",
       "      <td>RandomForestClassifier()</td>\n",
       "      <td>0.857905</td>\n",
       "      <td>0.006541</td>\n",
       "      <td>5</td>\n",
       "    </tr>\n",
       "    <tr>\n",
       "      <th>5</th>\n",
       "      <td>TfidfTransformer()</td>\n",
       "      <td>None</td>\n",
       "      <td>RandomForestClassifier()</td>\n",
       "      <td>0.853486</td>\n",
       "      <td>0.008622</td>\n",
       "      <td>6</td>\n",
       "    </tr>\n",
       "    <tr>\n",
       "      <th>6</th>\n",
       "      <td>None</td>\n",
       "      <td>None</td>\n",
       "      <td>ComplementNB()</td>\n",
       "      <td>0.836559</td>\n",
       "      <td>0.015118</td>\n",
       "      <td>7</td>\n",
       "    </tr>\n",
       "    <tr>\n",
       "      <th>7</th>\n",
       "      <td>TfidfTransformer()</td>\n",
       "      <td>None</td>\n",
       "      <td>ComplementNB()</td>\n",
       "      <td>0.827386</td>\n",
       "      <td>0.013072</td>\n",
       "      <td>8</td>\n",
       "    </tr>\n",
       "    <tr>\n",
       "      <th>8</th>\n",
       "      <td>TfidfTransformer(use_idf=False)</td>\n",
       "      <td>None</td>\n",
       "      <td>ComplementNB()</td>\n",
       "      <td>0.826218</td>\n",
       "      <td>0.011334</td>\n",
       "      <td>9</td>\n",
       "    </tr>\n",
       "    <tr>\n",
       "      <th>9</th>\n",
       "      <td>None</td>\n",
       "      <td>SMOTE(sampling_strategy=1.0)</td>\n",
       "      <td>RandomForestClassifier()</td>\n",
       "      <td>NaN</td>\n",
       "      <td>NaN</td>\n",
       "      <td>10</td>\n",
       "    </tr>\n",
       "  </tbody>\n",
       "</table>\n",
       "</div>"
      ],
      "text/plain": [
       "                             tfidf                   oversampler   \n",
       "0               TfidfTransformer()                          None  \\\n",
       "1  TfidfTransformer(use_idf=False)                          None   \n",
       "2                             None                          None   \n",
       "3  TfidfTransformer(use_idf=False)                          None   \n",
       "4                             None                          None   \n",
       "5               TfidfTransformer()                          None   \n",
       "6                             None                          None   \n",
       "7               TfidfTransformer()                          None   \n",
       "8  TfidfTransformer(use_idf=False)                          None   \n",
       "9                             None  SMOTE(sampling_strategy=1.0)   \n",
       "\n",
       "                 classifier  mean_test_score  std_test_score  rank_test_score  \n",
       "0           MultinomialNB()         0.868829        0.019710                1  \n",
       "1           MultinomialNB()         0.868662        0.019570                2  \n",
       "2           MultinomialNB()         0.866743        0.017649                3  \n",
       "3  RandomForestClassifier()         0.859824        0.007114                4  \n",
       "4  RandomForestClassifier()         0.857905        0.006541                5  \n",
       "5  RandomForestClassifier()         0.853486        0.008622                6  \n",
       "6            ComplementNB()         0.836559        0.015118                7  \n",
       "7            ComplementNB()         0.827386        0.013072                8  \n",
       "8            ComplementNB()         0.826218        0.011334                9  \n",
       "9  RandomForestClassifier()              NaN             NaN               10  "
      ]
     },
     "execution_count": 149,
     "metadata": {},
     "output_type": "execute_result"
    }
   ],
   "source": [
    "result_df.head(10)"
   ]
  },
  {
   "cell_type": "markdown",
   "id": "2ab07019",
   "metadata": {},
   "source": [
    "**Best hyperparameters**"
   ]
  },
  {
   "cell_type": "code",
   "execution_count": 150,
   "id": "5b0c348a",
   "metadata": {
    "scrolled": true
   },
   "outputs": [
    {
     "data": {
      "text/plain": [
       "{'classifier': MultinomialNB(),\n",
       " 'oversampler': None,\n",
       " 'tfidf': TfidfTransformer()}"
      ]
     },
     "execution_count": 150,
     "metadata": {},
     "output_type": "execute_result"
    }
   ],
   "source": [
    "gscv.best_params_"
   ]
  },
  {
   "cell_type": "markdown",
   "id": "374b3d6b",
   "metadata": {},
   "source": [
    "**Best score**"
   ]
  },
  {
   "cell_type": "code",
   "execution_count": 151,
   "id": "f0635466",
   "metadata": {},
   "outputs": [
    {
     "data": {
      "text/plain": [
       "0.868829"
      ]
     },
     "execution_count": 151,
     "metadata": {},
     "output_type": "execute_result"
    }
   ],
   "source": [
    "round(gscv.best_score_,6)"
   ]
  },
  {
   "cell_type": "markdown",
   "id": "1b06439c",
   "metadata": {},
   "source": [
    "**Select best model**"
   ]
  },
  {
   "cell_type": "code",
   "execution_count": 152,
   "id": "c2ecdb9b",
   "metadata": {},
   "outputs": [
    {
     "data": {
      "text/html": [
       "<style>#sk-container-id-3 {color: black;background-color: white;}#sk-container-id-3 pre{padding: 0;}#sk-container-id-3 div.sk-toggleable {background-color: white;}#sk-container-id-3 label.sk-toggleable__label {cursor: pointer;display: block;width: 100%;margin-bottom: 0;padding: 0.3em;box-sizing: border-box;text-align: center;}#sk-container-id-3 label.sk-toggleable__label-arrow:before {content: \"▸\";float: left;margin-right: 0.25em;color: #696969;}#sk-container-id-3 label.sk-toggleable__label-arrow:hover:before {color: black;}#sk-container-id-3 div.sk-estimator:hover label.sk-toggleable__label-arrow:before {color: black;}#sk-container-id-3 div.sk-toggleable__content {max-height: 0;max-width: 0;overflow: hidden;text-align: left;background-color: #f0f8ff;}#sk-container-id-3 div.sk-toggleable__content pre {margin: 0.2em;color: black;border-radius: 0.25em;background-color: #f0f8ff;}#sk-container-id-3 input.sk-toggleable__control:checked~div.sk-toggleable__content {max-height: 200px;max-width: 100%;overflow: auto;}#sk-container-id-3 input.sk-toggleable__control:checked~label.sk-toggleable__label-arrow:before {content: \"▾\";}#sk-container-id-3 div.sk-estimator input.sk-toggleable__control:checked~label.sk-toggleable__label {background-color: #d4ebff;}#sk-container-id-3 div.sk-label input.sk-toggleable__control:checked~label.sk-toggleable__label {background-color: #d4ebff;}#sk-container-id-3 input.sk-hidden--visually {border: 0;clip: rect(1px 1px 1px 1px);clip: rect(1px, 1px, 1px, 1px);height: 1px;margin: -1px;overflow: hidden;padding: 0;position: absolute;width: 1px;}#sk-container-id-3 div.sk-estimator {font-family: monospace;background-color: #f0f8ff;border: 1px dotted black;border-radius: 0.25em;box-sizing: border-box;margin-bottom: 0.5em;}#sk-container-id-3 div.sk-estimator:hover {background-color: #d4ebff;}#sk-container-id-3 div.sk-parallel-item::after {content: \"\";width: 100%;border-bottom: 1px solid gray;flex-grow: 1;}#sk-container-id-3 div.sk-label:hover label.sk-toggleable__label {background-color: #d4ebff;}#sk-container-id-3 div.sk-serial::before {content: \"\";position: absolute;border-left: 1px solid gray;box-sizing: border-box;top: 0;bottom: 0;left: 50%;z-index: 0;}#sk-container-id-3 div.sk-serial {display: flex;flex-direction: column;align-items: center;background-color: white;padding-right: 0.2em;padding-left: 0.2em;position: relative;}#sk-container-id-3 div.sk-item {position: relative;z-index: 1;}#sk-container-id-3 div.sk-parallel {display: flex;align-items: stretch;justify-content: center;background-color: white;position: relative;}#sk-container-id-3 div.sk-item::before, #sk-container-id-3 div.sk-parallel-item::before {content: \"\";position: absolute;border-left: 1px solid gray;box-sizing: border-box;top: 0;bottom: 0;left: 50%;z-index: -1;}#sk-container-id-3 div.sk-parallel-item {display: flex;flex-direction: column;z-index: 1;position: relative;background-color: white;}#sk-container-id-3 div.sk-parallel-item:first-child::after {align-self: flex-end;width: 50%;}#sk-container-id-3 div.sk-parallel-item:last-child::after {align-self: flex-start;width: 50%;}#sk-container-id-3 div.sk-parallel-item:only-child::after {width: 0;}#sk-container-id-3 div.sk-dashed-wrapped {border: 1px dashed gray;margin: 0 0.4em 0.5em 0.4em;box-sizing: border-box;padding-bottom: 0.4em;background-color: white;}#sk-container-id-3 div.sk-label label {font-family: monospace;font-weight: bold;display: inline-block;line-height: 1.2em;}#sk-container-id-3 div.sk-label-container {text-align: center;}#sk-container-id-3 div.sk-container {/* jupyter's `normalize.less` sets `[hidden] { display: none; }` but bootstrap.min.css set `[hidden] { display: none !important; }` so we also need the `!important` here to be able to override the default hidden behavior on the sphinx rendered scikit-learn.org. See: https://github.com/scikit-learn/scikit-learn/issues/21755 */display: inline-block !important;position: relative;}#sk-container-id-3 div.sk-text-repr-fallback {display: none;}</style><div id=\"sk-container-id-3\" class=\"sk-top-container\"><div class=\"sk-text-repr-fallback\"><pre>Pipeline(steps=[(&#x27;vectorizer&#x27;, CountVectorizer(stop_words=&#x27;english&#x27;)),\n",
       "                (&#x27;tfidf&#x27;, TfidfTransformer()), (&#x27;oversampler&#x27;, None),\n",
       "                (&#x27;classifier&#x27;, MultinomialNB())])</pre><b>In a Jupyter environment, please rerun this cell to show the HTML representation or trust the notebook. <br />On GitHub, the HTML representation is unable to render, please try loading this page with nbviewer.org.</b></div><div class=\"sk-container\" hidden><div class=\"sk-item sk-dashed-wrapped\"><div class=\"sk-label-container\"><div class=\"sk-label sk-toggleable\"><input class=\"sk-toggleable__control sk-hidden--visually\" id=\"sk-estimator-id-11\" type=\"checkbox\" ><label for=\"sk-estimator-id-11\" class=\"sk-toggleable__label sk-toggleable__label-arrow\">Pipeline</label><div class=\"sk-toggleable__content\"><pre>Pipeline(steps=[(&#x27;vectorizer&#x27;, CountVectorizer(stop_words=&#x27;english&#x27;)),\n",
       "                (&#x27;tfidf&#x27;, TfidfTransformer()), (&#x27;oversampler&#x27;, None),\n",
       "                (&#x27;classifier&#x27;, MultinomialNB())])</pre></div></div></div><div class=\"sk-serial\"><div class=\"sk-item\"><div class=\"sk-estimator sk-toggleable\"><input class=\"sk-toggleable__control sk-hidden--visually\" id=\"sk-estimator-id-12\" type=\"checkbox\" ><label for=\"sk-estimator-id-12\" class=\"sk-toggleable__label sk-toggleable__label-arrow\">CountVectorizer</label><div class=\"sk-toggleable__content\"><pre>CountVectorizer(stop_words=&#x27;english&#x27;)</pre></div></div></div><div class=\"sk-item\"><div class=\"sk-estimator sk-toggleable\"><input class=\"sk-toggleable__control sk-hidden--visually\" id=\"sk-estimator-id-13\" type=\"checkbox\" ><label for=\"sk-estimator-id-13\" class=\"sk-toggleable__label sk-toggleable__label-arrow\">TfidfTransformer</label><div class=\"sk-toggleable__content\"><pre>TfidfTransformer()</pre></div></div></div><div class=\"sk-item\"><div class=\"sk-estimator sk-toggleable\"><input class=\"sk-toggleable__control sk-hidden--visually\" id=\"sk-estimator-id-14\" type=\"checkbox\" ><label for=\"sk-estimator-id-14\" class=\"sk-toggleable__label sk-toggleable__label-arrow\">None</label><div class=\"sk-toggleable__content\"><pre>None</pre></div></div></div><div class=\"sk-item\"><div class=\"sk-estimator sk-toggleable\"><input class=\"sk-toggleable__control sk-hidden--visually\" id=\"sk-estimator-id-15\" type=\"checkbox\" ><label for=\"sk-estimator-id-15\" class=\"sk-toggleable__label sk-toggleable__label-arrow\">MultinomialNB</label><div class=\"sk-toggleable__content\"><pre>MultinomialNB()</pre></div></div></div></div></div></div></div>"
      ],
      "text/plain": [
       "Pipeline(steps=[('vectorizer', CountVectorizer(stop_words='english')),\n",
       "                ('tfidf', TfidfTransformer()), ('oversampler', None),\n",
       "                ('classifier', MultinomialNB())])"
      ]
     },
     "execution_count": 152,
     "metadata": {},
     "output_type": "execute_result"
    }
   ],
   "source": [
    "best_model = gscv.best_estimator_\n",
    "best_model"
   ]
  },
  {
   "cell_type": "markdown",
   "id": "aacf7e33",
   "metadata": {},
   "source": [
    "**Build model**"
   ]
  },
  {
   "cell_type": "code",
   "execution_count": 153,
   "id": "67c0219b",
   "metadata": {},
   "outputs": [],
   "source": [
    "best_model.fit(X_train,y_train);"
   ]
  },
  {
   "cell_type": "markdown",
   "id": "14739770",
   "metadata": {},
   "source": [
    "**Model performance**"
   ]
  },
  {
   "cell_type": "code",
   "execution_count": 154,
   "id": "be50bb31",
   "metadata": {},
   "outputs": [],
   "source": [
    "# predictions on test data\n",
    "y_pred = best_model.predict(X_test)\n"
   ]
  },
  {
   "cell_type": "code",
   "execution_count": 155,
   "id": "86e9586c",
   "metadata": {},
   "outputs": [
    {
     "data": {
      "text/plain": [
       "<Axes: >"
      ]
     },
     "execution_count": 155,
     "metadata": {},
     "output_type": "execute_result"
    },
    {
     "data": {
      "image/png": "[encoded data removed]",
      "text/plain": [
       "<Figure size 640x480 with 2 Axes>"
      ]
     },
     "metadata": {},
     "output_type": "display_data"
    }
   ],
   "source": [
    "# confusion matrix heatmap\n",
    "sns.heatmap(\n",
    "    data=confusion_matrix(y_test,y_pred),\n",
    "    cmap='crest',\n",
    "    annot=True,\n",
    "    linewidths=1,\n",
    "    linecolor='white',\n",
    "    xticklabels=['predicted -ve','predicted +ve'],\n",
    "    yticklabels=['actual -ve','actual +ve']\n",
    ")"
   ]
  },
  {
   "cell_type": "markdown",
   "id": "7954ca9e",
   "metadata": {},
   "source": [
    "<hr style=\"border:2px solid black\">"
   ]
  },
  {
   "cell_type": "code",
   "execution_count": 156,
   "id": "56e57f99",
   "metadata": {},
   "outputs": [
    {
     "data": {
      "text/plain": [
       "array(['Coldplay'], dtype='<U8')"
      ]
     },
     "execution_count": 156,
     "metadata": {},
     "output_type": "execute_result"
    }
   ],
   "source": [
    "y_pred = best_model.predict(['way down we go'])\n",
    "y_pred "
   ]
  },
  {
   "cell_type": "code",
   "execution_count": 157,
   "id": "d5377d2a",
   "metadata": {},
   "outputs": [],
   "source": [
    "import pickle\n",
    "model_filename = '../data/model_music_best_1.pkl'\n",
    "\n",
    "\n",
    "pickle.dump(best_model, open(model_filename,'wb'))"
   ]
  }
 ],
 "metadata": {
  "kernelspec": {
   "display_name": "Python 3 (ipykernel)",
   "language": "python",
   "name": "python3"
  },
  "language_info": {
   "codemirror_mode": {
    "name": "ipython",
    "version": 3
   },
   "file_extension": ".py",
   "mimetype": "text/x-python",
   "name": "python",
   "nbconvert_exporter": "python",
   "pygments_lexer": "ipython3",
   "version": "3.11.0rc2"
  }
 },
 "nbformat": 4,
 "nbformat_minor": 5
}

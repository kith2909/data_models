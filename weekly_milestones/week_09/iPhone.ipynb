{
 "cells": [
  {
   "cell_type": "code",
   "execution_count": 1,
   "metadata": {},
   "outputs": [
    {
     "name": "stdout",
     "output_type": "stream",
     "text": [
      "Collecting pyobjc-framework-AVFoundation\n",
      "  Using cached pyobjc-framework-AVFoundation-9.1.1.tar.gz (785 kB)\n",
      "  Preparing metadata (setup.py): started\n",
      "  Preparing metadata (setup.py): finished with status 'error'\n",
      "Note: you may need to restart the kernel to use updated packages.\n"
     ]
    },
    {
     "name": "stderr",
     "output_type": "stream",
     "text": [
      "  error: subprocess-exited-with-error\n",
      "  \n",
      "  × python setup.py egg_info did not run successfully.\n",
      "  │ exit code: 1\n",
      "  ╰─> [9 lines of output]\n",
      "      Traceback (most recent call last):\n",
      "        File \"<string>\", line 2, in <module>\n",
      "        File \"<pip-setuptools-caller>\", line 34, in <module>\n",
      "        File \"C:\\Users\\andin\\AppData\\Local\\Temp\\pip-install-b6io8uf6\\pyobjc-framework-avfoundation_d4bf68b5e2fd4310bfc152ecbe210642\\setup.py\", line 22, in <module>\n",
      "          Extension(\n",
      "        File \"C:\\Users\\andin\\AppData\\Local\\Temp\\pip-install-b6io8uf6\\pyobjc-framework-avfoundation_d4bf68b5e2fd4310bfc152ecbe210642\\pyobjc_setup.py\", line 469, in Extension\n",
      "          if \"clang\" in get_config_var(\"CC\"):\n",
      "             ^^^^^^^^^^^^^^^^^^^^^^^^^^^^^^^\n",
      "      TypeError: argument of type 'NoneType' is not iterable\n",
      "      [end of output]\n",
      "  \n",
      "  note: This error originates from a subprocess, and is likely not a problem with pip.\n",
      "error: metadata-generation-failed\n",
      "\n",
      "× Encountered error while generating package metadata.\n",
      "╰─> See above for output.\n",
      "\n",
      "note: This is an issue with the package mentioned above, not pip.\n",
      "hint: See above for details.\n"
     ]
    }
   ],
   "source": [
    "pip install pyobjc-framework-AVFoundation pyobjc-framework-Cocoa pyobjc-framework-CoreMedia\n"
   ]
  },
  {
   "cell_type": "code",
   "execution_count": 3,
   "metadata": {},
   "outputs": [
    {
     "ename": "ModuleNotFoundError",
     "evalue": "No module named 'objc'",
     "output_type": "error",
     "traceback": [
      "\u001b[1;31m---------------------------------------------------------------------------\u001b[0m",
      "\u001b[1;31mModuleNotFoundError\u001b[0m                       Traceback (most recent call last)",
      "Cell \u001b[1;32mIn[3], line 1\u001b[0m\n\u001b[1;32m----> 1\u001b[0m \u001b[39mimport\u001b[39;00m \u001b[39mobjc\u001b[39;00m\n\u001b[0;32m      2\u001b[0m \u001b[39mfrom\u001b[39;00m \u001b[39mPyObjCTools\u001b[39;00m \u001b[39mimport\u001b[39;00m AppHelper\n\u001b[0;32m      3\u001b[0m \u001b[39mfrom\u001b[39;00m \u001b[39mFoundation\u001b[39;00m \u001b[39mimport\u001b[39;00m NSObject\n",
      "\u001b[1;31mModuleNotFoundError\u001b[0m: No module named 'objc'"
     ]
    }
   ],
   "source": [
    "import objc\n",
    "from PyObjCTools import AppHelper\n",
    "from Foundation import NSObject\n",
    "from AVFoundation import AVCaptureDevice, AVCaptureInput, AVCaptureSession, AVCaptureVideoDataOutput\n",
    "import Cocoa\n",
    "import Quartz"
   ]
  }
 ],
 "metadata": {
  "kernelspec": {
   "display_name": "Python 3",
   "language": "python",
   "name": "python3"
  },
  "language_info": {
   "codemirror_mode": {
    "name": "ipython",
    "version": 3
   },
   "file_extension": ".py",
   "mimetype": "text/x-python",
   "name": "python",
   "nbconvert_exporter": "python",
   "pygments_lexer": "ipython3",
   "version": "3.11.3"
  },
  "orig_nbformat": 4
 },
 "nbformat": 4,
 "nbformat_minor": 2
}

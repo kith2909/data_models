{
 "cells": [
  {
   "cell_type": "markdown",
   "metadata": {},
   "source": [
    "# Advanced Feature Engineering\n",
    "<hr style=\"border:2px solid black\">"
   ]
  },
  {
   "attachments": {},
   "cell_type": "markdown",
   "metadata": {},
   "source": [
    "## 1. Example: Titanic Data"
   ]
  },
  {
   "cell_type": "markdown",
   "metadata": {},
   "source": [
    "**load packages**"
   ]
  },
  {
   "cell_type": "code",
   "execution_count": 123,
   "metadata": {},
   "outputs": [],
   "source": [
    "# data analysis stack\n",
    "import numpy as np\n",
    "import pandas as pd\n",
    "\n",
    "# machine-learning stack\n",
    "from sklearn.model_selection import train_test_split\n",
    "from sklearn.linear_model import LogisticRegression\n",
    "from sklearn.impute import SimpleImputer\n",
    "from sklearn.preprocessing import (\n",
    "    OneHotEncoder,\n",
    "    StandardScaler,\n",
    "    MinMaxScaler\n",
    ")\n",
    "from sklearn.compose import ColumnTransformer\n",
    "from sklearn.pipeline import Pipeline\n",
    "\n",
    "# miscellaneous\n",
    "import warnings\n",
    "warnings.filterwarnings(\"ignore\")"
   ]
  },
  {
   "cell_type": "code",
   "execution_count": null,
   "metadata": {},
   "outputs": [],
   "source": []
  },
  {
   "cell_type": "markdown",
   "metadata": {},
   "source": [
    "**read data**"
   ]
  },
  {
   "cell_type": "code",
   "execution_count": 124,
   "metadata": {},
   "outputs": [
    {
     "data": {
      "text/html": [
       "<div>\n",
       "<style scoped>\n",
       "    .dataframe tbody tr th:only-of-type {\n",
       "        vertical-align: middle;\n",
       "    }\n",
       "\n",
       "    .dataframe tbody tr th {\n",
       "        vertical-align: top;\n",
       "    }\n",
       "\n",
       "    .dataframe thead th {\n",
       "        text-align: right;\n",
       "    }\n",
       "</style>\n",
       "<table border=\"1\" class=\"dataframe\">\n",
       "  <thead>\n",
       "    <tr style=\"text-align: right;\">\n",
       "      <th></th>\n",
       "      <th>PassengerId</th>\n",
       "      <th>Survived</th>\n",
       "      <th>Pclass</th>\n",
       "      <th>Name</th>\n",
       "      <th>Sex</th>\n",
       "      <th>Age</th>\n",
       "      <th>SibSp</th>\n",
       "      <th>Parch</th>\n",
       "      <th>Ticket</th>\n",
       "      <th>Fare</th>\n",
       "      <th>Cabin</th>\n",
       "      <th>Embarked</th>\n",
       "    </tr>\n",
       "  </thead>\n",
       "  <tbody>\n",
       "    <tr>\n",
       "      <th>0</th>\n",
       "      <td>1</td>\n",
       "      <td>0</td>\n",
       "      <td>3</td>\n",
       "      <td>Braund, Mr. Owen Harris</td>\n",
       "      <td>male</td>\n",
       "      <td>22.0</td>\n",
       "      <td>1</td>\n",
       "      <td>0</td>\n",
       "      <td>A/5 21171</td>\n",
       "      <td>7.2500</td>\n",
       "      <td>NaN</td>\n",
       "      <td>S</td>\n",
       "    </tr>\n",
       "    <tr>\n",
       "      <th>1</th>\n",
       "      <td>2</td>\n",
       "      <td>1</td>\n",
       "      <td>1</td>\n",
       "      <td>Cumings, Mrs. John Bradley (Florence Briggs Th...</td>\n",
       "      <td>female</td>\n",
       "      <td>38.0</td>\n",
       "      <td>1</td>\n",
       "      <td>0</td>\n",
       "      <td>PC 17599</td>\n",
       "      <td>71.2833</td>\n",
       "      <td>C85</td>\n",
       "      <td>C</td>\n",
       "    </tr>\n",
       "    <tr>\n",
       "      <th>2</th>\n",
       "      <td>3</td>\n",
       "      <td>1</td>\n",
       "      <td>3</td>\n",
       "      <td>Heikkinen, Miss. Laina</td>\n",
       "      <td>female</td>\n",
       "      <td>26.0</td>\n",
       "      <td>0</td>\n",
       "      <td>0</td>\n",
       "      <td>STON/O2. 3101282</td>\n",
       "      <td>7.9250</td>\n",
       "      <td>NaN</td>\n",
       "      <td>S</td>\n",
       "    </tr>\n",
       "    <tr>\n",
       "      <th>3</th>\n",
       "      <td>4</td>\n",
       "      <td>1</td>\n",
       "      <td>1</td>\n",
       "      <td>Futrelle, Mrs. Jacques Heath (Lily May Peel)</td>\n",
       "      <td>female</td>\n",
       "      <td>35.0</td>\n",
       "      <td>1</td>\n",
       "      <td>0</td>\n",
       "      <td>113803</td>\n",
       "      <td>53.1000</td>\n",
       "      <td>C123</td>\n",
       "      <td>S</td>\n",
       "    </tr>\n",
       "    <tr>\n",
       "      <th>4</th>\n",
       "      <td>5</td>\n",
       "      <td>0</td>\n",
       "      <td>3</td>\n",
       "      <td>Allen, Mr. William Henry</td>\n",
       "      <td>male</td>\n",
       "      <td>35.0</td>\n",
       "      <td>0</td>\n",
       "      <td>0</td>\n",
       "      <td>373450</td>\n",
       "      <td>8.0500</td>\n",
       "      <td>NaN</td>\n",
       "      <td>S</td>\n",
       "    </tr>\n",
       "  </tbody>\n",
       "</table>\n",
       "</div>"
      ],
      "text/plain": [
       "   PassengerId  Survived  Pclass  \\\n",
       "0            1         0       3   \n",
       "1            2         1       1   \n",
       "2            3         1       3   \n",
       "3            4         1       1   \n",
       "4            5         0       3   \n",
       "\n",
       "                                                Name     Sex   Age  SibSp  \\\n",
       "0                            Braund, Mr. Owen Harris    male  22.0      1   \n",
       "1  Cumings, Mrs. John Bradley (Florence Briggs Th...  female  38.0      1   \n",
       "2                             Heikkinen, Miss. Laina  female  26.0      0   \n",
       "3       Futrelle, Mrs. Jacques Heath (Lily May Peel)  female  35.0      1   \n",
       "4                           Allen, Mr. William Henry    male  35.0      0   \n",
       "\n",
       "   Parch            Ticket     Fare Cabin Embarked  \n",
       "0      0         A/5 21171   7.2500   NaN        S  \n",
       "1      0          PC 17599  71.2833   C85        C  \n",
       "2      0  STON/O2. 3101282   7.9250   NaN        S  \n",
       "3      0            113803  53.1000  C123        S  \n",
       "4      0            373450   8.0500   NaN        S  "
      ]
     },
     "execution_count": 124,
     "metadata": {},
     "output_type": "execute_result"
    }
   ],
   "source": [
    "df = pd.read_csv('../data/train.csv')\n",
    "df.head()"
   ]
  },
  {
   "cell_type": "markdown",
   "metadata": {},
   "source": [
    "### 2.1 Train-Test split"
   ]
  },
  {
   "cell_type": "code",
   "execution_count": 125,
   "metadata": {},
   "outputs": [],
   "source": [
    "train,test = train_test_split(df, test_size=0.2, random_state=101)\n",
    "train.reset_index(drop=True, inplace=True)\n",
    "test.reset_index(drop=True, inplace=True)"
   ]
  },
  {
   "cell_type": "markdown",
   "metadata": {},
   "source": [
    "### 2.2 Quick exploration"
   ]
  },
  {
   "cell_type": "code",
   "execution_count": 126,
   "metadata": {},
   "outputs": [
    {
     "data": {
      "text/html": [
       "<div>\n",
       "<style scoped>\n",
       "    .dataframe tbody tr th:only-of-type {\n",
       "        vertical-align: middle;\n",
       "    }\n",
       "\n",
       "    .dataframe tbody tr th {\n",
       "        vertical-align: top;\n",
       "    }\n",
       "\n",
       "    .dataframe thead th {\n",
       "        text-align: right;\n",
       "    }\n",
       "</style>\n",
       "<table border=\"1\" class=\"dataframe\">\n",
       "  <thead>\n",
       "    <tr style=\"text-align: right;\">\n",
       "      <th></th>\n",
       "      <th>PassengerId</th>\n",
       "      <th>Survived</th>\n",
       "      <th>Pclass</th>\n",
       "      <th>Name</th>\n",
       "      <th>Sex</th>\n",
       "      <th>Age</th>\n",
       "      <th>SibSp</th>\n",
       "      <th>Parch</th>\n",
       "      <th>Ticket</th>\n",
       "      <th>Fare</th>\n",
       "      <th>Cabin</th>\n",
       "      <th>Embarked</th>\n",
       "    </tr>\n",
       "  </thead>\n",
       "  <tbody>\n",
       "    <tr>\n",
       "      <th>0</th>\n",
       "      <td>734</td>\n",
       "      <td>0</td>\n",
       "      <td>2</td>\n",
       "      <td>Berriman, Mr. William John</td>\n",
       "      <td>male</td>\n",
       "      <td>23.0</td>\n",
       "      <td>0</td>\n",
       "      <td>0</td>\n",
       "      <td>28425</td>\n",
       "      <td>13.00</td>\n",
       "      <td>NaN</td>\n",
       "      <td>S</td>\n",
       "    </tr>\n",
       "    <tr>\n",
       "      <th>1</th>\n",
       "      <td>858</td>\n",
       "      <td>1</td>\n",
       "      <td>1</td>\n",
       "      <td>Daly, Mr. Peter Denis</td>\n",
       "      <td>male</td>\n",
       "      <td>51.0</td>\n",
       "      <td>0</td>\n",
       "      <td>0</td>\n",
       "      <td>113055</td>\n",
       "      <td>26.55</td>\n",
       "      <td>E17</td>\n",
       "      <td>S</td>\n",
       "    </tr>\n",
       "    <tr>\n",
       "      <th>2</th>\n",
       "      <td>82</td>\n",
       "      <td>1</td>\n",
       "      <td>3</td>\n",
       "      <td>Sheerlinck, Mr. Jan Baptist</td>\n",
       "      <td>male</td>\n",
       "      <td>29.0</td>\n",
       "      <td>0</td>\n",
       "      <td>0</td>\n",
       "      <td>345779</td>\n",
       "      <td>9.50</td>\n",
       "      <td>NaN</td>\n",
       "      <td>S</td>\n",
       "    </tr>\n",
       "    <tr>\n",
       "      <th>3</th>\n",
       "      <td>320</td>\n",
       "      <td>1</td>\n",
       "      <td>1</td>\n",
       "      <td>Spedden, Mrs. Frederic Oakley (Margaretta Corn...</td>\n",
       "      <td>female</td>\n",
       "      <td>40.0</td>\n",
       "      <td>1</td>\n",
       "      <td>1</td>\n",
       "      <td>16966</td>\n",
       "      <td>134.50</td>\n",
       "      <td>E34</td>\n",
       "      <td>C</td>\n",
       "    </tr>\n",
       "    <tr>\n",
       "      <th>4</th>\n",
       "      <td>721</td>\n",
       "      <td>1</td>\n",
       "      <td>2</td>\n",
       "      <td>Harper, Miss. Annie Jessie \"Nina\"</td>\n",
       "      <td>female</td>\n",
       "      <td>6.0</td>\n",
       "      <td>0</td>\n",
       "      <td>1</td>\n",
       "      <td>248727</td>\n",
       "      <td>33.00</td>\n",
       "      <td>NaN</td>\n",
       "      <td>S</td>\n",
       "    </tr>\n",
       "  </tbody>\n",
       "</table>\n",
       "</div>"
      ],
      "text/plain": [
       "   PassengerId  Survived  Pclass  \\\n",
       "0          734         0       2   \n",
       "1          858         1       1   \n",
       "2           82         1       3   \n",
       "3          320         1       1   \n",
       "4          721         1       2   \n",
       "\n",
       "                                                Name     Sex   Age  SibSp  \\\n",
       "0                         Berriman, Mr. William John    male  23.0      0   \n",
       "1                             Daly, Mr. Peter Denis     male  51.0      0   \n",
       "2                        Sheerlinck, Mr. Jan Baptist    male  29.0      0   \n",
       "3  Spedden, Mrs. Frederic Oakley (Margaretta Corn...  female  40.0      1   \n",
       "4                  Harper, Miss. Annie Jessie \"Nina\"  female   6.0      0   \n",
       "\n",
       "   Parch  Ticket    Fare Cabin Embarked  \n",
       "0      0   28425   13.00   NaN        S  \n",
       "1      0  113055   26.55   E17        S  \n",
       "2      0  345779    9.50   NaN        S  \n",
       "3      1   16966  134.50   E34        C  \n",
       "4      1  248727   33.00   NaN        S  "
      ]
     },
     "execution_count": 126,
     "metadata": {},
     "output_type": "execute_result"
    }
   ],
   "source": [
    "train.head()"
   ]
  },
  {
   "cell_type": "code",
   "execution_count": 127,
   "metadata": {},
   "outputs": [
    {
     "name": "stdout",
     "output_type": "stream",
     "text": [
      "<class 'pandas.core.frame.DataFrame'>\n",
      "RangeIndex: 712 entries, 0 to 711\n",
      "Data columns (total 12 columns):\n",
      " #   Column       Non-Null Count  Dtype  \n",
      "---  ------       --------------  -----  \n",
      " 0   PassengerId  712 non-null    int64  \n",
      " 1   Survived     712 non-null    int64  \n",
      " 2   Pclass       712 non-null    int64  \n",
      " 3   Name         712 non-null    object \n",
      " 4   Sex          712 non-null    object \n",
      " 5   Age          577 non-null    float64\n",
      " 6   SibSp        712 non-null    int64  \n",
      " 7   Parch        712 non-null    int64  \n",
      " 8   Ticket       712 non-null    object \n",
      " 9   Fare         712 non-null    float64\n",
      " 10  Cabin        157 non-null    object \n",
      " 11  Embarked     710 non-null    object \n",
      "dtypes: float64(2), int64(5), object(5)\n",
      "memory usage: 66.9+ KB\n"
     ]
    }
   ],
   "source": [
    "train.info()"
   ]
  },
  {
   "cell_type": "markdown",
   "metadata": {},
   "source": [
    "### 2.3 Feature-Target Separation"
   ]
  },
  {
   "cell_type": "code",
   "execution_count": 128,
   "metadata": {},
   "outputs": [],
   "source": [
    "num_features = [\n",
    "    'SibSp',\n",
    "    'Pclass',\n",
    "    'Age',\n",
    "    'Fare'\n",
    "]\n",
    "\n",
    "cat_features = ['Sex',  \n",
    "                #'Name', \n",
    "                #'Cabin',\n",
    "                'Embarked']\n",
    "\n",
    "features = num_features + cat_features\n",
    "\n",
    "target = 'Survived'\n",
    "\n",
    "# feature and target columns\n",
    "X_train,y_train = train[features], train[target]"
   ]
  },
  {
   "cell_type": "code",
   "execution_count": 129,
   "metadata": {},
   "outputs": [
    {
     "data": {
      "text/html": [
       "<div>\n",
       "<style scoped>\n",
       "    .dataframe tbody tr th:only-of-type {\n",
       "        vertical-align: middle;\n",
       "    }\n",
       "\n",
       "    .dataframe tbody tr th {\n",
       "        vertical-align: top;\n",
       "    }\n",
       "\n",
       "    .dataframe thead th {\n",
       "        text-align: right;\n",
       "    }\n",
       "</style>\n",
       "<table border=\"1\" class=\"dataframe\">\n",
       "  <thead>\n",
       "    <tr style=\"text-align: right;\">\n",
       "      <th></th>\n",
       "      <th>SibSp</th>\n",
       "      <th>Pclass</th>\n",
       "      <th>Age</th>\n",
       "      <th>Fare</th>\n",
       "      <th>Sex</th>\n",
       "      <th>Embarked</th>\n",
       "    </tr>\n",
       "  </thead>\n",
       "  <tbody>\n",
       "    <tr>\n",
       "      <th>0</th>\n",
       "      <td>0</td>\n",
       "      <td>2</td>\n",
       "      <td>23.0</td>\n",
       "      <td>13.00</td>\n",
       "      <td>male</td>\n",
       "      <td>S</td>\n",
       "    </tr>\n",
       "    <tr>\n",
       "      <th>1</th>\n",
       "      <td>0</td>\n",
       "      <td>1</td>\n",
       "      <td>51.0</td>\n",
       "      <td>26.55</td>\n",
       "      <td>male</td>\n",
       "      <td>S</td>\n",
       "    </tr>\n",
       "    <tr>\n",
       "      <th>2</th>\n",
       "      <td>0</td>\n",
       "      <td>3</td>\n",
       "      <td>29.0</td>\n",
       "      <td>9.50</td>\n",
       "      <td>male</td>\n",
       "      <td>S</td>\n",
       "    </tr>\n",
       "    <tr>\n",
       "      <th>3</th>\n",
       "      <td>1</td>\n",
       "      <td>1</td>\n",
       "      <td>40.0</td>\n",
       "      <td>134.50</td>\n",
       "      <td>female</td>\n",
       "      <td>C</td>\n",
       "    </tr>\n",
       "    <tr>\n",
       "      <th>4</th>\n",
       "      <td>0</td>\n",
       "      <td>2</td>\n",
       "      <td>6.0</td>\n",
       "      <td>33.00</td>\n",
       "      <td>female</td>\n",
       "      <td>S</td>\n",
       "    </tr>\n",
       "  </tbody>\n",
       "</table>\n",
       "</div>"
      ],
      "text/plain": [
       "   SibSp  Pclass   Age    Fare     Sex Embarked\n",
       "0      0       2  23.0   13.00    male        S\n",
       "1      0       1  51.0   26.55    male        S\n",
       "2      0       3  29.0    9.50    male        S\n",
       "3      1       1  40.0  134.50  female        C\n",
       "4      0       2   6.0   33.00  female        S"
      ]
     },
     "execution_count": 129,
     "metadata": {},
     "output_type": "execute_result"
    }
   ],
   "source": [
    "X_train.head()"
   ]
  },
  {
   "cell_type": "code",
   "execution_count": 130,
   "metadata": {},
   "outputs": [
    {
     "data": {
      "text/plain": [
       "0      0\n",
       "1      1\n",
       "2      1\n",
       "3      1\n",
       "4      1\n",
       "      ..\n",
       "707    0\n",
       "708    1\n",
       "709    1\n",
       "710    1\n",
       "711    0\n",
       "Name: Survived, Length: 712, dtype: int64"
      ]
     },
     "execution_count": 130,
     "metadata": {},
     "output_type": "execute_result"
    }
   ],
   "source": [
    "y_train"
   ]
  },
  {
   "cell_type": "markdown",
   "metadata": {},
   "source": [
    "### 2.3 Feature Engineering"
   ]
  },
  {
   "cell_type": "markdown",
   "metadata": {},
   "source": [
    "**numerical columns**"
   ]
  },
  {
   "cell_type": "code",
   "execution_count": 131,
   "metadata": {},
   "outputs": [],
   "source": [
    "num_transformer = Pipeline(\n",
    "    steps=[\n",
    "        ('imputer', SimpleImputer(strategy='mean')),\n",
    "        ('scaling', StandardScaler()),\n",
    "    ])"
   ]
  },
  {
   "cell_type": "markdown",
   "metadata": {},
   "source": [
    "**categorical columns**"
   ]
  },
  {
   "cell_type": "code",
   "execution_count": 132,
   "metadata": {},
   "outputs": [],
   "source": [
    "# column transformation\n",
    "cat_transformer = Pipeline(\n",
    "    steps=[\n",
    "        ('onehot', OneHotEncoder(drop='first'))\n",
    "    ])"
   ]
  },
  {
   "cell_type": "markdown",
   "metadata": {},
   "source": [
    "**total preprocessing**"
   ]
  },
  {
   "cell_type": "code",
   "execution_count": 133,
   "metadata": {},
   "outputs": [],
   "source": [
    "preprocessor = ColumnTransformer(\n",
    "    transformers=[\n",
    "        ('num_transformer', num_transformer, num_features),\n",
    "        ('cat_transformer', cat_transformer, cat_features)\n",
    "    ])"
   ]
  },
  {
   "cell_type": "markdown",
   "metadata": {},
   "source": [
    "### 2.4 Model Building"
   ]
  },
  {
   "cell_type": "markdown",
   "metadata": {},
   "source": [
    "**instantiate model**"
   ]
  },
  {
   "cell_type": "code",
   "execution_count": 134,
   "metadata": {},
   "outputs": [],
   "source": [
    "classifier_model = Pipeline(\n",
    "    steps=[\n",
    "        ('preprocessor', preprocessor),\n",
    "        ('classifier', LogisticRegression())\n",
    "    ])"
   ]
  },
  {
   "cell_type": "markdown",
   "metadata": {},
   "source": [
    "**train model**"
   ]
  },
  {
   "cell_type": "code",
   "execution_count": 135,
   "metadata": {},
   "outputs": [
    {
     "data": {
      "text/html": [
       "<style>#sk-container-id-7 {color: black;background-color: white;}#sk-container-id-7 pre{padding: 0;}#sk-container-id-7 div.sk-toggleable {background-color: white;}#sk-container-id-7 label.sk-toggleable__label {cursor: pointer;display: block;width: 100%;margin-bottom: 0;padding: 0.3em;box-sizing: border-box;text-align: center;}#sk-container-id-7 label.sk-toggleable__label-arrow:before {content: \"▸\";float: left;margin-right: 0.25em;color: #696969;}#sk-container-id-7 label.sk-toggleable__label-arrow:hover:before {color: black;}#sk-container-id-7 div.sk-estimator:hover label.sk-toggleable__label-arrow:before {color: black;}#sk-container-id-7 div.sk-toggleable__content {max-height: 0;max-width: 0;overflow: hidden;text-align: left;background-color: #f0f8ff;}#sk-container-id-7 div.sk-toggleable__content pre {margin: 0.2em;color: black;border-radius: 0.25em;background-color: #f0f8ff;}#sk-container-id-7 input.sk-toggleable__control:checked~div.sk-toggleable__content {max-height: 200px;max-width: 100%;overflow: auto;}#sk-container-id-7 input.sk-toggleable__control:checked~label.sk-toggleable__label-arrow:before {content: \"▾\";}#sk-container-id-7 div.sk-estimator input.sk-toggleable__control:checked~label.sk-toggleable__label {background-color: #d4ebff;}#sk-container-id-7 div.sk-label input.sk-toggleable__control:checked~label.sk-toggleable__label {background-color: #d4ebff;}#sk-container-id-7 input.sk-hidden--visually {border: 0;clip: rect(1px 1px 1px 1px);clip: rect(1px, 1px, 1px, 1px);height: 1px;margin: -1px;overflow: hidden;padding: 0;position: absolute;width: 1px;}#sk-container-id-7 div.sk-estimator {font-family: monospace;background-color: #f0f8ff;border: 1px dotted black;border-radius: 0.25em;box-sizing: border-box;margin-bottom: 0.5em;}#sk-container-id-7 div.sk-estimator:hover {background-color: #d4ebff;}#sk-container-id-7 div.sk-parallel-item::after {content: \"\";width: 100%;border-bottom: 1px solid gray;flex-grow: 1;}#sk-container-id-7 div.sk-label:hover label.sk-toggleable__label {background-color: #d4ebff;}#sk-container-id-7 div.sk-serial::before {content: \"\";position: absolute;border-left: 1px solid gray;box-sizing: border-box;top: 0;bottom: 0;left: 50%;z-index: 0;}#sk-container-id-7 div.sk-serial {display: flex;flex-direction: column;align-items: center;background-color: white;padding-right: 0.2em;padding-left: 0.2em;position: relative;}#sk-container-id-7 div.sk-item {position: relative;z-index: 1;}#sk-container-id-7 div.sk-parallel {display: flex;align-items: stretch;justify-content: center;background-color: white;position: relative;}#sk-container-id-7 div.sk-item::before, #sk-container-id-7 div.sk-parallel-item::before {content: \"\";position: absolute;border-left: 1px solid gray;box-sizing: border-box;top: 0;bottom: 0;left: 50%;z-index: -1;}#sk-container-id-7 div.sk-parallel-item {display: flex;flex-direction: column;z-index: 1;position: relative;background-color: white;}#sk-container-id-7 div.sk-parallel-item:first-child::after {align-self: flex-end;width: 50%;}#sk-container-id-7 div.sk-parallel-item:last-child::after {align-self: flex-start;width: 50%;}#sk-container-id-7 div.sk-parallel-item:only-child::after {width: 0;}#sk-container-id-7 div.sk-dashed-wrapped {border: 1px dashed gray;margin: 0 0.4em 0.5em 0.4em;box-sizing: border-box;padding-bottom: 0.4em;background-color: white;}#sk-container-id-7 div.sk-label label {font-family: monospace;font-weight: bold;display: inline-block;line-height: 1.2em;}#sk-container-id-7 div.sk-label-container {text-align: center;}#sk-container-id-7 div.sk-container {/* jupyter's `normalize.less` sets `[hidden] { display: none; }` but bootstrap.min.css set `[hidden] { display: none !important; }` so we also need the `!important` here to be able to override the default hidden behavior on the sphinx rendered scikit-learn.org. See: https://github.com/scikit-learn/scikit-learn/issues/21755 */display: inline-block !important;position: relative;}#sk-container-id-7 div.sk-text-repr-fallback {display: none;}</style><div id=\"sk-container-id-7\" class=\"sk-top-container\"><div class=\"sk-text-repr-fallback\"><pre>Pipeline(steps=[(&#x27;preprocessor&#x27;,\n",
       "                 ColumnTransformer(transformers=[(&#x27;num_transformer&#x27;,\n",
       "                                                  Pipeline(steps=[(&#x27;imputer&#x27;,\n",
       "                                                                   SimpleImputer()),\n",
       "                                                                  (&#x27;scaling&#x27;,\n",
       "                                                                   StandardScaler())]),\n",
       "                                                  [&#x27;SibSp&#x27;, &#x27;Pclass&#x27;, &#x27;Age&#x27;,\n",
       "                                                   &#x27;Fare&#x27;]),\n",
       "                                                 (&#x27;cat_transformer&#x27;,\n",
       "                                                  Pipeline(steps=[(&#x27;onehot&#x27;,\n",
       "                                                                   OneHotEncoder(drop=&#x27;first&#x27;))]),\n",
       "                                                  [&#x27;Sex&#x27;, &#x27;Embarked&#x27;])])),\n",
       "                (&#x27;classifier&#x27;, LogisticRegression())])</pre><b>In a Jupyter environment, please rerun this cell to show the HTML representation or trust the notebook. <br />On GitHub, the HTML representation is unable to render, please try loading this page with nbviewer.org.</b></div><div class=\"sk-container\" hidden><div class=\"sk-item sk-dashed-wrapped\"><div class=\"sk-label-container\"><div class=\"sk-label sk-toggleable\"><input class=\"sk-toggleable__control sk-hidden--visually\" id=\"sk-estimator-id-49\" type=\"checkbox\" ><label for=\"sk-estimator-id-49\" class=\"sk-toggleable__label sk-toggleable__label-arrow\">Pipeline</label><div class=\"sk-toggleable__content\"><pre>Pipeline(steps=[(&#x27;preprocessor&#x27;,\n",
       "                 ColumnTransformer(transformers=[(&#x27;num_transformer&#x27;,\n",
       "                                                  Pipeline(steps=[(&#x27;imputer&#x27;,\n",
       "                                                                   SimpleImputer()),\n",
       "                                                                  (&#x27;scaling&#x27;,\n",
       "                                                                   StandardScaler())]),\n",
       "                                                  [&#x27;SibSp&#x27;, &#x27;Pclass&#x27;, &#x27;Age&#x27;,\n",
       "                                                   &#x27;Fare&#x27;]),\n",
       "                                                 (&#x27;cat_transformer&#x27;,\n",
       "                                                  Pipeline(steps=[(&#x27;onehot&#x27;,\n",
       "                                                                   OneHotEncoder(drop=&#x27;first&#x27;))]),\n",
       "                                                  [&#x27;Sex&#x27;, &#x27;Embarked&#x27;])])),\n",
       "                (&#x27;classifier&#x27;, LogisticRegression())])</pre></div></div></div><div class=\"sk-serial\"><div class=\"sk-item sk-dashed-wrapped\"><div class=\"sk-label-container\"><div class=\"sk-label sk-toggleable\"><input class=\"sk-toggleable__control sk-hidden--visually\" id=\"sk-estimator-id-50\" type=\"checkbox\" ><label for=\"sk-estimator-id-50\" class=\"sk-toggleable__label sk-toggleable__label-arrow\">preprocessor: ColumnTransformer</label><div class=\"sk-toggleable__content\"><pre>ColumnTransformer(transformers=[(&#x27;num_transformer&#x27;,\n",
       "                                 Pipeline(steps=[(&#x27;imputer&#x27;, SimpleImputer()),\n",
       "                                                 (&#x27;scaling&#x27;,\n",
       "                                                  StandardScaler())]),\n",
       "                                 [&#x27;SibSp&#x27;, &#x27;Pclass&#x27;, &#x27;Age&#x27;, &#x27;Fare&#x27;]),\n",
       "                                (&#x27;cat_transformer&#x27;,\n",
       "                                 Pipeline(steps=[(&#x27;onehot&#x27;,\n",
       "                                                  OneHotEncoder(drop=&#x27;first&#x27;))]),\n",
       "                                 [&#x27;Sex&#x27;, &#x27;Embarked&#x27;])])</pre></div></div></div><div class=\"sk-parallel\"><div class=\"sk-parallel-item\"><div class=\"sk-item\"><div class=\"sk-label-container\"><div class=\"sk-label sk-toggleable\"><input class=\"sk-toggleable__control sk-hidden--visually\" id=\"sk-estimator-id-51\" type=\"checkbox\" ><label for=\"sk-estimator-id-51\" class=\"sk-toggleable__label sk-toggleable__label-arrow\">num_transformer</label><div class=\"sk-toggleable__content\"><pre>[&#x27;SibSp&#x27;, &#x27;Pclass&#x27;, &#x27;Age&#x27;, &#x27;Fare&#x27;]</pre></div></div></div><div class=\"sk-serial\"><div class=\"sk-item\"><div class=\"sk-serial\"><div class=\"sk-item\"><div class=\"sk-estimator sk-toggleable\"><input class=\"sk-toggleable__control sk-hidden--visually\" id=\"sk-estimator-id-52\" type=\"checkbox\" ><label for=\"sk-estimator-id-52\" class=\"sk-toggleable__label sk-toggleable__label-arrow\">SimpleImputer</label><div class=\"sk-toggleable__content\"><pre>SimpleImputer()</pre></div></div></div><div class=\"sk-item\"><div class=\"sk-estimator sk-toggleable\"><input class=\"sk-toggleable__control sk-hidden--visually\" id=\"sk-estimator-id-53\" type=\"checkbox\" ><label for=\"sk-estimator-id-53\" class=\"sk-toggleable__label sk-toggleable__label-arrow\">StandardScaler</label><div class=\"sk-toggleable__content\"><pre>StandardScaler()</pre></div></div></div></div></div></div></div></div><div class=\"sk-parallel-item\"><div class=\"sk-item\"><div class=\"sk-label-container\"><div class=\"sk-label sk-toggleable\"><input class=\"sk-toggleable__control sk-hidden--visually\" id=\"sk-estimator-id-54\" type=\"checkbox\" ><label for=\"sk-estimator-id-54\" class=\"sk-toggleable__label sk-toggleable__label-arrow\">cat_transformer</label><div class=\"sk-toggleable__content\"><pre>[&#x27;Sex&#x27;, &#x27;Embarked&#x27;]</pre></div></div></div><div class=\"sk-serial\"><div class=\"sk-item\"><div class=\"sk-serial\"><div class=\"sk-item\"><div class=\"sk-estimator sk-toggleable\"><input class=\"sk-toggleable__control sk-hidden--visually\" id=\"sk-estimator-id-55\" type=\"checkbox\" ><label for=\"sk-estimator-id-55\" class=\"sk-toggleable__label sk-toggleable__label-arrow\">OneHotEncoder</label><div class=\"sk-toggleable__content\"><pre>OneHotEncoder(drop=&#x27;first&#x27;)</pre></div></div></div></div></div></div></div></div></div></div><div class=\"sk-item\"><div class=\"sk-estimator sk-toggleable\"><input class=\"sk-toggleable__control sk-hidden--visually\" id=\"sk-estimator-id-56\" type=\"checkbox\" ><label for=\"sk-estimator-id-56\" class=\"sk-toggleable__label sk-toggleable__label-arrow\">LogisticRegression</label><div class=\"sk-toggleable__content\"><pre>LogisticRegression()</pre></div></div></div></div></div></div></div>"
      ],
      "text/plain": [
       "Pipeline(steps=[('preprocessor',\n",
       "                 ColumnTransformer(transformers=[('num_transformer',\n",
       "                                                  Pipeline(steps=[('imputer',\n",
       "                                                                   SimpleImputer()),\n",
       "                                                                  ('scaling',\n",
       "                                                                   StandardScaler())]),\n",
       "                                                  ['SibSp', 'Pclass', 'Age',\n",
       "                                                   'Fare']),\n",
       "                                                 ('cat_transformer',\n",
       "                                                  Pipeline(steps=[('onehot',\n",
       "                                                                   OneHotEncoder(drop='first'))]),\n",
       "                                                  ['Sex', 'Embarked'])])),\n",
       "                ('classifier', LogisticRegression())])"
      ]
     },
     "execution_count": 135,
     "metadata": {},
     "output_type": "execute_result"
    }
   ],
   "source": [
    "classifier_model.fit(X_train,y_train)"
   ]
  },
  {
   "cell_type": "markdown",
   "metadata": {},
   "source": [
    "**model validation**"
   ]
  },
  {
   "cell_type": "code",
   "execution_count": 136,
   "metadata": {},
   "outputs": [
    {
     "name": "stdout",
     "output_type": "stream",
     "text": [
      "training accuracy: 0.801966\n"
     ]
    }
   ],
   "source": [
    "training_acccuracy = classifier_model.score(X_train,y_train)\n",
    "print(f\"training accuracy: {round(training_acccuracy, 6)}\")"
   ]
  },
  {
   "cell_type": "markdown",
   "metadata": {},
   "source": [
    "### 2.5 Model Evaluation"
   ]
  },
  {
   "cell_type": "markdown",
   "metadata": {},
   "source": [
    "**feature-target separation**"
   ]
  },
  {
   "cell_type": "markdown",
   "metadata": {},
   "source": [
    "**model performance**"
   ]
  },
  {
   "cell_type": "code",
   "execution_count": 137,
   "metadata": {},
   "outputs": [
    {
     "data": {
      "text/html": [
       "<div>\n",
       "<style scoped>\n",
       "    .dataframe tbody tr th:only-of-type {\n",
       "        vertical-align: middle;\n",
       "    }\n",
       "\n",
       "    .dataframe tbody tr th {\n",
       "        vertical-align: top;\n",
       "    }\n",
       "\n",
       "    .dataframe thead th {\n",
       "        text-align: right;\n",
       "    }\n",
       "</style>\n",
       "<table border=\"1\" class=\"dataframe\">\n",
       "  <thead>\n",
       "    <tr style=\"text-align: right;\">\n",
       "      <th></th>\n",
       "      <th>SibSp</th>\n",
       "      <th>Pclass</th>\n",
       "      <th>Age</th>\n",
       "      <th>Fare</th>\n",
       "      <th>Sex</th>\n",
       "      <th>Embarked</th>\n",
       "    </tr>\n",
       "  </thead>\n",
       "  <tbody>\n",
       "    <tr>\n",
       "      <th>0</th>\n",
       "      <td>0</td>\n",
       "      <td>1</td>\n",
       "      <td>45.5</td>\n",
       "      <td>28.5000</td>\n",
       "      <td>male</td>\n",
       "      <td>S</td>\n",
       "    </tr>\n",
       "    <tr>\n",
       "      <th>1</th>\n",
       "      <td>1</td>\n",
       "      <td>1</td>\n",
       "      <td>18.0</td>\n",
       "      <td>227.5250</td>\n",
       "      <td>female</td>\n",
       "      <td>C</td>\n",
       "    </tr>\n",
       "    <tr>\n",
       "      <th>2</th>\n",
       "      <td>1</td>\n",
       "      <td>1</td>\n",
       "      <td>19.0</td>\n",
       "      <td>53.1000</td>\n",
       "      <td>male</td>\n",
       "      <td>S</td>\n",
       "    </tr>\n",
       "    <tr>\n",
       "      <th>3</th>\n",
       "      <td>0</td>\n",
       "      <td>3</td>\n",
       "      <td>6.0</td>\n",
       "      <td>12.4750</td>\n",
       "      <td>male</td>\n",
       "      <td>S</td>\n",
       "    </tr>\n",
       "    <tr>\n",
       "      <th>4</th>\n",
       "      <td>0</td>\n",
       "      <td>2</td>\n",
       "      <td>NaN</td>\n",
       "      <td>0.0000</td>\n",
       "      <td>male</td>\n",
       "      <td>S</td>\n",
       "    </tr>\n",
       "    <tr>\n",
       "      <th>...</th>\n",
       "      <td>...</td>\n",
       "      <td>...</td>\n",
       "      <td>...</td>\n",
       "      <td>...</td>\n",
       "      <td>...</td>\n",
       "      <td>...</td>\n",
       "    </tr>\n",
       "    <tr>\n",
       "      <th>174</th>\n",
       "      <td>0</td>\n",
       "      <td>3</td>\n",
       "      <td>NaN</td>\n",
       "      <td>7.3125</td>\n",
       "      <td>male</td>\n",
       "      <td>S</td>\n",
       "    </tr>\n",
       "    <tr>\n",
       "      <th>175</th>\n",
       "      <td>0</td>\n",
       "      <td>3</td>\n",
       "      <td>NaN</td>\n",
       "      <td>8.0500</td>\n",
       "      <td>male</td>\n",
       "      <td>S</td>\n",
       "    </tr>\n",
       "    <tr>\n",
       "      <th>176</th>\n",
       "      <td>0</td>\n",
       "      <td>1</td>\n",
       "      <td>56.0</td>\n",
       "      <td>83.1583</td>\n",
       "      <td>female</td>\n",
       "      <td>C</td>\n",
       "    </tr>\n",
       "    <tr>\n",
       "      <th>177</th>\n",
       "      <td>0</td>\n",
       "      <td>3</td>\n",
       "      <td>48.0</td>\n",
       "      <td>7.8542</td>\n",
       "      <td>male</td>\n",
       "      <td>S</td>\n",
       "    </tr>\n",
       "    <tr>\n",
       "      <th>178</th>\n",
       "      <td>0</td>\n",
       "      <td>2</td>\n",
       "      <td>NaN</td>\n",
       "      <td>0.0000</td>\n",
       "      <td>male</td>\n",
       "      <td>S</td>\n",
       "    </tr>\n",
       "  </tbody>\n",
       "</table>\n",
       "<p>179 rows × 6 columns</p>\n",
       "</div>"
      ],
      "text/plain": [
       "     SibSp  Pclass   Age      Fare     Sex Embarked\n",
       "0        0       1  45.5   28.5000    male        S\n",
       "1        1       1  18.0  227.5250  female        C\n",
       "2        1       1  19.0   53.1000    male        S\n",
       "3        0       3   6.0   12.4750    male        S\n",
       "4        0       2   NaN    0.0000    male        S\n",
       "..     ...     ...   ...       ...     ...      ...\n",
       "174      0       3   NaN    7.3125    male        S\n",
       "175      0       3   NaN    8.0500    male        S\n",
       "176      0       1  56.0   83.1583  female        C\n",
       "177      0       3  48.0    7.8542    male        S\n",
       "178      0       2   NaN    0.0000    male        S\n",
       "\n",
       "[179 rows x 6 columns]"
      ]
     },
     "execution_count": 137,
     "metadata": {},
     "output_type": "execute_result"
    }
   ],
   "source": [
    "X_test, y_test = test[features], test[target]\n",
    "X_test"
   ]
  },
  {
   "cell_type": "code",
   "execution_count": 138,
   "metadata": {},
   "outputs": [
    {
     "data": {
      "text/html": [
       "<style>#sk-container-id-8 {color: black;background-color: white;}#sk-container-id-8 pre{padding: 0;}#sk-container-id-8 div.sk-toggleable {background-color: white;}#sk-container-id-8 label.sk-toggleable__label {cursor: pointer;display: block;width: 100%;margin-bottom: 0;padding: 0.3em;box-sizing: border-box;text-align: center;}#sk-container-id-8 label.sk-toggleable__label-arrow:before {content: \"▸\";float: left;margin-right: 0.25em;color: #696969;}#sk-container-id-8 label.sk-toggleable__label-arrow:hover:before {color: black;}#sk-container-id-8 div.sk-estimator:hover label.sk-toggleable__label-arrow:before {color: black;}#sk-container-id-8 div.sk-toggleable__content {max-height: 0;max-width: 0;overflow: hidden;text-align: left;background-color: #f0f8ff;}#sk-container-id-8 div.sk-toggleable__content pre {margin: 0.2em;color: black;border-radius: 0.25em;background-color: #f0f8ff;}#sk-container-id-8 input.sk-toggleable__control:checked~div.sk-toggleable__content {max-height: 200px;max-width: 100%;overflow: auto;}#sk-container-id-8 input.sk-toggleable__control:checked~label.sk-toggleable__label-arrow:before {content: \"▾\";}#sk-container-id-8 div.sk-estimator input.sk-toggleable__control:checked~label.sk-toggleable__label {background-color: #d4ebff;}#sk-container-id-8 div.sk-label input.sk-toggleable__control:checked~label.sk-toggleable__label {background-color: #d4ebff;}#sk-container-id-8 input.sk-hidden--visually {border: 0;clip: rect(1px 1px 1px 1px);clip: rect(1px, 1px, 1px, 1px);height: 1px;margin: -1px;overflow: hidden;padding: 0;position: absolute;width: 1px;}#sk-container-id-8 div.sk-estimator {font-family: monospace;background-color: #f0f8ff;border: 1px dotted black;border-radius: 0.25em;box-sizing: border-box;margin-bottom: 0.5em;}#sk-container-id-8 div.sk-estimator:hover {background-color: #d4ebff;}#sk-container-id-8 div.sk-parallel-item::after {content: \"\";width: 100%;border-bottom: 1px solid gray;flex-grow: 1;}#sk-container-id-8 div.sk-label:hover label.sk-toggleable__label {background-color: #d4ebff;}#sk-container-id-8 div.sk-serial::before {content: \"\";position: absolute;border-left: 1px solid gray;box-sizing: border-box;top: 0;bottom: 0;left: 50%;z-index: 0;}#sk-container-id-8 div.sk-serial {display: flex;flex-direction: column;align-items: center;background-color: white;padding-right: 0.2em;padding-left: 0.2em;position: relative;}#sk-container-id-8 div.sk-item {position: relative;z-index: 1;}#sk-container-id-8 div.sk-parallel {display: flex;align-items: stretch;justify-content: center;background-color: white;position: relative;}#sk-container-id-8 div.sk-item::before, #sk-container-id-8 div.sk-parallel-item::before {content: \"\";position: absolute;border-left: 1px solid gray;box-sizing: border-box;top: 0;bottom: 0;left: 50%;z-index: -1;}#sk-container-id-8 div.sk-parallel-item {display: flex;flex-direction: column;z-index: 1;position: relative;background-color: white;}#sk-container-id-8 div.sk-parallel-item:first-child::after {align-self: flex-end;width: 50%;}#sk-container-id-8 div.sk-parallel-item:last-child::after {align-self: flex-start;width: 50%;}#sk-container-id-8 div.sk-parallel-item:only-child::after {width: 0;}#sk-container-id-8 div.sk-dashed-wrapped {border: 1px dashed gray;margin: 0 0.4em 0.5em 0.4em;box-sizing: border-box;padding-bottom: 0.4em;background-color: white;}#sk-container-id-8 div.sk-label label {font-family: monospace;font-weight: bold;display: inline-block;line-height: 1.2em;}#sk-container-id-8 div.sk-label-container {text-align: center;}#sk-container-id-8 div.sk-container {/* jupyter's `normalize.less` sets `[hidden] { display: none; }` but bootstrap.min.css set `[hidden] { display: none !important; }` so we also need the `!important` here to be able to override the default hidden behavior on the sphinx rendered scikit-learn.org. See: https://github.com/scikit-learn/scikit-learn/issues/21755 */display: inline-block !important;position: relative;}#sk-container-id-8 div.sk-text-repr-fallback {display: none;}</style><div id=\"sk-container-id-8\" class=\"sk-top-container\"><div class=\"sk-text-repr-fallback\"><pre>Pipeline(steps=[(&#x27;preprocessor&#x27;,\n",
       "                 ColumnTransformer(transformers=[(&#x27;num_transformer&#x27;,\n",
       "                                                  Pipeline(steps=[(&#x27;imputer&#x27;,\n",
       "                                                                   SimpleImputer()),\n",
       "                                                                  (&#x27;scaling&#x27;,\n",
       "                                                                   StandardScaler())]),\n",
       "                                                  [&#x27;SibSp&#x27;, &#x27;Pclass&#x27;, &#x27;Age&#x27;,\n",
       "                                                   &#x27;Fare&#x27;]),\n",
       "                                                 (&#x27;cat_transformer&#x27;,\n",
       "                                                  Pipeline(steps=[(&#x27;onehot&#x27;,\n",
       "                                                                   OneHotEncoder(drop=&#x27;first&#x27;))]),\n",
       "                                                  [&#x27;Sex&#x27;, &#x27;Embarked&#x27;])])),\n",
       "                (&#x27;classifier&#x27;, LogisticRegression())])</pre><b>In a Jupyter environment, please rerun this cell to show the HTML representation or trust the notebook. <br />On GitHub, the HTML representation is unable to render, please try loading this page with nbviewer.org.</b></div><div class=\"sk-container\" hidden><div class=\"sk-item sk-dashed-wrapped\"><div class=\"sk-label-container\"><div class=\"sk-label sk-toggleable\"><input class=\"sk-toggleable__control sk-hidden--visually\" id=\"sk-estimator-id-57\" type=\"checkbox\" ><label for=\"sk-estimator-id-57\" class=\"sk-toggleable__label sk-toggleable__label-arrow\">Pipeline</label><div class=\"sk-toggleable__content\"><pre>Pipeline(steps=[(&#x27;preprocessor&#x27;,\n",
       "                 ColumnTransformer(transformers=[(&#x27;num_transformer&#x27;,\n",
       "                                                  Pipeline(steps=[(&#x27;imputer&#x27;,\n",
       "                                                                   SimpleImputer()),\n",
       "                                                                  (&#x27;scaling&#x27;,\n",
       "                                                                   StandardScaler())]),\n",
       "                                                  [&#x27;SibSp&#x27;, &#x27;Pclass&#x27;, &#x27;Age&#x27;,\n",
       "                                                   &#x27;Fare&#x27;]),\n",
       "                                                 (&#x27;cat_transformer&#x27;,\n",
       "                                                  Pipeline(steps=[(&#x27;onehot&#x27;,\n",
       "                                                                   OneHotEncoder(drop=&#x27;first&#x27;))]),\n",
       "                                                  [&#x27;Sex&#x27;, &#x27;Embarked&#x27;])])),\n",
       "                (&#x27;classifier&#x27;, LogisticRegression())])</pre></div></div></div><div class=\"sk-serial\"><div class=\"sk-item sk-dashed-wrapped\"><div class=\"sk-label-container\"><div class=\"sk-label sk-toggleable\"><input class=\"sk-toggleable__control sk-hidden--visually\" id=\"sk-estimator-id-58\" type=\"checkbox\" ><label for=\"sk-estimator-id-58\" class=\"sk-toggleable__label sk-toggleable__label-arrow\">preprocessor: ColumnTransformer</label><div class=\"sk-toggleable__content\"><pre>ColumnTransformer(transformers=[(&#x27;num_transformer&#x27;,\n",
       "                                 Pipeline(steps=[(&#x27;imputer&#x27;, SimpleImputer()),\n",
       "                                                 (&#x27;scaling&#x27;,\n",
       "                                                  StandardScaler())]),\n",
       "                                 [&#x27;SibSp&#x27;, &#x27;Pclass&#x27;, &#x27;Age&#x27;, &#x27;Fare&#x27;]),\n",
       "                                (&#x27;cat_transformer&#x27;,\n",
       "                                 Pipeline(steps=[(&#x27;onehot&#x27;,\n",
       "                                                  OneHotEncoder(drop=&#x27;first&#x27;))]),\n",
       "                                 [&#x27;Sex&#x27;, &#x27;Embarked&#x27;])])</pre></div></div></div><div class=\"sk-parallel\"><div class=\"sk-parallel-item\"><div class=\"sk-item\"><div class=\"sk-label-container\"><div class=\"sk-label sk-toggleable\"><input class=\"sk-toggleable__control sk-hidden--visually\" id=\"sk-estimator-id-59\" type=\"checkbox\" ><label for=\"sk-estimator-id-59\" class=\"sk-toggleable__label sk-toggleable__label-arrow\">num_transformer</label><div class=\"sk-toggleable__content\"><pre>[&#x27;SibSp&#x27;, &#x27;Pclass&#x27;, &#x27;Age&#x27;, &#x27;Fare&#x27;]</pre></div></div></div><div class=\"sk-serial\"><div class=\"sk-item\"><div class=\"sk-serial\"><div class=\"sk-item\"><div class=\"sk-estimator sk-toggleable\"><input class=\"sk-toggleable__control sk-hidden--visually\" id=\"sk-estimator-id-60\" type=\"checkbox\" ><label for=\"sk-estimator-id-60\" class=\"sk-toggleable__label sk-toggleable__label-arrow\">SimpleImputer</label><div class=\"sk-toggleable__content\"><pre>SimpleImputer()</pre></div></div></div><div class=\"sk-item\"><div class=\"sk-estimator sk-toggleable\"><input class=\"sk-toggleable__control sk-hidden--visually\" id=\"sk-estimator-id-61\" type=\"checkbox\" ><label for=\"sk-estimator-id-61\" class=\"sk-toggleable__label sk-toggleable__label-arrow\">StandardScaler</label><div class=\"sk-toggleable__content\"><pre>StandardScaler()</pre></div></div></div></div></div></div></div></div><div class=\"sk-parallel-item\"><div class=\"sk-item\"><div class=\"sk-label-container\"><div class=\"sk-label sk-toggleable\"><input class=\"sk-toggleable__control sk-hidden--visually\" id=\"sk-estimator-id-62\" type=\"checkbox\" ><label for=\"sk-estimator-id-62\" class=\"sk-toggleable__label sk-toggleable__label-arrow\">cat_transformer</label><div class=\"sk-toggleable__content\"><pre>[&#x27;Sex&#x27;, &#x27;Embarked&#x27;]</pre></div></div></div><div class=\"sk-serial\"><div class=\"sk-item\"><div class=\"sk-serial\"><div class=\"sk-item\"><div class=\"sk-estimator sk-toggleable\"><input class=\"sk-toggleable__control sk-hidden--visually\" id=\"sk-estimator-id-63\" type=\"checkbox\" ><label for=\"sk-estimator-id-63\" class=\"sk-toggleable__label sk-toggleable__label-arrow\">OneHotEncoder</label><div class=\"sk-toggleable__content\"><pre>OneHotEncoder(drop=&#x27;first&#x27;)</pre></div></div></div></div></div></div></div></div></div></div><div class=\"sk-item\"><div class=\"sk-estimator sk-toggleable\"><input class=\"sk-toggleable__control sk-hidden--visually\" id=\"sk-estimator-id-64\" type=\"checkbox\" ><label for=\"sk-estimator-id-64\" class=\"sk-toggleable__label sk-toggleable__label-arrow\">LogisticRegression</label><div class=\"sk-toggleable__content\"><pre>LogisticRegression()</pre></div></div></div></div></div></div></div>"
      ],
      "text/plain": [
       "Pipeline(steps=[('preprocessor',\n",
       "                 ColumnTransformer(transformers=[('num_transformer',\n",
       "                                                  Pipeline(steps=[('imputer',\n",
       "                                                                   SimpleImputer()),\n",
       "                                                                  ('scaling',\n",
       "                                                                   StandardScaler())]),\n",
       "                                                  ['SibSp', 'Pclass', 'Age',\n",
       "                                                   'Fare']),\n",
       "                                                 ('cat_transformer',\n",
       "                                                  Pipeline(steps=[('onehot',\n",
       "                                                                   OneHotEncoder(drop='first'))]),\n",
       "                                                  ['Sex', 'Embarked'])])),\n",
       "                ('classifier', LogisticRegression())])"
      ]
     },
     "execution_count": 138,
     "metadata": {},
     "output_type": "execute_result"
    }
   ],
   "source": [
    "classifier_model.fit(X_train,y_train)"
   ]
  },
  {
   "cell_type": "code",
   "execution_count": 139,
   "metadata": {},
   "outputs": [
    {
     "name": "stdout",
     "output_type": "stream",
     "text": [
      "test accuracy: 0.810056\n"
     ]
    }
   ],
   "source": [
    "test_acccuracy = classifier_model.score(X_test,y_test)\n",
    "print(f\"test accuracy: {round(test_acccuracy, 6)}\")\n"
   ]
  },
  {
   "cell_type": "code",
   "execution_count": 140,
   "metadata": {},
   "outputs": [],
   "source": [
    "\n",
    "from scipy import sparse as sp"
   ]
  },
  {
   "cell_type": "markdown",
   "metadata": {},
   "source": [
    "<hr style=\"border:2px solid black\">"
   ]
  },
  {
   "cell_type": "markdown",
   "metadata": {},
   "source": [
    "## 3. Extra Challenge"
   ]
  },
  {
   "cell_type": "markdown",
   "metadata": {},
   "source": [
    "### 3.1 Custom Imputer"
   ]
  },
  {
   "cell_type": "code",
   "execution_count": 141,
   "metadata": {},
   "outputs": [],
   "source": [
    "def title_norm(str_t) -> int:\n",
    "    '''\n",
    "    Function does the following transformations:\n",
    "    ['mrs','mr','miss','master','dr','rev'] remain the same\n",
    "    ['mlle','ms'] become 'miss'\n",
    "    'mme' becomes 'mrs'\n",
    "    ['col','major','capt'] become 'army'\n",
    "    ['don','lady','the countess','sir','the count','madam','lord'] become 'nobl'\n",
    "    other titles become 'unknown'\n",
    "    '''\n",
    "    title_name = { 1 : ['mlle','ms', 'miss'],\n",
    "                   2 : ['mme', 'mrs'], \n",
    "                   3 : ['mr'],\n",
    "                   4 : ['col','major','capt', 'army'],\n",
    "                   5 : ['don','lady','the countess','sir','the count','madam','lord', 'nobl'],\n",
    "                   6 : ['master'],\n",
    "                   7 : ['dr'],\n",
    "                   8 : ['rev'],\n",
    "    }\n",
    "\n",
    "    for item in title_name:\n",
    "        if str_t in title_name[item]:\n",
    "           \n",
    "            return item\n",
    "        \n",
    "    return 0\n"
   ]
  },
  {
   "cell_type": "code",
   "execution_count": 142,
   "metadata": {},
   "outputs": [],
   "source": [
    "from sklearn.base import BaseEstimator, TransformerMixin\n",
    "from sklearn.utils.validation import check_is_fitted"
   ]
  },
  {
   "cell_type": "code",
   "execution_count": 143,
   "metadata": {},
   "outputs": [],
   "source": [
    "class CatergoryImputer(BaseEstimator, TransformerMixin):\n",
    "    '''\n",
    "    Parameters\n",
    "    ----------    \n",
    "    group_cols : list\n",
    "        List of columns used for calculating the aggregated value \n",
    "    target : str\n",
    "        The name of the column to impute\n",
    "    metric : str\n",
    "        The metric to be used for remplacement, can be one of ['name', 'cabin']\n",
    "    Returns\n",
    "    -------\n",
    "    X : array-like\n",
    "        The array with imputed values in the target column\n",
    "    '''\n",
    "    def __init__(self, group_cols, target, metric='count'):\n",
    "        \n",
    "        #assert metric in ['max', 'min', 'count'], 'Unrecognized value for metric, should be mean/median'\n",
    "        assert type(group_cols) == list, 'group_cols should be a list of columns'\n",
    "        assert type(target) == str, 'target should be a string'\n",
    "        \n",
    "        self.group_cols = group_cols\n",
    "        self.target = target\n",
    "        self.metric = metric\n",
    "    \n",
    "    def fit(self, X, y=None):\n",
    "       \n",
    "       # print(X[self.group_cols])\n",
    "       # assert pd.isnull(X[self.group_cols]).any(axis=1) == False, 'There are missing values in group_cols'\n",
    "       # print('Ok')\n",
    "        #impute_map = X[self.group_cols]\n",
    "       # X.groupby(self.group_cols)[self.target].agg(self.metric).reset_index(drop=False)\n",
    "        \n",
    "        #self.impute_map_ = impute_map\n",
    "        \n",
    "       return self \n",
    "\n",
    "    \n",
    "    def transform(self, X, y=None):\n",
    "        \n",
    "        # make sure that the imputer was fitted\n",
    "       # check_is_fitted(self, 'impute_map_')\n",
    "        \n",
    "      #  X = X.copy()\n",
    "      #  X['title'] = X[self.group_cols].apply(lambda x: x.split(',')[1].split('.')[0].lower().strip()) \n",
    "      #  X[self.group_cols] = X['title'].apply(title_norm\n",
    "\n",
    "        return X[self.group_cols]\n"
   ]
  },
  {
   "cell_type": "code",
   "execution_count": 144,
   "metadata": {},
   "outputs": [],
   "source": [
    "\n",
    "class CategoryMaker(BaseEstimator, TransformerMixin): \n",
    "    \n",
    "    def __init__(self):\n",
    "        \n",
    "        print('\\n>>>>>>>Categor init() called.\\n')\n",
    "\n",
    "    def fit(self, X, y = None):\n",
    "\n",
    "        print('\\n>>>>>>>Categor fit() called.\\n')\n",
    "        return self\n",
    "\n",
    "    def transform(self, X, y = None):\n",
    "        \n",
    "        X_ = X.copy() # creating a copy to avoid changes to original dataset\n",
    "        X_.Name = X.Name.apply(lambda x: x.split(',')[1].split('.')[0].lower().strip()) \n",
    "        X_.Name = X_.Name.apply(title_norm)\n",
    "        print('\\n>>>>>>>Categor transform() called.',  X_.Name)\n",
    "        return X_\n",
    "        "
   ]
  },
  {
   "cell_type": "code",
   "execution_count": 145,
   "metadata": {},
   "outputs": [],
   "source": [
    "class ColumnsSelector(BaseEstimator, TransformerMixin):\n",
    "    # initializer \n",
    "    def __init__(self, columns):\n",
    "        # save the features list internally in the class\n",
    "        self.columns = columns\n",
    "        \n",
    "    def fit(self, X, y = None):\n",
    "        return self    \n",
    "    \n",
    "    def transform(self, X, y = None):\n",
    "        # return the dataframe with the specified features\n",
    "        return X[self.columns]\n",
    "    \n",
    "\n",
    "class FareScaler(BaseEstimator, TransformerMixin): \n",
    "    def __init__(self):\n",
    "        print('\\n>>>>>>>Numeric init() called.\\n')\n",
    "\n",
    "    def fit(self, X, y = None):\n",
    "        print('\\n>>>>>>>Numeric fit() called.\\n')\n",
    "        return self\n",
    "\n",
    "    def transform(self, X, y = None):\n",
    "        \n",
    "        X_ = X.copy() # creating a copy to avoid changes to original dataset\n",
    "        X_.Fare = (X_.Fare)/(X_.SibSp + 1 + X_.Parch)\n",
    "        print('\\n>>>>>>>Numeric transform() called.\\n', X_)\n",
    "        return X_\n",
    "     "
   ]
  },
  {
   "cell_type": "markdown",
   "metadata": {},
   "source": [
    "### 3.1 Feature Engineering"
   ]
  },
  {
   "cell_type": "code",
   "execution_count": 146,
   "metadata": {},
   "outputs": [],
   "source": [
    "num_features = [\n",
    "    'SibSp',\n",
    "    'Pclass',\n",
    "    'Age',\n",
    "    'Fare',\n",
    "    'Parch'\n",
    "]\n",
    "\n",
    "cat_features = ['Sex',  \n",
    "                'Name', \n",
    "               # 'Cabin',\n",
    "                'Embarked']\n",
    "\n",
    "features = num_features + cat_features\n",
    "\n",
    "target = 'Survived'\n",
    "\n",
    "# feature and target columns\n",
    "X_train,y_train = train[features], train[target]"
   ]
  },
  {
   "cell_type": "markdown",
   "metadata": {},
   "source": [
    "**numerical columns**"
   ]
  },
  {
   "cell_type": "code",
   "execution_count": 147,
   "metadata": {},
   "outputs": [
    {
     "name": "stdout",
     "output_type": "stream",
     "text": [
      "\n",
      ">>>>>>>Numeric init() called.\n",
      "\n"
     ]
    }
   ],
   "source": [
    "eng_transformer = Pipeline(\n",
    "    steps=[\n",
    "        ('scale_fare', FareScaler()),\n",
    "        ('imputer', SimpleImputer(strategy='median')),\n",
    "       \n",
    "])"
   ]
  },
  {
   "cell_type": "code",
   "execution_count": 148,
   "metadata": {},
   "outputs": [],
   "source": [
    "num_transformer = Pipeline(\n",
    "    steps=[\n",
    "        ('imputer', SimpleImputer(strategy='mean')),\n",
    "        ('scaling', StandardScaler()),\n",
    "    ])"
   ]
  },
  {
   "cell_type": "markdown",
   "metadata": {},
   "source": [
    "**categorical columns**"
   ]
  },
  {
   "cell_type": "code",
   "execution_count": 149,
   "metadata": {},
   "outputs": [
    {
     "name": "stdout",
     "output_type": "stream",
     "text": [
      "\n",
      ">>>>>>>Categor init() called.\n",
      "\n"
     ]
    }
   ],
   "source": [
    "# column transformation\n",
    "cat_transformer = Pipeline(\n",
    "    steps=[\n",
    "        ('reorder', CategoryMaker()),\n",
    "        ('onehot', OneHotEncoder(drop='first')),\n",
    "        ('imputer', SimpleImputer(strategy='most_frequent')),\n",
    "    ]\n",
    ")"
   ]
  },
  {
   "cell_type": "markdown",
   "metadata": {},
   "source": [
    "**total preprocessing**"
   ]
  },
  {
   "cell_type": "code",
   "execution_count": 150,
   "metadata": {},
   "outputs": [],
   "source": [
    "preprocessor = ColumnTransformer(\n",
    "    transformers=[\n",
    "        ('num_transformer', num_transformer, num_features),\n",
    "        ('eng_transformer', eng_transformer, num_features),\n",
    "        ('cat_transformer', cat_transformer, cat_features)\n",
    "    ])"
   ]
  },
  {
   "cell_type": "markdown",
   "metadata": {},
   "source": [
    "### 3.2 Model Building"
   ]
  },
  {
   "cell_type": "code",
   "execution_count": 151,
   "metadata": {},
   "outputs": [],
   "source": [
    "from sklearn.ensemble import RandomForestClassifier  \n",
    "from sklearn.metrics import classification_report \n",
    "import pandas as pd\n",
    "from sklearn.model_selection import train_test_split\n",
    "from sklearn.metrics import accuracy_score\n",
    "import warnings\n",
    "warnings.filterwarnings(\"ignore\")\n",
    "\n",
    "import matplotlib.pyplot as plt\n",
    "import seaborn as sns\n",
    "import numpy as np\n",
    "\n",
    "from sklearn.tree import DecisionTreeClassifier\n",
    "\n",
    "from IPython.display import IFrame\n",
    "from sklearn.linear_model import LogisticRegression\n",
    "from catboost import CatBoostClassifier\n",
    "from sklearn.svm import SVC\n",
    "from sklearn.ensemble import VotingClassifier"
   ]
  },
  {
   "cell_type": "markdown",
   "metadata": {},
   "source": [
    "**instantiate model**"
   ]
  },
  {
   "cell_type": "code",
   "execution_count": 152,
   "metadata": {},
   "outputs": [],
   "source": [
    "classifier_model = Pipeline(\n",
    "    steps=[\n",
    "        ('preprocessor', preprocessor),\n",
    "        ('classifier',  CatBoostClassifier(random_state=12, depth=4, iterations=90))    \n",
    "       # ('classifier',  LogisticRegression())   \n",
    "        #('classifier',  RandomForest (max_depth=20,  n_estimators=200))   \n",
    "    ])\n",
    "\n",
    "\n"
   ]
  },
  {
   "cell_type": "markdown",
   "metadata": {},
   "source": [
    "**train model**"
   ]
  },
  {
   "cell_type": "code",
   "execution_count": 153,
   "metadata": {},
   "outputs": [
    {
     "name": "stdout",
     "output_type": "stream",
     "text": [
      "\n",
      ">>>>>>>Numeric init() called.\n",
      "\n",
      "\n",
      ">>>>>>>Numeric fit() called.\n",
      "\n",
      "\n",
      ">>>>>>>Numeric transform() called.\n",
      "      SibSp  Pclass   Age        Fare  Parch\n",
      "0        0       2  23.0   13.000000      0\n",
      "1        0       1  51.0   26.550000      0\n",
      "2        0       3  29.0    9.500000      0\n",
      "3        1       1  40.0   44.833333      1\n",
      "4        0       2   6.0   16.500000      1\n",
      "..     ...     ...   ...         ...    ...\n",
      "707      0       3  19.0   14.500000      0\n",
      "708      0       3  32.0   56.495800      0\n",
      "709      0       1  41.0  134.500000      0\n",
      "710      0       1  44.0   28.989600      1\n",
      "711      8       3   NaN    6.322727      2\n",
      "\n",
      "[712 rows x 5 columns]\n",
      "\n",
      ">>>>>>>Categor init() called.\n",
      "\n",
      "\n",
      ">>>>>>>Categor fit() called.\n",
      "\n",
      "\n",
      ">>>>>>>Categor transform() called. 0      3\n",
      "1      3\n",
      "2      3\n",
      "3      2\n",
      "4      1\n",
      "      ..\n",
      "707    3\n",
      "708    3\n",
      "709    1\n",
      "710    2\n",
      "711    1\n",
      "Name: Name, Length: 712, dtype: int64\n",
      "Learning rate set to 0.081078\n",
      "0:\tlearn: 0.6477167\ttotal: 29.3ms\tremaining: 2.61s\n",
      "1:\tlearn: 0.6164458\ttotal: 30.1ms\tremaining: 1.32s\n",
      "2:\tlearn: 0.5791010\ttotal: 30.8ms\tremaining: 892ms\n",
      "3:\tlearn: 0.5512170\ttotal: 31.5ms\tremaining: 677ms\n",
      "4:\tlearn: 0.5285146\ttotal: 32.3ms\tremaining: 549ms\n",
      "5:\tlearn: 0.5084258\ttotal: 33.1ms\tremaining: 464ms\n",
      "6:\tlearn: 0.4936333\ttotal: 33.7ms\tremaining: 399ms\n",
      "7:\tlearn: 0.4811221\ttotal: 34.3ms\tremaining: 351ms\n",
      "8:\tlearn: 0.4675513\ttotal: 34.8ms\tremaining: 313ms\n",
      "9:\tlearn: 0.4568295\ttotal: 35.5ms\tremaining: 284ms\n",
      "10:\tlearn: 0.4486020\ttotal: 35.9ms\tremaining: 258ms\n",
      "11:\tlearn: 0.4403675\ttotal: 36.4ms\tremaining: 236ms\n",
      "12:\tlearn: 0.4365032\ttotal: 36.8ms\tremaining: 218ms\n",
      "13:\tlearn: 0.4332483\ttotal: 37.3ms\tremaining: 202ms\n",
      "14:\tlearn: 0.4270996\ttotal: 37.9ms\tremaining: 189ms\n",
      "15:\tlearn: 0.4233016\ttotal: 38.5ms\tremaining: 178ms\n",
      "16:\tlearn: 0.4187690\ttotal: 39.2ms\tremaining: 168ms\n",
      "17:\tlearn: 0.4146547\ttotal: 39.8ms\tremaining: 159ms\n",
      "18:\tlearn: 0.4116962\ttotal: 40.5ms\tremaining: 151ms\n",
      "19:\tlearn: 0.4079902\ttotal: 41.2ms\tremaining: 144ms\n",
      "20:\tlearn: 0.4061222\ttotal: 41.9ms\tremaining: 138ms\n",
      "21:\tlearn: 0.4027736\ttotal: 42.5ms\tremaining: 131ms\n",
      "22:\tlearn: 0.3998272\ttotal: 43ms\tremaining: 125ms\n",
      "23:\tlearn: 0.3972367\ttotal: 43.4ms\tremaining: 119ms\n",
      "24:\tlearn: 0.3961802\ttotal: 43.9ms\tremaining: 114ms\n",
      "25:\tlearn: 0.3944838\ttotal: 44.3ms\tremaining: 109ms\n",
      "26:\tlearn: 0.3925634\ttotal: 45ms\tremaining: 105ms\n",
      "27:\tlearn: 0.3899809\ttotal: 48.1ms\tremaining: 107ms\n",
      "28:\tlearn: 0.3894547\ttotal: 48.7ms\tremaining: 102ms\n",
      "29:\tlearn: 0.3872580\ttotal: 49.3ms\tremaining: 98.6ms\n",
      "30:\tlearn: 0.3868102\ttotal: 49.8ms\tremaining: 94.7ms\n",
      "31:\tlearn: 0.3855938\ttotal: 50.1ms\tremaining: 90.8ms\n",
      "32:\tlearn: 0.3835846\ttotal: 50.9ms\tremaining: 87.9ms\n",
      "33:\tlearn: 0.3820535\ttotal: 51.6ms\tremaining: 85ms\n",
      "34:\tlearn: 0.3812302\ttotal: 52.3ms\tremaining: 82.2ms\n",
      "35:\tlearn: 0.3797327\ttotal: 52.7ms\tremaining: 79ms\n",
      "36:\tlearn: 0.3782533\ttotal: 54.5ms\tremaining: 78.1ms\n",
      "37:\tlearn: 0.3774816\ttotal: 56.2ms\tremaining: 76.8ms\n",
      "38:\tlearn: 0.3766479\ttotal: 56.6ms\tremaining: 74ms\n",
      "39:\tlearn: 0.3759930\ttotal: 57.1ms\tremaining: 71.3ms\n",
      "40:\tlearn: 0.3744092\ttotal: 57.5ms\tremaining: 68.7ms\n",
      "41:\tlearn: 0.3737286\ttotal: 57.9ms\tremaining: 66.2ms\n",
      "42:\tlearn: 0.3731748\ttotal: 58.4ms\tremaining: 63.8ms\n",
      "43:\tlearn: 0.3726455\ttotal: 58.8ms\tremaining: 61.5ms\n",
      "44:\tlearn: 0.3713885\ttotal: 59.5ms\tremaining: 59.5ms\n",
      "45:\tlearn: 0.3705141\ttotal: 59.9ms\tremaining: 57.3ms\n",
      "46:\tlearn: 0.3697399\ttotal: 60.3ms\tremaining: 55.2ms\n",
      "47:\tlearn: 0.3687499\ttotal: 60.7ms\tremaining: 53.2ms\n",
      "48:\tlearn: 0.3681312\ttotal: 61.2ms\tremaining: 51.2ms\n",
      "49:\tlearn: 0.3676100\ttotal: 61.5ms\tremaining: 49.2ms\n",
      "50:\tlearn: 0.3666938\ttotal: 61.8ms\tremaining: 47.3ms\n",
      "51:\tlearn: 0.3657396\ttotal: 62.2ms\tremaining: 45.4ms\n",
      "52:\tlearn: 0.3656225\ttotal: 62.7ms\tremaining: 43.8ms\n",
      "53:\tlearn: 0.3647572\ttotal: 63.1ms\tremaining: 42.1ms\n",
      "54:\tlearn: 0.3631447\ttotal: 63.5ms\tremaining: 40.4ms\n",
      "55:\tlearn: 0.3623202\ttotal: 63.8ms\tremaining: 38.7ms\n",
      "56:\tlearn: 0.3613473\ttotal: 64.1ms\tremaining: 37.1ms\n",
      "57:\tlearn: 0.3604357\ttotal: 64.5ms\tremaining: 35.6ms\n",
      "58:\tlearn: 0.3600496\ttotal: 64.9ms\tremaining: 34.1ms\n",
      "59:\tlearn: 0.3584893\ttotal: 65.3ms\tremaining: 32.7ms\n",
      "60:\tlearn: 0.3577403\ttotal: 65.7ms\tremaining: 31.2ms\n",
      "61:\tlearn: 0.3564257\ttotal: 66.1ms\tremaining: 29.9ms\n",
      "62:\tlearn: 0.3560425\ttotal: 66.5ms\tremaining: 28.5ms\n",
      "63:\tlearn: 0.3549695\ttotal: 66.9ms\tremaining: 27.2ms\n",
      "64:\tlearn: 0.3544861\ttotal: 67.2ms\tremaining: 25.9ms\n",
      "65:\tlearn: 0.3532307\ttotal: 67.8ms\tremaining: 24.7ms\n",
      "66:\tlearn: 0.3519734\ttotal: 68.2ms\tremaining: 23.4ms\n",
      "67:\tlearn: 0.3514541\ttotal: 69.1ms\tremaining: 22.3ms\n",
      "68:\tlearn: 0.3496709\ttotal: 75.3ms\tremaining: 22.9ms\n",
      "69:\tlearn: 0.3492132\ttotal: 75.9ms\tremaining: 21.7ms\n",
      "70:\tlearn: 0.3482400\ttotal: 76.3ms\tremaining: 20.4ms\n",
      "71:\tlearn: 0.3466827\ttotal: 76.8ms\tremaining: 19.2ms\n",
      "72:\tlearn: 0.3451427\ttotal: 77.1ms\tremaining: 18ms\n",
      "73:\tlearn: 0.3447076\ttotal: 77.6ms\tremaining: 16.8ms\n",
      "74:\tlearn: 0.3435318\ttotal: 82ms\tremaining: 16.4ms\n",
      "75:\tlearn: 0.3427885\ttotal: 82.4ms\tremaining: 15.2ms\n",
      "76:\tlearn: 0.3418992\ttotal: 82.9ms\tremaining: 14ms\n",
      "77:\tlearn: 0.3409770\ttotal: 83.4ms\tremaining: 12.8ms\n",
      "78:\tlearn: 0.3402109\ttotal: 86.9ms\tremaining: 12.1ms\n",
      "79:\tlearn: 0.3392280\ttotal: 87.7ms\tremaining: 11ms\n",
      "80:\tlearn: 0.3383616\ttotal: 88.1ms\tremaining: 9.79ms\n",
      "81:\tlearn: 0.3374491\ttotal: 88.6ms\tremaining: 8.64ms\n",
      "82:\tlearn: 0.3360283\ttotal: 89.2ms\tremaining: 7.52ms\n",
      "83:\tlearn: 0.3343346\ttotal: 89.6ms\tremaining: 6.4ms\n",
      "84:\tlearn: 0.3324323\ttotal: 90ms\tremaining: 5.29ms\n",
      "85:\tlearn: 0.3315557\ttotal: 90.4ms\tremaining: 4.2ms\n",
      "86:\tlearn: 0.3307277\ttotal: 90.8ms\tremaining: 3.13ms\n",
      "87:\tlearn: 0.3298686\ttotal: 91.2ms\tremaining: 2.07ms\n",
      "88:\tlearn: 0.3293417\ttotal: 91.6ms\tremaining: 1.03ms\n",
      "89:\tlearn: 0.3284312\ttotal: 92ms\tremaining: 0us\n"
     ]
    }
   ],
   "source": [
    "rfc = classifier_model.fit(X_train, y_train)"
   ]
  },
  {
   "cell_type": "markdown",
   "metadata": {},
   "source": [
    "**model validation**"
   ]
  },
  {
   "cell_type": "code",
   "execution_count": 154,
   "metadata": {},
   "outputs": [
    {
     "name": "stdout",
     "output_type": "stream",
     "text": [
      "\n",
      ">>>>>>>Numeric transform() called.\n",
      "      SibSp  Pclass   Age        Fare  Parch\n",
      "0        0       2  23.0   13.000000      0\n",
      "1        0       1  51.0   26.550000      0\n",
      "2        0       3  29.0    9.500000      0\n",
      "3        1       1  40.0   44.833333      1\n",
      "4        0       2   6.0   16.500000      1\n",
      "..     ...     ...   ...         ...    ...\n",
      "707      0       3  19.0   14.500000      0\n",
      "708      0       3  32.0   56.495800      0\n",
      "709      0       1  41.0  134.500000      0\n",
      "710      0       1  44.0   28.989600      1\n",
      "711      8       3   NaN    6.322727      2\n",
      "\n",
      "[712 rows x 5 columns]\n",
      "\n",
      ">>>>>>>Categor transform() called. 0      3\n",
      "1      3\n",
      "2      3\n",
      "3      2\n",
      "4      1\n",
      "      ..\n",
      "707    3\n",
      "708    3\n",
      "709    1\n",
      "710    2\n",
      "711    1\n",
      "Name: Name, Length: 712, dtype: int64\n",
      "training accuracy: 0.869382\n"
     ]
    }
   ],
   "source": [
    "\n",
    "training_acccuracy = rfc.score(X_train,y_train)\n",
    "print(f\"training accuracy: {round(training_acccuracy, 6)}\")"
   ]
  },
  {
   "cell_type": "markdown",
   "metadata": {},
   "source": [
    "### 2.5 Model Evaluation"
   ]
  },
  {
   "cell_type": "markdown",
   "metadata": {},
   "source": [
    "**feature-target separation**"
   ]
  },
  {
   "cell_type": "code",
   "execution_count": 155,
   "metadata": {},
   "outputs": [],
   "source": [
    "X_test, y_test = test[features], test[target]"
   ]
  },
  {
   "cell_type": "markdown",
   "metadata": {},
   "source": [
    "**model performance**"
   ]
  },
  {
   "cell_type": "code",
   "execution_count": 156,
   "metadata": {},
   "outputs": [
    {
     "name": "stdout",
     "output_type": "stream",
     "text": [
      "\n",
      ">>>>>>>Numeric transform() called.\n",
      "      SibSp  Pclass   Age       Fare  Parch\n",
      "0        0       1  45.5   28.50000      0\n",
      "1        1       1  18.0  113.76250      0\n",
      "2        1       1  19.0   26.55000      0\n",
      "3        0       3   6.0    6.23750      1\n",
      "4        0       2   NaN    0.00000      0\n",
      "..     ...     ...   ...        ...    ...\n",
      "174      0       3   NaN    7.31250      0\n",
      "175      0       3   NaN    8.05000      0\n",
      "176      0       1  56.0   41.57915      1\n",
      "177      0       3  48.0    7.85420      0\n",
      "178      0       2   NaN    0.00000      0\n",
      "\n",
      "[179 rows x 5 columns]\n",
      "\n",
      ">>>>>>>Categor transform() called. 0      3\n",
      "1      2\n",
      "2      3\n",
      "3      6\n",
      "4      3\n",
      "      ..\n",
      "174    3\n",
      "175    3\n",
      "176    2\n",
      "177    3\n",
      "178    3\n",
      "Name: Name, Length: 179, dtype: int64\n",
      "test accuracy: 0.821229\n"
     ]
    }
   ],
   "source": [
    "test_acccuracy = classifier_model.score(X_test,y_test)\n",
    "print(f\"test accuracy: {round(test_acccuracy, 6)}\")"
   ]
  },
  {
   "cell_type": "code",
   "execution_count": 157,
   "metadata": {},
   "outputs": [
    {
     "data": {
      "text/plain": [
       "<bound method DataFrame.info of      SibSp  Pclass   Age      Fare  Parch     Sex  \\\n",
       "0        0       1  45.5   28.5000      0    male   \n",
       "1        1       1  18.0  227.5250      0  female   \n",
       "2        1       1  19.0   53.1000      0    male   \n",
       "3        0       3   6.0   12.4750      1    male   \n",
       "4        0       2   NaN    0.0000      0    male   \n",
       "..     ...     ...   ...       ...    ...     ...   \n",
       "174      0       3   NaN    7.3125      0    male   \n",
       "175      0       3   NaN    8.0500      0    male   \n",
       "176      0       1  56.0   83.1583      1  female   \n",
       "177      0       3  48.0    7.8542      0    male   \n",
       "178      0       2   NaN    0.0000      0    male   \n",
       "\n",
       "                                                  Name Embarked  \n",
       "0                                  Partner, Mr. Austen        S  \n",
       "1    Astor, Mrs. John Jacob (Madeleine Talmadge Force)        C  \n",
       "2                            Marvin, Mr. Daniel Warner        S  \n",
       "3                                  Moor, Master. Meier        S  \n",
       "4                     Frost, Mr. Anthony Wood \"Archie\"        S  \n",
       "..                                                 ...      ...  \n",
       "174                              Olsen, Mr. Ole Martin        S  \n",
       "175                                Peduzzi, Mr. Joseph        S  \n",
       "176      Potter, Mrs. Thomas Jr (Lily Alexenia Wilson)        C  \n",
       "177                            Jensen, Mr. Niels Peder        S  \n",
       "178                              Campbell, Mr. William        S  \n",
       "\n",
       "[179 rows x 8 columns]>"
      ]
     },
     "execution_count": 157,
     "metadata": {},
     "output_type": "execute_result"
    }
   ],
   "source": [
    "X_test.info"
   ]
  },
  {
   "cell_type": "code",
   "execution_count": 162,
   "metadata": {},
   "outputs": [
    {
     "ename": "AttributeError",
     "evalue": "module 'seaborn' has no attribute 'show'",
     "output_type": "error",
     "traceback": [
      "\u001b[0;31m---------------------------------------------------------------------------\u001b[0m",
      "\u001b[0;31mAttributeError\u001b[0m                            Traceback (most recent call last)",
      "Cell \u001b[0;32mIn[162], line 2\u001b[0m\n\u001b[1;32m      1\u001b[0m sns\u001b[39m.\u001b[39mpairplot(X_test)\n\u001b[0;32m----> 2\u001b[0m sns\u001b[39m.\u001b[39;49mshow()\n",
      "\u001b[0;31mAttributeError\u001b[0m: module 'seaborn' has no attribute 'show'"
     ]
    },
    {
     "data": {
      "image/png": "[encoded data removed]",
      "text/plain": [
       "<Figure size 1250x1250 with 30 Axes>"
      ]
     },
     "metadata": {},
     "output_type": "display_data"
    }
   ],
   "source": [
    "sns.pairplot(X_test)\n",
    "sns.show()"
   ]
  },
  {
   "cell_type": "code",
   "execution_count": 112,
   "metadata": {},
   "outputs": [],
   "source": [
    "from sklearn.tree import DecisionTreeClassifier\n",
    "dtc = DecisionTreeClassifier()\n",
    "\n",
    "classifier_model_DTC = Pipeline(\n",
    "    steps=[\n",
    "        ('preprocessor', preprocessor),\n",
    "        #('classifier',  CatBoostClassifier(random_state=12, depth=4, iterations=90))    \n",
    "        #('classifier',  LogisticRegression())   \n",
    "        ('classifier',  DecisionTreeClassifier())   \n",
    "    ])\n"
   ]
  },
  {
   "cell_type": "code",
   "execution_count": 113,
   "metadata": {},
   "outputs": [
    {
     "name": "stdout",
     "output_type": "stream",
     "text": [
      "\n",
      ">>>>>>>Numeric init() called.\n",
      "\n",
      "\n",
      ">>>>>>>Numeric fit() called.\n",
      "\n",
      "\n",
      ">>>>>>>Numeric transform() called.\n",
      "      SibSp  Pclass   Age        Fare  Parch\n",
      "0        0       2  23.0   13.000000      0\n",
      "1        0       1  51.0   26.550000      0\n",
      "2        0       3  29.0    9.500000      0\n",
      "3        1       1  40.0   44.833333      1\n",
      "4        0       2   6.0   16.500000      1\n",
      "..     ...     ...   ...         ...    ...\n",
      "707      0       3  19.0   14.500000      0\n",
      "708      0       3  32.0   56.495800      0\n",
      "709      0       1  41.0  134.500000      0\n",
      "710      0       1  44.0   28.989600      1\n",
      "711      8       3   NaN    6.322727      2\n",
      "\n",
      "[712 rows x 5 columns]\n",
      "\n",
      ">>>>>>>Categor init() called.\n",
      "\n",
      "\n",
      ">>>>>>>Categor fit() called.\n",
      "\n",
      "\n",
      ">>>>>>>Categor transform() called. 0      3\n",
      "1      3\n",
      "2      3\n",
      "3      2\n",
      "4      1\n",
      "      ..\n",
      "707    3\n",
      "708    3\n",
      "709    1\n",
      "710    2\n",
      "711    1\n",
      "Name: Name, Length: 712, dtype: int64\n"
     ]
    }
   ],
   "source": [
    "dtc = classifier_model_DTC.fit(X_train, y_train)"
   ]
  },
  {
   "cell_type": "code",
   "execution_count": 111,
   "metadata": {},
   "outputs": [
    {
     "name": "stdout",
     "output_type": "stream",
     "text": [
      "\n",
      ">>>>>>>Numeric init() called.\n",
      "\n",
      "\n",
      ">>>>>>>Numeric fit() called.\n",
      "\n",
      "\n",
      ">>>>>>>Numeric transform() called.\n",
      "      SibSp  Pclass   Age        Fare  Parch\n",
      "0        0       2  23.0   13.000000      0\n",
      "1        0       1  51.0   26.550000      0\n",
      "2        0       3  29.0    9.500000      0\n",
      "3        1       1  40.0   44.833333      1\n",
      "4        0       2   6.0   16.500000      1\n",
      "..     ...     ...   ...         ...    ...\n",
      "707      0       3  19.0   14.500000      0\n",
      "708      0       3  32.0   56.495800      0\n",
      "709      0       1  41.0  134.500000      0\n",
      "710      0       1  44.0   28.989600      1\n",
      "711      8       3   NaN    6.322727      2\n",
      "\n",
      "[712 rows x 5 columns]\n",
      "\n",
      ">>>>>>>Categor init() called.\n",
      "\n",
      "\n",
      ">>>>>>>Categor fit() called.\n",
      "\n",
      "\n",
      ">>>>>>>Categor transform() called. 0      3\n",
      "1      3\n",
      "2      3\n",
      "3      2\n",
      "4      1\n",
      "      ..\n",
      "707    3\n",
      "708    3\n",
      "709    1\n",
      "710    2\n",
      "711    1\n",
      "Name: Name, Length: 712, dtype: int64\n",
      "test accuracy: 0.810056\n"
     ]
    }
   ],
   "source": [
    "dtc = classifier_model_DTC.fit(X_train, y_train)\n",
    "\n",
    "print(f\"test accuracy: {round(test_acccuracy, 6)}\")"
   ]
  },
  {
   "cell_type": "code",
   "execution_count": 76,
   "metadata": {},
   "outputs": [
    {
     "data": {
      "text/html": [
       "<div>\n",
       "<style scoped>\n",
       "    .dataframe tbody tr th:only-of-type {\n",
       "        vertical-align: middle;\n",
       "    }\n",
       "\n",
       "    .dataframe tbody tr th {\n",
       "        vertical-align: top;\n",
       "    }\n",
       "\n",
       "    .dataframe thead th {\n",
       "        text-align: right;\n",
       "    }\n",
       "</style>\n",
       "<table border=\"1\" class=\"dataframe\">\n",
       "  <thead>\n",
       "    <tr style=\"text-align: right;\">\n",
       "      <th></th>\n",
       "      <th>SibSp</th>\n",
       "      <th>Pclass</th>\n",
       "      <th>Age</th>\n",
       "      <th>Fare</th>\n",
       "      <th>Parch</th>\n",
       "      <th>Sex</th>\n",
       "      <th>Name</th>\n",
       "      <th>Embarked</th>\n",
       "    </tr>\n",
       "  </thead>\n",
       "  <tbody>\n",
       "    <tr>\n",
       "      <th>0</th>\n",
       "      <td>0</td>\n",
       "      <td>2</td>\n",
       "      <td>23.0</td>\n",
       "      <td>13.0000</td>\n",
       "      <td>0</td>\n",
       "      <td>male</td>\n",
       "      <td>Berriman, Mr. William John</td>\n",
       "      <td>S</td>\n",
       "    </tr>\n",
       "    <tr>\n",
       "      <th>1</th>\n",
       "      <td>0</td>\n",
       "      <td>1</td>\n",
       "      <td>51.0</td>\n",
       "      <td>26.5500</td>\n",
       "      <td>0</td>\n",
       "      <td>male</td>\n",
       "      <td>Daly, Mr. Peter Denis</td>\n",
       "      <td>S</td>\n",
       "    </tr>\n",
       "    <tr>\n",
       "      <th>2</th>\n",
       "      <td>0</td>\n",
       "      <td>3</td>\n",
       "      <td>29.0</td>\n",
       "      <td>9.5000</td>\n",
       "      <td>0</td>\n",
       "      <td>male</td>\n",
       "      <td>Sheerlinck, Mr. Jan Baptist</td>\n",
       "      <td>S</td>\n",
       "    </tr>\n",
       "    <tr>\n",
       "      <th>3</th>\n",
       "      <td>1</td>\n",
       "      <td>1</td>\n",
       "      <td>40.0</td>\n",
       "      <td>134.5000</td>\n",
       "      <td>1</td>\n",
       "      <td>female</td>\n",
       "      <td>Spedden, Mrs. Frederic Oakley (Margaretta Corn...</td>\n",
       "      <td>C</td>\n",
       "    </tr>\n",
       "    <tr>\n",
       "      <th>4</th>\n",
       "      <td>0</td>\n",
       "      <td>2</td>\n",
       "      <td>6.0</td>\n",
       "      <td>33.0000</td>\n",
       "      <td>1</td>\n",
       "      <td>female</td>\n",
       "      <td>Harper, Miss. Annie Jessie \"Nina\"</td>\n",
       "      <td>S</td>\n",
       "    </tr>\n",
       "    <tr>\n",
       "      <th>...</th>\n",
       "      <td>...</td>\n",
       "      <td>...</td>\n",
       "      <td>...</td>\n",
       "      <td>...</td>\n",
       "      <td>...</td>\n",
       "      <td>...</td>\n",
       "      <td>...</td>\n",
       "      <td>...</td>\n",
       "    </tr>\n",
       "    <tr>\n",
       "      <th>707</th>\n",
       "      <td>0</td>\n",
       "      <td>3</td>\n",
       "      <td>19.0</td>\n",
       "      <td>14.5000</td>\n",
       "      <td>0</td>\n",
       "      <td>male</td>\n",
       "      <td>Patchett, Mr. George</td>\n",
       "      <td>S</td>\n",
       "    </tr>\n",
       "    <tr>\n",
       "      <th>708</th>\n",
       "      <td>0</td>\n",
       "      <td>3</td>\n",
       "      <td>32.0</td>\n",
       "      <td>56.4958</td>\n",
       "      <td>0</td>\n",
       "      <td>male</td>\n",
       "      <td>Chip, Mr. Chang</td>\n",
       "      <td>S</td>\n",
       "    </tr>\n",
       "    <tr>\n",
       "      <th>709</th>\n",
       "      <td>0</td>\n",
       "      <td>1</td>\n",
       "      <td>41.0</td>\n",
       "      <td>134.5000</td>\n",
       "      <td>0</td>\n",
       "      <td>female</td>\n",
       "      <td>Burns, Miss. Elizabeth Margaret</td>\n",
       "      <td>C</td>\n",
       "    </tr>\n",
       "    <tr>\n",
       "      <th>710</th>\n",
       "      <td>0</td>\n",
       "      <td>1</td>\n",
       "      <td>44.0</td>\n",
       "      <td>57.9792</td>\n",
       "      <td>1</td>\n",
       "      <td>female</td>\n",
       "      <td>Hippach, Mrs. Louis Albert (Ida Sophia Fischer)</td>\n",
       "      <td>C</td>\n",
       "    </tr>\n",
       "    <tr>\n",
       "      <th>711</th>\n",
       "      <td>8</td>\n",
       "      <td>3</td>\n",
       "      <td>NaN</td>\n",
       "      <td>69.5500</td>\n",
       "      <td>2</td>\n",
       "      <td>female</td>\n",
       "      <td>Sage, Miss. Dorothy Edith \"Dolly\"</td>\n",
       "      <td>S</td>\n",
       "    </tr>\n",
       "  </tbody>\n",
       "</table>\n",
       "<p>712 rows × 8 columns</p>\n",
       "</div>"
      ],
      "text/plain": [
       "     SibSp  Pclass   Age      Fare  Parch     Sex  \\\n",
       "0        0       2  23.0   13.0000      0    male   \n",
       "1        0       1  51.0   26.5500      0    male   \n",
       "2        0       3  29.0    9.5000      0    male   \n",
       "3        1       1  40.0  134.5000      1  female   \n",
       "4        0       2   6.0   33.0000      1  female   \n",
       "..     ...     ...   ...       ...    ...     ...   \n",
       "707      0       3  19.0   14.5000      0    male   \n",
       "708      0       3  32.0   56.4958      0    male   \n",
       "709      0       1  41.0  134.5000      0  female   \n",
       "710      0       1  44.0   57.9792      1  female   \n",
       "711      8       3   NaN   69.5500      2  female   \n",
       "\n",
       "                                                  Name Embarked  \n",
       "0                           Berriman, Mr. William John        S  \n",
       "1                               Daly, Mr. Peter Denis         S  \n",
       "2                          Sheerlinck, Mr. Jan Baptist        S  \n",
       "3    Spedden, Mrs. Frederic Oakley (Margaretta Corn...        C  \n",
       "4                    Harper, Miss. Annie Jessie \"Nina\"        S  \n",
       "..                                                 ...      ...  \n",
       "707                               Patchett, Mr. George        S  \n",
       "708                                    Chip, Mr. Chang        S  \n",
       "709                    Burns, Miss. Elizabeth Margaret        C  \n",
       "710    Hippach, Mrs. Louis Albert (Ida Sophia Fischer)        C  \n",
       "711                  Sage, Miss. Dorothy Edith \"Dolly\"        S  \n",
       "\n",
       "[712 rows x 8 columns]"
      ]
     },
     "execution_count": 76,
     "metadata": {},
     "output_type": "execute_result"
    }
   ],
   "source": [
    "X_train"
   ]
  },
  {
   "cell_type": "code",
   "execution_count": 77,
   "metadata": {},
   "outputs": [
    {
     "ename": "ValueError",
     "evalue": "Length of feature_names, 5 does not match number of features, 8",
     "output_type": "error",
     "traceback": [
      "\u001b[0;31m---------------------------------------------------------------------------\u001b[0m",
      "\u001b[0;31mValueError\u001b[0m                                Traceback (most recent call last)",
      "Cell \u001b[0;32mIn[77], line 11\u001b[0m\n\u001b[1;32m      5\u001b[0m     dot_data \u001b[39m=\u001b[39m tree\u001b[39m.\u001b[39mexport_graphviz(data, out_file\u001b[39m=\u001b[39m\u001b[39mNone\u001b[39;00m,\n\u001b[1;32m      6\u001b[0m                                     feature_names\u001b[39m=\u001b[39m [\u001b[39m'\u001b[39m\u001b[39mSibSp\u001b[39m\u001b[39m'\u001b[39m,\t\u001b[39m'\u001b[39m\u001b[39mPclass\u001b[39m\u001b[39m'\u001b[39m,\t\u001b[39m'\u001b[39m\u001b[39mAge\u001b[39m\u001b[39m'\u001b[39m,\t\u001b[39m'\u001b[39m\u001b[39mFare\u001b[39m\u001b[39m'\u001b[39m,\t\u001b[39m'\u001b[39m\u001b[39mParch\u001b[39m\u001b[39m'\u001b[39m],  \n\u001b[1;32m      7\u001b[0m                                     class_names\u001b[39m=\u001b[39mcat_features,  \n\u001b[1;32m      8\u001b[0m                                     filled\u001b[39m=\u001b[39m\u001b[39mTrue\u001b[39;00m)  \n\u001b[1;32m      9\u001b[0m     \u001b[39mreturn\u001b[39;00m graphviz\u001b[39m.\u001b[39mSource(dot_data)  \n\u001b[0;32m---> 11\u001b[0m print_graph(dtc)\n",
      "Cell \u001b[0;32mIn[77], line 5\u001b[0m, in \u001b[0;36mprint_graph\u001b[0;34m(data)\u001b[0m\n\u001b[1;32m      4\u001b[0m \u001b[39mdef\u001b[39;00m \u001b[39mprint_graph\u001b[39m(data):\n\u001b[0;32m----> 5\u001b[0m     dot_data \u001b[39m=\u001b[39m tree\u001b[39m.\u001b[39;49mexport_graphviz(data, out_file\u001b[39m=\u001b[39;49m\u001b[39mNone\u001b[39;49;00m,\n\u001b[1;32m      6\u001b[0m                                     feature_names\u001b[39m=\u001b[39;49m [\u001b[39m'\u001b[39;49m\u001b[39mSibSp\u001b[39;49m\u001b[39m'\u001b[39;49m,\t\u001b[39m'\u001b[39;49m\u001b[39mPclass\u001b[39;49m\u001b[39m'\u001b[39;49m,\t\u001b[39m'\u001b[39;49m\u001b[39mAge\u001b[39;49m\u001b[39m'\u001b[39;49m,\t\u001b[39m'\u001b[39;49m\u001b[39mFare\u001b[39;49m\u001b[39m'\u001b[39;49m,\t\u001b[39m'\u001b[39;49m\u001b[39mParch\u001b[39;49m\u001b[39m'\u001b[39;49m],  \n\u001b[1;32m      7\u001b[0m                                     class_names\u001b[39m=\u001b[39;49mcat_features,  \n\u001b[1;32m      8\u001b[0m                                     filled\u001b[39m=\u001b[39;49m\u001b[39mTrue\u001b[39;49;00m)  \n\u001b[1;32m      9\u001b[0m     \u001b[39mreturn\u001b[39;00m graphviz\u001b[39m.\u001b[39mSource(dot_data)\n",
      "File \u001b[0;32m~/.local/lib/python3.10/site-packages/sklearn/tree/_export.py:888\u001b[0m, in \u001b[0;36mexport_graphviz\u001b[0;34m(decision_tree, out_file, max_depth, feature_names, class_names, label, filled, leaves_parallel, impurity, node_ids, proportion, rotate, rounded, special_characters, precision, fontname)\u001b[0m\n\u001b[1;32m    869\u001b[0m     out_file \u001b[39m=\u001b[39m StringIO()\n\u001b[1;32m    871\u001b[0m exporter \u001b[39m=\u001b[39m _DOTTreeExporter(\n\u001b[1;32m    872\u001b[0m     out_file\u001b[39m=\u001b[39mout_file,\n\u001b[1;32m    873\u001b[0m     max_depth\u001b[39m=\u001b[39mmax_depth,\n\u001b[0;32m   (...)\u001b[0m\n\u001b[1;32m    886\u001b[0m     fontname\u001b[39m=\u001b[39mfontname,\n\u001b[1;32m    887\u001b[0m )\n\u001b[0;32m--> 888\u001b[0m exporter\u001b[39m.\u001b[39;49mexport(decision_tree)\n\u001b[1;32m    890\u001b[0m \u001b[39mif\u001b[39;00m return_string:\n\u001b[1;32m    891\u001b[0m     \u001b[39mreturn\u001b[39;00m exporter\u001b[39m.\u001b[39mout_file\u001b[39m.\u001b[39mgetvalue()\n",
      "File \u001b[0;32m~/.local/lib/python3.10/site-packages/sklearn/tree/_export.py:451\u001b[0m, in \u001b[0;36m_DOTTreeExporter.export\u001b[0;34m(self, decision_tree)\u001b[0m\n\u001b[1;32m    449\u001b[0m \u001b[39mif\u001b[39;00m \u001b[39mself\u001b[39m\u001b[39m.\u001b[39mfeature_names \u001b[39mis\u001b[39;00m \u001b[39mnot\u001b[39;00m \u001b[39mNone\u001b[39;00m:\n\u001b[1;32m    450\u001b[0m     \u001b[39mif\u001b[39;00m \u001b[39mlen\u001b[39m(\u001b[39mself\u001b[39m\u001b[39m.\u001b[39mfeature_names) \u001b[39m!=\u001b[39m decision_tree\u001b[39m.\u001b[39mn_features_in_:\n\u001b[0;32m--> 451\u001b[0m         \u001b[39mraise\u001b[39;00m \u001b[39mValueError\u001b[39;00m(\n\u001b[1;32m    452\u001b[0m             \u001b[39m\"\u001b[39m\u001b[39mLength of feature_names, \u001b[39m\u001b[39m%d\u001b[39;00m\u001b[39m does not match number of features, \u001b[39m\u001b[39m%d\u001b[39;00m\u001b[39m\"\u001b[39m\n\u001b[1;32m    453\u001b[0m             \u001b[39m%\u001b[39m (\u001b[39mlen\u001b[39m(\u001b[39mself\u001b[39m\u001b[39m.\u001b[39mfeature_names), decision_tree\u001b[39m.\u001b[39mn_features_in_)\n\u001b[1;32m    454\u001b[0m         )\n\u001b[1;32m    455\u001b[0m \u001b[39m# each part writes to out_file\u001b[39;00m\n\u001b[1;32m    456\u001b[0m \u001b[39mself\u001b[39m\u001b[39m.\u001b[39mhead()\n",
      "\u001b[0;31mValueError\u001b[0m: Length of feature_names, 5 does not match number of features, 8"
     ]
    }
   ],
   "source": [
    "\n",
    "from sklearn import tree\n",
    "import graphviz\n",
    "\n",
    "def print_graph(data):\n",
    "    dot_data = tree.export_graphviz(data, out_file=None,\n",
    "                                    feature_names= ['SibSp',\t'Pclass',\t'Age',\t'Fare',\t'Parch'],  \n",
    "                                    class_names=cat_features,  \n",
    "                                    filled=True)  \n",
    "    return graphviz.Source(dot_data)  \n",
    "\n",
    "print_graph(dtc)"
   ]
  },
  {
   "cell_type": "markdown",
   "metadata": {},
   "source": [
    "<hr style=\"border:2px solid black\">"
   ]
  },
  {
   "cell_type": "markdown",
   "metadata": {},
   "source": [
    "## References\n",
    "\n",
    "- [How to add feature engineering to a scikit-learn pipeline](https://practicaldatascience.co.uk/machine-learning/how-to-add-feature-engineering-to-a-scikit-learn-pipeline)\n",
    "\n",
    "- [Coding a custom imputer in scikit-learn](https://towardsdatascience.com/coding-a-custom-imputer-in-scikit-learn-31bd68e541de)"
   ]
  },
  {
   "cell_type": "code",
   "execution_count": 70,
   "metadata": {},
   "outputs": [
    {
     "name": "stdout",
     "output_type": "stream",
     "text": [
      "\n",
      ">>>>>>>Numeric transform() called.\n",
      "      SibSp  Pclass   Age        Fare  Parch\n",
      "0        0       3  34.5    7.829200      0\n",
      "1        1       3  47.0    3.500000      0\n",
      "2        0       2  62.0    9.687500      0\n",
      "3        0       3  27.0    8.662500      0\n",
      "4        1       3  22.0    4.095833      1\n",
      "..     ...     ...   ...         ...    ...\n",
      "413      0       3   NaN    8.050000      0\n",
      "414      0       1  39.0  108.900000      0\n",
      "415      0       3  38.5    7.250000      0\n",
      "416      0       3   NaN    8.050000      0\n",
      "417      1       3   NaN    7.452767      1\n",
      "\n",
      "[418 rows x 5 columns]\n",
      "\n",
      ">>>>>>>Categor transform() called. 0      3\n",
      "1      2\n",
      "2      3\n",
      "3      3\n",
      "4      2\n",
      "      ..\n",
      "413    3\n",
      "414    0\n",
      "415    3\n",
      "416    3\n",
      "417    6\n",
      "Name: Name, Length: 418, dtype: int64\n"
     ]
    }
   ],
   "source": [
    "predict_data = pd.read_csv(\"../data/test.csv\")\n",
    "# Get feature columns\n",
    "X_test = predict_data[features]\n",
    "# Predict\n",
    "result = classifier_model_DTC.predict(X_test)\n",
    "# Export to CSV\n",
    "prediction = pd.DataFrame(result.ravel(), columns=[\"Survived\"])\n",
    "prediction = pd.concat([predict_data[\"PassengerId\"], prediction], axis=1)\n",
    "prediction.to_csv(\"../data/prediction-pipeline.csv\", index=False)\n",
    "\n"
   ]
  },
  {
   "attachments": {},
   "cell_type": "markdown",
   "metadata": {},
   "source": [
    "# Best result on Kaggle by CatBoostClassifier\n",
    "prediction-pipeline.csv\n",
    "\n",
    "Complete · 2m ago\n",
    "# Score: 0.78468"
   ]
  }
 ],
 "metadata": {
  "kernelspec": {
   "display_name": "Python 3 (ipykernel)",
   "language": "python",
   "name": "python3"
  },
  "language_info": {
   "codemirror_mode": {
    "name": "ipython",
    "version": 3
   },
   "file_extension": ".py",
   "mimetype": "text/x-python",
   "name": "python",
   "nbconvert_exporter": "python",
   "pygments_lexer": "ipython3",
   "version": "3.10.7"
  }
 },
 "nbformat": 4,
 "nbformat_minor": 4
}

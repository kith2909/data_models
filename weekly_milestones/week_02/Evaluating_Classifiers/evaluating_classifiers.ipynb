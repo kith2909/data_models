{
 "cells": [
  {
   "cell_type": "markdown",
   "id": "532cb6a3",
   "metadata": {},
   "source": [
    "# Evaluating Classifiers\n",
    "<hr style=\"border:2px solid black\">"
   ]
  },
  {
   "cell_type": "markdown",
   "id": "aef54669",
   "metadata": {},
   "source": [
    "## 1. Warmup: Skin Cancer Detection"
   ]
  },
  {
   "cell_type": "markdown",
   "id": "74a3df71",
   "metadata": {},
   "source": [
    "Two new skin cancer detection classifiers have been developed and tested on 1000 images of patients’ skins of which 50 show signs of cancer:\n",
    "\n",
    "- The first model predicts a high risk of cancer for 800 out of 1000 patients’ images in the test set. Of these 800 images 50 actually show signs of skin cancer. Hence, all problematic images are correctly identified.\n",
    "\n",
    "- The second classifier categorizes 100 out of 1000 images into the high risk group. 40 of the 100 images show real signs of cancer. 10 images are not identified and falsely classified as low-risk.\n",
    "\n",
    "Compare the outcome of these two classifiers. Which one do you prefer?"
   ]
  },
  {
   "cell_type": "markdown",
   "id": "7f512ae4",
   "metadata": {},
   "source": [
    "### Discussion:"
   ]
  },
  {
   "cell_type": "markdown",
   "id": "feeeb400",
   "metadata": {},
   "source": [
    "- 1000 patients in total\n",
    "- 50 of them show signs of cancer\n",
    "\n",
    "- Depends if we want to focus on saving lives or on cutting costs to re-evaluate the 800 positive classifications\n",
    "\n",
    "Model 1:\n",
    "- If we tell 800 people that they probably have cancer, this is upsetting\n",
    "- We catch all the real cancer cases\n",
    "\n",
    "Model 2:\n",
    "- We need to re-test many people\n",
    "- The 10 which were mis-labellec could be early stage cancer (harder to detect)  - would need follow up appointments\n",
    "\n",
    "If the use case is cancer detection, model 1 seems like the better model"
   ]
  },
  {
   "cell_type": "markdown",
   "id": "a510a6c1",
   "metadata": {},
   "source": [
    "### Model 1"
   ]
  },
  {
   "cell_type": "code",
   "execution_count": 165,
   "id": "d79833a1",
   "metadata": {},
   "outputs": [],
   "source": [
    "TP = 50  #model guesses cancer, and in reality it is cancer\n",
    "TN = 200 #model guesses it is NOT cancer, and in reality it is NOT cancer (1000-800)\n",
    "FP = 750 #model guesses cancer, but in reality it is NOT cancer (800-50)\n",
    "FN = 0   #model guesses it is NOT cancer, but in reality it is cancer"
   ]
  },
  {
   "cell_type": "markdown",
   "id": "e1c9bc29",
   "metadata": {},
   "source": [
    "##### Accuracy - how  many predictions are correct?"
   ]
  },
  {
   "cell_type": "code",
   "execution_count": 166,
   "id": "a237f4d5",
   "metadata": {
    "code_folding": []
   },
   "outputs": [
    {
     "data": {
      "text/plain": [
       "0.25"
      ]
     },
     "execution_count": 166,
     "metadata": {},
     "output_type": "execute_result"
    }
   ],
   "source": [
    "# Accuracy of the model: How many of all our predictions are correct?\n",
    "m1_accuracy = (TP+TN)/(TP+TN+FP+FN)\n",
    "m1_accuracy"
   ]
  },
  {
   "cell_type": "markdown",
   "id": "1e195bfd",
   "metadata": {},
   "source": [
    "The accuracy of this model is terrible but it does manage to correctly label all positive cancer cases. What other metrics could we use to reflect this?"
   ]
  },
  {
   "cell_type": "markdown",
   "id": "cb1501c3",
   "metadata": {},
   "source": [
    "##### Recall aka. Sensitivity"
   ]
  },
  {
   "cell_type": "markdown",
   "id": "5d60a28c",
   "metadata": {},
   "source": [
    "- if we are only interested in catching all the true positive cases\n",
    "- a false positive is not as bad as a false negative and we want to reflect this"
   ]
  },
  {
   "cell_type": "code",
   "execution_count": 167,
   "id": "3de5bc5c",
   "metadata": {},
   "outputs": [
    {
     "data": {
      "text/plain": [
       "1.0"
      ]
     },
     "execution_count": 167,
     "metadata": {},
     "output_type": "execute_result"
    }
   ],
   "source": [
    "m1_recall= TP / (TP + FN)\n",
    "m1_recall"
   ]
  },
  {
   "cell_type": "markdown",
   "id": "a476f6ed",
   "metadata": {},
   "source": [
    "The recall score is 1 because this model doesn't miss any of the true cancer cases."
   ]
  },
  {
   "cell_type": "markdown",
   "id": "5c11006d",
   "metadata": {},
   "source": [
    "##### Precision aka. Specificity"
   ]
  },
  {
   "cell_type": "markdown",
   "id": "46ce084a",
   "metadata": {},
   "source": [
    "- if the model guesses a positive case, it should be very sure that it is in fact positive.\n",
    "- eg. in spam detection: it's worse if an important email is falsely categorized as spam than the other way around."
   ]
  },
  {
   "cell_type": "code",
   "execution_count": 168,
   "id": "586f9932",
   "metadata": {},
   "outputs": [
    {
     "data": {
      "text/plain": [
       "0.0625"
      ]
     },
     "execution_count": 168,
     "metadata": {},
     "output_type": "execute_result"
    }
   ],
   "source": [
    "m1_precision= TP / (TP + FP)\n",
    "m1_precision"
   ]
  },
  {
   "cell_type": "markdown",
   "id": "e0e47128",
   "metadata": {},
   "source": [
    "The precision score is very low as the model miscategorises a lot of true negatives as cancer."
   ]
  },
  {
   "cell_type": "markdown",
   "id": "17689aa0",
   "metadata": {},
   "source": [
    "### Model 2"
   ]
  },
  {
   "cell_type": "code",
   "execution_count": 169,
   "id": "536cdd14",
   "metadata": {},
   "outputs": [],
   "source": [
    "TP = 40  #model guesses cancer, and in reality it is cancer\n",
    "TN = 890 #model guesses it's NOT cancer, and in reality it is NOT cancer (1000 - (100 + 10)), or (900 - 10)\n",
    "FP = 60  #model guesses cancer, but in reality it is NOT cancer (100 - 40)\n",
    "FN = 10  #model guesses it is NOT cancer, but in reality it is cancer"
   ]
  },
  {
   "cell_type": "code",
   "execution_count": 170,
   "id": "f8ee5cbf",
   "metadata": {},
   "outputs": [
    {
     "data": {
      "text/plain": [
       "0.93"
      ]
     },
     "execution_count": 170,
     "metadata": {},
     "output_type": "execute_result"
    }
   ],
   "source": [
    "m2_accuracy = (TP+TN)/(TP+TN+FP+FN)\n",
    "m2_accuracy"
   ]
  },
  {
   "cell_type": "code",
   "execution_count": 171,
   "id": "e26f74e5",
   "metadata": {},
   "outputs": [
    {
     "data": {
      "text/plain": [
       "0.8"
      ]
     },
     "execution_count": 171,
     "metadata": {},
     "output_type": "execute_result"
    }
   ],
   "source": [
    "m2_recall= TP / (TP + FN)\n",
    "m2_recall"
   ]
  },
  {
   "cell_type": "code",
   "execution_count": 172,
   "id": "7ccbe9f6",
   "metadata": {},
   "outputs": [
    {
     "data": {
      "text/plain": [
       "0.4"
      ]
     },
     "execution_count": 172,
     "metadata": {},
     "output_type": "execute_result"
    }
   ],
   "source": [
    "m2_precision = TP / (TP + FP)\n",
    "m2_precision"
   ]
  },
  {
   "cell_type": "markdown",
   "id": "823cba47",
   "metadata": {},
   "source": [
    "As we have seen, accuracy loses a lot of its value as an evaluation metric if we are interested in minimising one type of error over another.\n",
    "\n",
    "Another issue with accuracy is that if we have an **imbalanced dataset**, it becomes increasingly useless. "
   ]
  },
  {
   "cell_type": "markdown",
   "id": "60faef49",
   "metadata": {},
   "source": [
    "### Model 3: Baseline Model (nobody has cancer)"
   ]
  },
  {
   "cell_type": "code",
   "execution_count": 173,
   "id": "0bda86a5",
   "metadata": {},
   "outputs": [],
   "source": [
    "# We predict that it's not cancer in every case.\n",
    "# remember: 950 do not have cancer, and 50 do.\n",
    "# \"positive\" = cancer\n",
    "\n",
    "TP = 0   #model guesses cancer, and in reality it is cancer\n",
    "TN = 950 #model guesses NOT cancer, and in reality it is NOT cancer \n",
    "FP = 0   #model guesses cancer, but in reality it is NOT cancer \n",
    "FN = 50  #model guesses NOT cancer, but in reality it is cancer"
   ]
  },
  {
   "cell_type": "code",
   "execution_count": 174,
   "id": "b61bdc55",
   "metadata": {},
   "outputs": [
    {
     "data": {
      "text/plain": [
       "0.0"
      ]
     },
     "execution_count": 174,
     "metadata": {},
     "output_type": "execute_result"
    }
   ],
   "source": [
    "m3_recall= TP / (TP + FN)\n",
    "m3_recall"
   ]
  },
  {
   "cell_type": "code",
   "execution_count": 175,
   "id": "a15a51a3",
   "metadata": {},
   "outputs": [],
   "source": [
    "#m3_precision = TP / (TP + FP)\n",
    "#m3_precision"
   ]
  },
  {
   "cell_type": "markdown",
   "id": "3468a344",
   "metadata": {},
   "source": [
    "This model has a higher accuracy score than Model 2 which correctly identified 40 out of 50 cancer cases!"
   ]
  },
  {
   "cell_type": "markdown",
   "id": "5312e4e4",
   "metadata": {},
   "source": [
    "<hr style=\"border:2px solid black\">"
   ]
  },
  {
   "cell_type": "markdown",
   "id": "7574fbc7",
   "metadata": {
    "cell_style": "center",
    "heading_collapsed": true
   },
   "source": [
    "## 2. Evaluation Metrics"
   ]
  },
  {
   "cell_type": "markdown",
   "id": "79a9a8b0",
   "metadata": {
    "hidden": true
   },
   "source": [
    "### 2.1 `Confusion Matrix`"
   ]
  },
  {
   "attachments": {
    "confusion_matrix.png": {
     "image/png": "[encoded data removed]"
    }
   },
   "cell_type": "markdown",
   "id": "8d096e46",
   "metadata": {},
   "source": [
    ">![confusion_matrix.png](attachment:confusion_matrix.png)"
   ]
  },
  {
   "cell_type": "markdown",
   "id": "2ce1d316",
   "metadata": {},
   "source": [
    "<br>"
   ]
  },
  {
   "cell_type": "markdown",
   "id": "bdd6bb55",
   "metadata": {
    "hidden": true
   },
   "source": [
    "### 2.2 `Accuracy`\n",
    "\n",
    ">$$ Accuracy = \\dfrac{TP+TN}{TP+TN+FP+FN}$$ "
   ]
  },
  {
   "cell_type": "markdown",
   "id": "82bbbe74",
   "metadata": {},
   "source": [
    "### 2.3 `Recall`"
   ]
  },
  {
   "cell_type": "markdown",
   "id": "05f83b78",
   "metadata": {},
   "source": [
    ">$$\n",
    "Recall = \\dfrac{TP}{TP+FN}\n",
    "$$\n",
    ">- Recall/Sensitivity => **Inclusive** \n",
    ">- High Recall => **most of the relevant results returned** (at the expense of including bad results) \n",
    ">- High when false negatives are low "
   ]
  },
  {
   "cell_type": "markdown",
   "id": "8dc4f0a4",
   "metadata": {
    "hidden": true
   },
   "source": [
    "### 2.4 `Precision`"
   ]
  },
  {
   "cell_type": "markdown",
   "id": "11023d37",
   "metadata": {
    "hidden": true
   },
   "source": [
    ">$$\n",
    "Precision = \\dfrac{TP}{TP+FP}\n",
    "$$\n",
    ">- Precision => **Exact**: a trade off between \"exactness\" and \"totalness\"\n",
    ">- High Precision => **more relevant than irrelevant results returned** (at the expense of missing some relevant ones)\n",
    ">- High when false positives are low"
   ]
  },
  {
   "cell_type": "markdown",
   "id": "6a0d094a",
   "metadata": {
    "hidden": true
   },
   "source": [
    "### 2.5 `F1 Score`"
   ]
  },
  {
   "cell_type": "markdown",
   "id": "59134fb7",
   "metadata": {
    "hidden": true
   },
   "source": [
    ">$$\n",
    "F1 = 2 \\cdot \\dfrac{Precision \\cdot Recall}{Precision + Recall}\n",
    "$$\n",
    ">- harmonic mean of precision and recall\n",
    ">- takes care of both false negative and false positive errors"
   ]
  },
  {
   "cell_type": "markdown",
   "id": "522c7461",
   "metadata": {},
   "source": [
    "<hr style=\"border:2px solid black\">"
   ]
  },
  {
   "cell_type": "markdown",
   "id": "fa9e66f9",
   "metadata": {
    "heading_collapsed": true
   },
   "source": [
    "## 3. Example: Breast Cancer Detection"
   ]
  },
  {
   "cell_type": "code",
   "execution_count": 176,
   "id": "d088675d",
   "metadata": {},
   "outputs": [
    {
     "name": "stdout",
     "output_type": "stream",
     "text": [
      "Defaulting to user installation because normal site-packages is not writeable\n",
      "Requirement already satisfied: scikit-metrics in /home/kith/.local/lib/python3.10/site-packages (0.1.0)\n",
      "Requirement already satisfied: scikit-learn in /home/kith/.local/lib/python3.10/site-packages (from scikit-metrics) (1.2.2)\n",
      "Requirement already satisfied: scipy>=1.3.2 in /home/kith/.local/lib/python3.10/site-packages (from scikit-learn->scikit-metrics) (1.10.1)\n",
      "Requirement already satisfied: threadpoolctl>=2.0.0 in /home/kith/.local/lib/python3.10/site-packages (from scikit-learn->scikit-metrics) (3.1.0)\n",
      "Requirement already satisfied: joblib>=1.1.1 in /home/kith/.local/lib/python3.10/site-packages (from scikit-learn->scikit-metrics) (1.2.0)\n",
      "Requirement already satisfied: numpy>=1.17.3 in /home/kith/.local/lib/python3.10/site-packages (from scikit-learn->scikit-metrics) (1.24.2)\n",
      "Note: you may need to restart the kernel to use updated packages.\n"
     ]
    }
   ],
   "source": [
    "pip install scikit-metrics"
   ]
  },
  {
   "cell_type": "markdown",
   "id": "216d3520",
   "metadata": {},
   "source": [
    "**Load Packages**"
   ]
  },
  {
   "cell_type": "code",
   "execution_count": 177,
   "id": "f37676b3",
   "metadata": {},
   "outputs": [],
   "source": [
    "# data analysis stack\n",
    "import numpy as np\n",
    "import pandas as pd\n",
    "\n",
    "# data visualization stack\n",
    "import matplotlib.pyplot as plt\n",
    "%matplotlib inline\n",
    "import seaborn as sns\n",
    "sns.set_style('whitegrid')\n",
    "\n",
    "# miscellaneous\n",
    "import warnings\n",
    "warnings.filterwarnings(\"ignore\")\n",
    "\n",
    "# machine learning stack\n",
    "from sklearn.linear_model import LogisticRegression\n",
    "from sklearn.model_selection import train_test_split\n",
    "\n",
    "# evaluation metrics\n",
    "from sklearn.metrics import accuracy_score, precision_score, recall_score, classification_report  \n",
    "from sklearn.metrics import confusion_matrix, ConfusionMatrixDisplay\n",
    "from sklearn.metrics import RocCurveDisplay, roc_curve, roc_auc_score\n",
    "from sklearn.metrics import precision_recall_curve #plot_precision_recall_curve"
   ]
  },
  {
   "cell_type": "markdown",
   "id": "99817170",
   "metadata": {
    "heading_collapsed": true,
    "hidden": true
   },
   "source": [
    "#### 1. Get data"
   ]
  },
  {
   "cell_type": "code",
   "execution_count": 178,
   "id": "3e1d0fe3",
   "metadata": {
    "hidden": true
   },
   "outputs": [],
   "source": [
    "from sklearn.datasets import load_breast_cancer\n",
    "cancer_data = load_breast_cancer(as_frame=True)"
   ]
  },
  {
   "cell_type": "code",
   "execution_count": 179,
   "id": "b5469b66",
   "metadata": {
    "hidden": true
   },
   "outputs": [],
   "source": [
    "X = pd.DataFrame(cancer_data.data)\n",
    "y= cancer_data.target"
   ]
  },
  {
   "cell_type": "code",
   "execution_count": 180,
   "id": "f5895ac0",
   "metadata": {
    "hidden": true
   },
   "outputs": [
    {
     "data": {
      "text/html": [
       "<div>\n",
       "<style scoped>\n",
       "    .dataframe tbody tr th:only-of-type {\n",
       "        vertical-align: middle;\n",
       "    }\n",
       "\n",
       "    .dataframe tbody tr th {\n",
       "        vertical-align: top;\n",
       "    }\n",
       "\n",
       "    .dataframe thead th {\n",
       "        text-align: right;\n",
       "    }\n",
       "</style>\n",
       "<table border=\"1\" class=\"dataframe\">\n",
       "  <thead>\n",
       "    <tr style=\"text-align: right;\">\n",
       "      <th></th>\n",
       "      <th>mean radius</th>\n",
       "      <th>mean texture</th>\n",
       "      <th>mean perimeter</th>\n",
       "      <th>mean area</th>\n",
       "      <th>mean smoothness</th>\n",
       "      <th>mean compactness</th>\n",
       "      <th>mean concavity</th>\n",
       "      <th>mean concave points</th>\n",
       "      <th>mean symmetry</th>\n",
       "      <th>mean fractal dimension</th>\n",
       "      <th>...</th>\n",
       "      <th>worst radius</th>\n",
       "      <th>worst texture</th>\n",
       "      <th>worst perimeter</th>\n",
       "      <th>worst area</th>\n",
       "      <th>worst smoothness</th>\n",
       "      <th>worst compactness</th>\n",
       "      <th>worst concavity</th>\n",
       "      <th>worst concave points</th>\n",
       "      <th>worst symmetry</th>\n",
       "      <th>worst fractal dimension</th>\n",
       "    </tr>\n",
       "  </thead>\n",
       "  <tbody>\n",
       "    <tr>\n",
       "      <th>0</th>\n",
       "      <td>17.99</td>\n",
       "      <td>10.38</td>\n",
       "      <td>122.8</td>\n",
       "      <td>1001.0</td>\n",
       "      <td>0.11840</td>\n",
       "      <td>0.27760</td>\n",
       "      <td>0.3001</td>\n",
       "      <td>0.14710</td>\n",
       "      <td>0.2419</td>\n",
       "      <td>0.07871</td>\n",
       "      <td>...</td>\n",
       "      <td>25.38</td>\n",
       "      <td>17.33</td>\n",
       "      <td>184.6</td>\n",
       "      <td>2019.0</td>\n",
       "      <td>0.1622</td>\n",
       "      <td>0.6656</td>\n",
       "      <td>0.7119</td>\n",
       "      <td>0.2654</td>\n",
       "      <td>0.4601</td>\n",
       "      <td>0.11890</td>\n",
       "    </tr>\n",
       "    <tr>\n",
       "      <th>1</th>\n",
       "      <td>20.57</td>\n",
       "      <td>17.77</td>\n",
       "      <td>132.9</td>\n",
       "      <td>1326.0</td>\n",
       "      <td>0.08474</td>\n",
       "      <td>0.07864</td>\n",
       "      <td>0.0869</td>\n",
       "      <td>0.07017</td>\n",
       "      <td>0.1812</td>\n",
       "      <td>0.05667</td>\n",
       "      <td>...</td>\n",
       "      <td>24.99</td>\n",
       "      <td>23.41</td>\n",
       "      <td>158.8</td>\n",
       "      <td>1956.0</td>\n",
       "      <td>0.1238</td>\n",
       "      <td>0.1866</td>\n",
       "      <td>0.2416</td>\n",
       "      <td>0.1860</td>\n",
       "      <td>0.2750</td>\n",
       "      <td>0.08902</td>\n",
       "    </tr>\n",
       "    <tr>\n",
       "      <th>2</th>\n",
       "      <td>19.69</td>\n",
       "      <td>21.25</td>\n",
       "      <td>130.0</td>\n",
       "      <td>1203.0</td>\n",
       "      <td>0.10960</td>\n",
       "      <td>0.15990</td>\n",
       "      <td>0.1974</td>\n",
       "      <td>0.12790</td>\n",
       "      <td>0.2069</td>\n",
       "      <td>0.05999</td>\n",
       "      <td>...</td>\n",
       "      <td>23.57</td>\n",
       "      <td>25.53</td>\n",
       "      <td>152.5</td>\n",
       "      <td>1709.0</td>\n",
       "      <td>0.1444</td>\n",
       "      <td>0.4245</td>\n",
       "      <td>0.4504</td>\n",
       "      <td>0.2430</td>\n",
       "      <td>0.3613</td>\n",
       "      <td>0.08758</td>\n",
       "    </tr>\n",
       "  </tbody>\n",
       "</table>\n",
       "<p>3 rows × 30 columns</p>\n",
       "</div>"
      ],
      "text/plain": [
       "   mean radius  mean texture  mean perimeter  mean area  mean smoothness  \\\n",
       "0        17.99         10.38           122.8     1001.0          0.11840   \n",
       "1        20.57         17.77           132.9     1326.0          0.08474   \n",
       "2        19.69         21.25           130.0     1203.0          0.10960   \n",
       "\n",
       "   mean compactness  mean concavity  mean concave points  mean symmetry  \\\n",
       "0           0.27760          0.3001              0.14710         0.2419   \n",
       "1           0.07864          0.0869              0.07017         0.1812   \n",
       "2           0.15990          0.1974              0.12790         0.2069   \n",
       "\n",
       "   mean fractal dimension  ...  worst radius  worst texture  worst perimeter  \\\n",
       "0                 0.07871  ...         25.38          17.33            184.6   \n",
       "1                 0.05667  ...         24.99          23.41            158.8   \n",
       "2                 0.05999  ...         23.57          25.53            152.5   \n",
       "\n",
       "   worst area  worst smoothness  worst compactness  worst concavity  \\\n",
       "0      2019.0            0.1622             0.6656           0.7119   \n",
       "1      1956.0            0.1238             0.1866           0.2416   \n",
       "2      1709.0            0.1444             0.4245           0.4504   \n",
       "\n",
       "   worst concave points  worst symmetry  worst fractal dimension  \n",
       "0                0.2654          0.4601                  0.11890  \n",
       "1                0.1860          0.2750                  0.08902  \n",
       "2                0.2430          0.3613                  0.08758  \n",
       "\n",
       "[3 rows x 30 columns]"
      ]
     },
     "execution_count": 180,
     "metadata": {},
     "output_type": "execute_result"
    }
   ],
   "source": [
    "X.head(3)"
   ]
  },
  {
   "cell_type": "code",
   "execution_count": 181,
   "id": "cf3a4e91",
   "metadata": {
    "hidden": true
   },
   "outputs": [
    {
     "data": {
      "text/plain": [
       "1    0.627417\n",
       "0    0.372583\n",
       "Name: target, dtype: float64"
      ]
     },
     "execution_count": 181,
     "metadata": {},
     "output_type": "execute_result"
    }
   ],
   "source": [
    "y.value_counts(normalize=True)"
   ]
  },
  {
   "cell_type": "code",
   "execution_count": 182,
   "id": "7dcc7928",
   "metadata": {
    "hidden": true
   },
   "outputs": [
    {
     "data": {
      "text/plain": [
       "((569, 30), (569,))"
      ]
     },
     "execution_count": 182,
     "metadata": {},
     "output_type": "execute_result"
    }
   ],
   "source": [
    "X.shape, y.shape"
   ]
  },
  {
   "cell_type": "markdown",
   "id": "6ef626aa",
   "metadata": {
    "heading_collapsed": true,
    "hidden": true
   },
   "source": [
    "#### 2. Split Data"
   ]
  },
  {
   "cell_type": "code",
   "execution_count": 183,
   "id": "bc348fd3",
   "metadata": {
    "hidden": true
   },
   "outputs": [
    {
     "data": {
      "text/plain": [
       "((455, 30), (114, 30), (455,), (114,))"
      ]
     },
     "execution_count": 183,
     "metadata": {},
     "output_type": "execute_result"
    }
   ],
   "source": [
    "# train/test split and stratify by the target variable\n",
    "X_train, X_test, y_train, y_test = train_test_split(X, y,  test_size= 0.2, stratify=y, random_state=42)\n",
    "X_train.shape, X_test.shape, y_train.shape, y_test.shape"
   ]
  },
  {
   "cell_type": "markdown",
   "id": "c34d0c29",
   "metadata": {
    "heading_collapsed": true,
    "hidden": true
   },
   "source": [
    "#### 3. Train a Model"
   ]
  },
  {
   "cell_type": "code",
   "execution_count": 184,
   "id": "f64305ca",
   "metadata": {
    "hidden": true
   },
   "outputs": [
    {
     "data": {
      "text/html": [
       "<style>#sk-container-id-4 {color: black;background-color: white;}#sk-container-id-4 pre{padding: 0;}#sk-container-id-4 div.sk-toggleable {background-color: white;}#sk-container-id-4 label.sk-toggleable__label {cursor: pointer;display: block;width: 100%;margin-bottom: 0;padding: 0.3em;box-sizing: border-box;text-align: center;}#sk-container-id-4 label.sk-toggleable__label-arrow:before {content: \"▸\";float: left;margin-right: 0.25em;color: #696969;}#sk-container-id-4 label.sk-toggleable__label-arrow:hover:before {color: black;}#sk-container-id-4 div.sk-estimator:hover label.sk-toggleable__label-arrow:before {color: black;}#sk-container-id-4 div.sk-toggleable__content {max-height: 0;max-width: 0;overflow: hidden;text-align: left;background-color: #f0f8ff;}#sk-container-id-4 div.sk-toggleable__content pre {margin: 0.2em;color: black;border-radius: 0.25em;background-color: #f0f8ff;}#sk-container-id-4 input.sk-toggleable__control:checked~div.sk-toggleable__content {max-height: 200px;max-width: 100%;overflow: auto;}#sk-container-id-4 input.sk-toggleable__control:checked~label.sk-toggleable__label-arrow:before {content: \"▾\";}#sk-container-id-4 div.sk-estimator input.sk-toggleable__control:checked~label.sk-toggleable__label {background-color: #d4ebff;}#sk-container-id-4 div.sk-label input.sk-toggleable__control:checked~label.sk-toggleable__label {background-color: #d4ebff;}#sk-container-id-4 input.sk-hidden--visually {border: 0;clip: rect(1px 1px 1px 1px);clip: rect(1px, 1px, 1px, 1px);height: 1px;margin: -1px;overflow: hidden;padding: 0;position: absolute;width: 1px;}#sk-container-id-4 div.sk-estimator {font-family: monospace;background-color: #f0f8ff;border: 1px dotted black;border-radius: 0.25em;box-sizing: border-box;margin-bottom: 0.5em;}#sk-container-id-4 div.sk-estimator:hover {background-color: #d4ebff;}#sk-container-id-4 div.sk-parallel-item::after {content: \"\";width: 100%;border-bottom: 1px solid gray;flex-grow: 1;}#sk-container-id-4 div.sk-label:hover label.sk-toggleable__label {background-color: #d4ebff;}#sk-container-id-4 div.sk-serial::before {content: \"\";position: absolute;border-left: 1px solid gray;box-sizing: border-box;top: 0;bottom: 0;left: 50%;z-index: 0;}#sk-container-id-4 div.sk-serial {display: flex;flex-direction: column;align-items: center;background-color: white;padding-right: 0.2em;padding-left: 0.2em;position: relative;}#sk-container-id-4 div.sk-item {position: relative;z-index: 1;}#sk-container-id-4 div.sk-parallel {display: flex;align-items: stretch;justify-content: center;background-color: white;position: relative;}#sk-container-id-4 div.sk-item::before, #sk-container-id-4 div.sk-parallel-item::before {content: \"\";position: absolute;border-left: 1px solid gray;box-sizing: border-box;top: 0;bottom: 0;left: 50%;z-index: -1;}#sk-container-id-4 div.sk-parallel-item {display: flex;flex-direction: column;z-index: 1;position: relative;background-color: white;}#sk-container-id-4 div.sk-parallel-item:first-child::after {align-self: flex-end;width: 50%;}#sk-container-id-4 div.sk-parallel-item:last-child::after {align-self: flex-start;width: 50%;}#sk-container-id-4 div.sk-parallel-item:only-child::after {width: 0;}#sk-container-id-4 div.sk-dashed-wrapped {border: 1px dashed gray;margin: 0 0.4em 0.5em 0.4em;box-sizing: border-box;padding-bottom: 0.4em;background-color: white;}#sk-container-id-4 div.sk-label label {font-family: monospace;font-weight: bold;display: inline-block;line-height: 1.2em;}#sk-container-id-4 div.sk-label-container {text-align: center;}#sk-container-id-4 div.sk-container {/* jupyter's `normalize.less` sets `[hidden] { display: none; }` but bootstrap.min.css set `[hidden] { display: none !important; }` so we also need the `!important` here to be able to override the default hidden behavior on the sphinx rendered scikit-learn.org. See: https://github.com/scikit-learn/scikit-learn/issues/21755 */display: inline-block !important;position: relative;}#sk-container-id-4 div.sk-text-repr-fallback {display: none;}</style><div id=\"sk-container-id-4\" class=\"sk-top-container\"><div class=\"sk-text-repr-fallback\"><pre>LogisticRegression(max_iter=3000)</pre><b>In a Jupyter environment, please rerun this cell to show the HTML representation or trust the notebook. <br />On GitHub, the HTML representation is unable to render, please try loading this page with nbviewer.org.</b></div><div class=\"sk-container\" hidden><div class=\"sk-item\"><div class=\"sk-estimator sk-toggleable\"><input class=\"sk-toggleable__control sk-hidden--visually\" id=\"sk-estimator-id-4\" type=\"checkbox\" checked><label for=\"sk-estimator-id-4\" class=\"sk-toggleable__label sk-toggleable__label-arrow\">LogisticRegression</label><div class=\"sk-toggleable__content\"><pre>LogisticRegression(max_iter=3000)</pre></div></div></div></div></div>"
      ],
      "text/plain": [
       "LogisticRegression(max_iter=3000)"
      ]
     },
     "execution_count": 184,
     "metadata": {},
     "output_type": "execute_result"
    }
   ],
   "source": [
    "m = LogisticRegression(max_iter=3000) #create a model\n",
    "m.fit(X_train,y_train) #train the model"
   ]
  },
  {
   "cell_type": "markdown",
   "id": "bb368eb6",
   "metadata": {
    "heading_collapsed": true,
    "hidden": true
   },
   "source": [
    "#### 4. Evaluate model"
   ]
  },
  {
   "cell_type": "code",
   "execution_count": 185,
   "id": "f1fd75bd",
   "metadata": {
    "hidden": true
   },
   "outputs": [
    {
     "data": {
      "text/plain": [
       "0.9560439560439561"
      ]
     },
     "execution_count": 185,
     "metadata": {},
     "output_type": "execute_result"
    }
   ],
   "source": [
    "# train accuracy\n",
    "m.score(X_train,y_train)  "
   ]
  },
  {
   "cell_type": "code",
   "execution_count": 186,
   "id": "3b87f6c6",
   "metadata": {},
   "outputs": [
    {
     "data": {
      "text/plain": [
       "0.9649122807017544"
      ]
     },
     "execution_count": 186,
     "metadata": {},
     "output_type": "execute_result"
    }
   ],
   "source": [
    "# test accuracy\n",
    "m.score(X_test,y_test)  "
   ]
  },
  {
   "cell_type": "code",
   "execution_count": 187,
   "id": "48410251",
   "metadata": {
    "hidden": true
   },
   "outputs": [
    {
     "data": {
      "text/plain": [
       "0.9649122807017544"
      ]
     },
     "execution_count": 187,
     "metadata": {},
     "output_type": "execute_result"
    }
   ],
   "source": [
    "# test accuracy\n",
    "ypred = m.predict(X_test) \n",
    "accuracy_score(y_test,ypred)"
   ]
  },
  {
   "cell_type": "markdown",
   "id": "15c5ab65",
   "metadata": {
    "hidden": true
   },
   "source": [
    "Train and test accuracy are quite close so we don't seem to have too much overfitting"
   ]
  },
  {
   "cell_type": "code",
   "execution_count": 188,
   "id": "4504bd2b",
   "metadata": {
    "hidden": true
   },
   "outputs": [
    {
     "name": "stdout",
     "output_type": "stream",
     "text": [
      "Precision = 0.9595 \n",
      "Recall = 0.9861\n"
     ]
    }
   ],
   "source": [
    "# Precision and Recall\n",
    "precision = precision_score(y_test,ypred)\n",
    "recall = recall_score(y_test,ypred)\n",
    "\n",
    "print(f'Precision = {precision:.4f} \\nRecall = {recall:.4f}')\n"
   ]
  },
  {
   "cell_type": "code",
   "execution_count": 189,
   "id": "ff4d2fac",
   "metadata": {
    "hidden": true
   },
   "outputs": [
    {
     "name": "stdout",
     "output_type": "stream",
     "text": [
      "              precision    recall  f1-score   support\n",
      "\n",
      "  not cancer       0.97      0.93      0.95        42\n",
      "      cancer       0.96      0.99      0.97        72\n",
      "\n",
      "    accuracy                           0.96       114\n",
      "   macro avg       0.97      0.96      0.96       114\n",
      "weighted avg       0.97      0.96      0.96       114\n",
      "\n"
     ]
    }
   ],
   "source": [
    "# Classification report summarises all the metrics for each class:\n",
    "# The support is the number of occurrences of each class in y_true.\n",
    "\n",
    "print(classification_report(y_test, ypred, target_names=['not cancer', 'cancer']))\n",
    "\n",
    "# Can also be returned as a dictionary using the output_dict parameter "
   ]
  },
  {
   "cell_type": "code",
   "execution_count": 190,
   "id": "2921b2ba",
   "metadata": {
    "hidden": true
   },
   "outputs": [
    {
     "data": {
      "image/png": "[encoded data removed]",
      "text/plain": [
       "<Figure size 640x480 with 2 Axes>"
      ]
     },
     "metadata": {},
     "output_type": "display_data"
    }
   ],
   "source": [
    "# Sklearn has an inbuilt Confusion Matrix Display class:\n",
    "ConfusionMatrixDisplay.from_predictions(y_test, ypred, normalize=None);\n"
   ]
  },
  {
   "cell_type": "code",
   "execution_count": 191,
   "id": "1ed8e233",
   "metadata": {
    "hidden": true
   },
   "outputs": [
    {
     "data": {
      "text/plain": [
       "Text(0.5, 1.0, 'Confusion Matrix')"
      ]
     },
     "execution_count": 191,
     "metadata": {},
     "output_type": "execute_result"
    },
    {
     "data": {
      "image/png": "[encoded data removed]",
      "text/plain": [
       "<Figure size 600x600 with 2 Axes>"
      ]
     },
     "metadata": {},
     "output_type": "display_data"
    }
   ],
   "source": [
    "# Confusion Matrix using Seaborn Heatmap\n",
    "conf = confusion_matrix(y_test,ypred)\n",
    "\n",
    "#plot the heatmap\n",
    "fig = plt.figure(figsize=(6, 6))\n",
    "ax = plt.subplot()\n",
    "sns.heatmap(conf, annot=True, ax = ax, cmap='summer_r', fmt='g')\n",
    "\n",
    "ax.set_xlabel('Predicted labels')\n",
    "ax.set_ylabel('True labels')\n",
    "ax.set_title('Confusion Matrix')"
   ]
  },
  {
   "cell_type": "markdown",
   "id": "81b51b9d",
   "metadata": {
    "heading_collapsed": true,
    "hidden": true
   },
   "source": [
    "##### (Bonus) Receiver Operator Curve (ROC) and Area Under the Curve (AUC)"
   ]
  },
  {
   "cell_type": "markdown",
   "id": "9214740c",
   "metadata": {
    "hidden": true
   },
   "source": [
    "ROC plots the **false positive rate** (1-Precision) (x axis) against the **true positive rate** (Recall) (y axis) for **every classification threshold**. \n",
    "\n",
    "AUC is the area under ROC and is a useful measure when comparing classifiers as we can plot their ROC on the same graph. Ideally AUC is as close to 1 as possible so the model with the highest AUC is a good one to choose. The ROC can help us choose which classification threshold we want to use for our chosen model."
   ]
  },
  {
   "cell_type": "markdown",
   "id": "d78eb91e",
   "metadata": {
    "hidden": true
   },
   "source": [
    "The output of our Logistic Regression is actually an array probabilities rather than binary classes"
   ]
  },
  {
   "cell_type": "code",
   "execution_count": 192,
   "id": "92dc13c4",
   "metadata": {
    "hidden": true
   },
   "outputs": [
    {
     "data": {
      "text/plain": [
       "array([[1.00000000e+00, 3.57218416e-11],\n",
       "       [3.61865118e-05, 9.99963813e-01],\n",
       "       [9.48585312e-01, 5.14146882e-02],\n",
       "       [3.96047955e-01, 6.03952045e-01]])"
      ]
     },
     "execution_count": 192,
     "metadata": {},
     "output_type": "execute_result"
    }
   ],
   "source": [
    "test_probs= m.predict_proba(X_test)\n",
    "test_probs[:4]"
   ]
  },
  {
   "cell_type": "markdown",
   "id": "baf87ede",
   "metadata": {
    "hidden": true
   },
   "source": [
    "The default setting is to classify datapoints around the threshold 0.5 but this doesn't have to be the case! We can compare all possible thresholds to find one that suits our needs in terms of precision/recall. Instead of generating many confusion matrices and trying to compare them, we can plot the TP vs FP rates as a curve:"
   ]
  },
  {
   "cell_type": "code",
   "execution_count": 193,
   "id": "ac95edaf",
   "metadata": {
    "hidden": true
   },
   "outputs": [
    {
     "data": {
      "text/plain": [
       "(array([0.        , 0.        , 0.        , 0.07142857, 0.07142857,\n",
       "        0.11904762, 0.11904762, 1.        ]),\n",
       " array([0.        , 0.01388889, 0.94444444, 0.94444444, 0.98611111,\n",
       "        0.98611111, 1.        , 1.        ]),\n",
       " array([1.99999533e+00, 9.99995334e-01, 7.73801388e-01, 7.07072149e-01,\n",
       "        5.07537611e-01, 2.51206688e-01, 2.22665912e-01, 3.83865041e-35]))"
      ]
     },
     "execution_count": 193,
     "metadata": {},
     "output_type": "execute_result"
    }
   ],
   "source": [
    "roc_curve(y_test, test_probs[:,1])"
   ]
  },
  {
   "cell_type": "code",
   "execution_count": 194,
   "id": "4d3aafe3",
   "metadata": {
    "hidden": true
   },
   "outputs": [
    {
     "data": {
      "text/plain": [
       "0.9953703703703703"
      ]
     },
     "execution_count": 194,
     "metadata": {},
     "output_type": "execute_result"
    }
   ],
   "source": [
    "# Area under the ROC:\n",
    "roc_auc_score(y_test, test_probs[:,1])"
   ]
  },
  {
   "cell_type": "code",
   "execution_count": 195,
   "id": "7a8bdfff",
   "metadata": {
    "code_folding": [],
    "hidden": true
   },
   "outputs": [
    {
     "data": {
      "image/png": "[encoded data removed]",
      "text/plain": [
       "<Figure size 640x480 with 1 Axes>"
      ]
     },
     "metadata": {},
     "output_type": "display_data"
    }
   ],
   "source": [
    "#Plotting the curve in sklearn: \n",
    "RocCurveDisplay.from_estimator(m, X_test, y_test);"
   ]
  },
  {
   "cell_type": "markdown",
   "id": "4262120b",
   "metadata": {
    "heading_collapsed": true
   },
   "source": [
    "### Baseline Models"
   ]
  },
  {
   "cell_type": "markdown",
   "id": "4a0c5c4b",
   "metadata": {
    "hidden": true
   },
   "source": [
    "We always need a baseline model to compare our trained model(s) with. These can be:\n",
    "- A dummy model which always predicts the same outcome (eg. nobody gets cancer, everyone drowns)\n",
    "- the latest state-of-the-art model \n",
    "- human judgement\n",
    "\n",
    "We should always compare the performance of our models to some established baselines. This is especially true for complicated machine learning solutions that require a lot of resources. When presenting a new approach we need to justify its high costs!"
   ]
  },
  {
   "cell_type": "code",
   "execution_count": null,
   "id": "ddd957be",
   "metadata": {
    "hidden": true
   },
   "outputs": [],
   "source": [
    "from sklearn.dummy import DummyClassifier\n",
    "\n",
    "dummy_clf = DummyClassifier(strategy='most_frequent')\n",
    "dummy_clf.fit(X_train, y_train)\n",
    "y_dummy=dummy_clf.predict(X_test)\n",
    "# Predicts that everyone has cancer as this was the larger class.\n",
    "\n",
    "print(classification_report(y_test, y_dummy, target_names=['not cancer', 'cancer'], zero_division=0))"
   ]
  },
  {
   "cell_type": "markdown",
   "id": "a13af01b",
   "metadata": {
    "heading_collapsed": true
   },
   "source": [
    "## Next Steps"
   ]
  },
  {
   "cell_type": "markdown",
   "id": "0c1ec740",
   "metadata": {
    "hidden": true
   },
   "source": [
    "- Do the [exercises in the course material](https://spiced.space/ordinal-oregano/ds-course/chapters/project_titanic/evaluating_classifiers/README.html)\n",
    "- See if you can calculate and plot an ROC curve from scratch\n",
    "- **Advanced!** See if you can choose a classification threshold that optimises for precision and recall, generate predictions according to this threshold, and evaluate these predictions "
   ]
  },
  {
   "cell_type": "markdown",
   "id": "bbce87c3",
   "metadata": {
    "heading_collapsed": true
   },
   "source": [
    "## References\n",
    "- [Great introductory explainer of ROC and AUC](https://www.youtube.com/watch?v=4jRBRDbJemM)\n"
   ]
  }
 ],
 "metadata": {
  "kernelspec": {
   "display_name": "Python 3 (ipykernel)",
   "language": "python",
   "name": "python3"
  },
  "language_info": {
   "codemirror_mode": {
    "name": "ipython",
    "version": 3
   },
   "file_extension": ".py",
   "mimetype": "text/x-python",
   "name": "python",
   "nbconvert_exporter": "python",
   "pygments_lexer": "ipython3",
   "version": "3.10.7"
  },
  "toc": {
   "base_numbering": 1,
   "nav_menu": {},
   "number_sections": false,
   "sideBar": true,
   "skip_h1_title": false,
   "title_cell": "Table of Contents",
   "title_sidebar": "Contents",
   "toc_cell": false,
   "toc_position": {},
   "toc_section_display": true,
   "toc_window_display": false
  },
  "varInspector": {
   "cols": {
    "lenName": 16,
    "lenType": 16,
    "lenVar": 40
   },
   "kernels_config": {
    "python": {
     "delete_cmd_postfix": "",
     "delete_cmd_prefix": "del ",
     "library": "var_list.py",
     "varRefreshCmd": "print(var_dic_list())"
    },
    "r": {
     "delete_cmd_postfix": ") ",
     "delete_cmd_prefix": "rm(",
     "library": "var_list.r",
     "varRefreshCmd": "cat(var_dic_list()) "
    }
   },
   "types_to_exclude": [
    "module",
    "function",
    "builtin_function_or_method",
    "instance",
    "_Feature"
   ],
   "window_display": false
  }
 },
 "nbformat": 4,
 "nbformat_minor": 5
}

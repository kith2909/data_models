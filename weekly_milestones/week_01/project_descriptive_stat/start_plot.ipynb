{
 "cells": [
  {
   "cell_type": "code",
   "execution_count": 1,
   "metadata": {},
   "outputs": [],
   "source": [
    "import pandas as pd\n",
    "import seaborn as sns\n",
    "import matplotlib as mpl\n",
    "import plotly.graph_objects as go"
   ]
  },
  {
   "cell_type": "code",
   "execution_count": 5,
   "metadata": {},
   "outputs": [
    {
     "name": "stdout",
     "output_type": "stream",
     "text": [
      "(260, 216)\n",
      "Index(['1800', '1801', '1802', '1803', '1804', '1805', '1806', '1807', '1808',\n",
      "       '1809',\n",
      "       ...\n",
      "       '2006', '2007', '2008', '2009', '2010', '2011', '2012', '2013', '2014',\n",
      "       '2015'],\n",
      "      dtype='object', length=216)\n",
      "(260, 217)\n",
      "Int64Index([1800, 1801, 1802, 1803, 1804, 1805, 1806, 1807, 1808, 1809,\n",
      "            ...\n",
      "            2007, 2008, 2009, 2010, 2011, 2012, 2013, 2014, 2015, 2016],\n",
      "           dtype='int64', length=217)\n",
      "(275, 81)\n",
      "Index(['1800', '1810', '1820', '1830', '1840', '1850', '1860', '1870', '1880',\n",
      "       '1890', '1900', '1910', '1920', '1930', '1940', '1950', '1951', '1952',\n",
      "       '1953', '1954', '1955', '1956', '1957', '1958', '1959', '1960', '1961',\n",
      "       '1962', '1963', '1964', '1965', '1966', '1967', '1968', '1969', '1970',\n",
      "       '1971', '1972', '1973', '1974', '1975', '1976', '1977', '1978', '1979',\n",
      "       '1980', '1981', '1982', '1983', '1984', '1985', '1986', '1987', '1988',\n",
      "       '1989', '1990', '1991', '1992', '1993', '1994', '1995', '1996', '1997',\n",
      "       '1998', '1999', '2000', '2001', '2002', '2003', '2004', '2005', '2006',\n",
      "       '2007', '2008', '2009', '2010', '2011', '2012', '2013', '2014', '2015'],\n",
      "      dtype='object')\n"
     ]
    }
   ],
   "source": [
    "df_fert = pd.read_csv('../data/gapminder_total_fertility.csv', index_col=0)\n",
    "df_life = pd.read_excel('../data/gapminder_lifeexpectancy.xlsx', index_col=0)\n",
    "df_pop = pd.read_csv('../data/population.csv', index_col=0)\n",
    "\n",
    "df = {           'fert': df_fert,\n",
    "                 'life': df_life,\n",
    "                 'pop': df_pop\n",
    "    }\n",
    "for item in df:\n",
    "                print(df[item].shape)\n",
    "                print(df[item].columns)\n"
   ]
  }
 ],
 "metadata": {
  "kernelspec": {
   "display_name": "Python 3",
   "language": "python",
   "name": "python3"
  },
  "language_info": {
   "codemirror_mode": {
    "name": "ipython",
    "version": 3
   },
   "file_extension": ".py",
   "mimetype": "text/x-python",
   "name": "python",
   "nbconvert_exporter": "python",
   "pygments_lexer": "ipython3",
   "version": "3.10.7"
  },
  "orig_nbformat": 4
 },
 "nbformat": 4,
 "nbformat_minor": 2
}

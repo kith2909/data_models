{
 "cells": [
  {
   "cell_type": "code",
   "execution_count": 2,
   "metadata": {},
   "outputs": [],
   "source": [
    "import pandas as pd\n",
    "import seaborn as sns\n",
    "import matplotlib as mpl\n",
    "import plotly.graph_objects as go"
   ]
  },
  {
   "cell_type": "code",
   "execution_count": 3,
   "metadata": {},
   "outputs": [
    {
     "name": "stdout",
     "output_type": "stream",
     "text": [
      "fert\n",
      "(260, 216)\n",
      "Index(['1800', '1801', '1802', '1803', '1804', '1805', '1806', '1807', '1808',\n",
      "       '1809',\n",
      "       ...\n",
      "       '2006', '2007', '2008', '2009', '2010', '2011', '2012', '2013', '2014',\n",
      "       '2015'],\n",
      "      dtype='object', length=216)\n",
      "             1800        1801        1802        1803        1804        1805  \\\n",
      "count  201.000000  201.000000  201.000000  201.000000  201.000000  201.000000   \n",
      "mean     6.084080    6.081244    6.084328    6.083383    6.083682    6.083433   \n",
      "std      0.777465    0.780857    0.775431    0.774806    0.774999    0.771939   \n",
      "min      4.040000    4.040000    3.910000    4.050000    3.940000    4.060000   \n",
      "25%      5.620000    5.620000    5.620000    5.620000    5.640000    5.620000   \n",
      "50%      6.150000    6.150000    6.150000    6.150000    6.150000    6.150000   \n",
      "75%      6.690000    6.690000    6.690000    6.690000    6.690000    6.690000   \n",
      "max      8.100000    8.100000    8.100000    8.100000    8.100000    8.100000   \n",
      "\n",
      "             1806        1807        1808        1809  ...        2006  \\\n",
      "count  201.000000  201.000000  201.000000  201.000000  ...  201.000000   \n",
      "mean     6.079353    6.078159    6.070647    6.059701  ...    2.999403   \n",
      "std      0.776931    0.777962    0.791615    0.817953  ...    1.591173   \n",
      "min      4.070000    4.050000    4.000000    3.210000  ...    0.870000   \n",
      "25%      5.620000    5.620000    5.620000    5.620000  ...    1.820000   \n",
      "50%      6.150000    6.150000    6.130000    6.130000  ...    2.450000   \n",
      "75%      6.690000    6.690000    6.690000    6.690000  ...    3.910000   \n",
      "max      8.100000    8.100000    8.100000    8.100000  ...    7.600000   \n",
      "\n",
      "             2007        2008        2009        2010        2011        2012  \\\n",
      "count  201.000000  201.000000  201.000000  201.000000  201.000000  201.000000   \n",
      "mean     2.971642    2.943881    2.915771    2.884925    2.853433    2.823284   \n",
      "std      1.561309    1.531775    1.502406    1.475264    1.447739    1.418326   \n",
      "min      0.910000    0.940000    0.970000    0.900000    1.030000    1.060000   \n",
      "25%      1.830000    1.830000    1.840000    1.840000    1.820000    1.800000   \n",
      "50%      2.440000    2.430000    2.410000    2.380000    2.350000    2.330000   \n",
      "75%      3.830000    3.760000    3.740000    3.720000    3.640000    3.560000   \n",
      "max      7.590000    7.590000    7.590000    7.580000    7.580000    7.570000   \n",
      "\n",
      "             2013        2014        2015  \n",
      "count  201.000000  199.000000  199.000000  \n",
      "mean     2.794179    2.775176    2.744523  \n",
      "std      1.389848    1.362167    1.332827  \n",
      "min      1.070000    1.110000    1.130000  \n",
      "25%      1.800000    1.795000    1.785000  \n",
      "50%      2.290000    2.260000    2.230000  \n",
      "75%      3.490000    3.565000    3.495000  \n",
      "max      7.560000    7.540000    7.510000  \n",
      "\n",
      "[8 rows x 216 columns]\n",
      "life\n",
      "(260, 217)\n",
      "Int64Index([1800, 1801, 1802, 1803, 1804, 1805, 1806, 1807, 1808, 1809,\n",
      "            ...\n",
      "            2007, 2008, 2009, 2010, 2011, 2012, 2013, 2014, 2015, 2016],\n",
      "           dtype='int64', length=217)\n",
      "             1800        1801        1802        1803        1804        1805  \\\n",
      "count  201.000000  201.000000  201.000000  201.000000  201.000000  201.000000   \n",
      "mean    31.486020   31.448905   31.463483   31.377413   31.446318   31.562537   \n",
      "std      3.763585    3.755739    3.878204    3.901966    3.877156    3.947957   \n",
      "min     23.390000   23.390000   23.390000   19.600000   23.390000   23.390000   \n",
      "25%     29.000000   28.950000   28.900000   28.900000   28.950000   29.000000   \n",
      "50%     31.800000   31.700000   31.600000   31.500000   31.600000   31.700000   \n",
      "75%     33.900000   33.900000   33.900000   33.800000   33.870000   33.900000   \n",
      "max     42.850000   40.300000   44.370000   44.840000   42.830000   44.270000   \n",
      "\n",
      "             1806        1807        1808        1809  ...        2007  \\\n",
      "count  201.000000  201.000000  201.000000  201.000000  ...  208.000000   \n",
      "mean    31.615970   31.573134   31.376766   31.310448  ...   70.139712   \n",
      "std      4.039261    3.917339    4.017228    3.972970  ...    8.953255   \n",
      "min     23.390000   23.390000   12.480000   13.430000  ...   43.300000   \n",
      "25%     29.000000   29.000000   28.950000   28.820000  ...   64.825000   \n",
      "50%     31.800000   31.800000   31.600000   31.500000  ...   72.750000   \n",
      "75%     34.000000   34.000000   33.870000   33.800000  ...   76.925000   \n",
      "max     45.820000   43.560000   43.550000   41.740000  ...   84.500000   \n",
      "\n",
      "             2008        2009        2010        2011        2012        2013  \\\n",
      "count  208.000000  208.000000  208.000000  208.000000  208.000000  208.000000   \n",
      "mean    70.447163   70.767740   70.969904   71.324375   71.663077   71.916106   \n",
      "std      8.800452    8.610341    8.898859    8.376540    8.217466    8.120852   \n",
      "min     44.500000   45.500000   32.200000   46.700000   46.100000   45.600000   \n",
      "25%     64.875000   65.225000   65.475000   65.600000   66.075000   66.475000   \n",
      "50%     73.000000   73.350000   73.700000   73.750000   74.050000   74.150000   \n",
      "75%     77.150000   77.425000   77.650000   77.825000   78.125000   78.300000   \n",
      "max     84.600000   84.600000   84.700000   84.700000   84.700000   84.800000   \n",
      "\n",
      "             2014       2015        2016  \n",
      "count  208.000000  208.00000  208.000000  \n",
      "mean    72.088125   72.32101   72.556635  \n",
      "std      8.074990    7.90202    7.738535  \n",
      "min     45.400000   47.10000   48.860000  \n",
      "25%     66.775000   67.05000   67.175000  \n",
      "50%     74.300000   74.40000   74.500000  \n",
      "75%     78.400000   78.50000   78.650000  \n",
      "max     84.800000   84.80000   84.800000  \n",
      "\n",
      "[8 rows x 217 columns]\n",
      "pop\n",
      "(275, 81)\n",
      "Int64Index([1800, 1810, 1820, 1830, 1840, 1850, 1860, 1870, 1880, 1890, 1900,\n",
      "            1910, 1920, 1930, 1940, 1950, 1951, 1952, 1953, 1954, 1955, 1956,\n",
      "            1957, 1958, 1959, 1960, 1961, 1962, 1963, 1964, 1965, 1966, 1967,\n",
      "            1968, 1969, 1970, 1971, 1972, 1973, 1974, 1975, 1976, 1977, 1978,\n",
      "            1979, 1980, 1981, 1982, 1983, 1984, 1985, 1986, 1987, 1988, 1989,\n",
      "            1990, 1991, 1992, 1993, 1994, 1995, 1996, 1997, 1998, 1999, 2000,\n",
      "            2001, 2002, 2003, 2004, 2005, 2006, 2007, 2008, 2009, 2010, 2011,\n",
      "            2012, 2013, 2014, 2015],\n",
      "           dtype='int64')\n",
      "               1800          1810          1820          1830          1840  \\\n",
      "count  2.290000e+02  2.290000e+02  2.290000e+02  2.290000e+02  2.290000e+02   \n",
      "mean   4.137832e+06  4.330692e+06  4.561516e+06  4.822455e+06  5.066513e+06   \n",
      "std    2.422799e+07  2.601555e+07  2.789334e+07  2.941603e+07  3.018315e+07   \n",
      "min    1.000000e+02  1.000000e+02  1.000000e+02  1.000000e+02  1.000000e+02   \n",
      "25%    4.390800e+04  4.390800e+04  4.467300e+04  4.689400e+04  4.764300e+04   \n",
      "50%    4.010000e+05  4.133260e+05  4.235270e+05  4.535070e+05  4.782270e+05   \n",
      "75%    1.894389e+06  1.904962e+06  1.983383e+06  2.101048e+06  2.186704e+06   \n",
      "max    3.216750e+08  3.505430e+08  3.800553e+08  4.023735e+08  4.112134e+08   \n",
      "\n",
      "               1850          1860          1870          1880          1890  \\\n",
      "count  2.290000e+02  2.290000e+02  2.290000e+02  2.290000e+02  2.290000e+02   \n",
      "mean   5.250450e+06  5.398263e+06  5.609144e+06  5.945787e+06  6.376547e+06   \n",
      "std    2.995424e+07  2.898546e+07  2.846866e+07  2.904625e+07  3.022539e+07   \n",
      "min    1.090000e+02  1.390000e+02  1.910000e+02  2.590000e+02  3.520000e+02   \n",
      "25%    5.340500e+04  6.446900e+04  6.542200e+04  6.817000e+04  6.922200e+04   \n",
      "50%    5.443020e+05  5.959280e+05  6.599300e+05  7.139570e+05  7.432100e+05   \n",
      "75%    2.236808e+06  2.399360e+06  2.596105e+06  2.822978e+06  3.088808e+06   \n",
      "max    4.027113e+08  3.800475e+08  3.636612e+08  3.655442e+08  3.771353e+08   \n",
      "\n",
      "       ...          2006          2007          2008          2009  \\\n",
      "count  ...  2.560000e+02  2.560000e+02  2.560000e+02  2.380000e+02   \n",
      "mean   ...  2.813600e+07  2.846652e+07  2.880011e+07  2.876698e+07   \n",
      "std    ...  1.149097e+08  1.160131e+08  1.171146e+08  1.212191e+08   \n",
      "min    ...  5.000000e+01  5.000000e+01  5.000000e+01  5.000000e+01   \n",
      "25%    ...  2.868232e+05  2.928408e+05  2.989525e+05  3.174302e+05   \n",
      "50%    ...  4.521912e+06  4.561442e+06  4.636136e+06  4.523432e+06   \n",
      "75%    ...  1.711520e+07  1.764428e+07  1.819443e+07  1.676626e+07   \n",
      "max    ...  1.312601e+09  1.319625e+09  1.326691e+09  1.333807e+09   \n",
      "\n",
      "               2010          2011          2012          2013          2014  \\\n",
      "count  2.380000e+02  2.330000e+02  2.330000e+02  2.330000e+02  2.310000e+02   \n",
      "mean   2.911667e+07  3.010052e+07  3.046134e+07  3.082280e+07  3.135238e+07   \n",
      "std    1.223602e+08  1.247404e+08  1.258755e+08  1.270003e+08  1.286516e+08   \n",
      "min    5.000000e+01  7.990000e+02  7.990000e+02  7.990000e+02  7.990000e+02   \n",
      "25%    3.243505e+05  3.994430e+05  4.055120e+05  4.114990e+05  4.175585e+05   \n",
      "50%    4.581304e+06  4.953945e+06  5.018367e+06  5.240088e+06  5.307188e+06   \n",
      "75%    1.691918e+07  2.011166e+07  1.994495e+07  1.932259e+07  1.894310e+07   \n",
      "max    1.340969e+09  1.348174e+09  1.355387e+09  1.362514e+09  1.369436e+09   \n",
      "\n",
      "               2015  \n",
      "count  2.310000e+02  \n",
      "mean   3.171457e+07  \n",
      "std    1.297556e+08  \n",
      "min    8.000000e+02  \n",
      "25%    4.209290e+05  \n",
      "50%    5.373502e+06  \n",
      "75%    1.900687e+07  \n",
      "max    1.376049e+09  \n",
      "\n",
      "[8 rows x 81 columns]\n"
     ]
    }
   ],
   "source": [
    "df_fert = pd.read_csv('../data/gapminder_total_fertility.csv', index_col=0)\n",
    "df_life = pd.read_excel('../data/gapminder_lifeexpectancy.xlsx', index_col=0)\n",
    "df_pop = pd.read_excel('../data/gapminder_population.xlsx', index_col=0)\n",
    "\n",
    "\n",
    "\n",
    "df = {           'fert': df_fert,\n",
    "                 'life': df_life,\n",
    "                 'pop': df_pop,\n",
    "\n",
    "    }\n",
    "\n",
    "def check(data):\n",
    "        '''\n",
    "        Print main infomation about data frame\n",
    "        '''\n",
    "        print(data.shape)\n",
    "        print(data.columns)\n",
    "        print(data.describe())\n",
    "\n",
    "for item in df:\n",
    "        print(item)\n",
    "        check(df[item])\n",
    "        \n",
    "        \n"
   ]
  },
  {
   "cell_type": "code",
   "execution_count": 4,
   "metadata": {},
   "outputs": [],
   "source": [
    "label = {'fert': 'fertility_rate',\n",
    "        'life': 'life_expectancy',\n",
    "        'pop': 'population',\n",
    "        'continent': 'continent'}\n",
    "\n",
    "def change_index(data, label):\n",
    "        '''\n",
    "        Melting data to country and year\n",
    "        '''\n",
    "        print('Melting data: ', label)\n",
    "        data.columns = data.columns.astype(int)\n",
    "        data.index.name = 'country'\n",
    "        data = data.reset_index()\n",
    "        data = data.melt(id_vars='country', var_name='year', value_name=label)\n",
    "        data = data.dropna()\n",
    "        return data"
   ]
  },
  {
   "cell_type": "code",
   "execution_count": 5,
   "metadata": {},
   "outputs": [
    {
     "name": "stdout",
     "output_type": "stream",
     "text": [
      "Melting data:  fert\n",
      "Melting data:  life\n",
      "Melting data:  pop\n"
     ]
    }
   ],
   "source": [
    "for item in df:\n",
    "        df[item] = change_index(df[item], item)"
   ]
  },
  {
   "cell_type": "code",
   "execution_count": 6,
   "metadata": {},
   "outputs": [
    {
     "name": "stdout",
     "output_type": "stream",
     "text": [
      "(43412, 3)\n",
      "Index(['country', 'year', 'fert'], dtype='object')\n",
      "               fert\n",
      "count  43412.000000\n",
      "mean       5.396902\n",
      "std        1.612296\n",
      "min        0.840000\n",
      "25%        4.620000\n",
      "50%        5.900000\n",
      "75%        6.580000\n",
      "max        9.220000\n",
      "(43857, 3)\n",
      "Index(['country', 'year', 'life'], dtype='object')\n",
      "               life\n",
      "count  43857.000000\n",
      "mean      42.661683\n",
      "std       16.424568\n",
      "min        1.000000\n",
      "25%       30.800000\n",
      "50%       34.950000\n",
      "75%       55.200000\n",
      "max       84.800000\n",
      "(20176, 3)\n",
      "Index(['country', 'year', 'pop'], dtype='object')\n",
      "                pop\n",
      "count  2.017600e+04\n",
      "mean   1.802123e+07\n",
      "std    8.122935e+07\n",
      "min    5.000000e+01\n",
      "25%    1.371455e+05\n",
      "50%    2.278861e+06\n",
      "75%    9.509010e+06\n",
      "max    1.376049e+09\n"
     ]
    }
   ],
   "source": [
    "for item in df:\n",
    "        check( df[item])"
   ]
  },
  {
   "cell_type": "code",
   "execution_count": 7,
   "metadata": {},
   "outputs": [],
   "source": [
    "df_full = df['fert'].merge(df['pop'])"
   ]
  },
  {
   "cell_type": "code",
   "execution_count": 8,
   "metadata": {},
   "outputs": [],
   "source": [
    "df_full = df_full.merge(df['life'])"
   ]
  },
  {
   "cell_type": "code",
   "execution_count": 9,
   "metadata": {},
   "outputs": [
    {
     "data": {
      "text/html": [
       "<div>\n",
       "<style scoped>\n",
       "    .dataframe tbody tr th:only-of-type {\n",
       "        vertical-align: middle;\n",
       "    }\n",
       "\n",
       "    .dataframe tbody tr th {\n",
       "        vertical-align: top;\n",
       "    }\n",
       "\n",
       "    .dataframe thead th {\n",
       "        text-align: right;\n",
       "    }\n",
       "</style>\n",
       "<table border=\"1\" class=\"dataframe\">\n",
       "  <thead>\n",
       "    <tr style=\"text-align: right;\">\n",
       "      <th></th>\n",
       "      <th>continent</th>\n",
       "      <th>country</th>\n",
       "    </tr>\n",
       "  </thead>\n",
       "  <tbody>\n",
       "    <tr>\n",
       "      <th>0</th>\n",
       "      <td>Africa</td>\n",
       "      <td>Algeria</td>\n",
       "    </tr>\n",
       "    <tr>\n",
       "      <th>1</th>\n",
       "      <td>Africa</td>\n",
       "      <td>Angola</td>\n",
       "    </tr>\n",
       "    <tr>\n",
       "      <th>2</th>\n",
       "      <td>Africa</td>\n",
       "      <td>Benin</td>\n",
       "    </tr>\n",
       "    <tr>\n",
       "      <th>3</th>\n",
       "      <td>Africa</td>\n",
       "      <td>Botswana</td>\n",
       "    </tr>\n",
       "    <tr>\n",
       "      <th>4</th>\n",
       "      <td>Africa</td>\n",
       "      <td>Burkina</td>\n",
       "    </tr>\n",
       "    <tr>\n",
       "      <th>...</th>\n",
       "      <td>...</td>\n",
       "      <td>...</td>\n",
       "    </tr>\n",
       "    <tr>\n",
       "      <th>189</th>\n",
       "      <td>South America</td>\n",
       "      <td>Paraguay</td>\n",
       "    </tr>\n",
       "    <tr>\n",
       "      <th>190</th>\n",
       "      <td>South America</td>\n",
       "      <td>Peru</td>\n",
       "    </tr>\n",
       "    <tr>\n",
       "      <th>191</th>\n",
       "      <td>South America</td>\n",
       "      <td>Suriname</td>\n",
       "    </tr>\n",
       "    <tr>\n",
       "      <th>192</th>\n",
       "      <td>South America</td>\n",
       "      <td>Uruguay</td>\n",
       "    </tr>\n",
       "    <tr>\n",
       "      <th>193</th>\n",
       "      <td>South America</td>\n",
       "      <td>Venezuela</td>\n",
       "    </tr>\n",
       "  </tbody>\n",
       "</table>\n",
       "<p>194 rows × 2 columns</p>\n",
       "</div>"
      ],
      "text/plain": [
       "         continent    country\n",
       "0           Africa    Algeria\n",
       "1           Africa     Angola\n",
       "2           Africa      Benin\n",
       "3           Africa   Botswana\n",
       "4           Africa    Burkina\n",
       "..             ...        ...\n",
       "189  South America   Paraguay\n",
       "190  South America       Peru\n",
       "191  South America   Suriname\n",
       "192  South America    Uruguay\n",
       "193  South America  Venezuela\n",
       "\n",
       "[194 rows x 2 columns]"
      ]
     },
     "execution_count": 9,
     "metadata": {},
     "output_type": "execute_result"
    }
   ],
   "source": [
    "df_continent = pd.read_csv('../data/continents.csv', index_col=0, sep=';') \n",
    "df_continent.index.name = 'continent'\n",
    "df_continent = df_continent.reset_index()\n",
    "df_continent"
   ]
  },
  {
   "cell_type": "code",
   "execution_count": 10,
   "metadata": {},
   "outputs": [],
   "source": [
    "df_full = df_full.merge(df_continent)"
   ]
  },
  {
   "cell_type": "code",
   "execution_count": 11,
   "metadata": {},
   "outputs": [
    {
     "name": "stdout",
     "output_type": "stream",
     "text": [
      "(13446, 6)\n",
      "Index(['country', 'year', 'fert', 'pop', 'life', 'continent'], dtype='object')\n",
      "               fert           pop          life\n",
      "count  13446.000000  1.344600e+04  13446.000000\n",
      "mean       4.629932  2.313926e+07     57.132785\n",
      "std        2.005239  9.694412e+07     15.917859\n",
      "min        1.130000  2.128000e+03      4.000000\n",
      "25%        2.610000  9.275418e+05     44.492500\n",
      "50%        5.010000  4.074234e+06     60.475000\n",
      "75%        6.460000  1.186560e+07     70.700000\n",
      "max        9.220000  1.376049e+09     83.300000\n"
     ]
    }
   ],
   "source": [
    "check(df_full)"
   ]
  },
  {
   "cell_type": "code",
   "execution_count": 12,
   "metadata": {},
   "outputs": [],
   "source": [
    "import seaborn as sns\n",
    "import matplotlib.pyplot as plt\n",
    "\n",
    "\n"
   ]
  },
  {
   "cell_type": "code",
   "execution_count": 13,
   "metadata": {},
   "outputs": [],
   "source": [
    "\n",
    "df_cont = df_full.groupby('continent')[[\"fert\", \"life\"]].agg(['min', 'max', 'mean'])\n"
   ]
  },
  {
   "cell_type": "code",
   "execution_count": 14,
   "metadata": {},
   "outputs": [
    {
     "data": {
      "text/plain": [
       "<Axes: xlabel='continent'>"
      ]
     },
     "execution_count": 14,
     "metadata": {},
     "output_type": "execute_result"
    },
    {
     "data": {
      "image/png": "[encoded data removed]",
      "text/plain": [
       "<Figure size 640x480 with 1 Axes>"
      ]
     },
     "metadata": {},
     "output_type": "display_data"
    }
   ],
   "source": [
    "df_cont['fert'].plot.bar()"
   ]
  },
  {
   "cell_type": "code",
   "execution_count": 15,
   "metadata": {},
   "outputs": [
    {
     "name": "stdout",
     "output_type": "stream",
     "text": [
      "Defaulting to user installation because normal site-packages is not writeable\n",
      "Requirement already satisfied: imageio in /home/kith/.local/lib/python3.10/site-packages (2.27.0)\n",
      "Requirement already satisfied: numpy in /home/kith/.local/lib/python3.10/site-packages (from imageio) (1.24.2)\n",
      "Requirement already satisfied: pillow>=8.3.2 in /usr/lib/python3/dist-packages (from imageio) (9.2.0)\n",
      "Note: you may need to restart the kernel to use updated packages.\n"
     ]
    }
   ],
   "source": [
    "pip install imageio\n"
   ]
  },
  {
   "cell_type": "code",
   "execution_count": null,
   "metadata": {},
   "outputs": [],
   "source": [
    "for i in range(1970, 2016):\n",
    "    plt.cla()\n",
    "    plt.tight_layout()\n",
    "    plt.figure(figsize=(16,9))\n",
    "    plt.axes(xlabel='Life expectancy', ylabel='Fertility')\n",
    "    df_subset = df_full.loc[df_full['year'] == i]\n",
    "    sns.scatterplot(x='life', y='fert', style='continent', hue='continent', size='pop', legend='brief', sizes=(10, 3000),\n",
    "                data=df_subset, alpha=0.6)\n",
    "    plt.axis([30, 85, 0, 8])\n",
    "    plt.savefig('img/life_fert_{}.jpg'.format(i))\n",
    "    "
   ]
  },
  {
   "cell_type": "code",
   "execution_count": 21,
   "metadata": {},
   "outputs": [
    {
     "name": "stderr",
     "output_type": "stream",
     "text": [
      "/tmp/ipykernel_19721/1814246439.py:7: DeprecationWarning: Starting with ImageIO v3 the behavior of this function will switch to that of iio.v3.imread. To keep the current behavior (and make this warning disappear) use `import imageio.v2 as imageio` or call `imageio.v2.imread` directly.\n",
      "  images.append(imageio.imread(filename))\n"
     ]
    }
   ],
   "source": [
    "import imageio\n",
    "\n",
    "images = []\n",
    "\n",
    "for i in range(1970, 2016):\n",
    "    filename = 'img/life_fert_{}.jpg'.format(i)\n",
    "    images.append(imageio.imread(filename))\n",
    "\n",
    "imageio.mimsave('output.gif', images, fps=2)\n",
    "\n"
   ]
  },
  {
   "cell_type": "code",
   "execution_count": 23,
   "metadata": {},
   "outputs": [],
   "source": [
    "df_full.to_csv(\"../data/df_full.csv\")"
   ]
  }
 ],
 "metadata": {
  "kernelspec": {
   "display_name": "Python 3",
   "language": "python",
   "name": "python3"
  },
  "language_info": {
   "codemirror_mode": {
    "name": "ipython",
    "version": 3
   },
   "file_extension": ".py",
   "mimetype": "text/x-python",
   "name": "python",
   "nbconvert_exporter": "python",
   "pygments_lexer": "ipython3",
   "version": "3.10.7"
  },
  "orig_nbformat": 4,
  "vscode": {
   "interpreter": {
    "hash": "916dbcbb3f70747c44a77c7bcd40155683ae19c65e1c03b4aa3499c5328201f1"
   }
  }
 },
 "nbformat": 4,
 "nbformat_minor": 2
}

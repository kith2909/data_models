{
 "cells": [
  {
   "cell_type": "markdown",
   "id": "e4c743de",
   "metadata": {},
   "source": [
    "# Exercise: Descriptive Statistics"
   ]
  },
  {
   "cell_type": "markdown",
   "id": "057dfac6",
   "metadata": {},
   "source": [
    "### Solve the following with `pandas` one-liners"
   ]
  },
  {
   "cell_type": "markdown",
   "id": "4605bb53",
   "metadata": {},
   "source": [
    "**1. read `gapminder_lifeexpectancy.xlsx`**"
   ]
  },
  {
   "cell_type": "code",
   "execution_count": null,
   "id": "f31dd190",
   "metadata": {},
   "outputs": [],
   "source": [
    "# import pandas as pd\n",
    "# life = ...('../data/gapminder_lifeexpectancy.xlsx', index_col=0)"
   ]
  },
  {
   "cell_type": "markdown",
   "id": "666ff9e2",
   "metadata": {},
   "source": [
    "**2. show the first 3 rows**"
   ]
  },
  {
   "cell_type": "code",
   "execution_count": null,
   "id": "22ab9efa",
   "metadata": {},
   "outputs": [],
   "source": []
  },
  {
   "cell_type": "markdown",
   "id": "6cb3c069",
   "metadata": {},
   "source": [
    "**3. filter out all years but 1960 and missing values**"
   ]
  },
  {
   "cell_type": "code",
   "execution_count": null,
   "id": "462e5732",
   "metadata": {},
   "outputs": [],
   "source": [
    "# life = life[1960].dropna()"
   ]
  },
  {
   "cell_type": "markdown",
   "id": "6d22fa1e",
   "metadata": {},
   "source": [
    "**4. calculate the mean life expectancy**"
   ]
  },
  {
   "cell_type": "code",
   "execution_count": null,
   "id": "880a8a60",
   "metadata": {},
   "outputs": [],
   "source": []
  },
  {
   "cell_type": "markdown",
   "id": "f61b4e5f",
   "metadata": {},
   "source": [
    "**5. calculate the median**"
   ]
  },
  {
   "cell_type": "code",
   "execution_count": null,
   "id": "3978ce96",
   "metadata": {},
   "outputs": [],
   "source": []
  },
  {
   "cell_type": "markdown",
   "id": "cab8ab89",
   "metadata": {},
   "source": [
    "**6. calculate the standard deviation**"
   ]
  },
  {
   "cell_type": "code",
   "execution_count": null,
   "id": "df080e6e",
   "metadata": {},
   "outputs": [],
   "source": []
  },
  {
   "cell_type": "markdown",
   "id": "403ebc95",
   "metadata": {},
   "source": [
    "**7. calculate the variance**"
   ]
  },
  {
   "cell_type": "code",
   "execution_count": null,
   "id": "03c2da8d",
   "metadata": {},
   "outputs": [],
   "source": []
  },
  {
   "cell_type": "markdown",
   "id": "a999c6bc",
   "metadata": {},
   "source": [
    "**8. find the highest life expectancy**"
   ]
  },
  {
   "cell_type": "code",
   "execution_count": null,
   "id": "1f3876d5",
   "metadata": {},
   "outputs": [],
   "source": []
  },
  {
   "cell_type": "markdown",
   "id": "ad722c44",
   "metadata": {},
   "source": [
    "**9. find the lowest life expectancy**"
   ]
  },
  {
   "cell_type": "code",
   "execution_count": null,
   "id": "219e17f8",
   "metadata": {},
   "outputs": [],
   "source": []
  },
  {
   "cell_type": "markdown",
   "id": "8d214cdc",
   "metadata": {},
   "source": [
    "**10. find the 90% quantile**"
   ]
  },
  {
   "cell_type": "code",
   "execution_count": null,
   "id": "8494814b",
   "metadata": {},
   "outputs": [],
   "source": []
  },
  {
   "cell_type": "markdown",
   "id": "7b137e01",
   "metadata": {},
   "source": [
    "**11. store the number of data points in a variable**"
   ]
  },
  {
   "cell_type": "code",
   "execution_count": null,
   "id": "d6bfa24d",
   "metadata": {},
   "outputs": [],
   "source": []
  },
  {
   "cell_type": "markdown",
   "id": "c9497239",
   "metadata": {},
   "source": [
    "**12. calculate min, max, mean and range (and possibly other descriptors) with a single line**"
   ]
  },
  {
   "cell_type": "code",
   "execution_count": null,
   "id": "6c98229d",
   "metadata": {},
   "outputs": [],
   "source": []
  }
 ],
 "metadata": {
  "kernelspec": {
   "display_name": "Python 3 (ipykernel)",
   "language": "python",
   "name": "python3"
  },
  "language_info": {
   "codemirror_mode": {
    "name": "ipython",
    "version": 3
   },
   "file_extension": ".py",
   "mimetype": "text/x-python",
   "name": "python",
   "nbconvert_exporter": "python",
   "pygments_lexer": "ipython3",
   "version": "3.10.6"
  }
 },
 "nbformat": 4,
 "nbformat_minor": 5
}
